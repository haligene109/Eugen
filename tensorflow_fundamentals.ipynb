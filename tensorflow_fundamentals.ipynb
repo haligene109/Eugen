{
  "nbformat": 4,
  "nbformat_minor": 0,
  "metadata": {
    "colab": {
      "provenance": [],
      "authorship_tag": "ABX9TyOGg/FCeITgEVdzDfrKCHyP",
      "include_colab_link": true
    },
    "kernelspec": {
      "name": "python3",
      "display_name": "Python 3"
    },
    "language_info": {
      "name": "python"
    }
  },
  "cells": [
    {
      "cell_type": "markdown",
      "metadata": {
        "id": "view-in-github",
        "colab_type": "text"
      },
      "source": [
        "<a href=\"https://colab.research.google.com/github/haligene109/Eugen/blob/main/tensorflow_fundamentals.ipynb\" target=\"_parent\"><img src=\"https://colab.research.google.com/assets/colab-badge.svg\" alt=\"Open In Colab\"/></a>"
      ]
    },
    {
      "cell_type": "markdown",
      "source": [
        "# In this notebook, we are going to cover some of the most fundamental concepts of tensor using tensorflow\n",
        "\n",
        "More specifically, we're  going to cover:\n",
        "* Introduction to tensors\n",
        "*Getting information from tensorstor\n",
        "*Manipulating tensors\n",
        "*Tensors & Numpy\n",
        "* Using @tf.function (a way to speed up your regular python functions)\n",
        "* Using GPUs with TensorFlow(orTPUs)\n",
        "* Exercise  to try myself"
      ],
      "metadata": {
        "id": "ospakWSBEs8K"
      }
    },
    {
      "cell_type": "markdown",
      "source": [
        "# Introduction to Tensors"
      ],
      "metadata": {
        "id": "AyKxeAfFTUeL"
      }
    },
    {
      "cell_type": "code",
      "source": [
        "# Import Tensorflow\n",
        "import tensorflow as tf\n",
        "print(tf.__version__)"
      ],
      "metadata": {
        "colab": {
          "base_uri": "https://localhost:8080/"
        },
        "id": "3k-2H7Z8TcBj",
        "outputId": "4581ec76-3f8f-4d6a-fec5-36d11b810ad6"
      },
      "execution_count": 1,
      "outputs": [
        {
          "output_type": "stream",
          "name": "stdout",
          "text": [
            "2.14.0\n"
          ]
        }
      ]
    },
    {
      "cell_type": "markdown",
      "source": [
        "tf.constant Variable"
      ],
      "metadata": {
        "id": "iZy2Kf-JwqR-"
      }
    },
    {
      "cell_type": "code",
      "source": [
        "# Create tensors with ft.constant()\n",
        "scalar = tf.constant(7)\n",
        "scalar"
      ],
      "metadata": {
        "colab": {
          "base_uri": "https://localhost:8080/"
        },
        "id": "ce3o7O7kT46q",
        "outputId": "62e63e72-a6ef-40ec-bf20-59b507f749dc"
      },
      "execution_count": 2,
      "outputs": [
        {
          "output_type": "execute_result",
          "data": {
            "text/plain": [
              "<tf.Tensor: shape=(), dtype=int32, numpy=7>"
            ]
          },
          "metadata": {},
          "execution_count": 2
        }
      ]
    },
    {
      "cell_type": "code",
      "source": [
        "# Check the number of dimensions  of a tensor (ndim stands for number of dimensions)\n",
        "scalar.ndim\n"
      ],
      "metadata": {
        "colab": {
          "base_uri": "https://localhost:8080/"
        },
        "id": "75BML4ku45cE",
        "outputId": "abd07145-77fa-4181-9db1-b48f5cb002ea"
      },
      "execution_count": 3,
      "outputs": [
        {
          "output_type": "execute_result",
          "data": {
            "text/plain": [
              "0"
            ]
          },
          "metadata": {},
          "execution_count": 3
        }
      ]
    },
    {
      "cell_type": "code",
      "source": [
        "# create a vector\n",
        "vector = tf.constant([10, 10])\n",
        "vector"
      ],
      "metadata": {
        "colab": {
          "base_uri": "https://localhost:8080/"
        },
        "id": "sEFI8-9T5q_9",
        "outputId": "48769b6e-166a-44b9-cd12-b4da37dcbf17"
      },
      "execution_count": 4,
      "outputs": [
        {
          "output_type": "execute_result",
          "data": {
            "text/plain": [
              "<tf.Tensor: shape=(2,), dtype=int32, numpy=array([10, 10], dtype=int32)>"
            ]
          },
          "metadata": {},
          "execution_count": 4
        }
      ]
    },
    {
      "cell_type": "code",
      "source": [
        "vector.ndim"
      ],
      "metadata": {
        "colab": {
          "base_uri": "https://localhost:8080/"
        },
        "id": "HcBlV9zy6KSb",
        "outputId": "0e062a90-fa08-413f-f855-77f088f478fe"
      },
      "execution_count": 5,
      "outputs": [
        {
          "output_type": "execute_result",
          "data": {
            "text/plain": [
              "1"
            ]
          },
          "metadata": {},
          "execution_count": 5
        }
      ]
    },
    {
      "cell_type": "code",
      "source": [
        "# create a matrix (a matrix has more than 1 dimension)\n",
        "matrix = tf.constant([[10, 7], [7, 10]])\n",
        "matrix"
      ],
      "metadata": {
        "colab": {
          "base_uri": "https://localhost:8080/"
        },
        "id": "KVl30HbU6r0b",
        "outputId": "6f4b408c-d8a7-49ab-8c92-88d65fbf2f70"
      },
      "execution_count": 6,
      "outputs": [
        {
          "output_type": "execute_result",
          "data": {
            "text/plain": [
              "<tf.Tensor: shape=(2, 2), dtype=int32, numpy=\n",
              "array([[10,  7],\n",
              "       [ 7, 10]], dtype=int32)>"
            ]
          },
          "metadata": {},
          "execution_count": 6
        }
      ]
    },
    {
      "cell_type": "code",
      "source": [
        "matrix.ndim"
      ],
      "metadata": {
        "colab": {
          "base_uri": "https://localhost:8080/"
        },
        "id": "KLQJEgrW7WXa",
        "outputId": "afa33b1d-cb85-4343-a11c-92f71a22c8a5"
      },
      "execution_count": 7,
      "outputs": [
        {
          "output_type": "execute_result",
          "data": {
            "text/plain": [
              "2"
            ]
          },
          "metadata": {},
          "execution_count": 7
        }
      ]
    },
    {
      "cell_type": "code",
      "source": [
        "# create another matrix\n",
        "another_matrix = tf.constant([[10., 7.],\n",
        "                              [3., 2.],\n",
        "                              [8., 9.]], dtype=tf.float16)# specify the data type parameter\n",
        "another_matrix"
      ],
      "metadata": {
        "colab": {
          "base_uri": "https://localhost:8080/"
        },
        "id": "uYykHZRYSV0T",
        "outputId": "7f91c981-61dc-46a7-eee9-ca04e4dcb7b3"
      },
      "execution_count": 8,
      "outputs": [
        {
          "output_type": "execute_result",
          "data": {
            "text/plain": [
              "<tf.Tensor: shape=(3, 2), dtype=float16, numpy=\n",
              "array([[10.,  7.],\n",
              "       [ 3.,  2.],\n",
              "       [ 8.,  9.]], dtype=float16)>"
            ]
          },
          "metadata": {},
          "execution_count": 8
        }
      ]
    },
    {
      "cell_type": "code",
      "source": [
        "# what is the number of dimensions of another_matrix\n",
        "another_matrix.ndim\n"
      ],
      "metadata": {
        "colab": {
          "base_uri": "https://localhost:8080/"
        },
        "id": "Cfzc3u9mTumf",
        "outputId": "9c467da2-4d4d-4a24-ee19-07502cede89a"
      },
      "execution_count": 9,
      "outputs": [
        {
          "output_type": "execute_result",
          "data": {
            "text/plain": [
              "2"
            ]
          },
          "metadata": {},
          "execution_count": 9
        }
      ]
    },
    {
      "cell_type": "code",
      "source": [
        "# Let's create a tensor\n",
        "tensor = tf.constant([[[1, 2, 3],\n",
        "                       [4, 5, 6]],\n",
        "                       [[7, 8, 9],\n",
        "                       [10, 11, 12]],\n",
        "                       [[13, 14, 15],\n",
        "                       [16, 17, 18]]])\n",
        "tensor"
      ],
      "metadata": {
        "colab": {
          "base_uri": "https://localhost:8080/"
        },
        "id": "3p2tmqB-VSMn",
        "outputId": "a47e8a57-a2c9-4039-d1df-c4f977430553"
      },
      "execution_count": 10,
      "outputs": [
        {
          "output_type": "execute_result",
          "data": {
            "text/plain": [
              "<tf.Tensor: shape=(3, 2, 3), dtype=int32, numpy=\n",
              "array([[[ 1,  2,  3],\n",
              "        [ 4,  5,  6]],\n",
              "\n",
              "       [[ 7,  8,  9],\n",
              "        [10, 11, 12]],\n",
              "\n",
              "       [[13, 14, 15],\n",
              "        [16, 17, 18]]], dtype=int32)>"
            ]
          },
          "metadata": {},
          "execution_count": 10
        }
      ]
    },
    {
      "cell_type": "code",
      "source": [
        "tensor.ndim"
      ],
      "metadata": {
        "colab": {
          "base_uri": "https://localhost:8080/"
        },
        "id": "4nnF8j6mWsMY",
        "outputId": "5e0cd45b-c3a1-478d-8ef6-e9cb94053a75"
      },
      "execution_count": 11,
      "outputs": [
        {
          "output_type": "execute_result",
          "data": {
            "text/plain": [
              "3"
            ]
          },
          "metadata": {},
          "execution_count": 11
        }
      ]
    },
    {
      "cell_type": "markdown",
      "source": [
        "**tf.Variable**. Variables are created and tracked via the tf.Variable class. A tf.Variable represents a tensor whose value can be changed by running ops on it. Specific ops allow you to read and modify the values of this tensor. Higher level libraries like tf.keras use tf.Variable to store model parameters."
      ],
      "metadata": {
        "id": "i41grnuowWAq"
      }
    },
    {
      "cell_type": "code",
      "source": [
        "tensor1 = tf.constant([[1.0, 2.0], [3.0, 4.0]])\n",
        "variable1 = tf.Variable(tensor1)\n",
        "\n",
        "# Variables can be all kinds of types, just like tensors\n",
        "boolean_variable = tf.Variable([False, False, False, True])\n",
        "complex_variable = tf.Variable([5 + 4j, 6 + 1j])"
      ],
      "metadata": {
        "id": "-os_dtTUxuKI"
      },
      "execution_count": 12,
      "outputs": []
    },
    {
      "cell_type": "markdown",
      "source": [
        "A variable looks and acts like a tensor, and, in fact, is a data structure backed by a tf.Tensor. Like tensors, they have a dtype and a shape, and can be exported to NumPy"
      ],
      "metadata": {
        "id": "2Ej6Gm09yg6k"
      }
    },
    {
      "cell_type": "code",
      "source": [
        "print(\"Shape: \",variable1.shape)\n",
        "print(\"DType: \",variable1.dtype)\n",
        "print(\"As Numpy: \",variable1.numpy)"
      ],
      "metadata": {
        "colab": {
          "base_uri": "https://localhost:8080/"
        },
        "id": "zjnQVe4vylhr",
        "outputId": "993d85d4-7e27-482e-c8c0-8ec9ccbdb496"
      },
      "execution_count": 13,
      "outputs": [
        {
          "output_type": "stream",
          "name": "stdout",
          "text": [
            "Shape:  (2, 2)\n",
            "DType:  <dtype: 'float32'>\n",
            "As Numpy:  <bound method BaseResourceVariable.numpy of <tf.Variable 'Variable:0' shape=(2, 2) dtype=float32, numpy=\n",
            "array([[1., 2.],\n",
            "       [3., 4.]], dtype=float32)>>\n"
          ]
        }
      ]
    },
    {
      "cell_type": "markdown",
      "source": [
        "Most tensor operations work on variables as expected, although variables cannot be reshaped"
      ],
      "metadata": {
        "id": "3fUe5jSi-CT8"
      }
    },
    {
      "cell_type": "code",
      "source": [
        "print(\"A variable: \", variable1)\n",
        "print(\"\\nViewed as a tensor: \", tf.convert_to_tensor(variable1))\n",
        "print(\"\\nIndex of high value: \", tf.math.argmax(variable1))\n"
      ],
      "metadata": {
        "colab": {
          "base_uri": "https://localhost:8080/"
        },
        "id": "8Znq3lxx-Fzc",
        "outputId": "1535b7fd-292b-46d9-8fc6-8d028a6af0c9"
      },
      "execution_count": 14,
      "outputs": [
        {
          "output_type": "stream",
          "name": "stdout",
          "text": [
            "A variable:  <tf.Variable 'Variable:0' shape=(2, 2) dtype=float32, numpy=\n",
            "array([[1., 2.],\n",
            "       [3., 4.]], dtype=float32)>\n",
            "\n",
            "Viewed as a tensor:  tf.Tensor(\n",
            "[[1. 2.]\n",
            " [3. 4.]], shape=(2, 2), dtype=float32)\n",
            "\n",
            "Index of high value:  tf.Tensor([1 1], shape=(2,), dtype=int64)\n"
          ]
        }
      ]
    },
    {
      "cell_type": "markdown",
      "source": [
        "This creates a new tensor; it does not reshape the variable."
      ],
      "metadata": {
        "id": "8Ukw4cw2BdaU"
      }
    },
    {
      "cell_type": "code",
      "source": [
        "print(\"nCopying and reshaping: \",tf.reshape(variable1, [1,4]))"
      ],
      "metadata": {
        "colab": {
          "base_uri": "https://localhost:8080/"
        },
        "id": "eC190imbBkty",
        "outputId": "d1b07e33-1653-415e-b6f0-01f39678438c"
      },
      "execution_count": 15,
      "outputs": [
        {
          "output_type": "stream",
          "name": "stdout",
          "text": [
            "nCopying and reshaping:  tf.Tensor([[1. 2. 3. 4.]], shape=(1, 4), dtype=float32)\n"
          ]
        }
      ]
    },
    {
      "cell_type": "markdown",
      "source": [
        "As noted above, variables are backed by tensors. You can reassign the tensor using tf.Variable.assign. Calling assign does not (usually) allocate a new tensor; instead, the existing tensor's memory is reused."
      ],
      "metadata": {
        "id": "pMdAhuHUDfFF"
      }
    },
    {
      "cell_type": "code",
      "source": [
        "b = tf.Variable([2.0, 3.0]) #keeps the same dtype,  float32\n",
        "b.assign([2, 3])"
      ],
      "metadata": {
        "colab": {
          "base_uri": "https://localhost:8080/"
        },
        "id": "s4hJUUbTEsF1",
        "outputId": "2ca02582-d991-4e2d-92ef-021824486615"
      },
      "execution_count": 16,
      "outputs": [
        {
          "output_type": "execute_result",
          "data": {
            "text/plain": [
              "<tf.Variable 'UnreadVariable' shape=(2,) dtype=float32, numpy=array([2., 3.], dtype=float32)>"
            ]
          },
          "metadata": {},
          "execution_count": 16
        }
      ]
    },
    {
      "cell_type": "markdown",
      "source": [
        "If you use a variable like a tensor in operations, you will usually operate on the backing tensor.\n",
        "\n",
        "Creating new variables from existing variables duplicates the backing tensors. Two variables will not share the same memory."
      ],
      "metadata": {
        "id": "TRSNrqiaGzqb"
      }
    },
    {
      "cell_type": "code",
      "source": [
        "c = tf.Variable([2.0, 3.0])\n",
        "d = tf.Variable(c) #creates d based on the value of c\n",
        "c.assign([5, 6])\n",
        "print(c.numpy()),print(d.numpy())"
      ],
      "metadata": {
        "colab": {
          "base_uri": "https://localhost:8080/"
        },
        "id": "d4slsX7ZHj1L",
        "outputId": "4f58f226-f031-4bb5-e5ec-9079127e6041"
      },
      "execution_count": 17,
      "outputs": [
        {
          "output_type": "stream",
          "name": "stdout",
          "text": [
            "[5. 6.]\n",
            "[2. 3.]\n"
          ]
        },
        {
          "output_type": "execute_result",
          "data": {
            "text/plain": [
              "(None, None)"
            ]
          },
          "metadata": {},
          "execution_count": 17
        }
      ]
    },
    {
      "cell_type": "markdown",
      "source": [
        "Other ways of variable assinment"
      ],
      "metadata": {
        "id": "7gptfJRbJvXF"
      }
    },
    {
      "cell_type": "code",
      "source": [
        "print(c.assign_add([2,3]).numpy())\n",
        "print(d.assign_add([8,8]).numpy())"
      ],
      "metadata": {
        "colab": {
          "base_uri": "https://localhost:8080/"
        },
        "id": "EsUJrEVYJ1Zy",
        "outputId": "2ee0cf33-14d9-4aee-9bf0-0599c4b788c1"
      },
      "execution_count": 18,
      "outputs": [
        {
          "output_type": "stream",
          "name": "stdout",
          "text": [
            "[7. 9.]\n",
            "[10. 11.]\n"
          ]
        }
      ]
    },
    {
      "cell_type": "markdown",
      "source": [
        "https://www.tensorflow.org/guide/variable#placing_variables_and_tensors: Placing variables and tensors\n",
        "For better performance, TensorFlow will attempt to place tensors and variables on the fastest device compatible with its dtype. This means most variables are placed on a GPU if one is available.\n",
        "\n",
        "However, you can override this. In this snippet, place a float tensor and a variable on the CPU, even if a GPU is available. By turning on device placement logging (see Setup), you can see where the variable is placed."
      ],
      "metadata": {
        "id": "GOa_LyR4MP2t"
      }
    },
    {
      "cell_type": "code",
      "source": [
        "with tf.device(\"CPU:0\"):\n",
        "\n",
        "  # Create some tensors\n",
        "  a = tf.Variable([[1.0, 2.0, 3.0], [4.0, 5.0, 6.0]])\n",
        "  b = tf.constant([[1.0, 2.0], [3.0, 4.0], [5.0, 6.0]])\n",
        "  c = tf.matmul(a, b)\n",
        "\n",
        "print(c)"
      ],
      "metadata": {
        "colab": {
          "base_uri": "https://localhost:8080/"
        },
        "id": "5e8k3NTNL995",
        "outputId": "4de54f3b-ade0-4933-807e-18d2650d48b1"
      },
      "execution_count": 19,
      "outputs": [
        {
          "output_type": "stream",
          "name": "stdout",
          "text": [
            "tf.Tensor(\n",
            "[[22. 28.]\n",
            " [49. 64.]], shape=(2, 2), dtype=float32)\n"
          ]
        }
      ]
    },
    {
      "cell_type": "code",
      "source": [
        "with tf.device(\"CPU:0\"):\n",
        "  a = tf.Variable([[1.0,2.0,3.0],[4.0,5.0,6.0]])\n",
        "  b = tf.Variable([[1.0,2.0,3.0]])\n",
        "with tf.device(\"GPU:0\"):\n",
        "  k = a * b # This is element-wise multiplication\n",
        "  print(k)"
      ],
      "metadata": {
        "colab": {
          "base_uri": "https://localhost:8080/"
        },
        "id": "KZlVofWmNHrR",
        "outputId": "788aae29-972d-412f-9719-764260507c13"
      },
      "execution_count": 20,
      "outputs": [
        {
          "output_type": "stream",
          "name": "stdout",
          "text": [
            "tf.Tensor(\n",
            "[[ 1.  4.  9.]\n",
            " [ 4. 10. 18.]], shape=(2, 3), dtype=float32)\n"
          ]
        }
      ]
    },
    {
      "cell_type": "markdown",
      "source": [
        "# What we've created so far:\n",
        "* Scalar: A single number\n",
        "* Vector: A number with direction (e.g. speed, direction)\n",
        "* Matrix: a 2-dimensional array of numbers\n",
        "*Tensor: an n-dimensioanal array of numbers (where n can be any number, a 0-dimensional tensor is a scalar, a 1-dimensional tensor is a vector )"
      ],
      "metadata": {
        "id": "7IkbsGh2YEa7"
      }
    },
    {
      "cell_type": "markdown",
      "source": [
        "tf.Variable Vs tf.constant"
      ],
      "metadata": {
        "id": "zrhpRy1VaaBU"
      }
    },
    {
      "cell_type": "code",
      "source": [
        "# Create the same tensor with tf.variable() as above\n",
        "changeable_tensor = tf.Variable([10, 7])\n",
        "unchangeable_tensor = tf.constant([10, 7])\n",
        "changeable_tensor, unchangeable_tensor"
      ],
      "metadata": {
        "colab": {
          "base_uri": "https://localhost:8080/"
        },
        "id": "8NWw0bFUasRv",
        "outputId": "d454d05f-3cbe-43cf-b5a6-5df63544f161"
      },
      "execution_count": 21,
      "outputs": [
        {
          "output_type": "execute_result",
          "data": {
            "text/plain": [
              "(<tf.Variable 'Variable:0' shape=(2,) dtype=int32, numpy=array([10,  7], dtype=int32)>,\n",
              " <tf.Tensor: shape=(2,), dtype=int32, numpy=array([10,  7], dtype=int32)>)"
            ]
          },
          "metadata": {},
          "execution_count": 21
        }
      ]
    },
    {
      "cell_type": "code",
      "source": [
        "# Let's try to change one of the elements in our  changeable tensor\n",
        "changeable_tensor[0] = 7"
      ],
      "metadata": {
        "colab": {
          "base_uri": "https://localhost:8080/",
          "height": 193
        },
        "id": "e-7kn6NscXZR",
        "outputId": "6769adf6-f8fe-44a6-ff49-40c80eb4c049"
      },
      "execution_count": 23,
      "outputs": [
        {
          "output_type": "error",
          "ename": "TypeError",
          "evalue": "ignored",
          "traceback": [
            "\u001b[0;31m---------------------------------------------------------------------------\u001b[0m",
            "\u001b[0;31mTypeError\u001b[0m                                 Traceback (most recent call last)",
            "\u001b[0;32m<ipython-input-23-6657ab3c13bf>\u001b[0m in \u001b[0;36m<cell line: 2>\u001b[0;34m()\u001b[0m\n\u001b[1;32m      1\u001b[0m \u001b[0;31m# Let's try to change one of the elements in our  changeable tensor\u001b[0m\u001b[0;34m\u001b[0m\u001b[0;34m\u001b[0m\u001b[0m\n\u001b[0;32m----> 2\u001b[0;31m \u001b[0mchangeable_tensor\u001b[0m\u001b[0;34m[\u001b[0m\u001b[0;36m0\u001b[0m\u001b[0;34m]\u001b[0m \u001b[0;34m=\u001b[0m \u001b[0;36m7\u001b[0m\u001b[0;34m\u001b[0m\u001b[0;34m\u001b[0m\u001b[0m\n\u001b[0m",
            "\u001b[0;31mTypeError\u001b[0m: 'ResourceVariable' object does not support item assignment"
          ]
        }
      ]
    },
    {
      "cell_type": "code",
      "source": [
        "changeable_tensor[0].assign(7)\n",
        "changeable_tensor"
      ],
      "metadata": {
        "id": "FqAbPcMpd0Zz",
        "colab": {
          "base_uri": "https://localhost:8080/"
        },
        "outputId": "e5bb7eac-8909-4f9c-f1e6-704b9d1565dc"
      },
      "execution_count": 24,
      "outputs": [
        {
          "output_type": "execute_result",
          "data": {
            "text/plain": [
              "<tf.Variable 'Variable:0' shape=(2,) dtype=int32, numpy=array([7, 7], dtype=int32)>"
            ]
          },
          "metadata": {},
          "execution_count": 24
        }
      ]
    },
    {
      "cell_type": "code",
      "source": [
        "# Let's change the unchangeable_tensor\n",
        "unchangeable_tensor[0] = 7"
      ],
      "metadata": {
        "id": "fXt2rDnSfIff",
        "colab": {
          "base_uri": "https://localhost:8080/",
          "height": 193
        },
        "outputId": "41a93c00-e602-40ce-90f8-392e9816e9dd"
      },
      "execution_count": 25,
      "outputs": [
        {
          "output_type": "error",
          "ename": "TypeError",
          "evalue": "ignored",
          "traceback": [
            "\u001b[0;31m---------------------------------------------------------------------------\u001b[0m",
            "\u001b[0;31mTypeError\u001b[0m                                 Traceback (most recent call last)",
            "\u001b[0;32m<ipython-input-25-c48b90f0c448>\u001b[0m in \u001b[0;36m<cell line: 2>\u001b[0;34m()\u001b[0m\n\u001b[1;32m      1\u001b[0m \u001b[0;31m# Let's change the unchangeable_tensor\u001b[0m\u001b[0;34m\u001b[0m\u001b[0;34m\u001b[0m\u001b[0m\n\u001b[0;32m----> 2\u001b[0;31m \u001b[0munchangeable_tensor\u001b[0m\u001b[0;34m[\u001b[0m\u001b[0;36m0\u001b[0m\u001b[0;34m]\u001b[0m \u001b[0;34m=\u001b[0m \u001b[0;36m7\u001b[0m\u001b[0;34m\u001b[0m\u001b[0;34m\u001b[0m\u001b[0m\n\u001b[0m",
            "\u001b[0;31mTypeError\u001b[0m: 'tensorflow.python.framework.ops.EagerTensor' object does not support item assignment"
          ]
        }
      ]
    },
    {
      "cell_type": "code",
      "source": [
        "unchangeable_tensor[0].assign(7)\n",
        "unchangeable_tensor"
      ],
      "metadata": {
        "id": "60K2wt3Pf68f",
        "colab": {
          "base_uri": "https://localhost:8080/",
          "height": 314
        },
        "outputId": "94728a01-2e74-49b3-c2a8-862f2bede7bc"
      },
      "execution_count": 26,
      "outputs": [
        {
          "output_type": "error",
          "ename": "AttributeError",
          "evalue": "ignored",
          "traceback": [
            "\u001b[0;31m---------------------------------------------------------------------------\u001b[0m",
            "\u001b[0;31mAttributeError\u001b[0m                            Traceback (most recent call last)",
            "\u001b[0;32m<ipython-input-26-958e786d8d1f>\u001b[0m in \u001b[0;36m<cell line: 1>\u001b[0;34m()\u001b[0m\n\u001b[0;32m----> 1\u001b[0;31m \u001b[0munchangeable_tensor\u001b[0m\u001b[0;34m[\u001b[0m\u001b[0;36m0\u001b[0m\u001b[0;34m]\u001b[0m\u001b[0;34m.\u001b[0m\u001b[0massign\u001b[0m\u001b[0;34m(\u001b[0m\u001b[0;36m7\u001b[0m\u001b[0;34m)\u001b[0m\u001b[0;34m\u001b[0m\u001b[0;34m\u001b[0m\u001b[0m\n\u001b[0m\u001b[1;32m      2\u001b[0m \u001b[0munchangeable_tensor\u001b[0m\u001b[0;34m\u001b[0m\u001b[0;34m\u001b[0m\u001b[0m\n",
            "\u001b[0;32m/usr/local/lib/python3.10/dist-packages/tensorflow/python/framework/tensor.py\u001b[0m in \u001b[0;36m__getattr__\u001b[0;34m(self, name)\u001b[0m\n\u001b[1;32m    259\u001b[0m         \u001b[0mtf\u001b[0m\u001b[0;34m.\u001b[0m\u001b[0mexperimental\u001b[0m\u001b[0;34m.\u001b[0m\u001b[0mnumpy\u001b[0m\u001b[0;34m.\u001b[0m\u001b[0mexperimental_enable_numpy_behavior\u001b[0m\u001b[0;34m(\u001b[0m\u001b[0;34m)\u001b[0m\u001b[0;34m\u001b[0m\u001b[0;34m\u001b[0m\u001b[0m\n\u001b[1;32m    260\u001b[0m       \"\"\")\n\u001b[0;32m--> 261\u001b[0;31m     \u001b[0mself\u001b[0m\u001b[0;34m.\u001b[0m\u001b[0m__getattribute__\u001b[0m\u001b[0;34m(\u001b[0m\u001b[0mname\u001b[0m\u001b[0;34m)\u001b[0m\u001b[0;34m\u001b[0m\u001b[0;34m\u001b[0m\u001b[0m\n\u001b[0m\u001b[1;32m    262\u001b[0m \u001b[0;34m\u001b[0m\u001b[0m\n\u001b[1;32m    263\u001b[0m   \u001b[0;34m@\u001b[0m\u001b[0mproperty\u001b[0m\u001b[0;34m\u001b[0m\u001b[0;34m\u001b[0m\u001b[0m\n",
            "\u001b[0;31mAttributeError\u001b[0m: 'tensorflow.python.framework.ops.EagerTensor' object has no attribute 'assign'"
          ]
        }
      ]
    },
    {
      "cell_type": "markdown",
      "source": [
        "### Creating randon tensors\n",
        "Random tensors are tensors of some arbitrary size which contain random numbers"
      ],
      "metadata": {
        "id": "GtbzCuwhgPEO"
      }
    },
    {
      "cell_type": "code",
      "source": [
        "# create two random (but the same) tensors\n",
        "random_1 = tf.random.Generator.from_seed(42) # set seed for reproductivity\n",
        "random_1 = random_1.normal(shape=(3, 2))\n",
        "random_2 = tf.random.Generator.from_seed(42)\n",
        "random_2 = random_2.normal(shape=(3, 2))\n",
        "# Are they equal?\n",
        "random_1, random_2, random_1 == random_2"
      ],
      "metadata": {
        "id": "226c50jKpuAt",
        "colab": {
          "base_uri": "https://localhost:8080/"
        },
        "outputId": "7fbcae94-4eed-4057-feac-bce79bf93974"
      },
      "execution_count": 27,
      "outputs": [
        {
          "output_type": "execute_result",
          "data": {
            "text/plain": [
              "(<tf.Tensor: shape=(3, 2), dtype=float32, numpy=\n",
              " array([[-0.7565803 , -0.06854702],\n",
              "        [ 0.07595026, -1.2573844 ],\n",
              "        [-0.23193763, -1.8107855 ]], dtype=float32)>,\n",
              " <tf.Tensor: shape=(3, 2), dtype=float32, numpy=\n",
              " array([[-0.7565803 , -0.06854702],\n",
              "        [ 0.07595026, -1.2573844 ],\n",
              "        [-0.23193763, -1.8107855 ]], dtype=float32)>,\n",
              " <tf.Tensor: shape=(3, 2), dtype=bool, numpy=\n",
              " array([[ True,  True],\n",
              "        [ True,  True],\n",
              "        [ True,  True]])>)"
            ]
          },
          "metadata": {},
          "execution_count": 27
        }
      ]
    },
    {
      "cell_type": "markdown",
      "source": [
        "# Shuffle a tensor (valuable for when you want your data so the inherent order doesn't affect learning)"
      ],
      "metadata": {
        "id": "CtcGkJSWvZkd"
      }
    },
    {
      "cell_type": "code",
      "source": [
        "not_shuffled = tf.constant([[10, 7],\n",
        "                            [3, 4],\n",
        "                            [2, 5]])"
      ],
      "metadata": {
        "id": "8Wy-A-OJog8B"
      },
      "execution_count": 28,
      "outputs": []
    },
    {
      "cell_type": "code",
      "source": [
        "not_shuffled.ndim"
      ],
      "metadata": {
        "id": "eXM3CuOZo7hv",
        "colab": {
          "base_uri": "https://localhost:8080/"
        },
        "outputId": "5cb07858-8d24-4d7d-88b6-4ed832902b3d"
      },
      "execution_count": 29,
      "outputs": [
        {
          "output_type": "execute_result",
          "data": {
            "text/plain": [
              "2"
            ]
          },
          "metadata": {},
          "execution_count": 29
        }
      ]
    },
    {
      "cell_type": "code",
      "source": [
        "not_shuffled"
      ],
      "metadata": {
        "id": "8ZVMij0Jpvdg",
        "colab": {
          "base_uri": "https://localhost:8080/"
        },
        "outputId": "8b6da874-2f3f-4c82-ffcb-4a9eb6738c21"
      },
      "execution_count": 30,
      "outputs": [
        {
          "output_type": "execute_result",
          "data": {
            "text/plain": [
              "<tf.Tensor: shape=(3, 2), dtype=int32, numpy=\n",
              "array([[10,  7],\n",
              "       [ 3,  4],\n",
              "       [ 2,  5]], dtype=int32)>"
            ]
          },
          "metadata": {},
          "execution_count": 30
        }
      ]
    },
    {
      "cell_type": "code",
      "source": [
        "# shuffle this non shufffled tensor\n",
        "# we set the seed because we want a reproduceable tensor.\n",
        "tf.random.set_seed(42) # Global random seed\n",
        "tf.random.shuffle(not_shuffled, seed=42) # Operational-level random seed"
      ],
      "metadata": {
        "id": "ANi8-jW0p5rJ",
        "colab": {
          "base_uri": "https://localhost:8080/"
        },
        "outputId": "a90d4bb8-2eb2-4919-b65f-0f3f24a3a54f"
      },
      "execution_count": 31,
      "outputs": [
        {
          "output_type": "execute_result",
          "data": {
            "text/plain": [
              "<tf.Tensor: shape=(3, 2), dtype=int32, numpy=\n",
              "array([[10,  7],\n",
              "       [ 3,  4],\n",
              "       [ 2,  5]], dtype=int32)>"
            ]
          },
          "metadata": {},
          "execution_count": 31
        }
      ]
    },
    {
      "cell_type": "code",
      "source": [
        "# The above method to set-seed is not working. Details of global and operation- level seeds can be learned here...https://www.tensorflow.org/api_docs/python/tf/random/set_seed\n",
        "#This is your assignment.\n",
        "# In the code below, it seems that if we want to maintain the same order of the tensor content, we must use both Global and operation level random seed.\n",
        "tf.random.set_seed(42) # Global level random seed\n",
        "tf.random.shuffle(not_shuffled, seed=42) # operation level random seed"
      ],
      "metadata": {
        "id": "W1A9Z0FarUTb",
        "colab": {
          "base_uri": "https://localhost:8080/"
        },
        "outputId": "6ae88afd-aa14-45cc-b565-86197d179868"
      },
      "execution_count": 32,
      "outputs": [
        {
          "output_type": "execute_result",
          "data": {
            "text/plain": [
              "<tf.Tensor: shape=(3, 2), dtype=int32, numpy=\n",
              "array([[10,  7],\n",
              "       [ 3,  4],\n",
              "       [ 2,  5]], dtype=int32)>"
            ]
          },
          "metadata": {},
          "execution_count": 32
        }
      ]
    },
    {
      "cell_type": "markdown",
      "source": [
        "# Other ways to make tensors"
      ],
      "metadata": {
        "id": "ngYplFYc1V36"
      }
    },
    {
      "cell_type": "code",
      "source": [
        "tf.ones([10, 7])"
      ],
      "metadata": {
        "id": "dN7vB_ylrkDY",
        "colab": {
          "base_uri": "https://localhost:8080/"
        },
        "outputId": "9e2d1805-d2c0-42a8-8c84-7e2f07038d9c"
      },
      "execution_count": 33,
      "outputs": [
        {
          "output_type": "execute_result",
          "data": {
            "text/plain": [
              "<tf.Tensor: shape=(10, 7), dtype=float32, numpy=\n",
              "array([[1., 1., 1., 1., 1., 1., 1.],\n",
              "       [1., 1., 1., 1., 1., 1., 1.],\n",
              "       [1., 1., 1., 1., 1., 1., 1.],\n",
              "       [1., 1., 1., 1., 1., 1., 1.],\n",
              "       [1., 1., 1., 1., 1., 1., 1.],\n",
              "       [1., 1., 1., 1., 1., 1., 1.],\n",
              "       [1., 1., 1., 1., 1., 1., 1.],\n",
              "       [1., 1., 1., 1., 1., 1., 1.],\n",
              "       [1., 1., 1., 1., 1., 1., 1.],\n",
              "       [1., 1., 1., 1., 1., 1., 1.]], dtype=float32)>"
            ]
          },
          "metadata": {},
          "execution_count": 33
        }
      ]
    },
    {
      "cell_type": "markdown",
      "source": [
        "# Turn Numpy array into tensors\n",
        "The main difference between Numpy arrays and tensorflow tensors is that tensors can be run on a GPU.\n"
      ],
      "metadata": {
        "id": "HTS6Di4xI_n4"
      }
    },
    {
      "cell_type": "code",
      "source": [
        "import numpy as np\n",
        "numpy_A = np.arange(1, 25, dtype=np.int32) # creates a numpy array between 1 and 25"
      ],
      "metadata": {
        "id": "T_yfMGBLz9WL"
      },
      "execution_count": 34,
      "outputs": []
    },
    {
      "cell_type": "code",
      "source": [
        "numpy_A"
      ],
      "metadata": {
        "id": "kCh2AyMhJ3Cd",
        "colab": {
          "base_uri": "https://localhost:8080/"
        },
        "outputId": "06370b8b-63a8-4be8-cbbb-5b4db490096b"
      },
      "execution_count": 35,
      "outputs": [
        {
          "output_type": "execute_result",
          "data": {
            "text/plain": [
              "array([ 1,  2,  3,  4,  5,  6,  7,  8,  9, 10, 11, 12, 13, 14, 15, 16, 17,\n",
              "       18, 19, 20, 21, 22, 23, 24], dtype=int32)"
            ]
          },
          "metadata": {},
          "execution_count": 35
        }
      ]
    },
    {
      "cell_type": "code",
      "source": [
        "A = tf.constant(numpy_A, shape=(3, 8))"
      ],
      "metadata": {
        "id": "PyAvds03KrTh"
      },
      "execution_count": 36,
      "outputs": []
    },
    {
      "cell_type": "code",
      "source": [
        "A"
      ],
      "metadata": {
        "id": "zQfrrtlpMCIa",
        "colab": {
          "base_uri": "https://localhost:8080/"
        },
        "outputId": "24be8293-c1d3-4bb8-97c6-bfcafb6833d1"
      },
      "execution_count": 37,
      "outputs": [
        {
          "output_type": "execute_result",
          "data": {
            "text/plain": [
              "<tf.Tensor: shape=(3, 8), dtype=int32, numpy=\n",
              "array([[ 1,  2,  3,  4,  5,  6,  7,  8],\n",
              "       [ 9, 10, 11, 12, 13, 14, 15, 16],\n",
              "       [17, 18, 19, 20, 21, 22, 23, 24]], dtype=int32)>"
            ]
          },
          "metadata": {},
          "execution_count": 37
        }
      ]
    },
    {
      "cell_type": "code",
      "source": [
        "A.ndim"
      ],
      "metadata": {
        "id": "PbDY05uUOow5",
        "colab": {
          "base_uri": "https://localhost:8080/"
        },
        "outputId": "03f94622-c551-446a-fec4-27ab9e076867"
      },
      "execution_count": 38,
      "outputs": [
        {
          "output_type": "execute_result",
          "data": {
            "text/plain": [
              "2"
            ]
          },
          "metadata": {},
          "execution_count": 38
        }
      ]
    },
    {
      "cell_type": "code",
      "source": [
        "B = tf.constant(numpy_A)"
      ],
      "metadata": {
        "id": "8_eXrsmbMDUp"
      },
      "execution_count": 39,
      "outputs": []
    },
    {
      "cell_type": "code",
      "source": [
        "B"
      ],
      "metadata": {
        "id": "HlKodQT8NQ5C",
        "colab": {
          "base_uri": "https://localhost:8080/"
        },
        "outputId": "7224960a-ccee-4be5-9dd3-67cefe2a2c06"
      },
      "execution_count": 40,
      "outputs": [
        {
          "output_type": "execute_result",
          "data": {
            "text/plain": [
              "<tf.Tensor: shape=(24,), dtype=int32, numpy=\n",
              "array([ 1,  2,  3,  4,  5,  6,  7,  8,  9, 10, 11, 12, 13, 14, 15, 16, 17,\n",
              "       18, 19, 20, 21, 22, 23, 24], dtype=int32)>"
            ]
          },
          "metadata": {},
          "execution_count": 40
        }
      ]
    },
    {
      "cell_type": "code",
      "source": [
        "A.ndim"
      ],
      "metadata": {
        "id": "-s-c42fyN_-5",
        "colab": {
          "base_uri": "https://localhost:8080/"
        },
        "outputId": "d50a2243-8853-4926-d5a7-c7727cfe13af"
      },
      "execution_count": 41,
      "outputs": [
        {
          "output_type": "execute_result",
          "data": {
            "text/plain": [
              "2"
            ]
          },
          "metadata": {},
          "execution_count": 41
        }
      ]
    },
    {
      "cell_type": "markdown",
      "source": [
        "# Getting information fron tensors"
      ],
      "metadata": {
        "id": "tV-z-LzUTcra"
      }
    },
    {
      "cell_type": "code",
      "source": [
        "#Useful resource: https://medium.com/mlearning-ai/what-are-tensors-495cf37c18e6"
      ],
      "metadata": {
        "id": "azktBy_EA7uV"
      },
      "execution_count": 56,
      "outputs": []
    },
    {
      "cell_type": "markdown",
      "source": [
        "When dealing with tensors, you probably want to be aware of the following tensor attributes:\n",
        "* shape\n",
        "* Rank\n",
        "* Axis or dimension\n",
        "*size"
      ],
      "metadata": {
        "id": "R4gnYaV6Ugep"
      }
    },
    {
      "cell_type": "code",
      "source": [
        "#create a rank 4 tensor (4 dimensions)\n",
        "rank_4 = tf.ones(shape=[3, 2, 4, 5])"
      ],
      "metadata": {
        "id": "PQaKoYdbUaZq"
      },
      "execution_count": 45,
      "outputs": []
    },
    {
      "cell_type": "code",
      "source": [
        "rank_4"
      ],
      "metadata": {
        "id": "OI1ncuCqWhQv",
        "colab": {
          "base_uri": "https://localhost:8080/"
        },
        "outputId": "ca91aecc-5999-4d91-c47e-986ba29d6827"
      },
      "execution_count": 46,
      "outputs": [
        {
          "output_type": "execute_result",
          "data": {
            "text/plain": [
              "<tf.Tensor: shape=(3, 2, 4, 5), dtype=float32, numpy=\n",
              "array([[[[1., 1., 1., 1., 1.],\n",
              "         [1., 1., 1., 1., 1.],\n",
              "         [1., 1., 1., 1., 1.],\n",
              "         [1., 1., 1., 1., 1.]],\n",
              "\n",
              "        [[1., 1., 1., 1., 1.],\n",
              "         [1., 1., 1., 1., 1.],\n",
              "         [1., 1., 1., 1., 1.],\n",
              "         [1., 1., 1., 1., 1.]]],\n",
              "\n",
              "\n",
              "       [[[1., 1., 1., 1., 1.],\n",
              "         [1., 1., 1., 1., 1.],\n",
              "         [1., 1., 1., 1., 1.],\n",
              "         [1., 1., 1., 1., 1.]],\n",
              "\n",
              "        [[1., 1., 1., 1., 1.],\n",
              "         [1., 1., 1., 1., 1.],\n",
              "         [1., 1., 1., 1., 1.],\n",
              "         [1., 1., 1., 1., 1.]]],\n",
              "\n",
              "\n",
              "       [[[1., 1., 1., 1., 1.],\n",
              "         [1., 1., 1., 1., 1.],\n",
              "         [1., 1., 1., 1., 1.],\n",
              "         [1., 1., 1., 1., 1.]],\n",
              "\n",
              "        [[1., 1., 1., 1., 1.],\n",
              "         [1., 1., 1., 1., 1.],\n",
              "         [1., 1., 1., 1., 1.],\n",
              "         [1., 1., 1., 1., 1.]]]], dtype=float32)>"
            ]
          },
          "metadata": {},
          "execution_count": 46
        }
      ]
    },
    {
      "cell_type": "code",
      "source": [
        "rank_4[0]"
      ],
      "metadata": {
        "id": "MPJPokMBWlch",
        "colab": {
          "base_uri": "https://localhost:8080/"
        },
        "outputId": "2e3a2ac5-3e3b-4cc7-bbba-9a83977b913c"
      },
      "execution_count": 47,
      "outputs": [
        {
          "output_type": "execute_result",
          "data": {
            "text/plain": [
              "<tf.Tensor: shape=(2, 4, 5), dtype=float32, numpy=\n",
              "array([[[1., 1., 1., 1., 1.],\n",
              "        [1., 1., 1., 1., 1.],\n",
              "        [1., 1., 1., 1., 1.],\n",
              "        [1., 1., 1., 1., 1.]],\n",
              "\n",
              "       [[1., 1., 1., 1., 1.],\n",
              "        [1., 1., 1., 1., 1.],\n",
              "        [1., 1., 1., 1., 1.],\n",
              "        [1., 1., 1., 1., 1.]]], dtype=float32)>"
            ]
          },
          "metadata": {},
          "execution_count": 47
        }
      ]
    },
    {
      "cell_type": "code",
      "source": [
        "rank_4.shape"
      ],
      "metadata": {
        "id": "N4EnXNDKYc1q",
        "colab": {
          "base_uri": "https://localhost:8080/"
        },
        "outputId": "9046ff61-715f-471c-e8ac-09800fcab65f"
      },
      "execution_count": 48,
      "outputs": [
        {
          "output_type": "execute_result",
          "data": {
            "text/plain": [
              "TensorShape([3, 2, 4, 5])"
            ]
          },
          "metadata": {},
          "execution_count": 48
        }
      ]
    },
    {
      "cell_type": "code",
      "source": [
        "rank_4.ndim"
      ],
      "metadata": {
        "id": "PhDeOA3IYy_y",
        "colab": {
          "base_uri": "https://localhost:8080/"
        },
        "outputId": "6380effe-62f8-4cfc-c8a9-7a03ce8c6372"
      },
      "execution_count": 49,
      "outputs": [
        {
          "output_type": "execute_result",
          "data": {
            "text/plain": [
              "4"
            ]
          },
          "metadata": {},
          "execution_count": 49
        }
      ]
    },
    {
      "cell_type": "code",
      "source": [
        "tf.size(rank_4)"
      ],
      "metadata": {
        "id": "8_yWb3tbY5AR",
        "colab": {
          "base_uri": "https://localhost:8080/"
        },
        "outputId": "da3b409b-0730-410f-b0a1-22cbbdb95550"
      },
      "execution_count": 50,
      "outputs": [
        {
          "output_type": "execute_result",
          "data": {
            "text/plain": [
              "<tf.Tensor: shape=(), dtype=int32, numpy=120>"
            ]
          },
          "metadata": {},
          "execution_count": 50
        }
      ]
    },
    {
      "cell_type": "code",
      "source": [
        "3 * 2 * 4 * 5"
      ],
      "metadata": {
        "id": "y3X011OBZXPx",
        "colab": {
          "base_uri": "https://localhost:8080/"
        },
        "outputId": "2000105e-218f-4e39-9ac9-6859cbd10b10"
      },
      "execution_count": 53,
      "outputs": [
        {
          "output_type": "execute_result",
          "data": {
            "text/plain": [
              "120"
            ]
          },
          "metadata": {},
          "execution_count": 53
        }
      ]
    },
    {
      "cell_type": "code",
      "source": [
        "# Get various attributes of our tensor\n",
        "print(\"Data type of every element: \", rank_4.dtype)\n",
        "print(\"Number of dimensions (rank): \", rank_4.ndim)\n",
        "print(\"shape of tensor: \", rank_4.shape)\n",
        "print(\"Elements along the 0 axis: \", rank_4.shape[0])\n",
        "print(\"Elements along the last axis: \", rank_4.shape[-1])\n",
        "print(\"the total number of elements in our tensor: \", tf.size(rank_4).numpy())\n"
      ],
      "metadata": {
        "id": "-YeyEi7kZ1rs",
        "colab": {
          "base_uri": "https://localhost:8080/"
        },
        "outputId": "e76324a2-ce8a-4360-b970-cb458bce3ca5"
      },
      "execution_count": 55,
      "outputs": [
        {
          "output_type": "stream",
          "name": "stdout",
          "text": [
            "Data type of every element:  <dtype: 'float32'>\n",
            "Number of dimensions (rank):  4\n",
            "shape of tensor:  (3, 2, 4, 5)\n",
            "Elements along the 0 axis:  3\n",
            "Elements along the last axis:  5\n",
            "the total number of elements in our tensor:  120\n"
          ]
        }
      ]
    },
    {
      "cell_type": "code",
      "source": [],
      "metadata": {
        "id": "d42BGAC2DIgp"
      },
      "execution_count": null,
      "outputs": []
    },
    {
      "cell_type": "markdown",
      "source": [
        "# Indexing and Slicing tensors\n",
        "Tensors can be indexed like python lists\n"
      ],
      "metadata": {
        "id": "26E6BD9qbzV7"
      }
    },
    {
      "cell_type": "code",
      "source": [
        "some_lists = [1, 2, 3, 4]\n",
        "some_lists[:2]"
      ],
      "metadata": {
        "id": "3X3vTmeHVl3W",
        "colab": {
          "base_uri": "https://localhost:8080/"
        },
        "outputId": "064f77ce-5d24-4991-ba77-97a1f74c739e"
      },
      "execution_count": 58,
      "outputs": [
        {
          "output_type": "execute_result",
          "data": {
            "text/plain": [
              "[1, 2]"
            ]
          },
          "metadata": {},
          "execution_count": 58
        }
      ]
    },
    {
      "cell_type": "code",
      "source": [
        "some_lists[2:]"
      ],
      "metadata": {
        "id": "hLsmR36zWBsy",
        "colab": {
          "base_uri": "https://localhost:8080/"
        },
        "outputId": "3fc211c9-78a0-43f5-8b1b-2c4fafff3db1"
      },
      "execution_count": 59,
      "outputs": [
        {
          "output_type": "execute_result",
          "data": {
            "text/plain": [
              "[3, 4]"
            ]
          },
          "metadata": {},
          "execution_count": 59
        }
      ]
    },
    {
      "cell_type": "code",
      "source": [
        "rank_4[:2, :2, :2, :2]"
      ],
      "metadata": {
        "id": "E6_8KSntWMof",
        "colab": {
          "base_uri": "https://localhost:8080/"
        },
        "outputId": "fd9bda0c-4992-4c98-a28d-b87b436c5702"
      },
      "execution_count": 60,
      "outputs": [
        {
          "output_type": "execute_result",
          "data": {
            "text/plain": [
              "<tf.Tensor: shape=(2, 2, 2, 2), dtype=float32, numpy=\n",
              "array([[[[1., 1.],\n",
              "         [1., 1.]],\n",
              "\n",
              "        [[1., 1.],\n",
              "         [1., 1.]]],\n",
              "\n",
              "\n",
              "       [[[1., 1.],\n",
              "         [1., 1.]],\n",
              "\n",
              "        [[1., 1.],\n",
              "         [1., 1.]]]], dtype=float32)>"
            ]
          },
          "metadata": {},
          "execution_count": 60
        }
      ]
    },
    {
      "cell_type": "code",
      "source": [
        "# get the first element from each dimension from each index except for the last one\n",
        "\n",
        "rank_4[1:, 1:, :, 1:]"
      ],
      "metadata": {
        "id": "BkEBSTWwWvhH",
        "colab": {
          "base_uri": "https://localhost:8080/"
        },
        "outputId": "f19fa2db-de83-437a-a905-fd67266b8f4d"
      },
      "execution_count": 61,
      "outputs": [
        {
          "output_type": "execute_result",
          "data": {
            "text/plain": [
              "<tf.Tensor: shape=(2, 1, 4, 4), dtype=float32, numpy=\n",
              "array([[[[1., 1., 1., 1.],\n",
              "         [1., 1., 1., 1.],\n",
              "         [1., 1., 1., 1.],\n",
              "         [1., 1., 1., 1.]]],\n",
              "\n",
              "\n",
              "       [[[1., 1., 1., 1.],\n",
              "         [1., 1., 1., 1.],\n",
              "         [1., 1., 1., 1.],\n",
              "         [1., 1., 1., 1.]]]], dtype=float32)>"
            ]
          },
          "metadata": {},
          "execution_count": 61
        }
      ]
    },
    {
      "cell_type": "code",
      "source": [
        "# create rank 2 tensor\n",
        "rank_2 = tf.constant([[10, 7],\n",
        "                      [7, 10]])\n",
        "rank_2"
      ],
      "metadata": {
        "id": "dXUos6Z8Xe0d",
        "colab": {
          "base_uri": "https://localhost:8080/"
        },
        "outputId": "1d22a18e-66ed-49ae-92c2-f96503dd59c6"
      },
      "execution_count": 62,
      "outputs": [
        {
          "output_type": "execute_result",
          "data": {
            "text/plain": [
              "<tf.Tensor: shape=(2, 2), dtype=int32, numpy=\n",
              "array([[10,  7],\n",
              "       [ 7, 10]], dtype=int32)>"
            ]
          },
          "metadata": {},
          "execution_count": 62
        }
      ]
    },
    {
      "cell_type": "code",
      "source": [
        "rank_2.shape, rank_2.ndim, tf.size(rank_2)"
      ],
      "metadata": {
        "id": "jAR_FLmpYlLq",
        "colab": {
          "base_uri": "https://localhost:8080/"
        },
        "outputId": "fe5c50cb-5396-4271-e060-fa0a9496ae90"
      },
      "execution_count": 63,
      "outputs": [
        {
          "output_type": "execute_result",
          "data": {
            "text/plain": [
              "(TensorShape([2, 2]), 2, <tf.Tensor: shape=(), dtype=int32, numpy=4>)"
            ]
          },
          "metadata": {},
          "execution_count": 63
        }
      ]
    },
    {
      "cell_type": "code",
      "source": [
        "# get the last item of each element in rank_2\n",
        "rank_2"
      ],
      "metadata": {
        "id": "B_dTUFjZaKoY",
        "colab": {
          "base_uri": "https://localhost:8080/"
        },
        "outputId": "d7d1cb9a-07fe-40e3-895b-9b3453b5ec47"
      },
      "execution_count": 64,
      "outputs": [
        {
          "output_type": "execute_result",
          "data": {
            "text/plain": [
              "<tf.Tensor: shape=(2, 2), dtype=int32, numpy=\n",
              "array([[10,  7],\n",
              "       [ 7, 10]], dtype=int32)>"
            ]
          },
          "metadata": {},
          "execution_count": 64
        }
      ]
    },
    {
      "cell_type": "code",
      "source": [
        "some_lists"
      ],
      "metadata": {
        "id": "VcThFMbXcStD",
        "colab": {
          "base_uri": "https://localhost:8080/"
        },
        "outputId": "9e56f37e-cec6-4157-dbb6-3937e8bc142e"
      },
      "execution_count": 65,
      "outputs": [
        {
          "output_type": "execute_result",
          "data": {
            "text/plain": [
              "[1, 2, 3, 4]"
            ]
          },
          "metadata": {},
          "execution_count": 65
        }
      ]
    },
    {
      "cell_type": "code",
      "source": [
        "some_lists[3:]"
      ],
      "metadata": {
        "id": "AuqwLIC1cX8u",
        "colab": {
          "base_uri": "https://localhost:8080/"
        },
        "outputId": "f04ea847-c244-4ea5-f374-9a7204a0c089"
      },
      "execution_count": 66,
      "outputs": [
        {
          "output_type": "execute_result",
          "data": {
            "text/plain": [
              "[4]"
            ]
          },
          "metadata": {},
          "execution_count": 66
        }
      ]
    },
    {
      "cell_type": "code",
      "source": [
        "# add in extra dimension to our rank 2 tensor\n",
        "rank_3 = rank_2[..., tf.newaxis]\n",
        "rank_3"
      ],
      "metadata": {
        "id": "mX4Ohesdc4aF",
        "colab": {
          "base_uri": "https://localhost:8080/"
        },
        "outputId": "e5a3004a-3cc7-4511-cdc5-e58acdfe69f1"
      },
      "execution_count": 68,
      "outputs": [
        {
          "output_type": "execute_result",
          "data": {
            "text/plain": [
              "<tf.Tensor: shape=(2, 2, 1), dtype=int32, numpy=\n",
              "array([[[10],\n",
              "        [ 7]],\n",
              "\n",
              "       [[ 7],\n",
              "        [10]]], dtype=int32)>"
            ]
          },
          "metadata": {},
          "execution_count": 68
        }
      ]
    },
    {
      "cell_type": "code",
      "source": [
        "x = np.array([[[1, 4, 7],\n",
        "               [2, 5, 8],\n",
        "               [3, 6, 9]],\n",
        "              [[10, 40, 70],\n",
        "               [20, 50, 80],\n",
        "               [30, 60, 90]],\n",
        "              [[100, 400, 700],\n",
        "               [200, 500, 800],\n",
        "               [300, 600, 900]]])\n",
        "print(x)\n",
        "print('This tensor is of rank %d' %(x.ndim))"
      ],
      "metadata": {
        "id": "moi_czTTd6Og",
        "colab": {
          "base_uri": "https://localhost:8080/"
        },
        "outputId": "5f91a6b7-6729-4a8e-9793-296d572fa589"
      },
      "execution_count": 69,
      "outputs": [
        {
          "output_type": "stream",
          "name": "stdout",
          "text": [
            "[[[  1   4   7]\n",
            "  [  2   5   8]\n",
            "  [  3   6   9]]\n",
            "\n",
            " [[ 10  40  70]\n",
            "  [ 20  50  80]\n",
            "  [ 30  60  90]]\n",
            "\n",
            " [[100 400 700]\n",
            "  [200 500 800]\n",
            "  [300 600 900]]]\n",
            "This tensor is of rank 3\n"
          ]
        }
      ]
    },
    {
      "cell_type": "code",
      "source": [
        "# There can be an arbitrary number of\n",
        "# axes (sometimes called \"dimensions\")\n",
        "rank_n = tf.constant([\n",
        "  [[0, 1, 2, 3, 4],\n",
        "   [5, 6, 7, 8, 9]],\n",
        "  [[10, 11, 12, 13, 14],\n",
        "   [15, 16, 17, 18, 19]],\n",
        "  [[20, 21, 22, 23, 24],\n",
        "   [25, 26, 27, 28, 29]],])\n",
        "\n",
        "print(rank_n)"
      ],
      "metadata": {
        "id": "NbMDSlWGstJC",
        "colab": {
          "base_uri": "https://localhost:8080/"
        },
        "outputId": "009a239c-033c-48bb-ec9a-2f77f953bc62"
      },
      "execution_count": 74,
      "outputs": [
        {
          "output_type": "stream",
          "name": "stdout",
          "text": [
            "tf.Tensor(\n",
            "[[[ 0  1  2  3  4]\n",
            "  [ 5  6  7  8  9]]\n",
            "\n",
            " [[10 11 12 13 14]\n",
            "  [15 16 17 18 19]]\n",
            "\n",
            " [[20 21 22 23 24]\n",
            "  [25 26 27 28 29]]], shape=(3, 2, 5), dtype=int32)\n"
          ]
        }
      ]
    },
    {
      "cell_type": "code",
      "source": [
        "rank_n.shape"
      ],
      "metadata": {
        "id": "urYGFWtyswtp",
        "colab": {
          "base_uri": "https://localhost:8080/"
        },
        "outputId": "fb8dc3a9-4aa4-42f2-a7bc-b01c406c221f"
      },
      "execution_count": 75,
      "outputs": [
        {
          "output_type": "execute_result",
          "data": {
            "text/plain": [
              "TensorShape([3, 2, 5])"
            ]
          },
          "metadata": {},
          "execution_count": 75
        }
      ]
    },
    {
      "cell_type": "code",
      "source": [
        "a = tf.constant([[1, 2],\n",
        "                 [3, 4]])"
      ],
      "metadata": {
        "id": "vuHCyhLO0Xzr"
      },
      "execution_count": 76,
      "outputs": []
    },
    {
      "cell_type": "code",
      "source": [
        "b = tf.constant([[1, 1],\n",
        "                 [1, 1]])"
      ],
      "metadata": {
        "id": "vvFlSAYDxMDH"
      },
      "execution_count": 77,
      "outputs": []
    },
    {
      "cell_type": "code",
      "source": [
        "a.shape"
      ],
      "metadata": {
        "id": "XAUN6_vn1wGF",
        "colab": {
          "base_uri": "https://localhost:8080/"
        },
        "outputId": "f2fb10ad-520e-49dd-a3e1-b6cef24e517b"
      },
      "execution_count": 78,
      "outputs": [
        {
          "output_type": "execute_result",
          "data": {
            "text/plain": [
              "TensorShape([2, 2])"
            ]
          },
          "metadata": {},
          "execution_count": 78
        }
      ]
    },
    {
      "cell_type": "code",
      "source": [
        "print(tf.add(a, b), \"\\n\")"
      ],
      "metadata": {
        "id": "bgK855kY12OX",
        "colab": {
          "base_uri": "https://localhost:8080/"
        },
        "outputId": "72edcbed-fadc-4973-8744-e91fe3a1332b"
      },
      "execution_count": 79,
      "outputs": [
        {
          "output_type": "stream",
          "name": "stdout",
          "text": [
            "tf.Tensor(\n",
            "[[2 3]\n",
            " [4 5]], shape=(2, 2), dtype=int32) \n",
            "\n"
          ]
        }
      ]
    },
    {
      "cell_type": "code",
      "source": [
        "print(tf.multiply(a, b), \"\\n\")"
      ],
      "metadata": {
        "id": "kAk_PvW518sH",
        "colab": {
          "base_uri": "https://localhost:8080/"
        },
        "outputId": "df201fef-9594-42af-9d69-fbebd1e9fd1a"
      },
      "execution_count": 80,
      "outputs": [
        {
          "output_type": "stream",
          "name": "stdout",
          "text": [
            "tf.Tensor(\n",
            "[[1 2]\n",
            " [3 4]], shape=(2, 2), dtype=int32) \n",
            "\n"
          ]
        }
      ]
    },
    {
      "cell_type": "code",
      "source": [
        "print(tf.matmul(a, b), \"\\n\")"
      ],
      "metadata": {
        "id": "a-44ol862ErA",
        "colab": {
          "base_uri": "https://localhost:8080/"
        },
        "outputId": "d0700d26-1d46-4ae1-ab5f-cbab1f26b951"
      },
      "execution_count": 81,
      "outputs": [
        {
          "output_type": "stream",
          "name": "stdout",
          "text": [
            "tf.Tensor(\n",
            "[[3 3]\n",
            " [7 7]], shape=(2, 2), dtype=int32) \n",
            "\n"
          ]
        }
      ]
    },
    {
      "cell_type": "code",
      "source": [
        "c = tf.constant([[4.0, 5.0], [10.0, 1.0]])\n",
        "\n",
        "# Find the largest value\n",
        "print(tf.reduce_max(c))\n",
        "# Find the index of the largest value\n",
        "print(tf.math.argmax(c))\n",
        "# Compute the softmax\n",
        "print(tf.nn.softmax(c))"
      ],
      "metadata": {
        "id": "7c2VIk1u4UV-",
        "colab": {
          "base_uri": "https://localhost:8080/"
        },
        "outputId": "7f3cef74-b477-4e24-ae28-28e0744be05c"
      },
      "execution_count": 82,
      "outputs": [
        {
          "output_type": "stream",
          "name": "stdout",
          "text": [
            "tf.Tensor(10.0, shape=(), dtype=float32)\n",
            "tf.Tensor([1 0], shape=(2,), dtype=int64)\n",
            "tf.Tensor(\n",
            "[[2.6894143e-01 7.3105860e-01]\n",
            " [9.9987662e-01 1.2339458e-04]], shape=(2, 2), dtype=float32)\n"
          ]
        }
      ]
    },
    {
      "cell_type": "code",
      "source": [
        "tf.convert_to_tensor([1,2,3])"
      ],
      "metadata": {
        "id": "6pSZsKQo4zpC",
        "colab": {
          "base_uri": "https://localhost:8080/"
        },
        "outputId": "195338db-e99b-44c3-cdc3-c7ae05c4c989"
      },
      "execution_count": 83,
      "outputs": [
        {
          "output_type": "execute_result",
          "data": {
            "text/plain": [
              "<tf.Tensor: shape=(3,), dtype=int32, numpy=array([1, 2, 3], dtype=int32)>"
            ]
          },
          "metadata": {},
          "execution_count": 83
        }
      ]
    },
    {
      "cell_type": "code",
      "source": [
        "rank_4_tensor = tf.zeros([4, 2, 4, 5])\n",
        "rank_4_tensor"
      ],
      "metadata": {
        "id": "UVfxVFPz4VfA",
        "colab": {
          "base_uri": "https://localhost:8080/"
        },
        "outputId": "65e6e61f-fd8b-4ae2-a2d2-0ad57eacf198"
      },
      "execution_count": 84,
      "outputs": [
        {
          "output_type": "execute_result",
          "data": {
            "text/plain": [
              "<tf.Tensor: shape=(4, 2, 4, 5), dtype=float32, numpy=\n",
              "array([[[[0., 0., 0., 0., 0.],\n",
              "         [0., 0., 0., 0., 0.],\n",
              "         [0., 0., 0., 0., 0.],\n",
              "         [0., 0., 0., 0., 0.]],\n",
              "\n",
              "        [[0., 0., 0., 0., 0.],\n",
              "         [0., 0., 0., 0., 0.],\n",
              "         [0., 0., 0., 0., 0.],\n",
              "         [0., 0., 0., 0., 0.]]],\n",
              "\n",
              "\n",
              "       [[[0., 0., 0., 0., 0.],\n",
              "         [0., 0., 0., 0., 0.],\n",
              "         [0., 0., 0., 0., 0.],\n",
              "         [0., 0., 0., 0., 0.]],\n",
              "\n",
              "        [[0., 0., 0., 0., 0.],\n",
              "         [0., 0., 0., 0., 0.],\n",
              "         [0., 0., 0., 0., 0.],\n",
              "         [0., 0., 0., 0., 0.]]],\n",
              "\n",
              "\n",
              "       [[[0., 0., 0., 0., 0.],\n",
              "         [0., 0., 0., 0., 0.],\n",
              "         [0., 0., 0., 0., 0.],\n",
              "         [0., 0., 0., 0., 0.]],\n",
              "\n",
              "        [[0., 0., 0., 0., 0.],\n",
              "         [0., 0., 0., 0., 0.],\n",
              "         [0., 0., 0., 0., 0.],\n",
              "         [0., 0., 0., 0., 0.]]],\n",
              "\n",
              "\n",
              "       [[[0., 0., 0., 0., 0.],\n",
              "         [0., 0., 0., 0., 0.],\n",
              "         [0., 0., 0., 0., 0.],\n",
              "         [0., 0., 0., 0., 0.]],\n",
              "\n",
              "        [[0., 0., 0., 0., 0.],\n",
              "         [0., 0., 0., 0., 0.],\n",
              "         [0., 0., 0., 0., 0.],\n",
              "         [0., 0., 0., 0., 0.]]]], dtype=float32)>"
            ]
          },
          "metadata": {},
          "execution_count": 84
        }
      ]
    },
    {
      "cell_type": "code",
      "source": [
        "print(\"Number of axes:\", rank_4_tensor.ndim)"
      ],
      "metadata": {
        "id": "JD3AbHVX8XGh",
        "colab": {
          "base_uri": "https://localhost:8080/"
        },
        "outputId": "a8c124e6-ff6a-4342-fe24-3c2e4a0ca5e6"
      },
      "execution_count": 87,
      "outputs": [
        {
          "output_type": "stream",
          "name": "stdout",
          "text": [
            "Number of axes: 4\n"
          ]
        }
      ]
    },
    {
      "cell_type": "code",
      "source": [
        "print(\"Shape of tensor:\", rank_4_tensor.shape)"
      ],
      "metadata": {
        "id": "oRcxg752ASj0",
        "colab": {
          "base_uri": "https://localhost:8080/"
        },
        "outputId": "7bfb32a7-e2aa-4717-ea67-339ff172229e"
      },
      "execution_count": 88,
      "outputs": [
        {
          "output_type": "stream",
          "name": "stdout",
          "text": [
            "Shape of tensor: (4, 2, 4, 5)\n"
          ]
        }
      ]
    },
    {
      "cell_type": "code",
      "source": [
        "print(\"Elements along axis 0 of tensor:\", rank_4_tensor.shape[0])"
      ],
      "metadata": {
        "id": "OMBLQV2O9vHg",
        "colab": {
          "base_uri": "https://localhost:8080/"
        },
        "outputId": "88232ddc-31fd-4472-8207-aaeb5ab04f01"
      },
      "execution_count": 89,
      "outputs": [
        {
          "output_type": "stream",
          "name": "stdout",
          "text": [
            "Elements along axis 0 of tensor: 4\n"
          ]
        }
      ]
    },
    {
      "cell_type": "code",
      "source": [
        "tf.rank(rank_4_tensor)"
      ],
      "metadata": {
        "id": "50peYkuyAZ5k",
        "colab": {
          "base_uri": "https://localhost:8080/"
        },
        "outputId": "1f2665c1-eb82-49e1-ac67-c3328524177e"
      },
      "execution_count": 90,
      "outputs": [
        {
          "output_type": "execute_result",
          "data": {
            "text/plain": [
              "<tf.Tensor: shape=(), dtype=int32, numpy=4>"
            ]
          },
          "metadata": {},
          "execution_count": 90
        }
      ]
    },
    {
      "cell_type": "code",
      "source": [
        "tf.shape(rank_4_tensor)"
      ],
      "metadata": {
        "id": "3_asx9wBA2ES",
        "colab": {
          "base_uri": "https://localhost:8080/"
        },
        "outputId": "61cb0c3d-fe81-41a5-9be2-70a087cf5c5a"
      },
      "execution_count": 91,
      "outputs": [
        {
          "output_type": "execute_result",
          "data": {
            "text/plain": [
              "<tf.Tensor: shape=(4,), dtype=int32, numpy=array([4, 2, 4, 5], dtype=int32)>"
            ]
          },
          "metadata": {},
          "execution_count": 91
        }
      ]
    },
    {
      "cell_type": "code",
      "source": [
        "# create a (3, 2) tensor\n",
        "X = tf.constant([[2, 4],\n",
        "                [3, 5],\n",
        "                [4, 6]])\n",
        "\n",
        "\n",
        "#creating another (3, 2) tensor\n",
        "Y = tf.constant([[2,3],\n",
        "                 [1, 1],\n",
        "                 [4, 8]])"
      ],
      "metadata": {
        "id": "jRsFXREeA3AA"
      },
      "execution_count": 92,
      "outputs": []
    },
    {
      "cell_type": "code",
      "source": [
        "X, Y"
      ],
      "metadata": {
        "id": "lJ68_bwY2A32",
        "colab": {
          "base_uri": "https://localhost:8080/"
        },
        "outputId": "595d9e62-e685-4772-a05f-038e0752789a"
      },
      "execution_count": 93,
      "outputs": [
        {
          "output_type": "execute_result",
          "data": {
            "text/plain": [
              "(<tf.Tensor: shape=(3, 2), dtype=int32, numpy=\n",
              " array([[2, 4],\n",
              "        [3, 5],\n",
              "        [4, 6]], dtype=int32)>,\n",
              " <tf.Tensor: shape=(3, 2), dtype=int32, numpy=\n",
              " array([[2, 3],\n",
              "        [1, 1],\n",
              "        [4, 8]], dtype=int32)>)"
            ]
          },
          "metadata": {},
          "execution_count": 93
        }
      ]
    },
    {
      "cell_type": "code",
      "source": [
        "#Try to multiply matrix of the same shape\n",
        "tf.multiply(X, Y)"
      ],
      "metadata": {
        "id": "E1cc9UTB2ZYP",
        "colab": {
          "base_uri": "https://localhost:8080/"
        },
        "outputId": "067ac62d-5045-4f49-e88f-3c080d4e1956"
      },
      "execution_count": 96,
      "outputs": [
        {
          "output_type": "execute_result",
          "data": {
            "text/plain": [
              "<tf.Tensor: shape=(3, 2), dtype=int32, numpy=\n",
              "array([[ 4, 12],\n",
              "       [ 3,  5],\n",
              "       [16, 48]], dtype=int32)>"
            ]
          },
          "metadata": {},
          "execution_count": 96
        }
      ]
    },
    {
      "cell_type": "code",
      "source": [
        "#change Y SHAPE\n",
        "tf.reshape(Y,shape=(2, 3))"
      ],
      "metadata": {
        "id": "Eh5sd1Vs2o-x",
        "colab": {
          "base_uri": "https://localhost:8080/"
        },
        "outputId": "a4abb6c3-1f5a-414a-ca31-4ff63a26b9f0"
      },
      "execution_count": 97,
      "outputs": [
        {
          "output_type": "execute_result",
          "data": {
            "text/plain": [
              "<tf.Tensor: shape=(2, 3), dtype=int32, numpy=\n",
              "array([[2, 3, 1],\n",
              "       [1, 4, 8]], dtype=int32)>"
            ]
          },
          "metadata": {},
          "execution_count": 97
        }
      ]
    },
    {
      "cell_type": "code",
      "source": [
        "X @ tf.reshape(Y, shape=(2, 3))"
      ],
      "metadata": {
        "id": "C1Kn1cGFBZFh",
        "colab": {
          "base_uri": "https://localhost:8080/"
        },
        "outputId": "c2af988a-3c59-4750-e3a3-531a174a0484"
      },
      "execution_count": 98,
      "outputs": [
        {
          "output_type": "execute_result",
          "data": {
            "text/plain": [
              "<tf.Tensor: shape=(3, 3), dtype=int32, numpy=\n",
              "array([[ 8, 22, 34],\n",
              "       [11, 29, 43],\n",
              "       [14, 36, 52]], dtype=int32)>"
            ]
          },
          "metadata": {},
          "execution_count": 98
        }
      ]
    },
    {
      "cell_type": "code",
      "source": [
        "tf.matmul(X, tf.reshape(Y,shape=(2,3)))"
      ],
      "metadata": {
        "id": "EqGbO2MeB8R5",
        "colab": {
          "base_uri": "https://localhost:8080/"
        },
        "outputId": "621b9781-29b1-4be2-9769-98d0a4261228"
      },
      "execution_count": 99,
      "outputs": [
        {
          "output_type": "execute_result",
          "data": {
            "text/plain": [
              "<tf.Tensor: shape=(3, 3), dtype=int32, numpy=\n",
              "array([[ 8, 22, 34],\n",
              "       [11, 29, 43],\n",
              "       [14, 36, 52]], dtype=int32)>"
            ]
          },
          "metadata": {},
          "execution_count": 99
        }
      ]
    },
    {
      "cell_type": "code",
      "source": [
        "tf.matmul(tf.reshape(X, shape=(2,3)),Y)"
      ],
      "metadata": {
        "id": "9vM7rUr_D07q",
        "colab": {
          "base_uri": "https://localhost:8080/"
        },
        "outputId": "b3e9d16f-f883-470b-ebeb-8444faeb89a3"
      },
      "execution_count": 100,
      "outputs": [
        {
          "output_type": "execute_result",
          "data": {
            "text/plain": [
              "<tf.Tensor: shape=(2, 2), dtype=int32, numpy=\n",
              "array([[20, 34],\n",
              "       [38, 67]], dtype=int32)>"
            ]
          },
          "metadata": {},
          "execution_count": 100
        }
      ]
    },
    {
      "cell_type": "code",
      "source": [
        "X, tf.transpose(X),tf.reshape(X,shape=(2,3))"
      ],
      "metadata": {
        "id": "k5COIouGEs0Z",
        "colab": {
          "base_uri": "https://localhost:8080/"
        },
        "outputId": "a3fc456d-6a66-4831-ad8b-4fd760fa28e7"
      },
      "execution_count": 101,
      "outputs": [
        {
          "output_type": "execute_result",
          "data": {
            "text/plain": [
              "(<tf.Tensor: shape=(3, 2), dtype=int32, numpy=\n",
              " array([[2, 4],\n",
              "        [3, 5],\n",
              "        [4, 6]], dtype=int32)>,\n",
              " <tf.Tensor: shape=(2, 3), dtype=int32, numpy=\n",
              " array([[2, 3, 4],\n",
              "        [4, 5, 6]], dtype=int32)>,\n",
              " <tf.Tensor: shape=(2, 3), dtype=int32, numpy=\n",
              " array([[2, 4, 3],\n",
              "        [5, 4, 6]], dtype=int32)>)"
            ]
          },
          "metadata": {},
          "execution_count": 101
        }
      ]
    },
    {
      "cell_type": "code",
      "source": [
        "#Try matrix multiplication rather than reshape\n",
        "tf.matmul(tf.transpose(X),Y)"
      ],
      "metadata": {
        "id": "WPcIih4yFGF5",
        "colab": {
          "base_uri": "https://localhost:8080/"
        },
        "outputId": "dead1822-41b3-4a01-8f5a-387312488308"
      },
      "execution_count": 102,
      "outputs": [
        {
          "output_type": "execute_result",
          "data": {
            "text/plain": [
              "<tf.Tensor: shape=(2, 2), dtype=int32, numpy=\n",
              "array([[23, 41],\n",
              "       [37, 65]], dtype=int32)>"
            ]
          },
          "metadata": {},
          "execution_count": 102
        }
      ]
    }
  ]
}