{
  "nbformat": 4,
  "nbformat_minor": 0,
  "metadata": {
    "colab": {
      "provenance": [],
      "authorship_tag": "ABX9TyMegJski+NkAHVnbWCio+j+",
      "include_colab_link": true
    },
    "kernelspec": {
      "name": "python3",
      "display_name": "Python 3"
    },
    "language_info": {
      "name": "python"
    }
  },
  "cells": [
    {
      "cell_type": "markdown",
      "metadata": {
        "id": "view-in-github",
        "colab_type": "text"
      },
      "source": [
        "<a href=\"https://colab.research.google.com/github/haligene109/Eugen/blob/main/regression_DAT7001.ipynb\" target=\"_parent\"><img src=\"https://colab.research.google.com/assets/colab-badge.svg\" alt=\"Open In Colab\"/></a>"
      ]
    },
    {
      "cell_type": "code",
      "execution_count": 88,
      "metadata": {
        "id": "KOen9KbvE9wK"
      },
      "outputs": [],
      "source": [
        "import tensorflow as tf\n",
        "import numpy as np\n",
        "import matplotlib.pyplot as plt"
      ]
    },
    {
      "cell_type": "code",
      "source": [
        "X = tf.constant([-7.0, -4.0, -1.0, 2.0, 5.0, 8.0, 11.0, 14.0])\n",
        "\n",
        "# Create labels (using tensors)\n",
        "y = tf.constant([3.0, 6.0, 9.0, 12.0, 15.0, 18.0, 21.0, 24.0])"
      ],
      "metadata": {
        "id": "1MSVPrL4FaG9"
      },
      "execution_count": 196,
      "outputs": []
    },
    {
      "cell_type": "markdown",
      "source": [
        "##        ***Steps in modelling with TensorFlow***\n",
        "\n",
        "1.**Creating a model**\n",
        "- define the input and output layers, as well as hidden layers of a deep learnig model\n",
        "2. **Compiling a model**\n",
        "- define the loss function (in other words, the function  which tells our model how wrong it is) and the optimizer (tells our model how to improve the patters it is learning) and evaluation metrics (what we can use to interpret the performance of our model).\n",
        "3. **Fitting a model**\n",
        "- letting the model try to find patterns between x and y (features and labels)"
      ],
      "metadata": {
        "id": "BpcxVLySlj4l"
      }
    },
    {
      "cell_type": "code",
      "source": [
        "tf.random.set_seed(42) # sets random seed\n",
        "\n",
        "# Create a model using the Sequential API \"Please make sense of details of sequential model\": https://www.tensorflow.org/guide/keras/sequential_model\n",
        "model = tf.keras.Sequential([\n",
        "  tf.keras.layers.Dense(1)\n",
        "])\n",
        "\n",
        "# Compile the model\n",
        "model.compile(loss=tf.keras.losses.mae, # mae is short for mean absolute error\n",
        "              optimizer=tf.keras.optimizers.SGD(), # SGD is short for stochastic gradient descent\n",
        "              metrics=[\"mae\"])\n",
        "\n",
        "# Fit the model\n",
        "# model.fit(X, y, epochs=5) # this will break with TensorFlow 2.7.0+\n",
        "model.fit(tf.expand_dims(X, axis=-1), y, epochs=5)"
      ],
      "metadata": {
        "colab": {
          "base_uri": "https://localhost:8080/"
        },
        "id": "qXn0sZVbPjvg",
        "outputId": "78e9c032-a9c4-4781-9830-6b9301ca28ae"
      },
      "execution_count": 198,
      "outputs": [
        {
          "output_type": "stream",
          "name": "stdout",
          "text": [
            "Epoch 1/5\n",
            "1/1 [==============================] - 0s 366ms/step - loss: 15.6926 - mae: 15.6926\n",
            "Epoch 2/5\n",
            "1/1 [==============================] - 0s 10ms/step - loss: 15.4114 - mae: 15.4114\n",
            "Epoch 3/5\n",
            "1/1 [==============================] - 0s 11ms/step - loss: 15.1301 - mae: 15.1301\n",
            "Epoch 4/5\n",
            "1/1 [==============================] - 0s 9ms/step - loss: 14.8880 - mae: 14.8880\n",
            "Epoch 5/5\n",
            "1/1 [==============================] - 0s 10ms/step - loss: 14.7555 - mae: 14.7555\n"
          ]
        },
        {
          "output_type": "execute_result",
          "data": {
            "text/plain": [
              "<keras.src.callbacks.History at 0x7d7e41cccb50>"
            ]
          },
          "metadata": {},
          "execution_count": 198
        }
      ]
    },
    {
      "cell_type": "markdown",
      "source": [
        "Use the model\n",
        "* In this case the regression model does a prediction tasks"
      ],
      "metadata": {
        "id": "fsVjsfxQmLU6"
      }
    },
    {
      "cell_type": "code",
      "source": [
        "model.predict([17])"
      ],
      "metadata": {
        "colab": {
          "base_uri": "https://localhost:8080/"
        },
        "id": "CHxZFqBbmJjU",
        "outputId": "84ec1053-cb55-4115-f2c2-397a0292790e"
      },
      "execution_count": 200,
      "outputs": [
        {
          "output_type": "stream",
          "name": "stdout",
          "text": [
            "1/1 [==============================] - 0s 160ms/step\n"
          ]
        },
        {
          "output_type": "execute_result",
          "data": {
            "text/plain": [
              "array([[ 5.878166 , 18.877726 , 23.367558 , -1.2026782, 18.49443  ]],\n",
              "      dtype=float32)"
            ]
          },
          "metadata": {},
          "execution_count": 200
        }
      ]
    },
    {
      "cell_type": "markdown",
      "source": [
        "## Improving our model\n",
        "\n",
        "We can i mprove our model, by altering the steps we took to create a model:\n",
        "\n",
        "1. **Creating a model** - here, we might add more layers, increase the number of hidden units (all called neurons) within  each of the hidden layers, change the activation function of each layer.\n",
        "\n",
        "2. ** Compiling a model** - here we might change the optimization  function or perhaps the **learning rate** of the optimization function.\n",
        "\n",
        "3. *Fitting a model** - ere, we might fit a model for more *epochs* (leave it training for longer) or on more data (give the model more examples to learn from)\n",
        "\n"
      ],
      "metadata": {
        "id": "Eb25DRvpP4xW"
      }
    },
    {
      "cell_type": "code",
      "source": [
        "# Let's recreate the model\n",
        "# 1. create the model\n",
        "model=tf.keras.Sequential([tf.keras.layers.Dense(5)])\n",
        "# 2. Compile the model\n",
        "model.compile(loss=tf.keras.losses.mae,optimizer=tf.keras.optimizers.SGD(),metrics=[\"mae\"])\n",
        "# 3. fIT THE MODEL (This time we will train for longer)\n",
        "model.fit(tf.expand_dims(X,axis=-1),y,epochs=100)\n"
      ],
      "metadata": {
        "colab": {
          "base_uri": "https://localhost:8080/"
        },
        "id": "Dsv0mZgQd0qc",
        "outputId": "7d8be94c-18dc-4ee4-86e7-6a865ab7868f"
      },
      "execution_count": 199,
      "outputs": [
        {
          "output_type": "stream",
          "name": "stdout",
          "text": [
            "Epoch 1/100\n",
            "1/1 [==============================] - 0s 335ms/step - loss: 13.6146 - mae: 13.6146\n",
            "Epoch 2/100\n",
            "1/1 [==============================] - 0s 11ms/step - loss: 13.5822 - mae: 13.5822\n",
            "Epoch 3/100\n",
            "1/1 [==============================] - 0s 14ms/step - loss: 13.5497 - mae: 13.5497\n",
            "Epoch 4/100\n",
            "1/1 [==============================] - 0s 13ms/step - loss: 13.5173 - mae: 13.5173\n",
            "Epoch 5/100\n",
            "1/1 [==============================] - 0s 11ms/step - loss: 13.4848 - mae: 13.4848\n",
            "Epoch 6/100\n",
            "1/1 [==============================] - 0s 10ms/step - loss: 13.4524 - mae: 13.4524\n",
            "Epoch 7/100\n",
            "1/1 [==============================] - 0s 11ms/step - loss: 13.4199 - mae: 13.4199\n",
            "Epoch 8/100\n",
            "1/1 [==============================] - 0s 17ms/step - loss: 13.3875 - mae: 13.3875\n",
            "Epoch 9/100\n",
            "1/1 [==============================] - 0s 14ms/step - loss: 13.3550 - mae: 13.3550\n",
            "Epoch 10/100\n",
            "1/1 [==============================] - 0s 13ms/step - loss: 13.3226 - mae: 13.3226\n",
            "Epoch 11/100\n",
            "1/1 [==============================] - 0s 11ms/step - loss: 13.2901 - mae: 13.2901\n",
            "Epoch 12/100\n",
            "1/1 [==============================] - 0s 11ms/step - loss: 13.2577 - mae: 13.2577\n",
            "Epoch 13/100\n",
            "1/1 [==============================] - 0s 11ms/step - loss: 13.2252 - mae: 13.2252\n",
            "Epoch 14/100\n",
            "1/1 [==============================] - 0s 11ms/step - loss: 13.1928 - mae: 13.1928\n",
            "Epoch 15/100\n",
            "1/1 [==============================] - 0s 11ms/step - loss: 13.1603 - mae: 13.1603\n",
            "Epoch 16/100\n",
            "1/1 [==============================] - 0s 13ms/step - loss: 13.1279 - mae: 13.1279\n",
            "Epoch 17/100\n",
            "1/1 [==============================] - 0s 12ms/step - loss: 13.0954 - mae: 13.0954\n",
            "Epoch 18/100\n",
            "1/1 [==============================] - 0s 10ms/step - loss: 13.0630 - mae: 13.0630\n",
            "Epoch 19/100\n",
            "1/1 [==============================] - 0s 10ms/step - loss: 13.0305 - mae: 13.0305\n",
            "Epoch 20/100\n",
            "1/1 [==============================] - 0s 12ms/step - loss: 12.9981 - mae: 12.9981\n",
            "Epoch 21/100\n",
            "1/1 [==============================] - 0s 8ms/step - loss: 12.9656 - mae: 12.9656\n",
            "Epoch 22/100\n",
            "1/1 [==============================] - 0s 12ms/step - loss: 12.9332 - mae: 12.9332\n",
            "Epoch 23/100\n",
            "1/1 [==============================] - 0s 11ms/step - loss: 12.9007 - mae: 12.9007\n",
            "Epoch 24/100\n",
            "1/1 [==============================] - 0s 10ms/step - loss: 12.8683 - mae: 12.8683\n",
            "Epoch 25/100\n",
            "1/1 [==============================] - 0s 14ms/step - loss: 12.8358 - mae: 12.8358\n",
            "Epoch 26/100\n",
            "1/1 [==============================] - 0s 9ms/step - loss: 12.8034 - mae: 12.8034\n",
            "Epoch 27/100\n",
            "1/1 [==============================] - 0s 10ms/step - loss: 12.7709 - mae: 12.7709\n",
            "Epoch 28/100\n",
            "1/1 [==============================] - 0s 11ms/step - loss: 12.7385 - mae: 12.7385\n",
            "Epoch 29/100\n",
            "1/1 [==============================] - 0s 9ms/step - loss: 12.7060 - mae: 12.7060\n",
            "Epoch 30/100\n",
            "1/1 [==============================] - 0s 10ms/step - loss: 12.6736 - mae: 12.6736\n",
            "Epoch 31/100\n",
            "1/1 [==============================] - 0s 13ms/step - loss: 12.6411 - mae: 12.6411\n",
            "Epoch 32/100\n",
            "1/1 [==============================] - 0s 9ms/step - loss: 12.6087 - mae: 12.6087\n",
            "Epoch 33/100\n",
            "1/1 [==============================] - 0s 10ms/step - loss: 12.5762 - mae: 12.5762\n",
            "Epoch 34/100\n",
            "1/1 [==============================] - 0s 11ms/step - loss: 12.5438 - mae: 12.5438\n",
            "Epoch 35/100\n",
            "1/1 [==============================] - 0s 12ms/step - loss: 12.5113 - mae: 12.5113\n",
            "Epoch 36/100\n",
            "1/1 [==============================] - 0s 12ms/step - loss: 12.4789 - mae: 12.4789\n",
            "Epoch 37/100\n",
            "1/1 [==============================] - 0s 11ms/step - loss: 12.4464 - mae: 12.4464\n",
            "Epoch 38/100\n",
            "1/1 [==============================] - 0s 11ms/step - loss: 12.4140 - mae: 12.4140\n",
            "Epoch 39/100\n",
            "1/1 [==============================] - 0s 11ms/step - loss: 12.3815 - mae: 12.3815\n",
            "Epoch 40/100\n",
            "1/1 [==============================] - 0s 11ms/step - loss: 12.3491 - mae: 12.3491\n",
            "Epoch 41/100\n",
            "1/1 [==============================] - 0s 11ms/step - loss: 12.3166 - mae: 12.3166\n",
            "Epoch 42/100\n",
            "1/1 [==============================] - 0s 13ms/step - loss: 12.2842 - mae: 12.2842\n",
            "Epoch 43/100\n",
            "1/1 [==============================] - 0s 14ms/step - loss: 12.2517 - mae: 12.2517\n",
            "Epoch 44/100\n",
            "1/1 [==============================] - 0s 11ms/step - loss: 12.2193 - mae: 12.2193\n",
            "Epoch 45/100\n",
            "1/1 [==============================] - 0s 10ms/step - loss: 12.1868 - mae: 12.1868\n",
            "Epoch 46/100\n",
            "1/1 [==============================] - 0s 9ms/step - loss: 12.1544 - mae: 12.1544\n",
            "Epoch 47/100\n",
            "1/1 [==============================] - 0s 10ms/step - loss: 12.1219 - mae: 12.1219\n",
            "Epoch 48/100\n",
            "1/1 [==============================] - 0s 10ms/step - loss: 12.0895 - mae: 12.0895\n",
            "Epoch 49/100\n",
            "1/1 [==============================] - 0s 11ms/step - loss: 12.0570 - mae: 12.0570\n",
            "Epoch 50/100\n",
            "1/1 [==============================] - 0s 10ms/step - loss: 12.0246 - mae: 12.0246\n",
            "Epoch 51/100\n",
            "1/1 [==============================] - 0s 16ms/step - loss: 11.9921 - mae: 11.9921\n",
            "Epoch 52/100\n",
            "1/1 [==============================] - 0s 15ms/step - loss: 11.9597 - mae: 11.9597\n",
            "Epoch 53/100\n",
            "1/1 [==============================] - 0s 10ms/step - loss: 11.9272 - mae: 11.9272\n",
            "Epoch 54/100\n",
            "1/1 [==============================] - 0s 14ms/step - loss: 11.8973 - mae: 11.8973\n",
            "Epoch 55/100\n",
            "1/1 [==============================] - 0s 11ms/step - loss: 11.8708 - mae: 11.8708\n",
            "Epoch 56/100\n",
            "1/1 [==============================] - 0s 11ms/step - loss: 11.8443 - mae: 11.8443\n",
            "Epoch 57/100\n",
            "1/1 [==============================] - 0s 11ms/step - loss: 11.8178 - mae: 11.8178\n",
            "Epoch 58/100\n",
            "1/1 [==============================] - 0s 15ms/step - loss: 11.7913 - mae: 11.7913\n",
            "Epoch 59/100\n",
            "1/1 [==============================] - 0s 14ms/step - loss: 11.7648 - mae: 11.7648\n",
            "Epoch 60/100\n",
            "1/1 [==============================] - 0s 15ms/step - loss: 11.7383 - mae: 11.7383\n",
            "Epoch 61/100\n",
            "1/1 [==============================] - 0s 14ms/step - loss: 11.7118 - mae: 11.7118\n",
            "Epoch 62/100\n",
            "1/1 [==============================] - 0s 10ms/step - loss: 11.6853 - mae: 11.6853\n",
            "Epoch 63/100\n",
            "1/1 [==============================] - 0s 10ms/step - loss: 11.6588 - mae: 11.6588\n",
            "Epoch 64/100\n",
            "1/1 [==============================] - 0s 11ms/step - loss: 11.6323 - mae: 11.6323\n",
            "Epoch 65/100\n",
            "1/1 [==============================] - 0s 10ms/step - loss: 11.6058 - mae: 11.6058\n",
            "Epoch 66/100\n",
            "1/1 [==============================] - 0s 10ms/step - loss: 11.5793 - mae: 11.5793\n",
            "Epoch 67/100\n",
            "1/1 [==============================] - 0s 10ms/step - loss: 11.5528 - mae: 11.5528\n",
            "Epoch 68/100\n",
            "1/1 [==============================] - 0s 11ms/step - loss: 11.5263 - mae: 11.5263\n",
            "Epoch 69/100\n",
            "1/1 [==============================] - 0s 10ms/step - loss: 11.4998 - mae: 11.4998\n",
            "Epoch 70/100\n",
            "1/1 [==============================] - 0s 10ms/step - loss: 11.4733 - mae: 11.4733\n",
            "Epoch 71/100\n",
            "1/1 [==============================] - 0s 10ms/step - loss: 11.4468 - mae: 11.4468\n",
            "Epoch 72/100\n",
            "1/1 [==============================] - 0s 13ms/step - loss: 11.4203 - mae: 11.4203\n",
            "Epoch 73/100\n",
            "1/1 [==============================] - 0s 12ms/step - loss: 11.3938 - mae: 11.3938\n",
            "Epoch 74/100\n",
            "1/1 [==============================] - 0s 11ms/step - loss: 11.3673 - mae: 11.3673\n",
            "Epoch 75/100\n",
            "1/1 [==============================] - 0s 11ms/step - loss: 11.3408 - mae: 11.3408\n",
            "Epoch 76/100\n",
            "1/1 [==============================] - 0s 11ms/step - loss: 11.3143 - mae: 11.3143\n",
            "Epoch 77/100\n",
            "1/1 [==============================] - 0s 10ms/step - loss: 11.2878 - mae: 11.2878\n",
            "Epoch 78/100\n",
            "1/1 [==============================] - 0s 10ms/step - loss: 11.2613 - mae: 11.2613\n",
            "Epoch 79/100\n",
            "1/1 [==============================] - 0s 10ms/step - loss: 11.2348 - mae: 11.2348\n",
            "Epoch 80/100\n",
            "1/1 [==============================] - 0s 15ms/step - loss: 11.2083 - mae: 11.2083\n",
            "Epoch 81/100\n",
            "1/1 [==============================] - 0s 12ms/step - loss: 11.1818 - mae: 11.1818\n",
            "Epoch 82/100\n",
            "1/1 [==============================] - 0s 11ms/step - loss: 11.1553 - mae: 11.1553\n",
            "Epoch 83/100\n",
            "1/1 [==============================] - 0s 11ms/step - loss: 11.1288 - mae: 11.1288\n",
            "Epoch 84/100\n",
            "1/1 [==============================] - 0s 10ms/step - loss: 11.1023 - mae: 11.1023\n",
            "Epoch 85/100\n",
            "1/1 [==============================] - 0s 10ms/step - loss: 11.0758 - mae: 11.0758\n",
            "Epoch 86/100\n",
            "1/1 [==============================] - 0s 10ms/step - loss: 11.0493 - mae: 11.0493\n",
            "Epoch 87/100\n",
            "1/1 [==============================] - 0s 10ms/step - loss: 11.0228 - mae: 11.0228\n",
            "Epoch 88/100\n",
            "1/1 [==============================] - 0s 9ms/step - loss: 10.9963 - mae: 10.9963\n",
            "Epoch 89/100\n",
            "1/1 [==============================] - 0s 10ms/step - loss: 10.9698 - mae: 10.9698\n",
            "Epoch 90/100\n",
            "1/1 [==============================] - 0s 10ms/step - loss: 10.9433 - mae: 10.9433\n",
            "Epoch 91/100\n",
            "1/1 [==============================] - 0s 10ms/step - loss: 10.9168 - mae: 10.9168\n",
            "Epoch 92/100\n",
            "1/1 [==============================] - 0s 10ms/step - loss: 10.8903 - mae: 10.8903\n",
            "Epoch 93/100\n",
            "1/1 [==============================] - 0s 10ms/step - loss: 10.8638 - mae: 10.8638\n",
            "Epoch 94/100\n",
            "1/1 [==============================] - 0s 10ms/step - loss: 10.8373 - mae: 10.8373\n",
            "Epoch 95/100\n",
            "1/1 [==============================] - 0s 12ms/step - loss: 10.8108 - mae: 10.8108\n",
            "Epoch 96/100\n",
            "1/1 [==============================] - 0s 11ms/step - loss: 10.7843 - mae: 10.7843\n",
            "Epoch 97/100\n",
            "1/1 [==============================] - 0s 9ms/step - loss: 10.7578 - mae: 10.7578\n",
            "Epoch 98/100\n",
            "1/1 [==============================] - 0s 8ms/step - loss: 10.7313 - mae: 10.7313\n",
            "Epoch 99/100\n",
            "1/1 [==============================] - 0s 9ms/step - loss: 10.7048 - mae: 10.7048\n",
            "Epoch 100/100\n",
            "1/1 [==============================] - 0s 10ms/step - loss: 10.6783 - mae: 10.6783\n"
          ]
        },
        {
          "output_type": "execute_result",
          "data": {
            "text/plain": [
              "<keras.src.callbacks.History at 0x7d7e32ffb9d0>"
            ]
          },
          "metadata": {},
          "execution_count": 199
        }
      ]
    },
    {
      "cell_type": "code",
      "source": [
        "X,y"
      ],
      "metadata": {
        "colab": {
          "base_uri": "https://localhost:8080/"
        },
        "id": "vLp4f5eHg8V-",
        "outputId": "c25a3df3-1789-4f29-e0ea-e93bb7ff2843"
      },
      "execution_count": 93,
      "outputs": [
        {
          "output_type": "execute_result",
          "data": {
            "text/plain": [
              "(<tf.Tensor: shape=(8,), dtype=float32, numpy=array([-7., -4., -1.,  2.,  5.,  8., 11., 14.], dtype=float32)>,\n",
              " <tf.Tensor: shape=(8,), dtype=float32, numpy=array([ 3.,  6.,  9., 12., 15., 18., 21., 24.], dtype=float32)>)"
            ]
          },
          "metadata": {},
          "execution_count": 93
        }
      ]
    },
    {
      "cell_type": "code",
      "source": [
        "# Use the model to predict\n",
        "model.predict([20])"
      ],
      "metadata": {
        "colab": {
          "base_uri": "https://localhost:8080/"
        },
        "id": "THUCwFx3m3B4",
        "outputId": "c005f13e-ef37-4bff-c4ed-ce8419155100"
      },
      "execution_count": 94,
      "outputs": [
        {
          "output_type": "stream",
          "name": "stdout",
          "text": [
            "1/1 [==============================] - 0s 60ms/step\n"
          ]
        },
        {
          "output_type": "execute_result",
          "data": {
            "text/plain": [
              "array([[18.402037 , 15.271384 , -1.6835773,  6.600383 , 16.868607 ]],\n",
              "      dtype=float32)"
            ]
          },
          "metadata": {},
          "execution_count": 94
        }
      ]
    },
    {
      "cell_type": "code",
      "source": [
        "# Let's see if we can improve the model\n",
        "# 1. Create the model (this time with 100 hidden units)\n",
        "model = tf.keras.Sequential([tf.keras.layers.Dense(50, activation=None), tf.keras.layers.Dense(1)])\n",
        "\n",
        "# 2. compile the model\n",
        "model.compile(loss=\"mae\",optimizer=tf.keras.optimizers.Adam(learning_rate=0.01),metrics=[\"mae\"])\n",
        "\n",
        "# 3. Fit the model\n",
        "#model.fit(X,y,epochs=100)\n",
        "model.fit(tf.expand_dims(X,axis=-1),y,epochs=100)\n",
        "\n",
        "\n"
      ],
      "metadata": {
        "colab": {
          "base_uri": "https://localhost:8080/"
        },
        "id": "c6fufpidnKVu",
        "outputId": "4870896e-0029-4197-a597-0f25609b1fad"
      },
      "execution_count": 95,
      "outputs": [
        {
          "output_type": "stream",
          "name": "stdout",
          "text": [
            "Epoch 1/100\n",
            "1/1 [==============================] - 1s 738ms/step - loss: 12.9355 - mae: 12.9355\n",
            "Epoch 2/100\n",
            "1/1 [==============================] - 0s 10ms/step - loss: 12.2152 - mae: 12.2152\n",
            "Epoch 3/100\n",
            "1/1 [==============================] - 0s 12ms/step - loss: 11.4897 - mae: 11.4897\n",
            "Epoch 4/100\n",
            "1/1 [==============================] - 0s 13ms/step - loss: 10.7581 - mae: 10.7581\n",
            "Epoch 5/100\n",
            "1/1 [==============================] - 0s 10ms/step - loss: 10.0181 - mae: 10.0181\n",
            "Epoch 6/100\n",
            "1/1 [==============================] - 0s 12ms/step - loss: 9.2670 - mae: 9.2670\n",
            "Epoch 7/100\n",
            "1/1 [==============================] - 0s 13ms/step - loss: 8.5026 - mae: 8.5026\n",
            "Epoch 8/100\n",
            "1/1 [==============================] - 0s 10ms/step - loss: 7.7226 - mae: 7.7226\n",
            "Epoch 9/100\n",
            "1/1 [==============================] - 0s 9ms/step - loss: 6.9247 - mae: 6.9247\n",
            "Epoch 10/100\n",
            "1/1 [==============================] - 0s 8ms/step - loss: 6.7673 - mae: 6.7673\n",
            "Epoch 11/100\n",
            "1/1 [==============================] - 0s 10ms/step - loss: 7.1054 - mae: 7.1054\n",
            "Epoch 12/100\n",
            "1/1 [==============================] - 0s 10ms/step - loss: 7.3196 - mae: 7.3196\n",
            "Epoch 13/100\n",
            "1/1 [==============================] - 0s 9ms/step - loss: 7.5260 - mae: 7.5260\n",
            "Epoch 14/100\n",
            "1/1 [==============================] - 0s 10ms/step - loss: 7.5348 - mae: 7.5348\n",
            "Epoch 15/100\n",
            "1/1 [==============================] - 0s 11ms/step - loss: 7.3610 - mae: 7.3610\n",
            "Epoch 16/100\n",
            "1/1 [==============================] - 0s 11ms/step - loss: 7.0576 - mae: 7.0576\n",
            "Epoch 17/100\n",
            "1/1 [==============================] - 0s 11ms/step - loss: 6.8209 - mae: 6.8209\n",
            "Epoch 18/100\n",
            "1/1 [==============================] - 0s 11ms/step - loss: 6.5611 - mae: 6.5611\n",
            "Epoch 19/100\n",
            "1/1 [==============================] - 0s 14ms/step - loss: 6.2833 - mae: 6.2833\n",
            "Epoch 20/100\n",
            "1/1 [==============================] - 0s 10ms/step - loss: 6.0628 - mae: 6.0628\n",
            "Epoch 21/100\n",
            "1/1 [==============================] - 0s 10ms/step - loss: 6.0072 - mae: 6.0072\n",
            "Epoch 22/100\n",
            "1/1 [==============================] - 0s 13ms/step - loss: 5.9924 - mae: 5.9924\n",
            "Epoch 23/100\n",
            "1/1 [==============================] - 0s 10ms/step - loss: 6.0478 - mae: 6.0478\n",
            "Epoch 24/100\n",
            "1/1 [==============================] - 0s 10ms/step - loss: 6.0006 - mae: 6.0006\n",
            "Epoch 25/100\n",
            "1/1 [==============================] - 0s 10ms/step - loss: 5.8634 - mae: 5.8634\n",
            "Epoch 26/100\n",
            "1/1 [==============================] - 0s 10ms/step - loss: 5.6458 - mae: 5.6458\n",
            "Epoch 27/100\n",
            "1/1 [==============================] - 0s 10ms/step - loss: 5.5122 - mae: 5.5122\n",
            "Epoch 28/100\n",
            "1/1 [==============================] - 0s 10ms/step - loss: 5.4047 - mae: 5.4047\n",
            "Epoch 29/100\n",
            "1/1 [==============================] - 0s 9ms/step - loss: 5.3167 - mae: 5.3167\n",
            "Epoch 30/100\n",
            "1/1 [==============================] - 0s 12ms/step - loss: 5.3005 - mae: 5.3005\n",
            "Epoch 31/100\n",
            "1/1 [==============================] - 0s 10ms/step - loss: 5.2385 - mae: 5.2385\n",
            "Epoch 32/100\n",
            "1/1 [==============================] - 0s 10ms/step - loss: 5.1345 - mae: 5.1345\n",
            "Epoch 33/100\n",
            "1/1 [==============================] - 0s 10ms/step - loss: 4.9921 - mae: 4.9921\n",
            "Epoch 34/100\n",
            "1/1 [==============================] - 0s 9ms/step - loss: 4.8145 - mae: 4.8145\n",
            "Epoch 35/100\n",
            "1/1 [==============================] - 0s 16ms/step - loss: 4.7003 - mae: 4.7003\n",
            "Epoch 36/100\n",
            "1/1 [==============================] - 0s 10ms/step - loss: 4.6012 - mae: 4.6012\n",
            "Epoch 37/100\n",
            "1/1 [==============================] - 0s 9ms/step - loss: 4.4952 - mae: 4.4952\n",
            "Epoch 38/100\n",
            "1/1 [==============================] - 0s 10ms/step - loss: 4.4253 - mae: 4.4253\n",
            "Epoch 39/100\n",
            "1/1 [==============================] - 0s 10ms/step - loss: 4.2900 - mae: 4.2900\n",
            "Epoch 40/100\n",
            "1/1 [==============================] - 0s 10ms/step - loss: 4.1097 - mae: 4.1097\n",
            "Epoch 41/100\n",
            "1/1 [==============================] - 0s 10ms/step - loss: 3.9596 - mae: 3.9596\n",
            "Epoch 42/100\n",
            "1/1 [==============================] - 0s 9ms/step - loss: 3.8029 - mae: 3.8029\n",
            "Epoch 43/100\n",
            "1/1 [==============================] - 0s 10ms/step - loss: 3.6803 - mae: 3.6803\n",
            "Epoch 44/100\n",
            "1/1 [==============================] - 0s 11ms/step - loss: 3.5583 - mae: 3.5583\n",
            "Epoch 45/100\n",
            "1/1 [==============================] - 0s 11ms/step - loss: 3.3834 - mae: 3.3834\n",
            "Epoch 46/100\n",
            "1/1 [==============================] - 0s 11ms/step - loss: 3.1653 - mae: 3.1653\n",
            "Epoch 47/100\n",
            "1/1 [==============================] - 0s 11ms/step - loss: 2.9996 - mae: 2.9996\n",
            "Epoch 48/100\n",
            "1/1 [==============================] - 0s 12ms/step - loss: 2.8240 - mae: 2.8240\n",
            "Epoch 49/100\n",
            "1/1 [==============================] - 0s 15ms/step - loss: 2.6385 - mae: 2.6385\n",
            "Epoch 50/100\n",
            "1/1 [==============================] - 0s 12ms/step - loss: 2.4428 - mae: 2.4428\n",
            "Epoch 51/100\n",
            "1/1 [==============================] - 0s 10ms/step - loss: 2.2367 - mae: 2.2367\n",
            "Epoch 52/100\n",
            "1/1 [==============================] - 0s 12ms/step - loss: 2.0202 - mae: 2.0202\n",
            "Epoch 53/100\n",
            "1/1 [==============================] - 0s 9ms/step - loss: 1.7930 - mae: 1.7930\n",
            "Epoch 54/100\n",
            "1/1 [==============================] - 0s 10ms/step - loss: 1.5548 - mae: 1.5548\n",
            "Epoch 55/100\n",
            "1/1 [==============================] - 0s 11ms/step - loss: 1.3054 - mae: 1.3054\n",
            "Epoch 56/100\n",
            "1/1 [==============================] - 0s 11ms/step - loss: 1.0446 - mae: 1.0446\n",
            "Epoch 57/100\n",
            "1/1 [==============================] - 0s 10ms/step - loss: 0.8100 - mae: 0.8100\n",
            "Epoch 58/100\n",
            "1/1 [==============================] - 0s 11ms/step - loss: 0.5018 - mae: 0.5018\n",
            "Epoch 59/100\n",
            "1/1 [==============================] - 0s 11ms/step - loss: 0.3629 - mae: 0.3629\n",
            "Epoch 60/100\n",
            "1/1 [==============================] - 0s 14ms/step - loss: 0.2308 - mae: 0.2308\n",
            "Epoch 61/100\n",
            "1/1 [==============================] - 0s 11ms/step - loss: 0.5014 - mae: 0.5014\n",
            "Epoch 62/100\n",
            "1/1 [==============================] - 0s 12ms/step - loss: 0.7691 - mae: 0.7691\n",
            "Epoch 63/100\n",
            "1/1 [==============================] - 0s 11ms/step - loss: 0.7863 - mae: 0.7863\n",
            "Epoch 64/100\n",
            "1/1 [==============================] - 0s 11ms/step - loss: 0.7185 - mae: 0.7185\n",
            "Epoch 65/100\n",
            "1/1 [==============================] - 0s 11ms/step - loss: 0.8522 - mae: 0.8522\n",
            "Epoch 66/100\n",
            "1/1 [==============================] - 0s 11ms/step - loss: 0.7675 - mae: 0.7675\n",
            "Epoch 67/100\n",
            "1/1 [==============================] - 0s 11ms/step - loss: 0.6936 - mae: 0.6936\n",
            "Epoch 68/100\n",
            "1/1 [==============================] - 0s 11ms/step - loss: 0.6105 - mae: 0.6105\n",
            "Epoch 69/100\n",
            "1/1 [==============================] - 0s 10ms/step - loss: 0.5795 - mae: 0.5795\n",
            "Epoch 70/100\n",
            "1/1 [==============================] - 0s 11ms/step - loss: 0.4528 - mae: 0.4528\n",
            "Epoch 71/100\n",
            "1/1 [==============================] - 0s 10ms/step - loss: 0.3144 - mae: 0.3144\n",
            "Epoch 72/100\n",
            "1/1 [==============================] - 0s 10ms/step - loss: 0.1873 - mae: 0.1873\n",
            "Epoch 73/100\n",
            "1/1 [==============================] - 0s 10ms/step - loss: 0.1022 - mae: 0.1022\n",
            "Epoch 74/100\n",
            "1/1 [==============================] - 0s 10ms/step - loss: 0.1843 - mae: 0.1843\n",
            "Epoch 75/100\n",
            "1/1 [==============================] - 0s 10ms/step - loss: 0.3793 - mae: 0.3793\n",
            "Epoch 76/100\n",
            "1/1 [==============================] - 0s 10ms/step - loss: 0.3538 - mae: 0.3538\n",
            "Epoch 77/100\n",
            "1/1 [==============================] - 0s 10ms/step - loss: 0.4014 - mae: 0.4014\n",
            "Epoch 78/100\n",
            "1/1 [==============================] - 0s 11ms/step - loss: 0.4315 - mae: 0.4315\n",
            "Epoch 79/100\n",
            "1/1 [==============================] - 0s 11ms/step - loss: 0.2987 - mae: 0.2987\n",
            "Epoch 80/100\n",
            "1/1 [==============================] - 0s 13ms/step - loss: 0.3627 - mae: 0.3627\n",
            "Epoch 81/100\n",
            "1/1 [==============================] - 0s 10ms/step - loss: 0.3188 - mae: 0.3188\n",
            "Epoch 82/100\n",
            "1/1 [==============================] - 0s 10ms/step - loss: 0.0425 - mae: 0.0425\n",
            "Epoch 83/100\n",
            "1/1 [==============================] - 0s 14ms/step - loss: 0.1242 - mae: 0.1242\n",
            "Epoch 84/100\n",
            "1/1 [==============================] - 0s 11ms/step - loss: 0.2567 - mae: 0.2567\n",
            "Epoch 85/100\n",
            "1/1 [==============================] - 0s 12ms/step - loss: 0.3051 - mae: 0.3051\n",
            "Epoch 86/100\n",
            "1/1 [==============================] - 0s 11ms/step - loss: 0.2044 - mae: 0.2044\n",
            "Epoch 87/100\n",
            "1/1 [==============================] - 0s 10ms/step - loss: 0.3088 - mae: 0.3088\n",
            "Epoch 88/100\n",
            "1/1 [==============================] - 0s 11ms/step - loss: 0.1853 - mae: 0.1853\n",
            "Epoch 89/100\n",
            "1/1 [==============================] - 0s 14ms/step - loss: 0.2286 - mae: 0.2286\n",
            "Epoch 90/100\n",
            "1/1 [==============================] - 0s 11ms/step - loss: 0.2330 - mae: 0.2330\n",
            "Epoch 91/100\n",
            "1/1 [==============================] - 0s 11ms/step - loss: 0.0901 - mae: 0.0901\n",
            "Epoch 92/100\n",
            "1/1 [==============================] - 0s 10ms/step - loss: 0.1620 - mae: 0.1620\n",
            "Epoch 93/100\n",
            "1/1 [==============================] - 0s 10ms/step - loss: 0.0798 - mae: 0.0798\n",
            "Epoch 94/100\n",
            "1/1 [==============================] - 0s 10ms/step - loss: 0.3169 - mae: 0.3169\n",
            "Epoch 95/100\n",
            "1/1 [==============================] - 0s 10ms/step - loss: 0.2744 - mae: 0.2744\n",
            "Epoch 96/100\n",
            "1/1 [==============================] - 0s 10ms/step - loss: 0.0668 - mae: 0.0668\n",
            "Epoch 97/100\n",
            "1/1 [==============================] - 0s 10ms/step - loss: 0.1009 - mae: 0.1009\n",
            "Epoch 98/100\n",
            "1/1 [==============================] - 0s 10ms/step - loss: 0.1635 - mae: 0.1635\n",
            "Epoch 99/100\n",
            "1/1 [==============================] - 0s 10ms/step - loss: 0.1260 - mae: 0.1260\n",
            "Epoch 100/100\n",
            "1/1 [==============================] - 0s 9ms/step - loss: 0.1573 - mae: 0.1573\n"
          ]
        },
        {
          "output_type": "execute_result",
          "data": {
            "text/plain": [
              "<keras.src.callbacks.History at 0x7d7e414d1e40>"
            ]
          },
          "metadata": {},
          "execution_count": 95
        }
      ]
    },
    {
      "cell_type": "code",
      "source": [
        "# let's try to make a prediction\n",
        "model.predict([17])"
      ],
      "metadata": {
        "colab": {
          "base_uri": "https://localhost:8080/"
        },
        "id": "XfuIYud6je_H",
        "outputId": "2038f962-5173-40ad-8fd7-bc1b02b04bd5"
      },
      "execution_count": 96,
      "outputs": [
        {
          "output_type": "stream",
          "name": "stdout",
          "text": [
            "1/1 [==============================] - 0s 68ms/step\n"
          ]
        },
        {
          "output_type": "execute_result",
          "data": {
            "text/plain": [
              "array([[26.687538]], dtype=float32)"
            ]
          },
          "metadata": {},
          "execution_count": 96
        }
      ]
    },
    {
      "cell_type": "markdown",
      "source": [
        "# Common ways to improve a deep model\n",
        "\n",
        "1. Adding layers\n",
        "2. Increase the number of hidden units\n",
        "3. Change the activation functions\n",
        "4. Change the optimisation functions\n",
        "5. Change the learning rate(lr)\n",
        "6. Fitting the model on more data\n",
        "7. Fitting the model for longer(epochs)\n",
        "\n",
        "-----> Because you can alter each of these, they are hyperparameters"
      ],
      "metadata": {
        "id": "N-BUynsFtbmG"
      }
    },
    {
      "cell_type": "markdown",
      "source": [
        "## Evaluating a model\n",
        "\n",
        "In ractice, a typical workflow you'll go through when building neural networks is\n",
        "\"\"\"\n",
        "Building a model --> fit it --> evaluate it --> tweak a model -->fit it -->evaluate it-->tweak a model -->fit it -->evaluate i..\n",
        "\"\"\"\n",
        "\n",
        "When it to evaluation...there are 3 words you should memorize:\n",
        "     \"Visualize,  visualize, visualize\"\n",
        "It's a good idea to visualize:\n",
        "\n",
        "* The data - what data are we working with? What does it look like?\n",
        "* The model itself - what does our model look like?\n",
        "* The training of a model - how does a model perform while it learns?\n",
        "*The prediction of  the model - how do the predictions of a model line up against the ground truth"
      ],
      "metadata": {
        "id": "9qdOibiSucgW"
      }
    },
    {
      "cell_type": "code",
      "source": [
        "# Make a bigger dataset\n",
        "X = tf.range(-100,100,4)"
      ],
      "metadata": {
        "id": "H5nBuZBG0BlW"
      },
      "execution_count": 97,
      "outputs": []
    },
    {
      "cell_type": "code",
      "source": [
        "len(X)"
      ],
      "metadata": {
        "colab": {
          "base_uri": "https://localhost:8080/"
        },
        "id": "hjv6TxLE3Q-f",
        "outputId": "c3513d1a-0871-4b5c-e903-caa85dea799a"
      },
      "execution_count": 98,
      "outputs": [
        {
          "output_type": "execute_result",
          "data": {
            "text/plain": [
              "50"
            ]
          },
          "metadata": {},
          "execution_count": 98
        }
      ]
    },
    {
      "cell_type": "code",
      "source": [
        "# Make the lables for our dataset\n",
        "y = X + 10\n",
        "y"
      ],
      "metadata": {
        "colab": {
          "base_uri": "https://localhost:8080/"
        },
        "id": "KqAX8qN_3SIB",
        "outputId": "e44978e6-075a-4e8d-dca7-ad07d18204d4"
      },
      "execution_count": 99,
      "outputs": [
        {
          "output_type": "execute_result",
          "data": {
            "text/plain": [
              "<tf.Tensor: shape=(50,), dtype=int32, numpy=\n",
              "array([-90, -86, -82, -78, -74, -70, -66, -62, -58, -54, -50, -46, -42,\n",
              "       -38, -34, -30, -26, -22, -18, -14, -10,  -6,  -2,   2,   6,  10,\n",
              "        14,  18,  22,  26,  30,  34,  38,  42,  46,  50,  54,  58,  62,\n",
              "        66,  70,  74,  78,  82,  86,  90,  94,  98, 102, 106], dtype=int32)>"
            ]
          },
          "metadata": {},
          "execution_count": 99
        }
      ]
    },
    {
      "cell_type": "code",
      "source": [
        "#v visualize the dataset\n",
        "plt.scatter(X,y)"
      ],
      "metadata": {
        "colab": {
          "base_uri": "https://localhost:8080/",
          "height": 447
        },
        "id": "zUT1mmjI3haQ",
        "outputId": "8a67f004-0c51-40c8-da66-3379954d5c63"
      },
      "execution_count": 100,
      "outputs": [
        {
          "output_type": "execute_result",
          "data": {
            "text/plain": [
              "<matplotlib.collections.PathCollection at 0x7d7e41546fe0>"
            ]
          },
          "metadata": {},
          "execution_count": 100
        },
        {
          "output_type": "display_data",
          "data": {
            "text/plain": [
              "<Figure size 640x480 with 1 Axes>"
            ],
            "image/png": "[encoded data removed]"
          },
          "metadata": {}
        }
      ]
    },
    {
      "cell_type": "markdown",
      "source": [
        "## The three sets...\n",
        "* Training set - the model learns from this data, which is typically 70 - 80% of the total data you have available\n",
        "* Validation - the model get tunedon this data, which is typically 10-15 of the data available.\n",
        "* Test set - the model gets evaulated on this data to test what has been learned, this is typically 10-15% of the total data available."
      ],
      "metadata": {
        "id": "akoMcd1q3yvz"
      }
    },
    {
      "cell_type": "code",
      "source": [
        "# check how much data set you have\n",
        "\n",
        "len(X)"
      ],
      "metadata": {
        "colab": {
          "base_uri": "https://localhost:8080/"
        },
        "id": "ovrPr6PFXTvR",
        "outputId": "d1e2cf54-5314-44cf-a792-036b70082372"
      },
      "execution_count": 101,
      "outputs": [
        {
          "output_type": "execute_result",
          "data": {
            "text/plain": [
              "50"
            ]
          },
          "metadata": {},
          "execution_count": 101
        }
      ]
    },
    {
      "cell_type": "code",
      "source": [
        "# Split the data into train ans test set\n",
        "X_train = X[:40] # the first 40 samples are allocated for taining( this is 80%)\n",
        "Y_train = y[:40]\n",
        "X_test = X[40:] # The last 10 are testing samles (20% of the data)\n",
        "Y_test = y[40:]"
      ],
      "metadata": {
        "id": "zpphnVZdYBsz"
      },
      "execution_count": 102,
      "outputs": []
    },
    {
      "cell_type": "code",
      "source": [
        "len(X_train), len(X_test)"
      ],
      "metadata": {
        "colab": {
          "base_uri": "https://localhost:8080/"
        },
        "id": "AcTAAOJ3ZQcy",
        "outputId": "347f7bb0-32b2-447b-fdf5-68da4241eb58"
      },
      "execution_count": 103,
      "outputs": [
        {
          "output_type": "execute_result",
          "data": {
            "text/plain": [
              "(40, 10)"
            ]
          },
          "metadata": {},
          "execution_count": 103
        }
      ]
    },
    {
      "cell_type": "code",
      "source": [
        "len(Y_train), len(Y_test)"
      ],
      "metadata": {
        "colab": {
          "base_uri": "https://localhost:8080/"
        },
        "id": "8HQZStXWaG3b",
        "outputId": "875be2a6-47de-4b9f-f4c0-3bd14f2da0d6"
      },
      "execution_count": 104,
      "outputs": [
        {
          "output_type": "execute_result",
          "data": {
            "text/plain": [
              "(40, 10)"
            ]
          },
          "metadata": {},
          "execution_count": 104
        }
      ]
    },
    {
      "cell_type": "markdown",
      "source": [
        "# Visualising the data\n",
        "*We have got the data in training and test sets...let's visualize it"
      ],
      "metadata": {
        "id": "Qp7iqPXuaiGT"
      }
    },
    {
      "cell_type": "code",
      "source": [
        "plt.figure(figsize=(10,7))"
      ],
      "metadata": {
        "colab": {
          "base_uri": "https://localhost:8080/",
          "height": 52
        },
        "id": "HlfbBjH2q0t0",
        "outputId": "f9c68ab0-1fa1-424a-a953-06a15f602659"
      },
      "execution_count": 105,
      "outputs": [
        {
          "output_type": "execute_result",
          "data": {
            "text/plain": [
              "<Figure size 1000x700 with 0 Axes>"
            ]
          },
          "metadata": {},
          "execution_count": 105
        },
        {
          "output_type": "display_data",
          "data": {
            "text/plain": [
              "<Figure size 1000x700 with 0 Axes>"
            ]
          },
          "metadata": {}
        }
      ]
    },
    {
      "cell_type": "code",
      "source": [
        "# Plot training data in blue\n",
        "plt.scatter(X_train,Y_train,c=\"blue\",label=\"Training data\")\n",
        "# plot test data in green\n",
        "plt.scatter(X_test,Y_test,c=\"green\",label=\"Testing data\")\n",
        "# show a legend\n",
        "plt.legend()"
      ],
      "metadata": {
        "colab": {
          "base_uri": "https://localhost:8080/",
          "height": 447
        },
        "id": "cGociKm2rAF_",
        "outputId": "08e6806f-dc9d-4e0b-90ab-c17716e9738a"
      },
      "execution_count": 106,
      "outputs": [
        {
          "output_type": "execute_result",
          "data": {
            "text/plain": [
              "<matplotlib.legend.Legend at 0x7d7e4143bc10>"
            ]
          },
          "metadata": {},
          "execution_count": 106
        },
        {
          "output_type": "display_data",
          "data": {
            "text/plain": [
              "<Figure size 640x480 with 1 Axes>"
            ],
            "image/png": "[encoded data removed]"
          },
          "metadata": {}
        }
      ]
    },
    {
      "cell_type": "code",
      "source": [
        "# Let's have a look at how to build a neural network for our data\n",
        "# 1. Create a model\n",
        "model = tf.keras.Sequential([tf.keras.layers.Dense(1)])\n",
        "\n",
        "#2. Compile the model\n",
        "model.compile(loss=\"mae\",optimizer=tf.keras.optimizers.SGD(),metrics=[\"mae\"])\n",
        "\n",
        "# Test the model\n",
        "model.fit(tf.expand_dims(X_train,axis=-1), Y_train, epochs=100)\n",
        "\n",
        "# visualize the model. We can get an idea about our model before we even learn it.\n",
        "\n",
        "model.summary()"
      ],
      "metadata": {
        "id": "OnVt54Het-5K",
        "colab": {
          "base_uri": "https://localhost:8080/"
        },
        "outputId": "9657b225-1000-4f25-cd4c-f361bf31b5f3"
      },
      "execution_count": 107,
      "outputs": [
        {
          "output_type": "stream",
          "name": "stdout",
          "text": [
            "Epoch 1/100\n",
            "2/2 [==============================] - 0s 8ms/step - loss: 23.3786 - mae: 23.3786\n",
            "Epoch 2/100\n",
            "2/2 [==============================] - 0s 8ms/step - loss: 8.5569 - mae: 8.5569\n",
            "Epoch 3/100\n",
            "2/2 [==============================] - 0s 10ms/step - loss: 13.7401 - mae: 13.7401\n",
            "Epoch 4/100\n",
            "2/2 [==============================] - 0s 7ms/step - loss: 7.5490 - mae: 7.5490\n",
            "Epoch 5/100\n",
            "2/2 [==============================] - 0s 9ms/step - loss: 12.0581 - mae: 12.0581\n",
            "Epoch 6/100\n",
            "2/2 [==============================] - 0s 8ms/step - loss: 9.3265 - mae: 9.3265\n",
            "Epoch 7/100\n",
            "2/2 [==============================] - 0s 9ms/step - loss: 8.4828 - mae: 8.4828\n",
            "Epoch 8/100\n",
            "2/2 [==============================] - 0s 8ms/step - loss: 9.0310 - mae: 9.0310\n",
            "Epoch 9/100\n",
            "2/2 [==============================] - 0s 9ms/step - loss: 18.5436 - mae: 18.5436\n",
            "Epoch 10/100\n",
            "2/2 [==============================] - 0s 7ms/step - loss: 9.9942 - mae: 9.9942\n",
            "Epoch 11/100\n",
            "2/2 [==============================] - 0s 8ms/step - loss: 8.3477 - mae: 8.3477\n",
            "Epoch 12/100\n",
            "2/2 [==============================] - 0s 7ms/step - loss: 10.5666 - mae: 10.5666\n",
            "Epoch 13/100\n",
            "2/2 [==============================] - 0s 7ms/step - loss: 9.7552 - mae: 9.7552\n",
            "Epoch 14/100\n",
            "2/2 [==============================] - 0s 12ms/step - loss: 15.7895 - mae: 15.7895\n",
            "Epoch 15/100\n",
            "2/2 [==============================] - 0s 7ms/step - loss: 11.5724 - mae: 11.5724\n",
            "Epoch 16/100\n",
            "2/2 [==============================] - 0s 8ms/step - loss: 8.4828 - mae: 8.4828\n",
            "Epoch 17/100\n",
            "2/2 [==============================] - 0s 7ms/step - loss: 13.5108 - mae: 13.5108\n",
            "Epoch 18/100\n",
            "2/2 [==============================] - 0s 8ms/step - loss: 11.3096 - mae: 11.3096\n",
            "Epoch 19/100\n",
            "2/2 [==============================] - 0s 9ms/step - loss: 18.0878 - mae: 18.0878\n",
            "Epoch 20/100\n",
            "2/2 [==============================] - 0s 7ms/step - loss: 15.2211 - mae: 15.2211\n",
            "Epoch 21/100\n",
            "2/2 [==============================] - 0s 8ms/step - loss: 11.1631 - mae: 11.1631\n",
            "Epoch 22/100\n",
            "2/2 [==============================] - 0s 8ms/step - loss: 8.2833 - mae: 8.2833\n",
            "Epoch 23/100\n",
            "2/2 [==============================] - 0s 7ms/step - loss: 9.4099 - mae: 9.4099\n",
            "Epoch 24/100\n",
            "2/2 [==============================] - 0s 10ms/step - loss: 7.6871 - mae: 7.6871\n",
            "Epoch 25/100\n",
            "2/2 [==============================] - 0s 9ms/step - loss: 12.9560 - mae: 12.9560\n",
            "Epoch 26/100\n",
            "2/2 [==============================] - 0s 7ms/step - loss: 16.6575 - mae: 16.6575\n",
            "Epoch 27/100\n",
            "2/2 [==============================] - 0s 7ms/step - loss: 13.0355 - mae: 13.0355\n",
            "Epoch 28/100\n",
            "2/2 [==============================] - 0s 7ms/step - loss: 14.0902 - mae: 14.0902\n",
            "Epoch 29/100\n",
            "2/2 [==============================] - 0s 7ms/step - loss: 10.0159 - mae: 10.0159\n",
            "Epoch 30/100\n",
            "2/2 [==============================] - 0s 7ms/step - loss: 16.0983 - mae: 16.0983\n",
            "Epoch 31/100\n",
            "2/2 [==============================] - 0s 7ms/step - loss: 23.8600 - mae: 23.8600\n",
            "Epoch 32/100\n",
            "2/2 [==============================] - 0s 7ms/step - loss: 7.9866 - mae: 7.9866\n",
            "Epoch 33/100\n",
            "2/2 [==============================] - 0s 7ms/step - loss: 9.6998 - mae: 9.6998\n",
            "Epoch 34/100\n",
            "2/2 [==============================] - 0s 8ms/step - loss: 12.0346 - mae: 12.0346\n",
            "Epoch 35/100\n",
            "2/2 [==============================] - 0s 7ms/step - loss: 11.5747 - mae: 11.5747\n",
            "Epoch 36/100\n",
            "2/2 [==============================] - 0s 7ms/step - loss: 12.7929 - mae: 12.7929\n",
            "Epoch 37/100\n",
            "2/2 [==============================] - 0s 10ms/step - loss: 9.4489 - mae: 9.4489\n",
            "Epoch 38/100\n",
            "2/2 [==============================] - 0s 8ms/step - loss: 10.1013 - mae: 10.1013\n",
            "Epoch 39/100\n",
            "2/2 [==============================] - 0s 7ms/step - loss: 10.2004 - mae: 10.2004\n",
            "Epoch 40/100\n",
            "2/2 [==============================] - 0s 7ms/step - loss: 10.9454 - mae: 10.9454\n",
            "Epoch 41/100\n",
            "2/2 [==============================] - 0s 8ms/step - loss: 7.9206 - mae: 7.9206\n",
            "Epoch 42/100\n",
            "2/2 [==============================] - 0s 7ms/step - loss: 10.5793 - mae: 10.5793\n",
            "Epoch 43/100\n",
            "2/2 [==============================] - 0s 7ms/step - loss: 7.2047 - mae: 7.2047\n",
            "Epoch 44/100\n",
            "2/2 [==============================] - 0s 7ms/step - loss: 7.9928 - mae: 7.9928\n",
            "Epoch 45/100\n",
            "2/2 [==============================] - 0s 7ms/step - loss: 9.7859 - mae: 9.7859\n",
            "Epoch 46/100\n",
            "2/2 [==============================] - 0s 7ms/step - loss: 8.8624 - mae: 8.8624\n",
            "Epoch 47/100\n",
            "2/2 [==============================] - 0s 6ms/step - loss: 7.5671 - mae: 7.5671\n",
            "Epoch 48/100\n",
            "2/2 [==============================] - 0s 8ms/step - loss: 8.5678 - mae: 8.5678\n",
            "Epoch 49/100\n",
            "2/2 [==============================] - 0s 7ms/step - loss: 9.9913 - mae: 9.9913\n",
            "Epoch 50/100\n",
            "2/2 [==============================] - 0s 7ms/step - loss: 9.0195 - mae: 9.0195\n",
            "Epoch 51/100\n",
            "2/2 [==============================] - 0s 7ms/step - loss: 10.6610 - mae: 10.6610\n",
            "Epoch 52/100\n",
            "2/2 [==============================] - 0s 8ms/step - loss: 15.2923 - mae: 15.2923\n",
            "Epoch 53/100\n",
            "2/2 [==============================] - 0s 7ms/step - loss: 14.3136 - mae: 14.3136\n",
            "Epoch 54/100\n",
            "2/2 [==============================] - 0s 8ms/step - loss: 21.6107 - mae: 21.6107\n",
            "Epoch 55/100\n",
            "2/2 [==============================] - 0s 7ms/step - loss: 15.9872 - mae: 15.9872\n",
            "Epoch 56/100\n",
            "2/2 [==============================] - 0s 7ms/step - loss: 10.2847 - mae: 10.2847\n",
            "Epoch 57/100\n",
            "2/2 [==============================] - 0s 6ms/step - loss: 9.7610 - mae: 9.7610\n",
            "Epoch 58/100\n",
            "2/2 [==============================] - 0s 7ms/step - loss: 9.0467 - mae: 9.0467\n",
            "Epoch 59/100\n",
            "2/2 [==============================] - 0s 9ms/step - loss: 8.2522 - mae: 8.2522\n",
            "Epoch 60/100\n",
            "2/2 [==============================] - 0s 8ms/step - loss: 9.3487 - mae: 9.3487\n",
            "Epoch 61/100\n",
            "2/2 [==============================] - 0s 11ms/step - loss: 11.1571 - mae: 11.1571\n",
            "Epoch 62/100\n",
            "2/2 [==============================] - 0s 7ms/step - loss: 12.0734 - mae: 12.0734\n",
            "Epoch 63/100\n",
            "2/2 [==============================] - 0s 7ms/step - loss: 7.2635 - mae: 7.2635\n",
            "Epoch 64/100\n",
            "2/2 [==============================] - 0s 7ms/step - loss: 12.4250 - mae: 12.4250\n",
            "Epoch 65/100\n",
            "2/2 [==============================] - 0s 8ms/step - loss: 10.4930 - mae: 10.4930\n",
            "Epoch 66/100\n",
            "2/2 [==============================] - 0s 7ms/step - loss: 15.6066 - mae: 15.6066\n",
            "Epoch 67/100\n",
            "2/2 [==============================] - 0s 8ms/step - loss: 10.0069 - mae: 10.0069\n",
            "Epoch 68/100\n",
            "2/2 [==============================] - 0s 7ms/step - loss: 8.7161 - mae: 8.7161\n",
            "Epoch 69/100\n",
            "2/2 [==============================] - 0s 8ms/step - loss: 13.4830 - mae: 13.4830\n",
            "Epoch 70/100\n",
            "2/2 [==============================] - 0s 9ms/step - loss: 7.4624 - mae: 7.4624\n",
            "Epoch 71/100\n",
            "2/2 [==============================] - 0s 7ms/step - loss: 12.2199 - mae: 12.2199\n",
            "Epoch 72/100\n",
            "2/2 [==============================] - 0s 8ms/step - loss: 8.5272 - mae: 8.5272\n",
            "Epoch 73/100\n",
            "2/2 [==============================] - 0s 10ms/step - loss: 7.0330 - mae: 7.0330\n",
            "Epoch 74/100\n",
            "2/2 [==============================] - 0s 7ms/step - loss: 9.9256 - mae: 9.9256\n",
            "Epoch 75/100\n",
            "2/2 [==============================] - 0s 7ms/step - loss: 9.9304 - mae: 9.9304\n",
            "Epoch 76/100\n",
            "2/2 [==============================] - 0s 8ms/step - loss: 10.0970 - mae: 10.0970\n",
            "Epoch 77/100\n",
            "2/2 [==============================] - 0s 7ms/step - loss: 12.9466 - mae: 12.9466\n",
            "Epoch 78/100\n",
            "2/2 [==============================] - 0s 8ms/step - loss: 11.1434 - mae: 11.1434\n",
            "Epoch 79/100\n",
            "2/2 [==============================] - 0s 7ms/step - loss: 14.6974 - mae: 14.6974\n",
            "Epoch 80/100\n",
            "2/2 [==============================] - 0s 7ms/step - loss: 8.9188 - mae: 8.9188\n",
            "Epoch 81/100\n",
            "2/2 [==============================] - 0s 7ms/step - loss: 10.7615 - mae: 10.7615\n",
            "Epoch 82/100\n",
            "2/2 [==============================] - 0s 7ms/step - loss: 8.3835 - mae: 8.3835\n",
            "Epoch 83/100\n",
            "2/2 [==============================] - 0s 7ms/step - loss: 9.2182 - mae: 9.2182\n",
            "Epoch 84/100\n",
            "2/2 [==============================] - 0s 7ms/step - loss: 8.9359 - mae: 8.9359\n",
            "Epoch 85/100\n",
            "2/2 [==============================] - 0s 11ms/step - loss: 13.1950 - mae: 13.1950\n",
            "Epoch 86/100\n",
            "2/2 [==============================] - 0s 8ms/step - loss: 13.7004 - mae: 13.7004\n",
            "Epoch 87/100\n",
            "2/2 [==============================] - 0s 7ms/step - loss: 13.1846 - mae: 13.1846\n",
            "Epoch 88/100\n",
            "2/2 [==============================] - 0s 7ms/step - loss: 11.5099 - mae: 11.5099\n",
            "Epoch 89/100\n",
            "2/2 [==============================] - 0s 9ms/step - loss: 7.7977 - mae: 7.7977\n",
            "Epoch 90/100\n",
            "2/2 [==============================] - 0s 7ms/step - loss: 10.9239 - mae: 10.9239\n",
            "Epoch 91/100\n",
            "2/2 [==============================] - 0s 7ms/step - loss: 6.7430 - mae: 6.7430\n",
            "Epoch 92/100\n",
            "2/2 [==============================] - 0s 7ms/step - loss: 10.1164 - mae: 10.1164\n",
            "Epoch 93/100\n",
            "2/2 [==============================] - 0s 7ms/step - loss: 7.6016 - mae: 7.6016\n",
            "Epoch 94/100\n",
            "2/2 [==============================] - 0s 8ms/step - loss: 9.2337 - mae: 9.2337\n",
            "Epoch 95/100\n",
            "2/2 [==============================] - 0s 7ms/step - loss: 10.8230 - mae: 10.8230\n",
            "Epoch 96/100\n",
            "2/2 [==============================] - 0s 8ms/step - loss: 10.2900 - mae: 10.2900\n",
            "Epoch 97/100\n",
            "2/2 [==============================] - 0s 7ms/step - loss: 7.6735 - mae: 7.6735\n",
            "Epoch 98/100\n",
            "2/2 [==============================] - 0s 7ms/step - loss: 8.6085 - mae: 8.6085\n",
            "Epoch 99/100\n",
            "2/2 [==============================] - 0s 7ms/step - loss: 9.3868 - mae: 9.3868\n",
            "Epoch 100/100\n",
            "2/2 [==============================] - 0s 10ms/step - loss: 8.8329 - mae: 8.8329\n",
            "Model: \"sequential_13\"\n",
            "_________________________________________________________________\n",
            " Layer (type)                Output Shape              Param #   \n",
            "=================================================================\n",
            " dense_22 (Dense)            (None, 1)                 2         \n",
            "                                                                 \n",
            "=================================================================\n",
            "Total params: 2 (8.00 Byte)\n",
            "Trainable params: 2 (8.00 Byte)\n",
            "Non-trainable params: 0 (0.00 Byte)\n",
            "_________________________________________________________________\n"
          ]
        }
      ]
    },
    {
      "cell_type": "code",
      "source": [
        "# If model.summary does work, that is because the model could not automatically define the shape. To solve the problem, which is not in my current case, we need to build the model with build()\n",
        "X.shape"
      ],
      "metadata": {
        "colab": {
          "base_uri": "https://localhost:8080/"
        },
        "id": "57svUKy72ERW",
        "outputId": "1ec123a9-b9a0-454c-9f4d-58afb0f6d65d"
      },
      "execution_count": 108,
      "outputs": [
        {
          "output_type": "execute_result",
          "data": {
            "text/plain": [
              "TensorShape([50])"
            ]
          },
          "metadata": {},
          "execution_count": 108
        }
      ]
    },
    {
      "cell_type": "code",
      "source": [
        "X[0], y[0]"
      ],
      "metadata": {
        "colab": {
          "base_uri": "https://localhost:8080/"
        },
        "id": "4oMwV6D77OF9",
        "outputId": "c123cd32-3f79-4151-97cc-b782356cd051"
      },
      "execution_count": 109,
      "outputs": [
        {
          "output_type": "execute_result",
          "data": {
            "text/plain": [
              "(<tf.Tensor: shape=(), dtype=int32, numpy=-100>,\n",
              " <tf.Tensor: shape=(), dtype=int32, numpy=-90>)"
            ]
          },
          "metadata": {},
          "execution_count": 109
        }
      ]
    },
    {
      "cell_type": "code",
      "source": [
        "# The shape shows that we have 1 input for 1 output. Usually, the shape corresponds  the input and output. So let's create a model and define the shape in case the model did not detect tis automatcally\n",
        "\n",
        "tf.random.set_seed(42)\n",
        "#create the model\n",
        "model = tf.keras.Sequential([tf.keras.layers.Dense(10,input_shape=[1], name=\"input_layer\"),\n",
        "                             tf.keras.layers.Dense(1, name=\"output_layer\")], name=\"Model_1\")\n",
        "\n",
        "# compile the model (same as before)\n",
        "model.compile(loss=tf.keras.losses.mae,\n",
        "              optimizer=tf.keras.optimizers.SGD(),metrics=[\"mae\"])\n",
        "\n",
        "model.summary()\n",
        "\n"
      ],
      "metadata": {
        "colab": {
          "base_uri": "https://localhost:8080/"
        },
        "id": "zNKKdqpO7Rnj",
        "outputId": "d298354c-70d0-4e4b-98ff-83d5e2855ecc"
      },
      "execution_count": 110,
      "outputs": [
        {
          "output_type": "stream",
          "name": "stdout",
          "text": [
            "Model: \"Model_1\"\n",
            "_________________________________________________________________\n",
            " Layer (type)                Output Shape              Param #   \n",
            "=================================================================\n",
            " input_layer (Dense)         (None, 10)                20        \n",
            "                                                                 \n",
            " output_layer (Dense)        (None, 1)                 11        \n",
            "                                                                 \n",
            "=================================================================\n",
            "Total params: 31 (124.00 Byte)\n",
            "Trainable params: 31 (124.00 Byte)\n",
            "Non-trainable params: 0 (0.00 Byte)\n",
            "_________________________________________________________________\n"
          ]
        }
      ]
    },
    {
      "cell_type": "markdown",
      "source": [
        "# Notes.\n",
        "* Total params - total number of parameters in the model\n",
        "* Trainable params 2 - these are the parameters(patterns) the model can update as it trains\n",
        "* Non-trainable params - these parameters arent't updated during the training(this is typical when you bring in alread learn patterns or parameters from other models during transfer **learning**)\n",
        "\n",
        "* MIT deep learning (introduction).. https://www.youtube.com/watch?v=QDX-1M5Nj7s\n",
        "\n",
        "\n",
        "* Exercise: Try playing around with the number of hiiden units in the dense layer, see how that affects the number of parameters(total and trainable) by calling model.summary()"
      ],
      "metadata": {
        "id": "ShQ344tQ-vks"
      }
    },
    {
      "cell_type": "code",
      "source": [
        "# let's fit our model to the data\n",
        "#model.fit(tf.expand_dims(X_train,axis=-1), Y_train, epochs=100, verbose=1)"
      ],
      "metadata": {
        "id": "MO15D02ZAY-n"
      },
      "execution_count": 111,
      "outputs": []
    },
    {
      "cell_type": "code",
      "source": [
        "model.summary()"
      ],
      "metadata": {
        "colab": {
          "base_uri": "https://localhost:8080/"
        },
        "id": "Wi4cSqV3D6_G",
        "outputId": "d005c398-91cf-4c5f-d3e6-847df70bf61e"
      },
      "execution_count": 112,
      "outputs": [
        {
          "output_type": "stream",
          "name": "stdout",
          "text": [
            "Model: \"Model_1\"\n",
            "_________________________________________________________________\n",
            " Layer (type)                Output Shape              Param #   \n",
            "=================================================================\n",
            " input_layer (Dense)         (None, 10)                20        \n",
            "                                                                 \n",
            " output_layer (Dense)        (None, 1)                 11        \n",
            "                                                                 \n",
            "=================================================================\n",
            "Total params: 31 (124.00 Byte)\n",
            "Trainable params: 31 (124.00 Byte)\n",
            "Non-trainable params: 0 (0.00 Byte)\n",
            "_________________________________________________________________\n"
          ]
        }
      ]
    },
    {
      "cell_type": "code",
      "source": [
        "from tensorflow.keras.utils import plot_model"
      ],
      "metadata": {
        "id": "IZwzD5pdg517"
      },
      "execution_count": 113,
      "outputs": []
    },
    {
      "cell_type": "code",
      "source": [
        "plot_model(model=model, show_shapes=True)"
      ],
      "metadata": {
        "id": "z6bBK7Nmg0co",
        "colab": {
          "base_uri": "https://localhost:8080/",
          "height": 312
        },
        "outputId": "b26daf14-9151-4602-c37a-ee551ed1cecf"
      },
      "execution_count": 114,
      "outputs": [
        {
          "output_type": "execute_result",
          "data": {
            "image/png": "[encoded data removed]",
            "text/plain": [
              "<IPython.core.display.Image object>"
            ]
          },
          "metadata": {},
          "execution_count": 114
        }
      ]
    },
    {
      "cell_type": "markdown",
      "source": [
        "## Visualizing our models's predictions\n",
        " * To  visualizse predictions, it's a good idea to plot them against the ground truth labels\n",
        " * Often you'll see this in the form pf y_test or y_true versus y_preds(ground thruth versus your model)\n"
      ],
      "metadata": {
        "id": "tnJqd7SKeFvQ"
      }
    },
    {
      "cell_type": "code",
      "source": [
        "# Make some predictions\n",
        "y_pred = model.predict(X_test)\n",
        "y_pred"
      ],
      "metadata": {
        "id": "8nkO_twenZMM",
        "colab": {
          "base_uri": "https://localhost:8080/"
        },
        "outputId": "fec77424-f60f-4a51-dab5-4985c37c664f"
      },
      "execution_count": 115,
      "outputs": [
        {
          "output_type": "stream",
          "name": "stdout",
          "text": [
            "1/1 [==============================] - 0s 53ms/step\n"
          ]
        },
        {
          "output_type": "execute_result",
          "data": {
            "text/plain": [
              "array([[1.144728 ],\n",
              "       [1.2210436],\n",
              "       [1.2973666],\n",
              "       [1.3736722],\n",
              "       [1.4499931],\n",
              "       [1.5263028],\n",
              "       [1.6026244],\n",
              "       [1.6789336],\n",
              "       [1.7552547],\n",
              "       [1.831572 ]], dtype=float32)"
            ]
          },
          "metadata": {},
          "execution_count": 115
        }
      ]
    },
    {
      "cell_type": "code",
      "source": [
        "Y_test"
      ],
      "metadata": {
        "id": "x5IUhq16oDD3",
        "colab": {
          "base_uri": "https://localhost:8080/"
        },
        "outputId": "ffded197-3610-4041-82b1-5bb2e3e88e49"
      },
      "execution_count": 116,
      "outputs": [
        {
          "output_type": "execute_result",
          "data": {
            "text/plain": [
              "<tf.Tensor: shape=(10,), dtype=int32, numpy=array([ 70,  74,  78,  82,  86,  90,  94,  98, 102, 106], dtype=int32)>"
            ]
          },
          "metadata": {},
          "execution_count": 116
        }
      ]
    },
    {
      "cell_type": "markdown",
      "source": [
        "# Note: If you feel like you're going to reuse some kind of functionality in future, it's a good idea  to put it in the form of a function\n",
        "\n",
        "\n"
      ],
      "metadata": {
        "id": "oCcyp5kfqmji"
      }
    },
    {
      "cell_type": "markdown",
      "source": [
        "# Evaluating the model's predictions with regressiom evaluation metrics\n",
        "* Depending on the problem, there will be different evaluation metrics to evaluate the model's performance.\n",
        "* Since we're working on regression problem, two of the main metrics are used:\n",
        "    * MAE - On average, how wrong is each of my model's predictions\n",
        "    * MSE - similar to MAE, but square the average errors\n"
      ],
      "metadata": {
        "id": "5QMVwM3frnHX"
      }
    },
    {
      "cell_type": "code",
      "source": [
        "# Evaluate the model on test set\n",
        "model.evaluate(X_test,Y_test)\n"
      ],
      "metadata": {
        "id": "428roNC8tF07",
        "colab": {
          "base_uri": "https://localhost:8080/"
        },
        "outputId": "859a88ab-fbe8-4a38-cadf-958d291ef91c"
      },
      "execution_count": 117,
      "outputs": [
        {
          "output_type": "stream",
          "name": "stdout",
          "text": [
            "1/1 [==============================] - 0s 193ms/step - loss: 86.5119 - mae: 86.5119\n"
          ]
        },
        {
          "output_type": "execute_result",
          "data": {
            "text/plain": [
              "[86.51185607910156, 86.51185607910156]"
            ]
          },
          "metadata": {},
          "execution_count": 117
        }
      ]
    },
    {
      "cell_type": "code",
      "source": [
        "y_pred"
      ],
      "metadata": {
        "id": "5Nh0yIhN0VvJ",
        "colab": {
          "base_uri": "https://localhost:8080/"
        },
        "outputId": "08309a5a-8f2d-466a-920e-8ee87325f8ad"
      },
      "execution_count": 118,
      "outputs": [
        {
          "output_type": "execute_result",
          "data": {
            "text/plain": [
              "array([[1.144728 ],\n",
              "       [1.2210436],\n",
              "       [1.2973666],\n",
              "       [1.3736722],\n",
              "       [1.4499931],\n",
              "       [1.5263028],\n",
              "       [1.6026244],\n",
              "       [1.6789336],\n",
              "       [1.7552547],\n",
              "       [1.831572 ]], dtype=float32)"
            ]
          },
          "metadata": {},
          "execution_count": 118
        }
      ]
    },
    {
      "cell_type": "code",
      "source": [
        "Y_test"
      ],
      "metadata": {
        "id": "eyWbF1edXQOJ",
        "colab": {
          "base_uri": "https://localhost:8080/"
        },
        "outputId": "ae48e84e-cd7d-4dd5-fd58-cffbfa7c6afa"
      },
      "execution_count": 119,
      "outputs": [
        {
          "output_type": "execute_result",
          "data": {
            "text/plain": [
              "<tf.Tensor: shape=(10,), dtype=int32, numpy=array([ 70,  74,  78,  82,  86,  90,  94,  98, 102, 106], dtype=int32)>"
            ]
          },
          "metadata": {},
          "execution_count": 119
        }
      ]
    },
    {
      "cell_type": "code",
      "source": [
        "tf.metrics.mean_absolute_error(Y_test, y_pred)"
      ],
      "metadata": {
        "id": "Y20d_GyvXZbC",
        "colab": {
          "base_uri": "https://localhost:8080/"
        },
        "outputId": "be9c2ef5-3781-4357-e261-4dda999de6ec"
      },
      "execution_count": 120,
      "outputs": [
        {
          "output_type": "execute_result",
          "data": {
            "text/plain": [
              "<tf.Tensor: shape=(10,), dtype=float32, numpy=\n",
              "array([86.85527 , 86.77895 , 86.70264 , 86.62633 , 86.55    , 86.473694,\n",
              "       86.39738 , 86.32107 , 86.24474 , 86.16843 ], dtype=float32)>"
            ]
          },
          "metadata": {},
          "execution_count": 120
        }
      ]
    },
    {
      "cell_type": "markdown",
      "source": [
        ":## Running experiments to improve our model\n",
        "* Get more data - get more examples for yout model to train on (more opportunities to learn patterns or relationships between features and lables)\n",
        "* Make your model large(using a more complex model - this might come in the form of more layers or more hidden units in each layer.\n",
        "* Train for longer - give your model  a  chance to find patterns in the data\n",
        "\n",
        "Let's do 3 modelling experiments\n",
        "1. Model_1 - sames as the original model, 1 layer, trainined for fof 100 epochs\n",
        "2. Model_2 - 2 layers, training for 100 epochs\n",
        "3. Model_3 - 2 layers, trained for 500 epochs"
      ],
      "metadata": {
        "id": "WDmYixIgYH2T"
      }
    },
    {
      "cell_type": "code",
      "source": [
        "X_train, Y_train"
      ],
      "metadata": {
        "id": "jHo8rxPDPDmb",
        "colab": {
          "base_uri": "https://localhost:8080/"
        },
        "outputId": "3950bedd-cf87-494e-bd49-cc09c438bb31"
      },
      "execution_count": 121,
      "outputs": [
        {
          "output_type": "execute_result",
          "data": {
            "text/plain": [
              "(<tf.Tensor: shape=(40,), dtype=int32, numpy=\n",
              " array([-100,  -96,  -92,  -88,  -84,  -80,  -76,  -72,  -68,  -64,  -60,\n",
              "         -56,  -52,  -48,  -44,  -40,  -36,  -32,  -28,  -24,  -20,  -16,\n",
              "         -12,   -8,   -4,    0,    4,    8,   12,   16,   20,   24,   28,\n",
              "          32,   36,   40,   44,   48,   52,   56], dtype=int32)>,\n",
              " <tf.Tensor: shape=(40,), dtype=int32, numpy=\n",
              " array([-90, -86, -82, -78, -74, -70, -66, -62, -58, -54, -50, -46, -42,\n",
              "        -38, -34, -30, -26, -22, -18, -14, -10,  -6,  -2,   2,   6,  10,\n",
              "         14,  18,  22,  26,  30,  34,  38,  42,  46,  50,  54,  58,  62,\n",
              "         66], dtype=int32)>)"
            ]
          },
          "metadata": {},
          "execution_count": 121
        }
      ]
    },
    {
      "cell_type": "markdown",
      "source": [
        "# Build model-1"
      ],
      "metadata": {
        "id": "xfKfW4LHPKbN"
      }
    },
    {
      "cell_type": "code",
      "source": [
        "# set random seed\n",
        "\n",
        "\n",
        "tf.random.set_seed(42)\n",
        "# 1. Create the model\n",
        "model_1 = tf.keras.Sequential([\n",
        "    tf.keras.layers.Dense(1)])\n",
        "# 2. Compile the model\n",
        "model_1.compile(loss=tf.keras.losses.mae,\n",
        "                optimizer=tf.keras.optimizers.SGD(),\n",
        "                metrics=[\"mae\"])\n",
        "#3. Fit the model\n",
        "model_1.fit(tf.expand_dims(X_train,axis=-1), Y_train, epochs=100)\n"
      ],
      "metadata": {
        "id": "qlCIkd99S2xt",
        "colab": {
          "base_uri": "https://localhost:8080/"
        },
        "outputId": "04baf927-80d4-4344-d670-1a88da243f06"
      },
      "execution_count": 122,
      "outputs": [
        {
          "output_type": "stream",
          "name": "stdout",
          "text": [
            "Epoch 1/100\n",
            "2/2 [==============================] - 0s 11ms/step - loss: 55.4966 - mae: 55.4966\n",
            "Epoch 2/100\n",
            "2/2 [==============================] - 0s 9ms/step - loss: 21.2908 - mae: 21.2908\n",
            "Epoch 3/100\n",
            "2/2 [==============================] - 0s 8ms/step - loss: 9.7204 - mae: 9.7204\n",
            "Epoch 4/100\n",
            "2/2 [==============================] - 0s 12ms/step - loss: 11.8668 - mae: 11.8668\n",
            "Epoch 5/100\n",
            "2/2 [==============================] - 0s 9ms/step - loss: 10.9325 - mae: 10.9325\n",
            "Epoch 6/100\n",
            "2/2 [==============================] - 0s 7ms/step - loss: 10.1050 - mae: 10.1050\n",
            "Epoch 7/100\n",
            "2/2 [==============================] - 0s 9ms/step - loss: 9.1360 - mae: 9.1360\n",
            "Epoch 8/100\n",
            "2/2 [==============================] - 0s 9ms/step - loss: 9.1150 - mae: 9.1150\n",
            "Epoch 9/100\n",
            "2/2 [==============================] - 0s 8ms/step - loss: 15.1089 - mae: 15.1089\n",
            "Epoch 10/100\n",
            "2/2 [==============================] - 0s 11ms/step - loss: 7.5853 - mae: 7.5853\n",
            "Epoch 11/100\n",
            "2/2 [==============================] - 0s 7ms/step - loss: 11.4454 - mae: 11.4454\n",
            "Epoch 12/100\n",
            "2/2 [==============================] - 0s 9ms/step - loss: 16.8846 - mae: 16.8846\n",
            "Epoch 13/100\n",
            "2/2 [==============================] - 0s 8ms/step - loss: 12.0070 - mae: 12.0070\n",
            "Epoch 14/100\n",
            "2/2 [==============================] - 0s 8ms/step - loss: 13.9547 - mae: 13.9547\n",
            "Epoch 15/100\n",
            "2/2 [==============================] - 0s 7ms/step - loss: 11.3469 - mae: 11.3469\n",
            "Epoch 16/100\n",
            "2/2 [==============================] - 0s 10ms/step - loss: 8.5723 - mae: 8.5723\n",
            "Epoch 17/100\n",
            "2/2 [==============================] - 0s 7ms/step - loss: 13.6970 - mae: 13.6970\n",
            "Epoch 18/100\n",
            "2/2 [==============================] - 0s 7ms/step - loss: 11.5373 - mae: 11.5373\n",
            "Epoch 19/100\n",
            "2/2 [==============================] - 0s 7ms/step - loss: 17.8505 - mae: 17.8505\n",
            "Epoch 20/100\n",
            "2/2 [==============================] - 0s 7ms/step - loss: 14.9856 - mae: 14.9856\n",
            "Epoch 21/100\n",
            "2/2 [==============================] - 0s 7ms/step - loss: 10.8656 - mae: 10.8656\n",
            "Epoch 22/100\n",
            "2/2 [==============================] - 0s 6ms/step - loss: 8.6180 - mae: 8.6180\n",
            "Epoch 23/100\n",
            "2/2 [==============================] - 0s 7ms/step - loss: 9.7138 - mae: 9.7138\n",
            "Epoch 24/100\n",
            "2/2 [==============================] - 0s 7ms/step - loss: 10.9784 - mae: 10.9784\n",
            "Epoch 25/100\n",
            "2/2 [==============================] - 0s 7ms/step - loss: 9.1772 - mae: 9.1772\n",
            "Epoch 26/100\n",
            "2/2 [==============================] - 0s 14ms/step - loss: 13.2169 - mae: 13.2169\n",
            "Epoch 27/100\n",
            "2/2 [==============================] - 0s 7ms/step - loss: 10.6853 - mae: 10.6853\n",
            "Epoch 28/100\n",
            "2/2 [==============================] - 0s 7ms/step - loss: 12.9104 - mae: 12.9104\n",
            "Epoch 29/100\n",
            "2/2 [==============================] - 0s 10ms/step - loss: 9.5241 - mae: 9.5241\n",
            "Epoch 30/100\n",
            "2/2 [==============================] - 0s 8ms/step - loss: 16.4406 - mae: 16.4406\n",
            "Epoch 31/100\n",
            "2/2 [==============================] - 0s 8ms/step - loss: 23.5613 - mae: 23.5613\n",
            "Epoch 32/100\n",
            "2/2 [==============================] - 0s 8ms/step - loss: 7.6183 - mae: 7.6183\n",
            "Epoch 33/100\n",
            "2/2 [==============================] - 0s 7ms/step - loss: 9.3140 - mae: 9.3140\n",
            "Epoch 34/100\n",
            "2/2 [==============================] - 0s 7ms/step - loss: 13.6765 - mae: 13.6765\n",
            "Epoch 35/100\n",
            "2/2 [==============================] - 0s 8ms/step - loss: 11.1743 - mae: 11.1743\n",
            "Epoch 36/100\n",
            "2/2 [==============================] - 0s 8ms/step - loss: 13.4024 - mae: 13.4024\n",
            "Epoch 37/100\n",
            "2/2 [==============================] - 0s 7ms/step - loss: 9.4581 - mae: 9.4581\n",
            "Epoch 38/100\n",
            "2/2 [==============================] - 0s 8ms/step - loss: 10.1090 - mae: 10.1090\n",
            "Epoch 39/100\n",
            "2/2 [==============================] - 0s 7ms/step - loss: 8.9851 - mae: 8.9851\n",
            "Epoch 40/100\n",
            "2/2 [==============================] - 0s 8ms/step - loss: 9.6138 - mae: 9.6138\n",
            "Epoch 41/100\n",
            "2/2 [==============================] - 0s 7ms/step - loss: 10.5747 - mae: 10.5747\n",
            "Epoch 42/100\n",
            "2/2 [==============================] - 0s 8ms/step - loss: 10.6287 - mae: 10.6287\n",
            "Epoch 43/100\n",
            "2/2 [==============================] - 0s 7ms/step - loss: 7.2195 - mae: 7.2195\n",
            "Epoch 44/100\n",
            "2/2 [==============================] - 0s 7ms/step - loss: 8.0262 - mae: 8.0262\n",
            "Epoch 45/100\n",
            "2/2 [==============================] - 0s 8ms/step - loss: 9.8294 - mae: 9.8294\n",
            "Epoch 46/100\n",
            "2/2 [==============================] - 0s 7ms/step - loss: 8.9094 - mae: 8.9094\n",
            "Epoch 47/100\n",
            "2/2 [==============================] - 0s 8ms/step - loss: 7.5742 - mae: 7.5742\n",
            "Epoch 48/100\n",
            "2/2 [==============================] - 0s 10ms/step - loss: 8.5375 - mae: 8.5375\n",
            "Epoch 49/100\n",
            "2/2 [==============================] - 0s 7ms/step - loss: 10.0413 - mae: 10.0413\n",
            "Epoch 50/100\n",
            "2/2 [==============================] - 0s 10ms/step - loss: 8.9833 - mae: 8.9833\n",
            "Epoch 51/100\n",
            "2/2 [==============================] - 0s 8ms/step - loss: 10.7186 - mae: 10.7186\n",
            "Epoch 52/100\n",
            "2/2 [==============================] - 0s 7ms/step - loss: 15.2638 - mae: 15.2638\n",
            "Epoch 53/100\n",
            "2/2 [==============================] - 0s 7ms/step - loss: 14.2943 - mae: 14.2943\n",
            "Epoch 54/100\n",
            "2/2 [==============================] - 0s 7ms/step - loss: 21.5406 - mae: 21.5406\n",
            "Epoch 55/100\n",
            "2/2 [==============================] - 0s 8ms/step - loss: 16.0586 - mae: 16.0586\n",
            "Epoch 56/100\n",
            "2/2 [==============================] - 0s 7ms/step - loss: 10.2466 - mae: 10.2466\n",
            "Epoch 57/100\n",
            "2/2 [==============================] - 0s 7ms/step - loss: 9.8058 - mae: 9.8058\n",
            "Epoch 58/100\n",
            "2/2 [==============================] - 0s 7ms/step - loss: 9.0879 - mae: 9.0879\n",
            "Epoch 59/100\n",
            "2/2 [==============================] - 0s 12ms/step - loss: 8.2911 - mae: 8.2911\n",
            "Epoch 60/100\n",
            "2/2 [==============================] - 0s 9ms/step - loss: 9.3839 - mae: 9.3839\n",
            "Epoch 61/100\n",
            "2/2 [==============================] - 0s 8ms/step - loss: 11.2148 - mae: 11.2148\n",
            "Epoch 62/100\n",
            "2/2 [==============================] - 0s 11ms/step - loss: 12.0334 - mae: 12.0334\n",
            "Epoch 63/100\n",
            "2/2 [==============================] - 0s 7ms/step - loss: 7.2804 - mae: 7.2804\n",
            "Epoch 64/100\n",
            "2/2 [==============================] - 0s 9ms/step - loss: 12.4746 - mae: 12.4746\n",
            "Epoch 65/100\n",
            "2/2 [==============================] - 0s 8ms/step - loss: 10.5506 - mae: 10.5506\n",
            "Epoch 66/100\n",
            "2/2 [==============================] - 0s 6ms/step - loss: 15.5651 - mae: 15.5651\n",
            "Epoch 67/100\n",
            "2/2 [==============================] - 0s 7ms/step - loss: 9.9819 - mae: 9.9819\n",
            "Epoch 68/100\n",
            "2/2 [==============================] - 0s 9ms/step - loss: 8.7139 - mae: 8.7139\n",
            "Epoch 69/100\n",
            "2/2 [==============================] - 0s 11ms/step - loss: 13.4416 - mae: 13.4416\n",
            "Epoch 70/100\n",
            "2/2 [==============================] - 0s 10ms/step - loss: 7.4772 - mae: 7.4772\n",
            "Epoch 71/100\n",
            "2/2 [==============================] - 0s 8ms/step - loss: 12.2775 - mae: 12.2775\n",
            "Epoch 72/100\n",
            "2/2 [==============================] - 0s 8ms/step - loss: 8.5118 - mae: 8.5118\n",
            "Epoch 73/100\n",
            "2/2 [==============================] - 0s 8ms/step - loss: 7.0435 - mae: 7.0435\n",
            "Epoch 74/100\n",
            "2/2 [==============================] - 0s 7ms/step - loss: 9.8863 - mae: 9.8863\n",
            "Epoch 75/100\n",
            "2/2 [==============================] - 0s 7ms/step - loss: 9.9741 - mae: 9.9741\n",
            "Epoch 76/100\n",
            "2/2 [==============================] - 0s 10ms/step - loss: 10.1331 - mae: 10.1331\n",
            "Epoch 77/100\n",
            "2/2 [==============================] - 0s 8ms/step - loss: 13.0099 - mae: 13.0099\n",
            "Epoch 78/100\n",
            "2/2 [==============================] - 0s 8ms/step - loss: 10.8953 - mae: 10.8953\n",
            "Epoch 79/100\n",
            "2/2 [==============================] - 0s 8ms/step - loss: 15.3638 - mae: 15.3638\n",
            "Epoch 80/100\n",
            "2/2 [==============================] - 0s 8ms/step - loss: 11.7491 - mae: 11.7491\n",
            "Epoch 81/100\n",
            "2/2 [==============================] - 0s 8ms/step - loss: 9.2392 - mae: 9.2392\n",
            "Epoch 82/100\n",
            "2/2 [==============================] - 0s 7ms/step - loss: 12.7491 - mae: 12.7491\n",
            "Epoch 83/100\n",
            "2/2 [==============================] - 0s 9ms/step - loss: 8.2992 - mae: 8.2992\n",
            "Epoch 84/100\n",
            "2/2 [==============================] - 0s 7ms/step - loss: 7.3102 - mae: 7.3102\n",
            "Epoch 85/100\n",
            "2/2 [==============================] - 0s 8ms/step - loss: 10.4628 - mae: 10.4628\n",
            "Epoch 86/100\n",
            "2/2 [==============================] - 0s 8ms/step - loss: 9.1398 - mae: 9.1398\n",
            "Epoch 87/100\n",
            "2/2 [==============================] - 0s 7ms/step - loss: 11.8460 - mae: 11.8460\n",
            "Epoch 88/100\n",
            "2/2 [==============================] - 0s 7ms/step - loss: 10.4544 - mae: 10.4544\n",
            "Epoch 89/100\n",
            "2/2 [==============================] - 0s 8ms/step - loss: 6.9776 - mae: 6.9776\n",
            "Epoch 90/100\n",
            "2/2 [==============================] - 0s 8ms/step - loss: 13.7769 - mae: 13.7769\n",
            "Epoch 91/100\n",
            "2/2 [==============================] - 0s 7ms/step - loss: 7.8645 - mae: 7.8645\n",
            "Epoch 92/100\n",
            "2/2 [==============================] - 0s 8ms/step - loss: 7.9272 - mae: 7.9272\n",
            "Epoch 93/100\n",
            "2/2 [==============================] - 0s 7ms/step - loss: 9.4226 - mae: 9.4226\n",
            "Epoch 94/100\n",
            "2/2 [==============================] - 0s 7ms/step - loss: 8.7429 - mae: 8.7429\n",
            "Epoch 95/100\n",
            "2/2 [==============================] - 0s 7ms/step - loss: 9.8625 - mae: 9.8625\n",
            "Epoch 96/100\n",
            "2/2 [==============================] - 0s 7ms/step - loss: 7.3436 - mae: 7.3436\n",
            "Epoch 97/100\n",
            "2/2 [==============================] - 0s 8ms/step - loss: 6.8598 - mae: 6.8598\n",
            "Epoch 98/100\n",
            "2/2 [==============================] - 0s 7ms/step - loss: 7.2516 - mae: 7.2516\n",
            "Epoch 99/100\n",
            "2/2 [==============================] - 0s 7ms/step - loss: 7.4054 - mae: 7.4054\n",
            "Epoch 100/100\n",
            "2/2 [==============================] - 0s 7ms/step - loss: 11.1032 - mae: 11.1032\n"
          ]
        },
        {
          "output_type": "execute_result",
          "data": {
            "text/plain": [
              "<keras.src.callbacks.History at 0x7d7e4121a500>"
            ]
          },
          "metadata": {},
          "execution_count": 122
        }
      ]
    },
    {
      "cell_type": "code",
      "source": [
        "y_pred_1 = model_1.predict(X_test)\n",
        "y_pred_1"
      ],
      "metadata": {
        "id": "6CUiahCfxnMs",
        "colab": {
          "base_uri": "https://localhost:8080/"
        },
        "outputId": "28dd9f5c-fcf1-4430-ec37-dcdbb706ad9f"
      },
      "execution_count": 123,
      "outputs": [
        {
          "output_type": "stream",
          "name": "stdout",
          "text": [
            "1/1 [==============================] - 0s 45ms/step\n"
          ]
        },
        {
          "output_type": "execute_result",
          "data": {
            "text/plain": [
              "array([[51.635616],\n",
              "       [54.991074],\n",
              "       [58.34653 ],\n",
              "       [61.70199 ],\n",
              "       [65.05745 ],\n",
              "       [68.4129  ],\n",
              "       [71.768364],\n",
              "       [75.12382 ],\n",
              "       [78.47928 ],\n",
              "       [81.83474 ]], dtype=float32)"
            ]
          },
          "metadata": {},
          "execution_count": 123
        }
      ]
    },
    {
      "cell_type": "code",
      "source": [
        "def mae(y_true,y_pred):\n",
        "  return tf.metrics.mean_absolute_error(y_true=y_true,y_pred=tf.squeeze(y_pred_1))\n",
        "def mse(y_true,y_pred):\n",
        "  return tf.metrics.mean_squared_error(y_true=y_true,y_pred=tf.squeeze(y_pred_1))\n",
        "\n",
        "def plot_predictions(train_data=X_train,train_labels=Y_train,test_data=X_test,test_labels=Y_test,predictions=y_pred_1):\n",
        "  plt.figure(figsize=(10, 7))\n",
        "  # Plot training data in blue\n",
        "  plt.scatter(train_data, train_labels, c=\"b\", label=\"Training data\")\n",
        "  # Plot test data in green\n",
        "  plt.scatter(test_data, test_labels, c=\"g\", label=\"Testing data\")\n",
        "  # Plot the predictions in red (predictions were made on the test data)\n",
        "  plt.scatter(test_data, predictions, c=\"r\", label=\"Predictions\")\n",
        "  # Show the legend\n",
        "  plt.legend();"
      ],
      "metadata": {
        "id": "rfGtaF-AU-Nv"
      },
      "execution_count": 124,
      "outputs": []
    },
    {
      "cell_type": "code",
      "source": [
        "plot_predictions(train_data=X_train,train_labels=Y_train,test_data=X_test,test_labels=Y_test,predictions=y_pred_1)"
      ],
      "metadata": {
        "id": "5Z7Y3pKOXH3p",
        "colab": {
          "base_uri": "https://localhost:8080/",
          "height": 599
        },
        "outputId": "934f1f96-3e8c-443d-f398-255e9d38d63b"
      },
      "execution_count": 125,
      "outputs": [
        {
          "output_type": "display_data",
          "data": {
            "text/plain": [
              "<Figure size 1000x700 with 1 Axes>"
            ],
            "image/png": "[encoded data removed]"
          },
          "metadata": {}
        }
      ]
    },
    {
      "cell_type": "code",
      "source": [
        "mae_1 = X_test-y_pred_1"
      ],
      "metadata": {
        "id": "gD4PNME-xbYD"
      },
      "execution_count": 126,
      "outputs": []
    },
    {
      "cell_type": "code",
      "source": [],
      "metadata": {
        "id": "c0zuGAEbbLML"
      },
      "execution_count": 126,
      "outputs": []
    },
    {
      "cell_type": "code",
      "source": [],
      "metadata": {
        "id": "g_a5hJnJxZyk"
      },
      "execution_count": 126,
      "outputs": []
    },
    {
      "cell_type": "code",
      "source": [],
      "metadata": {
        "id": "9f_dwFINgB_3"
      },
      "execution_count": 126,
      "outputs": []
    },
    {
      "cell_type": "code",
      "source": [],
      "metadata": {
        "id": "ZlXRRPtmuwbu"
      },
      "execution_count": 126,
      "outputs": []
    },
    {
      "cell_type": "markdown",
      "source": [
        "# Build_model_2\n",
        "* 2 dense layers, trained for 100 epochs"
      ],
      "metadata": {
        "id": "xD3trJUHuxuh"
      }
    },
    {
      "cell_type": "code",
      "source": [
        "# Set the random seed\n",
        "tf.random.set_seed(42)"
      ],
      "metadata": {
        "id": "zDkJ84ndxGmw"
      },
      "execution_count": 127,
      "outputs": []
    },
    {
      "cell_type": "code",
      "source": [
        "#create the model"
      ],
      "metadata": {
        "id": "gnTdHeQk8fiZ"
      },
      "execution_count": 128,
      "outputs": []
    },
    {
      "cell_type": "code",
      "source": [
        "model_2 = tf.keras.Sequential([tf.keras.layers.Dense(10),\n",
        "                               tf.keras.layers.Dense(1)])\n"
      ],
      "metadata": {
        "id": "2ox5sQFi73AW"
      },
      "execution_count": 129,
      "outputs": []
    },
    {
      "cell_type": "code",
      "source": [
        "# Compile the model\n",
        "model_2.compile(loss=tf.keras.losses.mae,\n",
        "                optimizer=tf.keras.optimizers.SGD(),\n",
        "                metrics=[\"mae\"])\n",
        "\n",
        "# Fit the model\n",
        "model_2.fit(tf.expand_dims(X_test,axis=-1),Y_test,epochs=100)"
      ],
      "metadata": {
        "id": "tI61_hbx8jJ3",
        "colab": {
          "base_uri": "https://localhost:8080/"
        },
        "outputId": "ae3642b8-afe5-497f-d4cd-7ea7f36c9baa"
      },
      "execution_count": 130,
      "outputs": [
        {
          "output_type": "stream",
          "name": "stdout",
          "text": [
            "Epoch 1/100\n",
            "1/1 [==============================] - 1s 774ms/step - loss: 91.8563 - mae: 91.8563\n",
            "Epoch 2/100\n",
            "1/1 [==============================] - 0s 9ms/step - loss: 89.1988 - mae: 89.1988\n",
            "Epoch 3/100\n",
            "1/1 [==============================] - 0s 10ms/step - loss: 88.5911 - mae: 88.5911\n",
            "Epoch 4/100\n",
            "1/1 [==============================] - 0s 10ms/step - loss: 60.8319 - mae: 60.8319\n",
            "Epoch 5/100\n",
            "1/1 [==============================] - 0s 12ms/step - loss: 1.2678 - mae: 1.2678\n",
            "Epoch 6/100\n",
            "1/1 [==============================] - 0s 11ms/step - loss: 10.2983 - mae: 10.2983\n",
            "Epoch 7/100\n",
            "1/1 [==============================] - 0s 12ms/step - loss: 83.2943 - mae: 83.2943\n",
            "Epoch 8/100\n",
            "1/1 [==============================] - 0s 12ms/step - loss: 72.9150 - mae: 72.9150\n",
            "Epoch 9/100\n",
            "1/1 [==============================] - 0s 13ms/step - loss: 40.2297 - mae: 40.2297\n",
            "Epoch 10/100\n",
            "1/1 [==============================] - 0s 11ms/step - loss: 63.3075 - mae: 63.3075\n",
            "Epoch 11/100\n",
            "1/1 [==============================] - 0s 12ms/step - loss: 80.6510 - mae: 80.6510\n",
            "Epoch 12/100\n",
            "1/1 [==============================] - 0s 18ms/step - loss: 64.7732 - mae: 64.7732\n",
            "Epoch 13/100\n",
            "1/1 [==============================] - 0s 12ms/step - loss: 14.4840 - mae: 14.4840\n",
            "Epoch 14/100\n",
            "1/1 [==============================] - 0s 10ms/step - loss: 144.8422 - mae: 144.8422\n",
            "Epoch 15/100\n",
            "1/1 [==============================] - 0s 10ms/step - loss: 76.6880 - mae: 76.6880\n",
            "Epoch 16/100\n",
            "1/1 [==============================] - 0s 10ms/step - loss: 52.2593 - mae: 52.2593\n",
            "Epoch 17/100\n",
            "1/1 [==============================] - 0s 10ms/step - loss: 25.1247 - mae: 25.1247\n",
            "Epoch 18/100\n",
            "1/1 [==============================] - 0s 10ms/step - loss: 82.4694 - mae: 82.4694\n",
            "Epoch 19/100\n",
            "1/1 [==============================] - 0s 10ms/step - loss: 70.6002 - mae: 70.6002\n",
            "Epoch 20/100\n",
            "1/1 [==============================] - 0s 14ms/step - loss: 33.0125 - mae: 33.0125\n",
            "Epoch 21/100\n",
            "1/1 [==============================] - 0s 10ms/step - loss: 86.0670 - mae: 86.0670\n",
            "Epoch 22/100\n",
            "1/1 [==============================] - 0s 11ms/step - loss: 79.5025 - mae: 79.5025\n",
            "Epoch 23/100\n",
            "1/1 [==============================] - 0s 9ms/step - loss: 61.2425 - mae: 61.2425\n",
            "Epoch 24/100\n",
            "1/1 [==============================] - 0s 10ms/step - loss: 3.4048 - mae: 3.4048\n",
            "Epoch 25/100\n",
            "1/1 [==============================] - 0s 9ms/step - loss: 179.8395 - mae: 179.8395\n",
            "Epoch 26/100\n",
            "1/1 [==============================] - 0s 12ms/step - loss: 74.9475 - mae: 74.9475\n",
            "Epoch 27/100\n",
            "1/1 [==============================] - 0s 12ms/step - loss: 46.8528 - mae: 46.8528\n",
            "Epoch 28/100\n",
            "1/1 [==============================] - 0s 10ms/step - loss: 42.1473 - mae: 42.1473\n",
            "Epoch 29/100\n",
            "1/1 [==============================] - 0s 10ms/step - loss: 81.5984 - mae: 81.5984\n",
            "Epoch 30/100\n",
            "1/1 [==============================] - 0s 10ms/step - loss: 67.9487 - mae: 67.9487\n",
            "Epoch 31/100\n",
            "1/1 [==============================] - 0s 10ms/step - loss: 24.7196 - mae: 24.7196\n",
            "Epoch 32/100\n",
            "1/1 [==============================] - 0s 10ms/step - loss: 112.2359 - mae: 112.2359\n",
            "Epoch 33/100\n",
            "1/1 [==============================] - 0s 10ms/step - loss: 78.1891 - mae: 78.1891\n",
            "Epoch 34/100\n",
            "1/1 [==============================] - 0s 10ms/step - loss: 57.1892 - mae: 57.1892\n",
            "Epoch 35/100\n",
            "1/1 [==============================] - 0s 11ms/step - loss: 9.3301 - mae: 9.3301\n",
            "Epoch 36/100\n",
            "1/1 [==============================] - 0s 11ms/step - loss: 83.1573 - mae: 83.1573\n",
            "Epoch 37/100\n",
            "1/1 [==============================] - 0s 10ms/step - loss: 72.9533 - mae: 72.9533\n",
            "Epoch 38/100\n",
            "1/1 [==============================] - 0s 10ms/step - loss: 40.6422 - mae: 40.6422\n",
            "Epoch 39/100\n",
            "1/1 [==============================] - 0s 10ms/step - loss: 61.7180 - mae: 61.7180\n",
            "Epoch 40/100\n",
            "1/1 [==============================] - 0s 9ms/step - loss: 80.6042 - mae: 80.6042\n",
            "Epoch 41/100\n",
            "1/1 [==============================] - 0s 10ms/step - loss: 64.9068 - mae: 64.9068\n",
            "Epoch 42/100\n",
            "1/1 [==============================] - 0s 10ms/step - loss: 15.1891 - mae: 15.1891\n",
            "Epoch 43/100\n",
            "1/1 [==============================] - 0s 10ms/step - loss: 142.3260 - mae: 142.3260\n",
            "Epoch 44/100\n",
            "1/1 [==============================] - 0s 10ms/step - loss: 76.6860 - mae: 76.6860\n",
            "Epoch 45/100\n",
            "1/1 [==============================] - 0s 11ms/step - loss: 52.5348 - mae: 52.5348\n",
            "Epoch 46/100\n",
            "1/1 [==============================] - 0s 10ms/step - loss: 23.9696 - mae: 23.9696\n",
            "Epoch 47/100\n",
            "1/1 [==============================] - 0s 12ms/step - loss: 82.4016 - mae: 82.4016\n",
            "Epoch 48/100\n",
            "1/1 [==============================] - 0s 10ms/step - loss: 70.6671 - mae: 70.6671\n",
            "Epoch 49/100\n",
            "1/1 [==============================] - 0s 10ms/step - loss: 33.5067 - mae: 33.5067\n",
            "Epoch 50/100\n",
            "1/1 [==============================] - 0s 16ms/step - loss: 84.2194 - mae: 84.2194\n",
            "Epoch 51/100\n",
            "1/1 [==============================] - 0s 11ms/step - loss: 79.4682 - mae: 79.4682\n",
            "Epoch 52/100\n",
            "1/1 [==============================] - 0s 10ms/step - loss: 61.4156 - mae: 61.4156\n",
            "Epoch 53/100\n",
            "1/1 [==============================] - 0s 10ms/step - loss: 4.2353 - mae: 4.2353\n",
            "Epoch 54/100\n",
            "1/1 [==============================] - 0s 11ms/step - loss: 176.9262 - mae: 176.9262\n",
            "Epoch 55/100\n",
            "1/1 [==============================] - 0s 10ms/step - loss: 74.9647 - mae: 74.9647\n",
            "Epoch 56/100\n",
            "1/1 [==============================] - 0s 10ms/step - loss: 47.1893 - mae: 47.1893\n",
            "Epoch 57/100\n",
            "1/1 [==============================] - 0s 10ms/step - loss: 40.7993 - mae: 40.7993\n",
            "Epoch 58/100\n",
            "1/1 [==============================] - 0s 10ms/step - loss: 81.5399 - mae: 81.5399\n",
            "Epoch 59/100\n",
            "1/1 [==============================] - 0s 10ms/step - loss: 68.0453 - mae: 68.0453\n",
            "Epoch 60/100\n",
            "1/1 [==============================] - 0s 11ms/step - loss: 25.3074 - mae: 25.3074\n",
            "Epoch 61/100\n",
            "1/1 [==============================] - 0s 10ms/step - loss: 110.0914 - mae: 110.0914\n",
            "Epoch 62/100\n",
            "1/1 [==============================] - 0s 10ms/step - loss: 78.1691 - mae: 78.1691\n",
            "Epoch 63/100\n",
            "1/1 [==============================] - 0s 10ms/step - loss: 57.4078 - mae: 57.4078\n",
            "Epoch 64/100\n",
            "1/1 [==============================] - 0s 10ms/step - loss: 8.3556 - mae: 8.3556\n",
            "Epoch 65/100\n",
            "1/1 [==============================] - 0s 12ms/step - loss: 83.0807 - mae: 83.0807\n",
            "Epoch 66/100\n",
            "1/1 [==============================] - 0s 10ms/step - loss: 72.9926 - mae: 72.9926\n",
            "Epoch 67/100\n",
            "1/1 [==============================] - 0s 12ms/step - loss: 41.0486 - mae: 41.0486\n",
            "Epoch 68/100\n",
            "1/1 [==============================] - 0s 11ms/step - loss: 60.1481 - mae: 60.1481\n",
            "Epoch 69/100\n",
            "1/1 [==============================] - 0s 11ms/step - loss: 80.5564 - mae: 80.5564\n",
            "Epoch 70/100\n",
            "1/1 [==============================] - 0s 10ms/step - loss: 65.0373 - mae: 65.0373\n",
            "Epoch 71/100\n",
            "1/1 [==============================] - 0s 10ms/step - loss: 15.8846 - mae: 15.8846\n",
            "Epoch 72/100\n",
            "1/1 [==============================] - 0s 10ms/step - loss: 139.8401 - mae: 139.8401\n",
            "Epoch 73/100\n",
            "1/1 [==============================] - 0s 10ms/step - loss: 76.6825 - mae: 76.6825\n",
            "Epoch 74/100\n",
            "1/1 [==============================] - 0s 12ms/step - loss: 52.8058 - mae: 52.8058\n",
            "Epoch 75/100\n",
            "1/1 [==============================] - 0s 11ms/step - loss: 22.8291 - mae: 22.8291\n",
            "Epoch 76/100\n",
            "1/1 [==============================] - 0s 9ms/step - loss: 82.3331 - mae: 82.3331\n",
            "Epoch 77/100\n",
            "1/1 [==============================] - 0s 10ms/step - loss: 70.7319 - mae: 70.7319\n",
            "Epoch 78/100\n",
            "1/1 [==============================] - 0s 10ms/step - loss: 33.9937 - mae: 33.9937\n",
            "Epoch 79/100\n",
            "1/1 [==============================] - 0s 11ms/step - loss: 82.3943 - mae: 82.3943\n",
            "Epoch 80/100\n",
            "1/1 [==============================] - 0s 10ms/step - loss: 79.4328 - mae: 79.4328\n",
            "Epoch 81/100\n",
            "1/1 [==============================] - 0s 10ms/step - loss: 61.5852 - mae: 61.5852\n",
            "Epoch 82/100\n",
            "1/1 [==============================] - 0s 9ms/step - loss: 5.0548 - mae: 5.0548\n",
            "Epoch 83/100\n",
            "1/1 [==============================] - 0s 10ms/step - loss: 174.0475 - mae: 174.0475\n",
            "Epoch 84/100\n",
            "1/1 [==============================] - 0s 9ms/step - loss: 74.9803 - mae: 74.9803\n",
            "Epoch 85/100\n",
            "1/1 [==============================] - 0s 9ms/step - loss: 47.5204 - mae: 47.5204\n",
            "Epoch 86/100\n",
            "1/1 [==============================] - 0s 10ms/step - loss: 39.4681 - mae: 39.4681\n",
            "Epoch 87/100\n",
            "1/1 [==============================] - 0s 10ms/step - loss: 81.4806 - mae: 81.4806\n",
            "Epoch 88/100\n",
            "1/1 [==============================] - 0s 10ms/step - loss: 68.1392 - mae: 68.1392\n",
            "Epoch 89/100\n",
            "1/1 [==============================] - 0s 10ms/step - loss: 25.8870 - mae: 25.8870\n",
            "Epoch 90/100\n",
            "1/1 [==============================] - 0s 10ms/step - loss: 107.9728 - mae: 107.9728\n",
            "Epoch 91/100\n",
            "1/1 [==============================] - 0s 10ms/step - loss: 78.1479 - mae: 78.1479\n",
            "Epoch 92/100\n",
            "1/1 [==============================] - 0s 12ms/step - loss: 57.6224 - mae: 57.6224\n",
            "Epoch 93/100\n",
            "1/1 [==============================] - 0s 11ms/step - loss: 7.3935 - mae: 7.3935\n",
            "Epoch 94/100\n",
            "1/1 [==============================] - 0s 11ms/step - loss: 83.0036 - mae: 83.0036\n",
            "Epoch 95/100\n",
            "1/1 [==============================] - 0s 10ms/step - loss: 73.0300 - mae: 73.0300\n",
            "Epoch 96/100\n",
            "1/1 [==============================] - 0s 10ms/step - loss: 41.4490 - mae: 41.4490\n",
            "Epoch 97/100\n",
            "1/1 [==============================] - 0s 10ms/step - loss: 58.5976 - mae: 58.5976\n",
            "Epoch 98/100\n",
            "1/1 [==============================] - 0s 9ms/step - loss: 80.5077 - mae: 80.5077\n",
            "Epoch 99/100\n",
            "1/1 [==============================] - 0s 10ms/step - loss: 65.1649 - mae: 65.1649\n",
            "Epoch 100/100\n",
            "1/1 [==============================] - 0s 10ms/step - loss: 16.5708 - mae: 16.5708\n"
          ]
        },
        {
          "output_type": "execute_result",
          "data": {
            "text/plain": [
              "<keras.src.callbacks.History at 0x7d7e41136b60>"
            ]
          },
          "metadata": {},
          "execution_count": 130
        }
      ]
    },
    {
      "cell_type": "code",
      "source": [
        "# Make and plot predictions of model_2\n",
        "y_preds_2 = model_2.predict(X_test)"
      ],
      "metadata": {
        "id": "iCasf94B-qtF",
        "colab": {
          "base_uri": "https://localhost:8080/"
        },
        "outputId": "45b86bbf-b5f8-40aa-a1fd-2cbb40f191a0"
      },
      "execution_count": 131,
      "outputs": [
        {
          "output_type": "stream",
          "name": "stdout",
          "text": [
            "1/1 [==============================] - 0s 58ms/step\n"
          ]
        }
      ]
    },
    {
      "cell_type": "code",
      "source": [
        "y_preds_2"
      ],
      "metadata": {
        "id": "jhPgUxzN_o8L",
        "colab": {
          "base_uri": "https://localhost:8080/"
        },
        "outputId": "c613893b-6585-44e7-feb8-a7efa814458e"
      },
      "execution_count": 132,
      "outputs": [
        {
          "output_type": "execute_result",
          "data": {
            "text/plain": [
              "array([[173.48224],\n",
              "       [185.01595],\n",
              "       [196.54965],\n",
              "       [208.08337],\n",
              "       [219.61707],\n",
              "       [231.15077],\n",
              "       [242.68446],\n",
              "       [254.21815],\n",
              "       [265.75186],\n",
              "       [277.28558]], dtype=float32)"
            ]
          },
          "metadata": {},
          "execution_count": 132
        }
      ]
    },
    {
      "cell_type": "code",
      "source": [
        "plot_predictions(predictions=y_preds_2)"
      ],
      "metadata": {
        "id": "k1uwAGoN_ulW",
        "colab": {
          "base_uri": "https://localhost:8080/",
          "height": 599
        },
        "outputId": "6d33fda6-7222-4356-bbb7-5f2addf4da5c"
      },
      "execution_count": 133,
      "outputs": [
        {
          "output_type": "display_data",
          "data": {
            "text/plain": [
              "<Figure size 1000x700 with 1 Axes>"
            ],
            "image/png": "[encoded data removed]"
          },
          "metadata": {}
        }
      ]
    },
    {
      "cell_type": "code",
      "source": [
        "plot_predictions(train_data=X_train,train_labels=Y_train,test_data=X_test,test_labels=Y_test,predictions=y_preds_2)"
      ],
      "metadata": {
        "id": "XCLysQZIAtRK",
        "colab": {
          "base_uri": "https://localhost:8080/",
          "height": 599
        },
        "outputId": "ec6d4b2b-a140-4ca3-a4c9-a095462ea3b3"
      },
      "execution_count": 134,
      "outputs": [
        {
          "output_type": "display_data",
          "data": {
            "text/plain": [
              "<Figure size 1000x700 with 1 Axes>"
            ],
            "image/png": "[encoded data removed]"
          },
          "metadata": {}
        }
      ]
    },
    {
      "cell_type": "code",
      "source": [
        "# Calculate model_2 evaluation matrix\n",
        "mae_2 = mae(Y_test,y_preds_2)\n",
        "mse_2 = mse(Y_test,y_preds_2)\n",
        "mae_2, mse_2\n"
      ],
      "metadata": {
        "id": "Jr-BKw8KA7tO",
        "colab": {
          "base_uri": "https://localhost:8080/"
        },
        "outputId": "eeb11721-78fc-478e-e9d5-f21d5462a081"
      },
      "execution_count": 135,
      "outputs": [
        {
          "output_type": "execute_result",
          "data": {
            "text/plain": [
              "(<tf.Tensor: shape=(), dtype=float32, numpy=21.264822>,\n",
              " <tf.Tensor: shape=(), dtype=float32, numpy=455.62006>)"
            ]
          },
          "metadata": {},
          "execution_count": 135
        }
      ]
    },
    {
      "cell_type": "markdown",
      "source": [
        "# Build model 3\n",
        " * 2 layers, trained for 500 epochs\n"
      ],
      "metadata": {
        "id": "5Bvneig3B-Tk"
      }
    },
    {
      "cell_type": "code",
      "source": [
        "tf.random.set_seed(42)\n"
      ],
      "metadata": {
        "id": "AlqBjfAsCUV1"
      },
      "execution_count": 136,
      "outputs": []
    },
    {
      "cell_type": "code",
      "source": [
        "#create the model\n",
        "model_3 = tf.keras.Sequential([tf.keras.layers.Dense(10),\n",
        "                               tf.keras.layers.Dense(1)])"
      ],
      "metadata": {
        "id": "G_yozEhFCukP"
      },
      "execution_count": 137,
      "outputs": []
    },
    {
      "cell_type": "code",
      "source": [
        "#compile the model\n",
        "model_3.compile(loss=tf.keras.losses.mae,\n",
        "                optimizer=tf.keras.optimizers.SGD(),\n",
        "                metrics=[\"mae\"])\n",
        "#Train the model\n",
        "model_3.fit(tf.expand_dims(X_train,axis=-1),Y_train,epochs=500)"
      ],
      "metadata": {
        "id": "yZa1nwPwDWSA",
        "colab": {
          "base_uri": "https://localhost:8080/"
        },
        "outputId": "daf37763-e2c2-495f-fbaa-8e35463c443f"
      },
      "execution_count": 138,
      "outputs": [
        {
          "output_type": "stream",
          "name": "stdout",
          "text": [
            "Epoch 1/500\n",
            "2/2 [==============================] - 0s 11ms/step - loss: 24.4094 - mae: 24.4094\n",
            "Epoch 2/500\n",
            "2/2 [==============================] - 0s 7ms/step - loss: 24.5916 - mae: 24.5916\n",
            "Epoch 3/500\n",
            "2/2 [==============================] - 0s 8ms/step - loss: 29.2851 - mae: 29.2851\n",
            "Epoch 4/500\n",
            "2/2 [==============================] - 0s 12ms/step - loss: 15.1123 - mae: 15.1123\n",
            "Epoch 5/500\n",
            "2/2 [==============================] - 0s 12ms/step - loss: 21.7568 - mae: 21.7568\n",
            "Epoch 6/500\n",
            "2/2 [==============================] - 0s 7ms/step - loss: 11.9184 - mae: 11.9184\n",
            "Epoch 7/500\n",
            "2/2 [==============================] - 0s 8ms/step - loss: 13.0609 - mae: 13.0609\n",
            "Epoch 8/500\n",
            "2/2 [==============================] - 0s 7ms/step - loss: 11.2220 - mae: 11.2220\n",
            "Epoch 9/500\n",
            "2/2 [==============================] - 0s 7ms/step - loss: 41.6436 - mae: 41.6436\n",
            "Epoch 10/500\n",
            "2/2 [==============================] - 0s 7ms/step - loss: 28.8902 - mae: 28.8902\n",
            "Epoch 11/500\n",
            "2/2 [==============================] - 0s 8ms/step - loss: 8.5341 - mae: 8.5341\n",
            "Epoch 12/500\n",
            "2/2 [==============================] - 0s 8ms/step - loss: 27.5444 - mae: 27.5444\n",
            "Epoch 13/500\n",
            "2/2 [==============================] - 0s 8ms/step - loss: 12.1212 - mae: 12.1212\n",
            "Epoch 14/500\n",
            "2/2 [==============================] - 0s 7ms/step - loss: 34.8771 - mae: 34.8771\n",
            "Epoch 15/500\n",
            "2/2 [==============================] - 0s 7ms/step - loss: 22.7021 - mae: 22.7021\n",
            "Epoch 16/500\n",
            "2/2 [==============================] - 0s 8ms/step - loss: 9.9469 - mae: 9.9469\n",
            "Epoch 17/500\n",
            "2/2 [==============================] - 0s 8ms/step - loss: 17.9246 - mae: 17.9246\n",
            "Epoch 18/500\n",
            "2/2 [==============================] - 0s 7ms/step - loss: 14.4032 - mae: 14.4032\n",
            "Epoch 19/500\n",
            "2/2 [==============================] - 0s 8ms/step - loss: 14.5186 - mae: 14.5186\n",
            "Epoch 20/500\n",
            "2/2 [==============================] - 0s 7ms/step - loss: 10.4948 - mae: 10.4948\n",
            "Epoch 21/500\n",
            "2/2 [==============================] - 0s 8ms/step - loss: 15.2879 - mae: 15.2879\n",
            "Epoch 22/500\n",
            "2/2 [==============================] - 0s 7ms/step - loss: 15.9288 - mae: 15.9288\n",
            "Epoch 23/500\n",
            "2/2 [==============================] - 0s 7ms/step - loss: 9.8473 - mae: 9.8473\n",
            "Epoch 24/500\n",
            "2/2 [==============================] - 0s 8ms/step - loss: 16.4461 - mae: 16.4461\n",
            "Epoch 25/500\n",
            "2/2 [==============================] - 0s 7ms/step - loss: 15.3774 - mae: 15.3774\n",
            "Epoch 26/500\n",
            "2/2 [==============================] - 0s 8ms/step - loss: 20.5974 - mae: 20.5974\n",
            "Epoch 27/500\n",
            "2/2 [==============================] - 0s 7ms/step - loss: 26.3007 - mae: 26.3007\n",
            "Epoch 28/500\n",
            "2/2 [==============================] - 0s 7ms/step - loss: 18.7545 - mae: 18.7545\n",
            "Epoch 29/500\n",
            "2/2 [==============================] - 0s 6ms/step - loss: 9.2499 - mae: 9.2499\n",
            "Epoch 30/500\n",
            "2/2 [==============================] - 0s 8ms/step - loss: 29.3937 - mae: 29.3937\n",
            "Epoch 31/500\n",
            "2/2 [==============================] - 0s 8ms/step - loss: 53.2726 - mae: 53.2726\n",
            "Epoch 32/500\n",
            "2/2 [==============================] - 0s 7ms/step - loss: 9.4688 - mae: 9.4688\n",
            "Epoch 33/500\n",
            "2/2 [==============================] - 0s 9ms/step - loss: 12.0437 - mae: 12.0437\n",
            "Epoch 34/500\n",
            "2/2 [==============================] - 0s 7ms/step - loss: 23.2636 - mae: 23.2636\n",
            "Epoch 35/500\n",
            "2/2 [==============================] - 0s 7ms/step - loss: 11.8452 - mae: 11.8452\n",
            "Epoch 36/500\n",
            "2/2 [==============================] - 0s 7ms/step - loss: 21.8205 - mae: 21.8205\n",
            "Epoch 37/500\n",
            "2/2 [==============================] - 0s 6ms/step - loss: 11.1325 - mae: 11.1325\n",
            "Epoch 38/500\n",
            "2/2 [==============================] - 0s 6ms/step - loss: 12.7276 - mae: 12.7276\n",
            "Epoch 39/500\n",
            "2/2 [==============================] - 0s 6ms/step - loss: 11.5991 - mae: 11.5991\n",
            "Epoch 40/500\n",
            "2/2 [==============================] - 0s 7ms/step - loss: 19.2467 - mae: 19.2467\n",
            "Epoch 41/500\n",
            "2/2 [==============================] - 0s 7ms/step - loss: 10.9667 - mae: 10.9667\n",
            "Epoch 42/500\n",
            "2/2 [==============================] - 0s 6ms/step - loss: 9.2969 - mae: 9.2969\n",
            "Epoch 43/500\n",
            "2/2 [==============================] - 0s 7ms/step - loss: 9.5950 - mae: 9.5950\n",
            "Epoch 44/500\n",
            "2/2 [==============================] - 0s 8ms/step - loss: 27.9586 - mae: 27.9586\n",
            "Epoch 45/500\n",
            "2/2 [==============================] - 0s 8ms/step - loss: 11.2807 - mae: 11.2807\n",
            "Epoch 46/500\n",
            "2/2 [==============================] - 0s 8ms/step - loss: 14.0505 - mae: 14.0505\n",
            "Epoch 47/500\n",
            "2/2 [==============================] - 0s 8ms/step - loss: 13.5116 - mae: 13.5116\n",
            "Epoch 48/500\n",
            "2/2 [==============================] - 0s 8ms/step - loss: 17.3524 - mae: 17.3524\n",
            "Epoch 49/500\n",
            "2/2 [==============================] - 0s 7ms/step - loss: 9.5135 - mae: 9.5135\n",
            "Epoch 50/500\n",
            "2/2 [==============================] - 0s 7ms/step - loss: 13.6981 - mae: 13.6981\n",
            "Epoch 51/500\n",
            "2/2 [==============================] - 0s 10ms/step - loss: 11.5603 - mae: 11.5603\n",
            "Epoch 52/500\n",
            "2/2 [==============================] - 0s 7ms/step - loss: 30.1886 - mae: 30.1886\n",
            "Epoch 53/500\n",
            "2/2 [==============================] - 0s 7ms/step - loss: 13.7203 - mae: 13.7203\n",
            "Epoch 54/500\n",
            "2/2 [==============================] - 0s 6ms/step - loss: 26.4154 - mae: 26.4154\n",
            "Epoch 55/500\n",
            "2/2 [==============================] - 0s 8ms/step - loss: 26.0031 - mae: 26.0031\n",
            "Epoch 56/500\n",
            "2/2 [==============================] - 0s 8ms/step - loss: 11.2360 - mae: 11.2360\n",
            "Epoch 57/500\n",
            "2/2 [==============================] - 0s 8ms/step - loss: 13.2126 - mae: 13.2126\n",
            "Epoch 58/500\n",
            "2/2 [==============================] - 0s 8ms/step - loss: 9.8691 - mae: 9.8691\n",
            "Epoch 59/500\n",
            "2/2 [==============================] - 0s 7ms/step - loss: 13.4039 - mae: 13.4039\n",
            "Epoch 60/500\n",
            "2/2 [==============================] - 0s 7ms/step - loss: 10.9345 - mae: 10.9345\n",
            "Epoch 61/500\n",
            "2/2 [==============================] - 0s 7ms/step - loss: 13.5555 - mae: 13.5555\n",
            "Epoch 62/500\n",
            "2/2 [==============================] - 0s 8ms/step - loss: 17.8651 - mae: 17.8651\n",
            "Epoch 63/500\n",
            "2/2 [==============================] - 0s 6ms/step - loss: 8.7390 - mae: 8.7390\n",
            "Epoch 64/500\n",
            "2/2 [==============================] - 0s 8ms/step - loss: 16.1303 - mae: 16.1303\n",
            "Epoch 65/500\n",
            "2/2 [==============================] - 0s 7ms/step - loss: 10.7470 - mae: 10.7470\n",
            "Epoch 66/500\n",
            "2/2 [==============================] - 0s 9ms/step - loss: 22.1758 - mae: 22.1758\n",
            "Epoch 67/500\n",
            "2/2 [==============================] - 0s 9ms/step - loss: 10.2689 - mae: 10.2689\n",
            "Epoch 68/500\n",
            "2/2 [==============================] - 0s 8ms/step - loss: 13.4656 - mae: 13.4656\n",
            "Epoch 69/500\n",
            "2/2 [==============================] - 0s 7ms/step - loss: 11.4330 - mae: 11.4330\n",
            "Epoch 70/500\n",
            "2/2 [==============================] - 0s 7ms/step - loss: 13.6182 - mae: 13.6182\n",
            "Epoch 71/500\n",
            "2/2 [==============================] - 0s 7ms/step - loss: 15.6246 - mae: 15.6246\n",
            "Epoch 72/500\n",
            "2/2 [==============================] - 0s 7ms/step - loss: 11.8543 - mae: 11.8543\n",
            "Epoch 73/500\n",
            "2/2 [==============================] - 0s 8ms/step - loss: 16.6287 - mae: 16.6287\n",
            "Epoch 74/500\n",
            "2/2 [==============================] - 0s 7ms/step - loss: 24.1436 - mae: 24.1436\n",
            "Epoch 75/500\n",
            "2/2 [==============================] - 0s 7ms/step - loss: 9.6343 - mae: 9.6343\n",
            "Epoch 76/500\n",
            "2/2 [==============================] - 0s 7ms/step - loss: 12.4865 - mae: 12.4865\n",
            "Epoch 77/500\n",
            "2/2 [==============================] - 0s 7ms/step - loss: 16.7193 - mae: 16.7193\n",
            "Epoch 78/500\n",
            "2/2 [==============================] - 0s 7ms/step - loss: 9.0887 - mae: 9.0887\n",
            "Epoch 79/500\n",
            "2/2 [==============================] - 0s 7ms/step - loss: 24.0410 - mae: 24.0410\n",
            "Epoch 80/500\n",
            "2/2 [==============================] - 0s 7ms/step - loss: 26.8366 - mae: 26.8366\n",
            "Epoch 81/500\n",
            "2/2 [==============================] - 0s 7ms/step - loss: 11.7312 - mae: 11.7312\n",
            "Epoch 82/500\n",
            "2/2 [==============================] - 0s 8ms/step - loss: 12.0060 - mae: 12.0060\n",
            "Epoch 83/500\n",
            "2/2 [==============================] - 0s 8ms/step - loss: 17.3992 - mae: 17.3992\n",
            "Epoch 84/500\n",
            "2/2 [==============================] - 0s 8ms/step - loss: 7.2760 - mae: 7.2760\n",
            "Epoch 85/500\n",
            "2/2 [==============================] - 0s 8ms/step - loss: 14.9524 - mae: 14.9524\n",
            "Epoch 86/500\n",
            "2/2 [==============================] - 0s 7ms/step - loss: 15.2780 - mae: 15.2780\n",
            "Epoch 87/500\n",
            "2/2 [==============================] - 0s 8ms/step - loss: 19.0827 - mae: 19.0827\n",
            "Epoch 88/500\n",
            "2/2 [==============================] - 0s 7ms/step - loss: 29.8972 - mae: 29.8972\n",
            "Epoch 89/500\n",
            "2/2 [==============================] - 0s 7ms/step - loss: 10.2036 - mae: 10.2036\n",
            "Epoch 90/500\n",
            "2/2 [==============================] - 0s 8ms/step - loss: 21.5812 - mae: 21.5812\n",
            "Epoch 91/500\n",
            "2/2 [==============================] - 0s 7ms/step - loss: 10.6025 - mae: 10.6025\n",
            "Epoch 92/500\n",
            "2/2 [==============================] - 0s 8ms/step - loss: 18.4477 - mae: 18.4477\n",
            "Epoch 93/500\n",
            "2/2 [==============================] - 0s 8ms/step - loss: 7.4339 - mae: 7.4339\n",
            "Epoch 94/500\n",
            "2/2 [==============================] - 0s 8ms/step - loss: 17.7796 - mae: 17.7796\n",
            "Epoch 95/500\n",
            "2/2 [==============================] - 0s 8ms/step - loss: 11.1446 - mae: 11.1446\n",
            "Epoch 96/500\n",
            "2/2 [==============================] - 0s 8ms/step - loss: 19.4768 - mae: 19.4768\n",
            "Epoch 97/500\n",
            "2/2 [==============================] - 0s 8ms/step - loss: 12.5168 - mae: 12.5168\n",
            "Epoch 98/500\n",
            "2/2 [==============================] - 0s 7ms/step - loss: 10.3109 - mae: 10.3109\n",
            "Epoch 99/500\n",
            "2/2 [==============================] - 0s 7ms/step - loss: 13.8419 - mae: 13.8419\n",
            "Epoch 100/500\n",
            "2/2 [==============================] - 0s 7ms/step - loss: 20.1354 - mae: 20.1354\n",
            "Epoch 101/500\n",
            "2/2 [==============================] - 0s 7ms/step - loss: 11.4316 - mae: 11.4316\n",
            "Epoch 102/500\n",
            "2/2 [==============================] - 0s 7ms/step - loss: 17.4015 - mae: 17.4015\n",
            "Epoch 103/500\n",
            "2/2 [==============================] - 0s 7ms/step - loss: 7.7794 - mae: 7.7794\n",
            "Epoch 104/500\n",
            "2/2 [==============================] - 0s 8ms/step - loss: 22.1247 - mae: 22.1247\n",
            "Epoch 105/500\n",
            "2/2 [==============================] - 0s 7ms/step - loss: 20.6648 - mae: 20.6648\n",
            "Epoch 106/500\n",
            "2/2 [==============================] - 0s 8ms/step - loss: 10.0603 - mae: 10.0603\n",
            "Epoch 107/500\n",
            "2/2 [==============================] - 0s 8ms/step - loss: 24.6479 - mae: 24.6479\n",
            "Epoch 108/500\n",
            "2/2 [==============================] - 0s 7ms/step - loss: 15.4484 - mae: 15.4484\n",
            "Epoch 109/500\n",
            "2/2 [==============================] - 0s 8ms/step - loss: 8.1804 - mae: 8.1804\n",
            "Epoch 110/500\n",
            "2/2 [==============================] - 0s 8ms/step - loss: 6.7486 - mae: 6.7486\n",
            "Epoch 111/500\n",
            "2/2 [==============================] - 0s 8ms/step - loss: 11.0123 - mae: 11.0123\n",
            "Epoch 112/500\n",
            "2/2 [==============================] - 0s 8ms/step - loss: 19.9139 - mae: 19.9139\n",
            "Epoch 113/500\n",
            "2/2 [==============================] - 0s 7ms/step - loss: 14.6627 - mae: 14.6627\n",
            "Epoch 114/500\n",
            "2/2 [==============================] - 0s 7ms/step - loss: 18.3929 - mae: 18.3929\n",
            "Epoch 115/500\n",
            "2/2 [==============================] - 0s 7ms/step - loss: 10.8992 - mae: 10.8992\n",
            "Epoch 116/500\n",
            "2/2 [==============================] - 0s 7ms/step - loss: 22.3682 - mae: 22.3682\n",
            "Epoch 117/500\n",
            "2/2 [==============================] - 0s 7ms/step - loss: 9.3444 - mae: 9.3444\n",
            "Epoch 118/500\n",
            "2/2 [==============================] - 0s 7ms/step - loss: 10.3677 - mae: 10.3677\n",
            "Epoch 119/500\n",
            "2/2 [==============================] - 0s 7ms/step - loss: 8.0333 - mae: 8.0333\n",
            "Epoch 120/500\n",
            "2/2 [==============================] - 0s 7ms/step - loss: 37.7424 - mae: 37.7424\n",
            "Epoch 121/500\n",
            "2/2 [==============================] - 0s 7ms/step - loss: 10.6734 - mae: 10.6734\n",
            "Epoch 122/500\n",
            "2/2 [==============================] - 0s 8ms/step - loss: 28.2886 - mae: 28.2886\n",
            "Epoch 123/500\n",
            "2/2 [==============================] - 0s 8ms/step - loss: 32.8732 - mae: 32.8732\n",
            "Epoch 124/500\n",
            "2/2 [==============================] - 0s 7ms/step - loss: 19.6217 - mae: 19.6217\n",
            "Epoch 125/500\n",
            "2/2 [==============================] - 0s 9ms/step - loss: 7.0611 - mae: 7.0611\n",
            "Epoch 126/500\n",
            "2/2 [==============================] - 0s 8ms/step - loss: 21.7736 - mae: 21.7736\n",
            "Epoch 127/500\n",
            "2/2 [==============================] - 0s 9ms/step - loss: 8.0189 - mae: 8.0189\n",
            "Epoch 128/500\n",
            "2/2 [==============================] - 0s 9ms/step - loss: 21.0104 - mae: 21.0104\n",
            "Epoch 129/500\n",
            "2/2 [==============================] - 0s 9ms/step - loss: 9.0473 - mae: 9.0473\n",
            "Epoch 130/500\n",
            "2/2 [==============================] - 0s 12ms/step - loss: 23.9714 - mae: 23.9714\n",
            "Epoch 131/500\n",
            "2/2 [==============================] - 0s 10ms/step - loss: 9.7827 - mae: 9.7827\n",
            "Epoch 132/500\n",
            "2/2 [==============================] - 0s 8ms/step - loss: 18.2290 - mae: 18.2290\n",
            "Epoch 133/500\n",
            "2/2 [==============================] - 0s 8ms/step - loss: 7.6129 - mae: 7.6129\n",
            "Epoch 134/500\n",
            "2/2 [==============================] - 0s 6ms/step - loss: 18.4924 - mae: 18.4924\n",
            "Epoch 135/500\n",
            "2/2 [==============================] - 0s 8ms/step - loss: 10.5477 - mae: 10.5477\n",
            "Epoch 136/500\n",
            "2/2 [==============================] - 0s 8ms/step - loss: 18.1860 - mae: 18.1860\n",
            "Epoch 137/500\n",
            "2/2 [==============================] - 0s 9ms/step - loss: 23.0359 - mae: 23.0359\n",
            "Epoch 138/500\n",
            "2/2 [==============================] - 0s 8ms/step - loss: 9.1199 - mae: 9.1199\n",
            "Epoch 139/500\n",
            "2/2 [==============================] - 0s 11ms/step - loss: 8.9190 - mae: 8.9190\n",
            "Epoch 140/500\n",
            "2/2 [==============================] - 0s 9ms/step - loss: 16.3542 - mae: 16.3542\n",
            "Epoch 141/500\n",
            "2/2 [==============================] - 0s 8ms/step - loss: 8.4590 - mae: 8.4590\n",
            "Epoch 142/500\n",
            "2/2 [==============================] - 0s 8ms/step - loss: 36.6425 - mae: 36.6425\n",
            "Epoch 143/500\n",
            "2/2 [==============================] - 0s 8ms/step - loss: 25.3582 - mae: 25.3582\n",
            "Epoch 144/500\n",
            "2/2 [==============================] - 0s 8ms/step - loss: 10.4756 - mae: 10.4756\n",
            "Epoch 145/500\n",
            "2/2 [==============================] - 0s 8ms/step - loss: 25.7807 - mae: 25.7807\n",
            "Epoch 146/500\n",
            "2/2 [==============================] - 0s 8ms/step - loss: 10.0450 - mae: 10.0450\n",
            "Epoch 147/500\n",
            "2/2 [==============================] - 0s 8ms/step - loss: 14.6888 - mae: 14.6888\n",
            "Epoch 148/500\n",
            "2/2 [==============================] - 0s 8ms/step - loss: 17.7796 - mae: 17.7796\n",
            "Epoch 149/500\n",
            "2/2 [==============================] - 0s 8ms/step - loss: 8.5200 - mae: 8.5200\n",
            "Epoch 150/500\n",
            "2/2 [==============================] - 0s 8ms/step - loss: 7.6519 - mae: 7.6519\n",
            "Epoch 151/500\n",
            "2/2 [==============================] - 0s 7ms/step - loss: 18.9973 - mae: 18.9973\n",
            "Epoch 152/500\n",
            "2/2 [==============================] - 0s 8ms/step - loss: 10.5117 - mae: 10.5117\n",
            "Epoch 153/500\n",
            "2/2 [==============================] - 0s 9ms/step - loss: 30.6094 - mae: 30.6094\n",
            "Epoch 154/500\n",
            "2/2 [==============================] - 0s 8ms/step - loss: 9.9572 - mae: 9.9572\n",
            "Epoch 155/500\n",
            "2/2 [==============================] - 0s 8ms/step - loss: 15.7057 - mae: 15.7057\n",
            "Epoch 156/500\n",
            "2/2 [==============================] - 0s 8ms/step - loss: 17.5689 - mae: 17.5689\n",
            "Epoch 157/500\n",
            "2/2 [==============================] - 0s 9ms/step - loss: 31.3817 - mae: 31.3817\n",
            "Epoch 158/500\n",
            "2/2 [==============================] - 0s 8ms/step - loss: 10.3050 - mae: 10.3050\n",
            "Epoch 159/500\n",
            "2/2 [==============================] - 0s 8ms/step - loss: 8.7362 - mae: 8.7362\n",
            "Epoch 160/500\n",
            "2/2 [==============================] - 0s 11ms/step - loss: 20.9375 - mae: 20.9375\n",
            "Epoch 161/500\n",
            "2/2 [==============================] - 0s 8ms/step - loss: 11.9009 - mae: 11.9009\n",
            "Epoch 162/500\n",
            "2/2 [==============================] - 0s 8ms/step - loss: 21.9179 - mae: 21.9179\n",
            "Epoch 163/500\n",
            "2/2 [==============================] - 0s 8ms/step - loss: 19.5835 - mae: 19.5835\n",
            "Epoch 164/500\n",
            "2/2 [==============================] - 0s 8ms/step - loss: 11.4734 - mae: 11.4734\n",
            "Epoch 165/500\n",
            "2/2 [==============================] - 0s 8ms/step - loss: 11.6036 - mae: 11.6036\n",
            "Epoch 166/500\n",
            "2/2 [==============================] - 0s 8ms/step - loss: 21.3321 - mae: 21.3321\n",
            "Epoch 167/500\n",
            "2/2 [==============================] - 0s 9ms/step - loss: 26.9504 - mae: 26.9504\n",
            "Epoch 168/500\n",
            "2/2 [==============================] - 0s 12ms/step - loss: 10.0381 - mae: 10.0381\n",
            "Epoch 169/500\n",
            "2/2 [==============================] - 0s 7ms/step - loss: 23.1863 - mae: 23.1863\n",
            "Epoch 170/500\n",
            "2/2 [==============================] - 0s 8ms/step - loss: 9.5974 - mae: 9.5974\n",
            "Epoch 171/500\n",
            "2/2 [==============================] - 0s 8ms/step - loss: 15.8495 - mae: 15.8495\n",
            "Epoch 172/500\n",
            "2/2 [==============================] - 0s 8ms/step - loss: 13.8897 - mae: 13.8897\n",
            "Epoch 173/500\n",
            "2/2 [==============================] - 0s 7ms/step - loss: 22.5733 - mae: 22.5733\n",
            "Epoch 174/500\n",
            "2/2 [==============================] - 0s 7ms/step - loss: 11.3816 - mae: 11.3816\n",
            "Epoch 175/500\n",
            "2/2 [==============================] - 0s 7ms/step - loss: 20.1121 - mae: 20.1121\n",
            "Epoch 176/500\n",
            "2/2 [==============================] - 0s 8ms/step - loss: 7.4396 - mae: 7.4396\n",
            "Epoch 177/500\n",
            "2/2 [==============================] - 0s 7ms/step - loss: 8.6265 - mae: 8.6265\n",
            "Epoch 178/500\n",
            "2/2 [==============================] - 0s 7ms/step - loss: 15.5157 - mae: 15.5157\n",
            "Epoch 179/500\n",
            "2/2 [==============================] - 0s 7ms/step - loss: 9.2915 - mae: 9.2915\n",
            "Epoch 180/500\n",
            "2/2 [==============================] - 0s 7ms/step - loss: 8.1570 - mae: 8.1570\n",
            "Epoch 181/500\n",
            "2/2 [==============================] - 0s 7ms/step - loss: 18.7402 - mae: 18.7402\n",
            "Epoch 182/500\n",
            "2/2 [==============================] - 0s 7ms/step - loss: 10.8090 - mae: 10.8090\n",
            "Epoch 183/500\n",
            "2/2 [==============================] - 0s 8ms/step - loss: 10.9232 - mae: 10.9232\n",
            "Epoch 184/500\n",
            "2/2 [==============================] - 0s 7ms/step - loss: 33.7362 - mae: 33.7362\n",
            "Epoch 185/500\n",
            "2/2 [==============================] - 0s 7ms/step - loss: 7.6494 - mae: 7.6494\n",
            "Epoch 186/500\n",
            "2/2 [==============================] - 0s 12ms/step - loss: 16.7979 - mae: 16.7979\n",
            "Epoch 187/500\n",
            "2/2 [==============================] - 0s 7ms/step - loss: 10.1994 - mae: 10.1994\n",
            "Epoch 188/500\n",
            "2/2 [==============================] - 0s 8ms/step - loss: 23.0361 - mae: 23.0361\n",
            "Epoch 189/500\n",
            "2/2 [==============================] - 0s 7ms/step - loss: 9.9032 - mae: 9.9032\n",
            "Epoch 190/500\n",
            "2/2 [==============================] - 0s 7ms/step - loss: 15.3107 - mae: 15.3107\n",
            "Epoch 191/500\n",
            "2/2 [==============================] - 0s 7ms/step - loss: 9.9585 - mae: 9.9585\n",
            "Epoch 192/500\n",
            "2/2 [==============================] - 0s 7ms/step - loss: 14.9969 - mae: 14.9969\n",
            "Epoch 193/500\n",
            "2/2 [==============================] - 0s 7ms/step - loss: 29.6682 - mae: 29.6682\n",
            "Epoch 194/500\n",
            "2/2 [==============================] - 0s 8ms/step - loss: 8.3832 - mae: 8.3832\n",
            "Epoch 195/500\n",
            "2/2 [==============================] - 0s 7ms/step - loss: 12.9100 - mae: 12.9100\n",
            "Epoch 196/500\n",
            "2/2 [==============================] - 0s 7ms/step - loss: 23.9411 - mae: 23.9411\n",
            "Epoch 197/500\n",
            "2/2 [==============================] - 0s 7ms/step - loss: 16.7883 - mae: 16.7883\n",
            "Epoch 198/500\n",
            "2/2 [==============================] - 0s 8ms/step - loss: 11.4769 - mae: 11.4769\n",
            "Epoch 199/500\n",
            "2/2 [==============================] - 0s 8ms/step - loss: 19.5873 - mae: 19.5873\n",
            "Epoch 200/500\n",
            "2/2 [==============================] - 0s 8ms/step - loss: 15.5759 - mae: 15.5759\n",
            "Epoch 201/500\n",
            "2/2 [==============================] - 0s 8ms/step - loss: 5.7501 - mae: 5.7501\n",
            "Epoch 202/500\n",
            "2/2 [==============================] - 0s 7ms/step - loss: 28.2036 - mae: 28.2036\n",
            "Epoch 203/500\n",
            "2/2 [==============================] - 0s 8ms/step - loss: 9.7817 - mae: 9.7817\n",
            "Epoch 204/500\n",
            "2/2 [==============================] - 0s 7ms/step - loss: 22.3192 - mae: 22.3192\n",
            "Epoch 205/500\n",
            "2/2 [==============================] - 0s 8ms/step - loss: 10.0671 - mae: 10.0671\n",
            "Epoch 206/500\n",
            "2/2 [==============================] - 0s 7ms/step - loss: 12.3682 - mae: 12.3682\n",
            "Epoch 207/500\n",
            "2/2 [==============================] - 0s 7ms/step - loss: 15.5502 - mae: 15.5502\n",
            "Epoch 208/500\n",
            "2/2 [==============================] - 0s 7ms/step - loss: 14.0472 - mae: 14.0472\n",
            "Epoch 209/500\n",
            "2/2 [==============================] - 0s 7ms/step - loss: 16.2529 - mae: 16.2529\n",
            "Epoch 210/500\n",
            "2/2 [==============================] - 0s 7ms/step - loss: 17.6770 - mae: 17.6770\n",
            "Epoch 211/500\n",
            "2/2 [==============================] - 0s 8ms/step - loss: 9.7974 - mae: 9.7974\n",
            "Epoch 212/500\n",
            "2/2 [==============================] - 0s 7ms/step - loss: 18.0514 - mae: 18.0514\n",
            "Epoch 213/500\n",
            "2/2 [==============================] - 0s 8ms/step - loss: 15.1355 - mae: 15.1355\n",
            "Epoch 214/500\n",
            "2/2 [==============================] - 0s 9ms/step - loss: 14.6535 - mae: 14.6535\n",
            "Epoch 215/500\n",
            "2/2 [==============================] - 0s 8ms/step - loss: 23.4190 - mae: 23.4190\n",
            "Epoch 216/500\n",
            "2/2 [==============================] - 0s 8ms/step - loss: 12.8739 - mae: 12.8739\n",
            "Epoch 217/500\n",
            "2/2 [==============================] - 0s 8ms/step - loss: 12.0249 - mae: 12.0249\n",
            "Epoch 218/500\n",
            "2/2 [==============================] - 0s 8ms/step - loss: 17.1044 - mae: 17.1044\n",
            "Epoch 219/500\n",
            "2/2 [==============================] - 0s 8ms/step - loss: 9.4970 - mae: 9.4970\n",
            "Epoch 220/500\n",
            "2/2 [==============================] - 0s 8ms/step - loss: 13.8679 - mae: 13.8679\n",
            "Epoch 221/500\n",
            "2/2 [==============================] - 0s 8ms/step - loss: 32.2657 - mae: 32.2657\n",
            "Epoch 222/500\n",
            "2/2 [==============================] - 0s 11ms/step - loss: 11.0607 - mae: 11.0607\n",
            "Epoch 223/500\n",
            "2/2 [==============================] - 0s 8ms/step - loss: 8.6500 - mae: 8.6500\n",
            "Epoch 224/500\n",
            "2/2 [==============================] - 0s 10ms/step - loss: 14.5740 - mae: 14.5740\n",
            "Epoch 225/500\n",
            "2/2 [==============================] - 0s 8ms/step - loss: 16.5847 - mae: 16.5847\n",
            "Epoch 226/500\n",
            "2/2 [==============================] - 0s 9ms/step - loss: 15.8116 - mae: 15.8116\n",
            "Epoch 227/500\n",
            "2/2 [==============================] - 0s 8ms/step - loss: 16.0243 - mae: 16.0243\n",
            "Epoch 228/500\n",
            "2/2 [==============================] - 0s 7ms/step - loss: 13.8107 - mae: 13.8107\n",
            "Epoch 229/500\n",
            "2/2 [==============================] - 0s 7ms/step - loss: 17.9196 - mae: 17.9196\n",
            "Epoch 230/500\n",
            "2/2 [==============================] - 0s 8ms/step - loss: 15.5287 - mae: 15.5287\n",
            "Epoch 231/500\n",
            "2/2 [==============================] - 0s 8ms/step - loss: 21.0026 - mae: 21.0026\n",
            "Epoch 232/500\n",
            "2/2 [==============================] - 0s 9ms/step - loss: 25.7312 - mae: 25.7312\n",
            "Epoch 233/500\n",
            "2/2 [==============================] - 0s 8ms/step - loss: 16.6811 - mae: 16.6811\n",
            "Epoch 234/500\n",
            "2/2 [==============================] - 0s 8ms/step - loss: 7.4008 - mae: 7.4008\n",
            "Epoch 235/500\n",
            "2/2 [==============================] - 0s 9ms/step - loss: 17.3243 - mae: 17.3243\n",
            "Epoch 236/500\n",
            "2/2 [==============================] - 0s 8ms/step - loss: 7.2808 - mae: 7.2808\n",
            "Epoch 237/500\n",
            "2/2 [==============================] - 0s 8ms/step - loss: 9.4053 - mae: 9.4053\n",
            "Epoch 238/500\n",
            "2/2 [==============================] - 0s 8ms/step - loss: 8.2229 - mae: 8.2229\n",
            "Epoch 239/500\n",
            "2/2 [==============================] - 0s 8ms/step - loss: 17.3575 - mae: 17.3575\n",
            "Epoch 240/500\n",
            "2/2 [==============================] - 0s 9ms/step - loss: 9.0207 - mae: 9.0207\n",
            "Epoch 241/500\n",
            "2/2 [==============================] - 0s 8ms/step - loss: 13.4018 - mae: 13.4018\n",
            "Epoch 242/500\n",
            "2/2 [==============================] - 0s 8ms/step - loss: 8.9127 - mae: 8.9127\n",
            "Epoch 243/500\n",
            "2/2 [==============================] - 0s 8ms/step - loss: 19.2198 - mae: 19.2198\n",
            "Epoch 244/500\n",
            "2/2 [==============================] - 0s 8ms/step - loss: 13.9247 - mae: 13.9247\n",
            "Epoch 245/500\n",
            "2/2 [==============================] - 0s 8ms/step - loss: 14.5676 - mae: 14.5676\n",
            "Epoch 246/500\n",
            "2/2 [==============================] - 0s 8ms/step - loss: 15.7117 - mae: 15.7117\n",
            "Epoch 247/500\n",
            "2/2 [==============================] - 0s 9ms/step - loss: 17.5566 - mae: 17.5566\n",
            "Epoch 248/500\n",
            "2/2 [==============================] - 0s 8ms/step - loss: 13.1216 - mae: 13.1216\n",
            "Epoch 249/500\n",
            "2/2 [==============================] - 0s 8ms/step - loss: 14.4474 - mae: 14.4474\n",
            "Epoch 250/500\n",
            "2/2 [==============================] - 0s 8ms/step - loss: 27.8527 - mae: 27.8527\n",
            "Epoch 251/500\n",
            "2/2 [==============================] - 0s 8ms/step - loss: 7.5364 - mae: 7.5364\n",
            "Epoch 252/500\n",
            "2/2 [==============================] - 0s 9ms/step - loss: 38.0345 - mae: 38.0345\n",
            "Epoch 253/500\n",
            "2/2 [==============================] - 0s 8ms/step - loss: 22.8773 - mae: 22.8773\n",
            "Epoch 254/500\n",
            "2/2 [==============================] - 0s 8ms/step - loss: 7.4641 - mae: 7.4641\n",
            "Epoch 255/500\n",
            "2/2 [==============================] - 0s 8ms/step - loss: 25.7514 - mae: 25.7514\n",
            "Epoch 256/500\n",
            "2/2 [==============================] - 0s 11ms/step - loss: 13.3939 - mae: 13.3939\n",
            "Epoch 257/500\n",
            "2/2 [==============================] - 0s 10ms/step - loss: 9.3302 - mae: 9.3302\n",
            "Epoch 258/500\n",
            "2/2 [==============================] - 0s 8ms/step - loss: 15.5730 - mae: 15.5730\n",
            "Epoch 259/500\n",
            "2/2 [==============================] - 0s 8ms/step - loss: 10.4954 - mae: 10.4954\n",
            "Epoch 260/500\n",
            "2/2 [==============================] - 0s 8ms/step - loss: 34.8098 - mae: 34.8098\n",
            "Epoch 261/500\n",
            "2/2 [==============================] - 0s 8ms/step - loss: 13.2390 - mae: 13.2390\n",
            "Epoch 262/500\n",
            "2/2 [==============================] - 0s 7ms/step - loss: 8.0731 - mae: 8.0731\n",
            "Epoch 263/500\n",
            "2/2 [==============================] - 0s 8ms/step - loss: 7.7761 - mae: 7.7761\n",
            "Epoch 264/500\n",
            "2/2 [==============================] - 0s 8ms/step - loss: 16.7052 - mae: 16.7052\n",
            "Epoch 265/500\n",
            "2/2 [==============================] - 0s 8ms/step - loss: 12.6617 - mae: 12.6617\n",
            "Epoch 266/500\n",
            "2/2 [==============================] - 0s 8ms/step - loss: 14.2080 - mae: 14.2080\n",
            "Epoch 267/500\n",
            "2/2 [==============================] - 0s 9ms/step - loss: 11.3533 - mae: 11.3533\n",
            "Epoch 268/500\n",
            "2/2 [==============================] - 0s 11ms/step - loss: 19.8132 - mae: 19.8132\n",
            "Epoch 269/500\n",
            "2/2 [==============================] - 0s 11ms/step - loss: 38.6844 - mae: 38.6844\n",
            "Epoch 270/500\n",
            "2/2 [==============================] - 0s 8ms/step - loss: 11.5432 - mae: 11.5432\n",
            "Epoch 271/500\n",
            "2/2 [==============================] - 0s 8ms/step - loss: 13.9544 - mae: 13.9544\n",
            "Epoch 272/500\n",
            "2/2 [==============================] - 0s 8ms/step - loss: 27.6297 - mae: 27.6297\n",
            "Epoch 273/500\n",
            "2/2 [==============================] - 0s 10ms/step - loss: 8.4227 - mae: 8.4227\n",
            "Epoch 274/500\n",
            "2/2 [==============================] - 0s 11ms/step - loss: 6.4902 - mae: 6.4902\n",
            "Epoch 275/500\n",
            "2/2 [==============================] - 0s 10ms/step - loss: 35.5444 - mae: 35.5444\n",
            "Epoch 276/500\n",
            "2/2 [==============================] - 0s 8ms/step - loss: 8.1485 - mae: 8.1485\n",
            "Epoch 277/500\n",
            "2/2 [==============================] - 0s 8ms/step - loss: 26.6000 - mae: 26.6000\n",
            "Epoch 278/500\n",
            "2/2 [==============================] - 0s 8ms/step - loss: 10.8997 - mae: 10.8997\n",
            "Epoch 279/500\n",
            "2/2 [==============================] - 0s 8ms/step - loss: 16.2947 - mae: 16.2947\n",
            "Epoch 280/500\n",
            "2/2 [==============================] - 0s 8ms/step - loss: 21.6359 - mae: 21.6359\n",
            "Epoch 281/500\n",
            "2/2 [==============================] - 0s 9ms/step - loss: 22.8502 - mae: 22.8502\n",
            "Epoch 282/500\n",
            "2/2 [==============================] - 0s 10ms/step - loss: 7.9853 - mae: 7.9853\n",
            "Epoch 283/500\n",
            "2/2 [==============================] - 0s 10ms/step - loss: 8.2904 - mae: 8.2904\n",
            "Epoch 284/500\n",
            "2/2 [==============================] - 0s 10ms/step - loss: 25.6091 - mae: 25.6091\n",
            "Epoch 285/500\n",
            "2/2 [==============================] - 0s 8ms/step - loss: 14.2077 - mae: 14.2077\n",
            "Epoch 286/500\n",
            "2/2 [==============================] - 0s 11ms/step - loss: 5.2695 - mae: 5.2695\n",
            "Epoch 287/500\n",
            "2/2 [==============================] - 0s 7ms/step - loss: 20.8320 - mae: 20.8320\n",
            "Epoch 288/500\n",
            "2/2 [==============================] - 0s 7ms/step - loss: 27.5805 - mae: 27.5805\n",
            "Epoch 289/500\n",
            "2/2 [==============================] - 0s 8ms/step - loss: 10.4446 - mae: 10.4446\n",
            "Epoch 290/500\n",
            "2/2 [==============================] - 0s 11ms/step - loss: 16.3165 - mae: 16.3165\n",
            "Epoch 291/500\n",
            "2/2 [==============================] - 0s 7ms/step - loss: 16.5059 - mae: 16.5059\n",
            "Epoch 292/500\n",
            "2/2 [==============================] - 0s 10ms/step - loss: 7.4393 - mae: 7.4393\n",
            "Epoch 293/500\n",
            "2/2 [==============================] - 0s 9ms/step - loss: 16.5528 - mae: 16.5528\n",
            "Epoch 294/500\n",
            "2/2 [==============================] - 0s 9ms/step - loss: 25.3397 - mae: 25.3397\n",
            "Epoch 295/500\n",
            "2/2 [==============================] - 0s 8ms/step - loss: 14.5701 - mae: 14.5701\n",
            "Epoch 296/500\n",
            "2/2 [==============================] - 0s 8ms/step - loss: 4.6799 - mae: 4.6799\n",
            "Epoch 297/500\n",
            "2/2 [==============================] - 0s 7ms/step - loss: 7.2886 - mae: 7.2886\n",
            "Epoch 298/500\n",
            "2/2 [==============================] - 0s 8ms/step - loss: 19.6060 - mae: 19.6060\n",
            "Epoch 299/500\n",
            "2/2 [==============================] - 0s 7ms/step - loss: 6.6245 - mae: 6.6245\n",
            "Epoch 300/500\n",
            "2/2 [==============================] - 0s 7ms/step - loss: 22.0545 - mae: 22.0545\n",
            "Epoch 301/500\n",
            "2/2 [==============================] - 0s 7ms/step - loss: 9.1413 - mae: 9.1413\n",
            "Epoch 302/500\n",
            "2/2 [==============================] - 0s 9ms/step - loss: 11.1958 - mae: 11.1958\n",
            "Epoch 303/500\n",
            "2/2 [==============================] - 0s 8ms/step - loss: 9.3447 - mae: 9.3447\n",
            "Epoch 304/500\n",
            "2/2 [==============================] - 0s 8ms/step - loss: 23.7113 - mae: 23.7113\n",
            "Epoch 305/500\n",
            "2/2 [==============================] - 0s 7ms/step - loss: 7.9291 - mae: 7.9291\n",
            "Epoch 306/500\n",
            "2/2 [==============================] - 0s 8ms/step - loss: 23.7662 - mae: 23.7662\n",
            "Epoch 307/500\n",
            "2/2 [==============================] - 0s 8ms/step - loss: 5.8885 - mae: 5.8885\n",
            "Epoch 308/500\n",
            "2/2 [==============================] - 0s 7ms/step - loss: 21.3200 - mae: 21.3200\n",
            "Epoch 309/500\n",
            "2/2 [==============================] - 0s 7ms/step - loss: 18.4195 - mae: 18.4195\n",
            "Epoch 310/500\n",
            "2/2 [==============================] - 0s 7ms/step - loss: 4.5031 - mae: 4.5031\n",
            "Epoch 311/500\n",
            "2/2 [==============================] - 0s 11ms/step - loss: 6.5132 - mae: 6.5132\n",
            "Epoch 312/500\n",
            "2/2 [==============================] - 0s 10ms/step - loss: 35.4656 - mae: 35.4656\n",
            "Epoch 313/500\n",
            "2/2 [==============================] - 0s 12ms/step - loss: 28.9442 - mae: 28.9442\n",
            "Epoch 314/500\n",
            "2/2 [==============================] - 0s 8ms/step - loss: 11.1919 - mae: 11.1919\n",
            "Epoch 315/500\n",
            "2/2 [==============================] - 0s 9ms/step - loss: 23.5461 - mae: 23.5461\n",
            "Epoch 316/500\n",
            "2/2 [==============================] - 0s 8ms/step - loss: 14.4362 - mae: 14.4362\n",
            "Epoch 317/500\n",
            "2/2 [==============================] - 0s 7ms/step - loss: 19.9884 - mae: 19.9884\n",
            "Epoch 318/500\n",
            "2/2 [==============================] - 0s 8ms/step - loss: 8.0054 - mae: 8.0054\n",
            "Epoch 319/500\n",
            "2/2 [==============================] - 0s 9ms/step - loss: 18.1247 - mae: 18.1247\n",
            "Epoch 320/500\n",
            "2/2 [==============================] - 0s 8ms/step - loss: 10.6521 - mae: 10.6521\n",
            "Epoch 321/500\n",
            "2/2 [==============================] - 0s 8ms/step - loss: 7.0353 - mae: 7.0353\n",
            "Epoch 322/500\n",
            "2/2 [==============================] - 0s 11ms/step - loss: 8.6699 - mae: 8.6699\n",
            "Epoch 323/500\n",
            "2/2 [==============================] - 0s 8ms/step - loss: 18.3299 - mae: 18.3299\n",
            "Epoch 324/500\n",
            "2/2 [==============================] - 0s 7ms/step - loss: 6.3128 - mae: 6.3128\n",
            "Epoch 325/500\n",
            "2/2 [==============================] - 0s 7ms/step - loss: 14.6310 - mae: 14.6310\n",
            "Epoch 326/500\n",
            "2/2 [==============================] - 0s 7ms/step - loss: 6.9958 - mae: 6.9958\n",
            "Epoch 327/500\n",
            "2/2 [==============================] - 0s 8ms/step - loss: 17.6536 - mae: 17.6536\n",
            "Epoch 328/500\n",
            "2/2 [==============================] - 0s 7ms/step - loss: 14.3661 - mae: 14.3661\n",
            "Epoch 329/500\n",
            "2/2 [==============================] - 0s 10ms/step - loss: 17.6747 - mae: 17.6747\n",
            "Epoch 330/500\n",
            "2/2 [==============================] - 0s 8ms/step - loss: 6.7867 - mae: 6.7867\n",
            "Epoch 331/500\n",
            "2/2 [==============================] - 0s 11ms/step - loss: 19.7726 - mae: 19.7726\n",
            "Epoch 332/500\n",
            "2/2 [==============================] - 0s 10ms/step - loss: 10.5641 - mae: 10.5641\n",
            "Epoch 333/500\n",
            "2/2 [==============================] - 0s 8ms/step - loss: 16.3715 - mae: 16.3715\n",
            "Epoch 334/500\n",
            "2/2 [==============================] - 0s 7ms/step - loss: 9.7055 - mae: 9.7055\n",
            "Epoch 335/500\n",
            "2/2 [==============================] - 0s 8ms/step - loss: 13.0536 - mae: 13.0536\n",
            "Epoch 336/500\n",
            "2/2 [==============================] - 0s 7ms/step - loss: 32.4853 - mae: 32.4853\n",
            "Epoch 337/500\n",
            "2/2 [==============================] - 0s 8ms/step - loss: 11.0295 - mae: 11.0295\n",
            "Epoch 338/500\n",
            "2/2 [==============================] - 0s 7ms/step - loss: 19.9334 - mae: 19.9334\n",
            "Epoch 339/500\n",
            "2/2 [==============================] - 0s 10ms/step - loss: 34.3720 - mae: 34.3720\n",
            "Epoch 340/500\n",
            "2/2 [==============================] - 0s 8ms/step - loss: 9.2936 - mae: 9.2936\n",
            "Epoch 341/500\n",
            "2/2 [==============================] - 0s 10ms/step - loss: 17.3332 - mae: 17.3332\n",
            "Epoch 342/500\n",
            "2/2 [==============================] - 0s 8ms/step - loss: 14.8995 - mae: 14.8995\n",
            "Epoch 343/500\n",
            "2/2 [==============================] - 0s 7ms/step - loss: 10.3032 - mae: 10.3032\n",
            "Epoch 344/500\n",
            "2/2 [==============================] - 0s 7ms/step - loss: 9.9369 - mae: 9.9369\n",
            "Epoch 345/500\n",
            "2/2 [==============================] - 0s 9ms/step - loss: 30.8910 - mae: 30.8910\n",
            "Epoch 346/500\n",
            "2/2 [==============================] - 0s 8ms/step - loss: 10.6218 - mae: 10.6218\n",
            "Epoch 347/500\n",
            "2/2 [==============================] - 0s 8ms/step - loss: 25.5241 - mae: 25.5241\n",
            "Epoch 348/500\n",
            "2/2 [==============================] - 0s 7ms/step - loss: 13.3826 - mae: 13.3826\n",
            "Epoch 349/500\n",
            "2/2 [==============================] - 0s 8ms/step - loss: 12.9985 - mae: 12.9985\n",
            "Epoch 350/500\n",
            "2/2 [==============================] - 0s 7ms/step - loss: 15.3867 - mae: 15.3867\n",
            "Epoch 351/500\n",
            "2/2 [==============================] - 0s 7ms/step - loss: 32.8518 - mae: 32.8518\n",
            "Epoch 352/500\n",
            "2/2 [==============================] - 0s 8ms/step - loss: 13.9304 - mae: 13.9304\n",
            "Epoch 353/500\n",
            "2/2 [==============================] - 0s 7ms/step - loss: 15.9210 - mae: 15.9210\n",
            "Epoch 354/500\n",
            "2/2 [==============================] - 0s 8ms/step - loss: 19.0879 - mae: 19.0879\n",
            "Epoch 355/500\n",
            "2/2 [==============================] - 0s 7ms/step - loss: 34.1241 - mae: 34.1241\n",
            "Epoch 356/500\n",
            "2/2 [==============================] - 0s 7ms/step - loss: 7.6972 - mae: 7.6972\n",
            "Epoch 357/500\n",
            "2/2 [==============================] - 0s 7ms/step - loss: 25.2232 - mae: 25.2232\n",
            "Epoch 358/500\n",
            "2/2 [==============================] - 0s 7ms/step - loss: 22.6782 - mae: 22.6782\n",
            "Epoch 359/500\n",
            "2/2 [==============================] - 0s 7ms/step - loss: 8.8929 - mae: 8.8929\n",
            "Epoch 360/500\n",
            "2/2 [==============================] - 0s 8ms/step - loss: 21.4774 - mae: 21.4774\n",
            "Epoch 361/500\n",
            "2/2 [==============================] - 0s 7ms/step - loss: 20.5960 - mae: 20.5960\n",
            "Epoch 362/500\n",
            "2/2 [==============================] - 0s 8ms/step - loss: 7.0812 - mae: 7.0812\n",
            "Epoch 363/500\n",
            "2/2 [==============================] - 0s 7ms/step - loss: 25.7923 - mae: 25.7923\n",
            "Epoch 364/500\n",
            "2/2 [==============================] - 0s 7ms/step - loss: 32.2018 - mae: 32.2018\n",
            "Epoch 365/500\n",
            "2/2 [==============================] - 0s 8ms/step - loss: 10.0234 - mae: 10.0234\n",
            "Epoch 366/500\n",
            "2/2 [==============================] - 0s 8ms/step - loss: 9.6872 - mae: 9.6872\n",
            "Epoch 367/500\n",
            "2/2 [==============================] - 0s 7ms/step - loss: 30.4246 - mae: 30.4246\n",
            "Epoch 368/500\n",
            "2/2 [==============================] - 0s 7ms/step - loss: 10.5169 - mae: 10.5169\n",
            "Epoch 369/500\n",
            "2/2 [==============================] - 0s 7ms/step - loss: 15.0058 - mae: 15.0058\n",
            "Epoch 370/500\n",
            "2/2 [==============================] - 0s 7ms/step - loss: 14.6684 - mae: 14.6684\n",
            "Epoch 371/500\n",
            "2/2 [==============================] - 0s 8ms/step - loss: 23.3866 - mae: 23.3866\n",
            "Epoch 372/500\n",
            "2/2 [==============================] - 0s 7ms/step - loss: 13.0765 - mae: 13.0765\n",
            "Epoch 373/500\n",
            "2/2 [==============================] - 0s 10ms/step - loss: 9.2423 - mae: 9.2423\n",
            "Epoch 374/500\n",
            "2/2 [==============================] - 0s 8ms/step - loss: 9.6887 - mae: 9.6887\n",
            "Epoch 375/500\n",
            "2/2 [==============================] - 0s 11ms/step - loss: 13.0227 - mae: 13.0227\n",
            "Epoch 376/500\n",
            "2/2 [==============================] - 0s 10ms/step - loss: 14.9040 - mae: 14.9040\n",
            "Epoch 377/500\n",
            "2/2 [==============================] - 0s 8ms/step - loss: 14.8168 - mae: 14.8168\n",
            "Epoch 378/500\n",
            "2/2 [==============================] - 0s 7ms/step - loss: 16.2934 - mae: 16.2934\n",
            "Epoch 379/500\n",
            "2/2 [==============================] - 0s 7ms/step - loss: 20.8627 - mae: 20.8627\n",
            "Epoch 380/500\n",
            "2/2 [==============================] - 0s 7ms/step - loss: 33.4386 - mae: 33.4386\n",
            "Epoch 381/500\n",
            "2/2 [==============================] - 0s 7ms/step - loss: 8.2138 - mae: 8.2138\n",
            "Epoch 382/500\n",
            "2/2 [==============================] - 0s 7ms/step - loss: 13.0354 - mae: 13.0354\n",
            "Epoch 383/500\n",
            "2/2 [==============================] - 0s 7ms/step - loss: 8.4401 - mae: 8.4401\n",
            "Epoch 384/500\n",
            "2/2 [==============================] - 0s 7ms/step - loss: 7.1162 - mae: 7.1162\n",
            "Epoch 385/500\n",
            "2/2 [==============================] - 0s 7ms/step - loss: 10.9651 - mae: 10.9651\n",
            "Epoch 386/500\n",
            "2/2 [==============================] - 0s 7ms/step - loss: 19.8083 - mae: 19.8083\n",
            "Epoch 387/500\n",
            "2/2 [==============================] - 0s 7ms/step - loss: 24.7628 - mae: 24.7628\n",
            "Epoch 388/500\n",
            "2/2 [==============================] - 0s 7ms/step - loss: 8.7162 - mae: 8.7162\n",
            "Epoch 389/500\n",
            "2/2 [==============================] - 0s 7ms/step - loss: 5.9537 - mae: 5.9537\n",
            "Epoch 390/500\n",
            "2/2 [==============================] - 0s 7ms/step - loss: 24.3290 - mae: 24.3290\n",
            "Epoch 391/500\n",
            "2/2 [==============================] - 0s 7ms/step - loss: 5.9780 - mae: 5.9780\n",
            "Epoch 392/500\n",
            "2/2 [==============================] - 0s 10ms/step - loss: 16.1021 - mae: 16.1021\n",
            "Epoch 393/500\n",
            "2/2 [==============================] - 0s 8ms/step - loss: 6.4958 - mae: 6.4958\n",
            "Epoch 394/500\n",
            "2/2 [==============================] - 0s 7ms/step - loss: 12.5327 - mae: 12.5327\n",
            "Epoch 395/500\n",
            "2/2 [==============================] - 0s 9ms/step - loss: 12.4084 - mae: 12.4084\n",
            "Epoch 396/500\n",
            "2/2 [==============================] - 0s 7ms/step - loss: 7.3539 - mae: 7.3539\n",
            "Epoch 397/500\n",
            "2/2 [==============================] - 0s 8ms/step - loss: 7.6080 - mae: 7.6080\n",
            "Epoch 398/500\n",
            "2/2 [==============================] - 0s 10ms/step - loss: 20.3269 - mae: 20.3269\n",
            "Epoch 399/500\n",
            "2/2 [==============================] - 0s 8ms/step - loss: 5.9122 - mae: 5.9122\n",
            "Epoch 400/500\n",
            "2/2 [==============================] - 0s 9ms/step - loss: 24.6213 - mae: 24.6213\n",
            "Epoch 401/500\n",
            "2/2 [==============================] - 0s 8ms/step - loss: 13.1642 - mae: 13.1642\n",
            "Epoch 402/500\n",
            "2/2 [==============================] - 0s 8ms/step - loss: 8.3677 - mae: 8.3677\n",
            "Epoch 403/500\n",
            "2/2 [==============================] - 0s 8ms/step - loss: 9.8680 - mae: 9.8680\n",
            "Epoch 404/500\n",
            "2/2 [==============================] - 0s 8ms/step - loss: 12.6211 - mae: 12.6211\n",
            "Epoch 405/500\n",
            "2/2 [==============================] - 0s 10ms/step - loss: 8.7613 - mae: 8.7613\n",
            "Epoch 406/500\n",
            "2/2 [==============================] - 0s 8ms/step - loss: 21.6053 - mae: 21.6053\n",
            "Epoch 407/500\n",
            "2/2 [==============================] - 0s 9ms/step - loss: 20.4312 - mae: 20.4312\n",
            "Epoch 408/500\n",
            "2/2 [==============================] - 0s 8ms/step - loss: 10.4070 - mae: 10.4070\n",
            "Epoch 409/500\n",
            "2/2 [==============================] - 0s 7ms/step - loss: 9.4184 - mae: 9.4184\n",
            "Epoch 410/500\n",
            "2/2 [==============================] - 0s 7ms/step - loss: 13.3672 - mae: 13.3672\n",
            "Epoch 411/500\n",
            "2/2 [==============================] - 0s 7ms/step - loss: 15.8346 - mae: 15.8346\n",
            "Epoch 412/500\n",
            "2/2 [==============================] - 0s 7ms/step - loss: 23.5214 - mae: 23.5214\n",
            "Epoch 413/500\n",
            "2/2 [==============================] - 0s 8ms/step - loss: 16.4829 - mae: 16.4829\n",
            "Epoch 414/500\n",
            "2/2 [==============================] - 0s 7ms/step - loss: 4.9193 - mae: 4.9193\n",
            "Epoch 415/500\n",
            "2/2 [==============================] - 0s 7ms/step - loss: 13.9598 - mae: 13.9598\n",
            "Epoch 416/500\n",
            "2/2 [==============================] - 0s 8ms/step - loss: 28.9362 - mae: 28.9362\n",
            "Epoch 417/500\n",
            "2/2 [==============================] - 0s 7ms/step - loss: 5.9887 - mae: 5.9887\n",
            "Epoch 418/500\n",
            "2/2 [==============================] - 0s 8ms/step - loss: 12.5352 - mae: 12.5352\n",
            "Epoch 419/500\n",
            "2/2 [==============================] - 0s 8ms/step - loss: 11.4600 - mae: 11.4600\n",
            "Epoch 420/500\n",
            "2/2 [==============================] - 0s 7ms/step - loss: 23.8125 - mae: 23.8125\n",
            "Epoch 421/500\n",
            "2/2 [==============================] - 0s 7ms/step - loss: 19.8524 - mae: 19.8524\n",
            "Epoch 422/500\n",
            "2/2 [==============================] - 0s 7ms/step - loss: 4.9234 - mae: 4.9234\n",
            "Epoch 423/500\n",
            "2/2 [==============================] - 0s 8ms/step - loss: 28.0128 - mae: 28.0128\n",
            "Epoch 424/500\n",
            "2/2 [==============================] - 0s 7ms/step - loss: 8.5386 - mae: 8.5386\n",
            "Epoch 425/500\n",
            "2/2 [==============================] - 0s 7ms/step - loss: 16.2103 - mae: 16.2103\n",
            "Epoch 426/500\n",
            "2/2 [==============================] - 0s 7ms/step - loss: 7.6253 - mae: 7.6253\n",
            "Epoch 427/500\n",
            "2/2 [==============================] - 0s 7ms/step - loss: 11.3340 - mae: 11.3340\n",
            "Epoch 428/500\n",
            "2/2 [==============================] - 0s 7ms/step - loss: 8.9564 - mae: 8.9564\n",
            "Epoch 429/500\n",
            "2/2 [==============================] - 0s 8ms/step - loss: 25.8065 - mae: 25.8065\n",
            "Epoch 430/500\n",
            "2/2 [==============================] - 0s 8ms/step - loss: 17.5421 - mae: 17.5421\n",
            "Epoch 431/500\n",
            "2/2 [==============================] - 0s 7ms/step - loss: 10.7119 - mae: 10.7119\n",
            "Epoch 432/500\n",
            "2/2 [==============================] - 0s 7ms/step - loss: 11.5778 - mae: 11.5778\n",
            "Epoch 433/500\n",
            "2/2 [==============================] - 0s 7ms/step - loss: 11.3749 - mae: 11.3749\n",
            "Epoch 434/500\n",
            "2/2 [==============================] - 0s 8ms/step - loss: 30.3591 - mae: 30.3591\n",
            "Epoch 435/500\n",
            "2/2 [==============================] - 0s 8ms/step - loss: 10.4951 - mae: 10.4951\n",
            "Epoch 436/500\n",
            "2/2 [==============================] - 0s 8ms/step - loss: 28.8375 - mae: 28.8375\n",
            "Epoch 437/500\n",
            "2/2 [==============================] - 0s 7ms/step - loss: 8.1270 - mae: 8.1270\n",
            "Epoch 438/500\n",
            "2/2 [==============================] - 0s 11ms/step - loss: 12.8350 - mae: 12.8350\n",
            "Epoch 439/500\n",
            "2/2 [==============================] - 0s 8ms/step - loss: 33.9456 - mae: 33.9456\n",
            "Epoch 440/500\n",
            "2/2 [==============================] - 0s 10ms/step - loss: 15.4985 - mae: 15.4985\n",
            "Epoch 441/500\n",
            "2/2 [==============================] - 0s 11ms/step - loss: 17.8769 - mae: 17.8769\n",
            "Epoch 442/500\n",
            "2/2 [==============================] - 0s 11ms/step - loss: 17.4717 - mae: 17.4717\n",
            "Epoch 443/500\n",
            "2/2 [==============================] - 0s 9ms/step - loss: 7.6783 - mae: 7.6783\n",
            "Epoch 444/500\n",
            "2/2 [==============================] - 0s 10ms/step - loss: 22.8806 - mae: 22.8806\n",
            "Epoch 445/500\n",
            "2/2 [==============================] - 0s 8ms/step - loss: 12.0620 - mae: 12.0620\n",
            "Epoch 446/500\n",
            "2/2 [==============================] - 0s 10ms/step - loss: 10.5067 - mae: 10.5067\n",
            "Epoch 447/500\n",
            "2/2 [==============================] - 0s 12ms/step - loss: 16.9733 - mae: 16.9733\n",
            "Epoch 448/500\n",
            "2/2 [==============================] - 0s 10ms/step - loss: 11.6766 - mae: 11.6766\n",
            "Epoch 449/500\n",
            "2/2 [==============================] - 0s 10ms/step - loss: 14.8622 - mae: 14.8622\n",
            "Epoch 450/500\n",
            "2/2 [==============================] - 0s 6ms/step - loss: 17.6132 - mae: 17.6132\n",
            "Epoch 451/500\n",
            "2/2 [==============================] - 0s 11ms/step - loss: 14.6452 - mae: 14.6452\n",
            "Epoch 452/500\n",
            "2/2 [==============================] - 0s 6ms/step - loss: 31.3220 - mae: 31.3220\n",
            "Epoch 453/500\n",
            "2/2 [==============================] - 0s 11ms/step - loss: 10.5947 - mae: 10.5947\n",
            "Epoch 454/500\n",
            "2/2 [==============================] - 0s 7ms/step - loss: 26.9252 - mae: 26.9252\n",
            "Epoch 455/500\n",
            "2/2 [==============================] - 0s 7ms/step - loss: 12.1247 - mae: 12.1247\n",
            "Epoch 456/500\n",
            "2/2 [==============================] - 0s 11ms/step - loss: 15.3887 - mae: 15.3887\n",
            "Epoch 457/500\n",
            "2/2 [==============================] - 0s 11ms/step - loss: 19.1361 - mae: 19.1361\n",
            "Epoch 458/500\n",
            "2/2 [==============================] - 0s 11ms/step - loss: 23.3146 - mae: 23.3146\n",
            "Epoch 459/500\n",
            "2/2 [==============================] - 0s 9ms/step - loss: 16.7789 - mae: 16.7789\n",
            "Epoch 460/500\n",
            "2/2 [==============================] - 0s 8ms/step - loss: 6.7927 - mae: 6.7927\n",
            "Epoch 461/500\n",
            "2/2 [==============================] - 0s 7ms/step - loss: 16.2571 - mae: 16.2571\n",
            "Epoch 462/500\n",
            "2/2 [==============================] - 0s 8ms/step - loss: 15.6757 - mae: 15.6757\n",
            "Epoch 463/500\n",
            "2/2 [==============================] - 0s 7ms/step - loss: 17.5018 - mae: 17.5018\n",
            "Epoch 464/500\n",
            "2/2 [==============================] - 0s 6ms/step - loss: 11.6440 - mae: 11.6440\n",
            "Epoch 465/500\n",
            "2/2 [==============================] - 0s 6ms/step - loss: 22.4458 - mae: 22.4458\n",
            "Epoch 466/500\n",
            "2/2 [==============================] - 0s 7ms/step - loss: 22.9010 - mae: 22.9010\n",
            "Epoch 467/500\n",
            "2/2 [==============================] - 0s 7ms/step - loss: 12.9846 - mae: 12.9846\n",
            "Epoch 468/500\n",
            "2/2 [==============================] - 0s 7ms/step - loss: 10.4396 - mae: 10.4396\n",
            "Epoch 469/500\n",
            "2/2 [==============================] - 0s 6ms/step - loss: 27.4917 - mae: 27.4917\n",
            "Epoch 470/500\n",
            "2/2 [==============================] - 0s 6ms/step - loss: 12.2112 - mae: 12.2112\n",
            "Epoch 471/500\n",
            "2/2 [==============================] - 0s 7ms/step - loss: 11.6822 - mae: 11.6822\n",
            "Epoch 472/500\n",
            "2/2 [==============================] - 0s 7ms/step - loss: 15.6306 - mae: 15.6306\n",
            "Epoch 473/500\n",
            "2/2 [==============================] - 0s 6ms/step - loss: 15.7265 - mae: 15.7265\n",
            "Epoch 474/500\n",
            "2/2 [==============================] - 0s 6ms/step - loss: 19.7801 - mae: 19.7801\n",
            "Epoch 475/500\n",
            "2/2 [==============================] - 0s 6ms/step - loss: 6.1323 - mae: 6.1323\n",
            "Epoch 476/500\n",
            "2/2 [==============================] - 0s 7ms/step - loss: 12.6102 - mae: 12.6102\n",
            "Epoch 477/500\n",
            "2/2 [==============================] - 0s 8ms/step - loss: 28.5826 - mae: 28.5826\n",
            "Epoch 478/500\n",
            "2/2 [==============================] - 0s 7ms/step - loss: 6.8085 - mae: 6.8085\n",
            "Epoch 479/500\n",
            "2/2 [==============================] - 0s 6ms/step - loss: 5.7885 - mae: 5.7885\n",
            "Epoch 480/500\n",
            "2/2 [==============================] - 0s 7ms/step - loss: 17.8035 - mae: 17.8035\n",
            "Epoch 481/500\n",
            "2/2 [==============================] - 0s 7ms/step - loss: 11.1296 - mae: 11.1296\n",
            "Epoch 482/500\n",
            "2/2 [==============================] - 0s 7ms/step - loss: 18.7774 - mae: 18.7774\n",
            "Epoch 483/500\n",
            "2/2 [==============================] - 0s 7ms/step - loss: 25.2068 - mae: 25.2068\n",
            "Epoch 484/500\n",
            "2/2 [==============================] - 0s 7ms/step - loss: 23.8190 - mae: 23.8190\n",
            "Epoch 485/500\n",
            "2/2 [==============================] - 0s 7ms/step - loss: 5.8007 - mae: 5.8007\n",
            "Epoch 486/500\n",
            "2/2 [==============================] - 0s 6ms/step - loss: 19.7387 - mae: 19.7387\n",
            "Epoch 487/500\n",
            "2/2 [==============================] - 0s 6ms/step - loss: 13.9545 - mae: 13.9545\n",
            "Epoch 488/500\n",
            "2/2 [==============================] - 0s 7ms/step - loss: 30.4300 - mae: 30.4300\n",
            "Epoch 489/500\n",
            "2/2 [==============================] - 0s 7ms/step - loss: 11.6684 - mae: 11.6684\n",
            "Epoch 490/500\n",
            "2/2 [==============================] - 0s 7ms/step - loss: 12.4278 - mae: 12.4278\n",
            "Epoch 491/500\n",
            "2/2 [==============================] - 0s 12ms/step - loss: 23.5852 - mae: 23.5852\n",
            "Epoch 492/500\n",
            "2/2 [==============================] - 0s 8ms/step - loss: 20.4797 - mae: 20.4797\n",
            "Epoch 493/500\n",
            "2/2 [==============================] - 0s 8ms/step - loss: 5.0385 - mae: 5.0385\n",
            "Epoch 494/500\n",
            "2/2 [==============================] - 0s 7ms/step - loss: 12.7549 - mae: 12.7549\n",
            "Epoch 495/500\n",
            "2/2 [==============================] - 0s 7ms/step - loss: 13.4209 - mae: 13.4209\n",
            "Epoch 496/500\n",
            "2/2 [==============================] - 0s 7ms/step - loss: 12.7052 - mae: 12.7052\n",
            "Epoch 497/500\n",
            "2/2 [==============================] - 0s 8ms/step - loss: 17.6842 - mae: 17.6842\n",
            "Epoch 498/500\n",
            "2/2 [==============================] - 0s 7ms/step - loss: 23.4431 - mae: 23.4431\n",
            "Epoch 499/500\n",
            "2/2 [==============================] - 0s 6ms/step - loss: 9.1786 - mae: 9.1786\n",
            "Epoch 500/500\n",
            "2/2 [==============================] - 0s 6ms/step - loss: 14.3959 - mae: 14.3959\n"
          ]
        },
        {
          "output_type": "execute_result",
          "data": {
            "text/plain": [
              "<keras.src.callbacks.History at 0x7d7e30cc6d40>"
            ]
          },
          "metadata": {},
          "execution_count": 138
        }
      ]
    },
    {
      "cell_type": "code",
      "source": [
        "# make and plot some predictions\n",
        "y_preds_3 = model_3.predict(X_test)"
      ],
      "metadata": {
        "id": "3nuFf9tPGJ0B",
        "colab": {
          "base_uri": "https://localhost:8080/"
        },
        "outputId": "35964995-67fc-4231-bbc7-06e71e5fef39"
      },
      "execution_count": 139,
      "outputs": [
        {
          "output_type": "stream",
          "name": "stdout",
          "text": [
            "1/1 [==============================] - 0s 52ms/step\n"
          ]
        }
      ]
    },
    {
      "cell_type": "code",
      "source": [
        "y_preds_3"
      ],
      "metadata": {
        "id": "lBjx0J9qGi_t",
        "colab": {
          "base_uri": "https://localhost:8080/"
        },
        "outputId": "3ba95bbe-5543-4349-c0f0-ac40e35a05ba"
      },
      "execution_count": 140,
      "outputs": [
        {
          "output_type": "execute_result",
          "data": {
            "text/plain": [
              "array([[16.419111],\n",
              "       [17.22091 ],\n",
              "       [18.022709],\n",
              "       [18.824509],\n",
              "       [19.626308],\n",
              "       [20.428108],\n",
              "       [21.229906],\n",
              "       [22.031706],\n",
              "       [22.833504],\n",
              "       [23.635305]], dtype=float32)"
            ]
          },
          "metadata": {},
          "execution_count": 140
        }
      ]
    },
    {
      "cell_type": "code",
      "source": [
        "plot_predictions(predictions=y_preds_3)"
      ],
      "metadata": {
        "id": "934yuVfBGo-f",
        "colab": {
          "base_uri": "https://localhost:8080/",
          "height": 599
        },
        "outputId": "fa6c5d54-7772-4b32-f505-2da794586ce7"
      },
      "execution_count": 141,
      "outputs": [
        {
          "output_type": "display_data",
          "data": {
            "text/plain": [
              "<Figure size 1000x700 with 1 Axes>"
            ],
            "image/png": "[encoded data removed]"
          },
          "metadata": {}
        }
      ]
    },
    {
      "cell_type": "code",
      "source": [
        "# Calculate model 3 evaluation metrics\n",
        "\n",
        "mae_3 = mae(Y_test,y_preds_3)\n",
        "mse_3 = mse(Y_test,y_preds_3)\n",
        "mae_3, mse_3"
      ],
      "metadata": {
        "id": "vT7lh-d3Gzcr",
        "colab": {
          "base_uri": "https://localhost:8080/"
        },
        "outputId": "99dea517-5957-445f-86a4-a83eba549394"
      },
      "execution_count": 142,
      "outputs": [
        {
          "output_type": "execute_result",
          "data": {
            "text/plain": [
              "(<tf.Tensor: shape=(), dtype=float32, numpy=21.264822>,\n",
              " <tf.Tensor: shape=(), dtype=float32, numpy=455.62006>)"
            ]
          },
          "metadata": {},
          "execution_count": 142
        }
      ]
    },
    {
      "cell_type": "markdown",
      "source": [
        "# Comparing the results of our experiments\n",
        "* Let's compare the results\n"
      ],
      "metadata": {
        "id": "XKBCVQSiHjT2"
      }
    },
    {
      "cell_type": "code",
      "source": [
        "# Let's compare our model's results using a pandas DataFrame"
      ],
      "metadata": {
        "id": "9uYjqycSH8ZU"
      },
      "execution_count": 143,
      "outputs": []
    },
    {
      "cell_type": "code",
      "source": [
        "import pandas as pd"
      ],
      "metadata": {
        "id": "eGGR0eWE8ZMp"
      },
      "execution_count": 144,
      "outputs": []
    },
    {
      "cell_type": "code",
      "source": [],
      "metadata": {
        "id": "akNQzLml_h5j"
      },
      "execution_count": 144,
      "outputs": []
    },
    {
      "cell_type": "markdown",
      "source": [
        "# Saving our model\n",
        "\n",
        "* there two main formats to save our models\n",
        "1. The SaveModel Format\n",
        "2. The HDF5 format\n"
      ],
      "metadata": {
        "id": "iW3L6au9ARvg"
      }
    },
    {
      "cell_type": "code",
      "source": [
        "model_2.save(\"The_best_model_format\")\n"
      ],
      "metadata": {
        "id": "yWCu3xVsFz_h"
      },
      "execution_count": 145,
      "outputs": []
    },
    {
      "cell_type": "code",
      "source": [
        "#Save the model using the HDF5 format\n",
        "model_2.save(\"The_best_model.h5\")"
      ],
      "metadata": {
        "id": "dGRCWsrbG2JV",
        "colab": {
          "base_uri": "https://localhost:8080/"
        },
        "outputId": "2e8279a6-9bbd-4cc4-f4df-db87eb00c02b"
      },
      "execution_count": 146,
      "outputs": [
        {
          "output_type": "stream",
          "name": "stderr",
          "text": [
            "/usr/local/lib/python3.10/dist-packages/keras/src/engine/training.py:3079: UserWarning: You are saving your model as an HDF5 file via `model.save()`. This file format is considered legacy. We recommend using instead the native Keras format, e.g. `model.save('my_model.keras')`.\n",
            "  saving_api.save_model(\n"
          ]
        }
      ]
    },
    {
      "cell_type": "code",
      "source": [
        "#Loading in the saved model"
      ],
      "metadata": {
        "id": "IVPETajZHq06"
      },
      "execution_count": 147,
      "outputs": []
    },
    {
      "cell_type": "code",
      "source": [
        "saved_model = tf.keras.models.load_model(\"/content/The_best_model_format\")\n",
        "saved_model.summary()"
      ],
      "metadata": {
        "id": "9ObdDHq6H2Ct",
        "colab": {
          "base_uri": "https://localhost:8080/"
        },
        "outputId": "cd7445f2-17e2-4f67-c050-8afc74752b6e"
      },
      "execution_count": 148,
      "outputs": [
        {
          "output_type": "stream",
          "name": "stdout",
          "text": [
            "Model: \"sequential_15\"\n",
            "_________________________________________________________________\n",
            " Layer (type)                Output Shape              Param #   \n",
            "=================================================================\n",
            " dense_24 (Dense)            (None, 10)                20        \n",
            "                                                                 \n",
            " dense_25 (Dense)            (None, 1)                 11        \n",
            "                                                                 \n",
            "=================================================================\n",
            "Total params: 31 (124.00 Byte)\n",
            "Trainable params: 31 (124.00 Byte)\n",
            "Non-trainable params: 0 (0.00 Byte)\n",
            "_________________________________________________________________\n"
          ]
        }
      ]
    },
    {
      "cell_type": "code",
      "source": [
        "model_2.summary()"
      ],
      "metadata": {
        "id": "fXmrj6hIJftU",
        "colab": {
          "base_uri": "https://localhost:8080/"
        },
        "outputId": "b2a9e52b-2a2c-4d40-ea80-6529906c6db5"
      },
      "execution_count": 149,
      "outputs": [
        {
          "output_type": "stream",
          "name": "stdout",
          "text": [
            "Model: \"sequential_15\"\n",
            "_________________________________________________________________\n",
            " Layer (type)                Output Shape              Param #   \n",
            "=================================================================\n",
            " dense_24 (Dense)            (None, 10)                20        \n",
            "                                                                 \n",
            " dense_25 (Dense)            (None, 1)                 11        \n",
            "                                                                 \n",
            "=================================================================\n",
            "Total params: 31 (124.00 Byte)\n",
            "Trainable params: 31 (124.00 Byte)\n",
            "Non-trainable params: 0 (0.00 Byte)\n",
            "_________________________________________________________________\n"
          ]
        }
      ]
    },
    {
      "cell_type": "markdown",
      "source": [
        "# A lager example"
      ],
      "metadata": {
        "id": "ywu_8pTnKWNx"
      }
    },
    {
      "cell_type": "code",
      "source": [
        "# import required libraries\n",
        "import tensorflow as tf\n",
        "import pandas as pd\n",
        "import matplotlib.pyplot as plt"
      ],
      "metadata": {
        "id": "dJ4LZnieS2P2"
      },
      "execution_count": 150,
      "outputs": []
    },
    {
      "cell_type": "code",
      "source": [
        "insurance = pd.read_csv(\"https://raw.githubusercontent.com/stedy/Machine-Learning-with-R-datasets/master/insurance.csv\")\n",
        "insurance"
      ],
      "metadata": {
        "id": "yO8sRvaOTCR1",
        "colab": {
          "base_uri": "https://localhost:8080/",
          "height": 424
        },
        "outputId": "bd5e1bac-e179-4f3b-aad8-1524bb021235"
      },
      "execution_count": 151,
      "outputs": [
        {
          "output_type": "execute_result",
          "data": {
            "text/plain": [
              "      age     sex     bmi  children smoker     region      charges\n",
              "0      19  female  27.900         0    yes  southwest  16884.92400\n",
              "1      18    male  33.770         1     no  southeast   1725.55230\n",
              "2      28    male  33.000         3     no  southeast   4449.46200\n",
              "3      33    male  22.705         0     no  northwest  21984.47061\n",
              "4      32    male  28.880         0     no  northwest   3866.85520\n",
              "...   ...     ...     ...       ...    ...        ...          ...\n",
              "1333   50    male  30.970         3     no  northwest  10600.54830\n",
              "1334   18  female  31.920         0     no  northeast   2205.98080\n",
              "1335   18  female  36.850         0     no  southeast   1629.83350\n",
              "1336   21  female  25.800         0     no  southwest   2007.94500\n",
              "1337   61  female  29.070         0    yes  northwest  29141.36030\n",
              "\n",
              "[1338 rows x 7 columns]"
            ],
            "text/html": [
              "\n",
              "  <div id=\"df-c1ee2a12-8d87-41a7-aeb1-98310e06e2af\" class=\"colab-df-container\">\n",
              "    <div>\n",
              "<style scoped>\n",
              "    .dataframe tbody tr th:only-of-type {\n",
              "        vertical-align: middle;\n",
              "    }\n",
              "\n",
              "    .dataframe tbody tr th {\n",
              "        vertical-align: top;\n",
              "    }\n",
              "\n",
              "    .dataframe thead th {\n",
              "        text-align: right;\n",
              "    }\n",
              "</style>\n",
              "<table border=\"1\" class=\"dataframe\">\n",
              "  <thead>\n",
              "    <tr style=\"text-align: right;\">\n",
              "      <th></th>\n",
              "      <th>age</th>\n",
              "      <th>sex</th>\n",
              "      <th>bmi</th>\n",
              "      <th>children</th>\n",
              "      <th>smoker</th>\n",
              "      <th>region</th>\n",
              "      <th>charges</th>\n",
              "    </tr>\n",
              "  </thead>\n",
              "  <tbody>\n",
              "    <tr>\n",
              "      <th>0</th>\n",
              "      <td>19</td>\n",
              "      <td>female</td>\n",
              "      <td>27.900</td>\n",
              "      <td>0</td>\n",
              "      <td>yes</td>\n",
              "      <td>southwest</td>\n",
              "      <td>16884.92400</td>\n",
              "    </tr>\n",
              "    <tr>\n",
              "      <th>1</th>\n",
              "      <td>18</td>\n",
              "      <td>male</td>\n",
              "      <td>33.770</td>\n",
              "      <td>1</td>\n",
              "      <td>no</td>\n",
              "      <td>southeast</td>\n",
              "      <td>1725.55230</td>\n",
              "    </tr>\n",
              "    <tr>\n",
              "      <th>2</th>\n",
              "      <td>28</td>\n",
              "      <td>male</td>\n",
              "      <td>33.000</td>\n",
              "      <td>3</td>\n",
              "      <td>no</td>\n",
              "      <td>southeast</td>\n",
              "      <td>4449.46200</td>\n",
              "    </tr>\n",
              "    <tr>\n",
              "      <th>3</th>\n",
              "      <td>33</td>\n",
              "      <td>male</td>\n",
              "      <td>22.705</td>\n",
              "      <td>0</td>\n",
              "      <td>no</td>\n",
              "      <td>northwest</td>\n",
              "      <td>21984.47061</td>\n",
              "    </tr>\n",
              "    <tr>\n",
              "      <th>4</th>\n",
              "      <td>32</td>\n",
              "      <td>male</td>\n",
              "      <td>28.880</td>\n",
              "      <td>0</td>\n",
              "      <td>no</td>\n",
              "      <td>northwest</td>\n",
              "      <td>3866.85520</td>\n",
              "    </tr>\n",
              "    <tr>\n",
              "      <th>...</th>\n",
              "      <td>...</td>\n",
              "      <td>...</td>\n",
              "      <td>...</td>\n",
              "      <td>...</td>\n",
              "      <td>...</td>\n",
              "      <td>...</td>\n",
              "      <td>...</td>\n",
              "    </tr>\n",
              "    <tr>\n",
              "      <th>1333</th>\n",
              "      <td>50</td>\n",
              "      <td>male</td>\n",
              "      <td>30.970</td>\n",
              "      <td>3</td>\n",
              "      <td>no</td>\n",
              "      <td>northwest</td>\n",
              "      <td>10600.54830</td>\n",
              "    </tr>\n",
              "    <tr>\n",
              "      <th>1334</th>\n",
              "      <td>18</td>\n",
              "      <td>female</td>\n",
              "      <td>31.920</td>\n",
              "      <td>0</td>\n",
              "      <td>no</td>\n",
              "      <td>northeast</td>\n",
              "      <td>2205.98080</td>\n",
              "    </tr>\n",
              "    <tr>\n",
              "      <th>1335</th>\n",
              "      <td>18</td>\n",
              "      <td>female</td>\n",
              "      <td>36.850</td>\n",
              "      <td>0</td>\n",
              "      <td>no</td>\n",
              "      <td>southeast</td>\n",
              "      <td>1629.83350</td>\n",
              "    </tr>\n",
              "    <tr>\n",
              "      <th>1336</th>\n",
              "      <td>21</td>\n",
              "      <td>female</td>\n",
              "      <td>25.800</td>\n",
              "      <td>0</td>\n",
              "      <td>no</td>\n",
              "      <td>southwest</td>\n",
              "      <td>2007.94500</td>\n",
              "    </tr>\n",
              "    <tr>\n",
              "      <th>1337</th>\n",
              "      <td>61</td>\n",
              "      <td>female</td>\n",
              "      <td>29.070</td>\n",
              "      <td>0</td>\n",
              "      <td>yes</td>\n",
              "      <td>northwest</td>\n",
              "      <td>29141.36030</td>\n",
              "    </tr>\n",
              "  </tbody>\n",
              "</table>\n",
              "<p>1338 rows × 7 columns</p>\n",
              "</div>\n",
              "    <div class=\"colab-df-buttons\">\n",
              "\n",
              "  <div class=\"colab-df-container\">\n",
              "    <button class=\"colab-df-convert\" onclick=\"convertToInteractive('df-c1ee2a12-8d87-41a7-aeb1-98310e06e2af')\"\n",
              "            title=\"Convert this dataframe to an interactive table.\"\n",
              "            style=\"display:none;\">\n",
              "\n",
              "  <svg xmlns=\"http://www.w3.org/2000/svg\" height=\"24px\" viewBox=\"0 -960 960 960\">\n",
              "    <path d=\"M120-120v-720h720v720H120Zm60-500h600v-160H180v160Zm220 220h160v-160H400v160Zm0 220h160v-160H400v160ZM180-400h160v-160H180v160Zm440 0h160v-160H620v160ZM180-180h160v-160H180v160Zm440 0h160v-160H620v160Z\"/>\n",
              "  </svg>\n",
              "    </button>\n",
              "\n",
              "  <style>\n",
              "    .colab-df-container {\n",
              "      display:flex;\n",
              "      gap: 12px;\n",
              "    }\n",
              "\n",
              "    .colab-df-convert {\n",
              "      background-color: #E8F0FE;\n",
              "      border: none;\n",
              "      border-radius: 50%;\n",
              "      cursor: pointer;\n",
              "      display: none;\n",
              "      fill: #1967D2;\n",
              "      height: 32px;\n",
              "      padding: 0 0 0 0;\n",
              "      width: 32px;\n",
              "    }\n",
              "\n",
              "    .colab-df-convert:hover {\n",
              "      background-color: #E2EBFA;\n",
              "      box-shadow: 0px 1px 2px rgba(60, 64, 67, 0.3), 0px 1px 3px 1px rgba(60, 64, 67, 0.15);\n",
              "      fill: #174EA6;\n",
              "    }\n",
              "\n",
              "    .colab-df-buttons div {\n",
              "      margin-bottom: 4px;\n",
              "    }\n",
              "\n",
              "    [theme=dark] .colab-df-convert {\n",
              "      background-color: #3B4455;\n",
              "      fill: #D2E3FC;\n",
              "    }\n",
              "\n",
              "    [theme=dark] .colab-df-convert:hover {\n",
              "      background-color: #434B5C;\n",
              "      box-shadow: 0px 1px 3px 1px rgba(0, 0, 0, 0.15);\n",
              "      filter: drop-shadow(0px 1px 2px rgba(0, 0, 0, 0.3));\n",
              "      fill: #FFFFFF;\n",
              "    }\n",
              "  </style>\n",
              "\n",
              "    <script>\n",
              "      const buttonEl =\n",
              "        document.querySelector('#df-c1ee2a12-8d87-41a7-aeb1-98310e06e2af button.colab-df-convert');\n",
              "      buttonEl.style.display =\n",
              "        google.colab.kernel.accessAllowed ? 'block' : 'none';\n",
              "\n",
              "      async function convertToInteractive(key) {\n",
              "        const element = document.querySelector('#df-c1ee2a12-8d87-41a7-aeb1-98310e06e2af');\n",
              "        const dataTable =\n",
              "          await google.colab.kernel.invokeFunction('convertToInteractive',\n",
              "                                                    [key], {});\n",
              "        if (!dataTable) return;\n",
              "\n",
              "        const docLinkHtml = 'Like what you see? Visit the ' +\n",
              "          '<a target=\"_blank\" href=https://colab.research.google.com/notebooks/data_table.ipynb>data table notebook</a>'\n",
              "          + ' to learn more about interactive tables.';\n",
              "        element.innerHTML = '';\n",
              "        dataTable['output_type'] = 'display_data';\n",
              "        await google.colab.output.renderOutput(dataTable, element);\n",
              "        const docLink = document.createElement('div');\n",
              "        docLink.innerHTML = docLinkHtml;\n",
              "        element.appendChild(docLink);\n",
              "      }\n",
              "    </script>\n",
              "  </div>\n",
              "\n",
              "\n",
              "<div id=\"df-b5afa9c0-7e14-4e20-84d5-693050b35cf3\">\n",
              "  <button class=\"colab-df-quickchart\" onclick=\"quickchart('df-b5afa9c0-7e14-4e20-84d5-693050b35cf3')\"\n",
              "            title=\"Suggest charts\"\n",
              "            style=\"display:none;\">\n",
              "\n",
              "<svg xmlns=\"http://www.w3.org/2000/svg\" height=\"24px\"viewBox=\"0 0 24 24\"\n",
              "     width=\"24px\">\n",
              "    <g>\n",
              "        <path d=\"M19 3H5c-1.1 0-2 .9-2 2v14c0 1.1.9 2 2 2h14c1.1 0 2-.9 2-2V5c0-1.1-.9-2-2-2zM9 17H7v-7h2v7zm4 0h-2V7h2v10zm4 0h-2v-4h2v4z\"/>\n",
              "    </g>\n",
              "</svg>\n",
              "  </button>\n",
              "\n",
              "<style>\n",
              "  .colab-df-quickchart {\n",
              "      --bg-color: #E8F0FE;\n",
              "      --fill-color: #1967D2;\n",
              "      --hover-bg-color: #E2EBFA;\n",
              "      --hover-fill-color: #174EA6;\n",
              "      --disabled-fill-color: #AAA;\n",
              "      --disabled-bg-color: #DDD;\n",
              "  }\n",
              "\n",
              "  [theme=dark] .colab-df-quickchart {\n",
              "      --bg-color: #3B4455;\n",
              "      --fill-color: #D2E3FC;\n",
              "      --hover-bg-color: #434B5C;\n",
              "      --hover-fill-color: #FFFFFF;\n",
              "      --disabled-bg-color: #3B4455;\n",
              "      --disabled-fill-color: #666;\n",
              "  }\n",
              "\n",
              "  .colab-df-quickchart {\n",
              "    background-color: var(--bg-color);\n",
              "    border: none;\n",
              "    border-radius: 50%;\n",
              "    cursor: pointer;\n",
              "    display: none;\n",
              "    fill: var(--fill-color);\n",
              "    height: 32px;\n",
              "    padding: 0;\n",
              "    width: 32px;\n",
              "  }\n",
              "\n",
              "  .colab-df-quickchart:hover {\n",
              "    background-color: var(--hover-bg-color);\n",
              "    box-shadow: 0 1px 2px rgba(60, 64, 67, 0.3), 0 1px 3px 1px rgba(60, 64, 67, 0.15);\n",
              "    fill: var(--button-hover-fill-color);\n",
              "  }\n",
              "\n",
              "  .colab-df-quickchart-complete:disabled,\n",
              "  .colab-df-quickchart-complete:disabled:hover {\n",
              "    background-color: var(--disabled-bg-color);\n",
              "    fill: var(--disabled-fill-color);\n",
              "    box-shadow: none;\n",
              "  }\n",
              "\n",
              "  .colab-df-spinner {\n",
              "    border: 2px solid var(--fill-color);\n",
              "    border-color: transparent;\n",
              "    border-bottom-color: var(--fill-color);\n",
              "    animation:\n",
              "      spin 1s steps(1) infinite;\n",
              "  }\n",
              "\n",
              "  @keyframes spin {\n",
              "    0% {\n",
              "      border-color: transparent;\n",
              "      border-bottom-color: var(--fill-color);\n",
              "      border-left-color: var(--fill-color);\n",
              "    }\n",
              "    20% {\n",
              "      border-color: transparent;\n",
              "      border-left-color: var(--fill-color);\n",
              "      border-top-color: var(--fill-color);\n",
              "    }\n",
              "    30% {\n",
              "      border-color: transparent;\n",
              "      border-left-color: var(--fill-color);\n",
              "      border-top-color: var(--fill-color);\n",
              "      border-right-color: var(--fill-color);\n",
              "    }\n",
              "    40% {\n",
              "      border-color: transparent;\n",
              "      border-right-color: var(--fill-color);\n",
              "      border-top-color: var(--fill-color);\n",
              "    }\n",
              "    60% {\n",
              "      border-color: transparent;\n",
              "      border-right-color: var(--fill-color);\n",
              "    }\n",
              "    80% {\n",
              "      border-color: transparent;\n",
              "      border-right-color: var(--fill-color);\n",
              "      border-bottom-color: var(--fill-color);\n",
              "    }\n",
              "    90% {\n",
              "      border-color: transparent;\n",
              "      border-bottom-color: var(--fill-color);\n",
              "    }\n",
              "  }\n",
              "</style>\n",
              "\n",
              "  <script>\n",
              "    async function quickchart(key) {\n",
              "      const quickchartButtonEl =\n",
              "        document.querySelector('#' + key + ' button');\n",
              "      quickchartButtonEl.disabled = true;  // To prevent multiple clicks.\n",
              "      quickchartButtonEl.classList.add('colab-df-spinner');\n",
              "      try {\n",
              "        const charts = await google.colab.kernel.invokeFunction(\n",
              "            'suggestCharts', [key], {});\n",
              "      } catch (error) {\n",
              "        console.error('Error during call to suggestCharts:', error);\n",
              "      }\n",
              "      quickchartButtonEl.classList.remove('colab-df-spinner');\n",
              "      quickchartButtonEl.classList.add('colab-df-quickchart-complete');\n",
              "    }\n",
              "    (() => {\n",
              "      let quickchartButtonEl =\n",
              "        document.querySelector('#df-b5afa9c0-7e14-4e20-84d5-693050b35cf3 button');\n",
              "      quickchartButtonEl.style.display =\n",
              "        google.colab.kernel.accessAllowed ? 'block' : 'none';\n",
              "    })();\n",
              "  </script>\n",
              "</div>\n",
              "    </div>\n",
              "  </div>\n"
            ]
          },
          "metadata": {},
          "execution_count": 151
        }
      ]
    },
    {
      "cell_type": "code",
      "source": [
        "insurance[\"bmi\"]"
      ],
      "metadata": {
        "id": "OVwNhxQpTM5Z",
        "colab": {
          "base_uri": "https://localhost:8080/"
        },
        "outputId": "6acd8446-5a0a-405f-f167-5c08ce9a1e47"
      },
      "execution_count": 152,
      "outputs": [
        {
          "output_type": "execute_result",
          "data": {
            "text/plain": [
              "0       27.900\n",
              "1       33.770\n",
              "2       33.000\n",
              "3       22.705\n",
              "4       28.880\n",
              "         ...  \n",
              "1333    30.970\n",
              "1334    31.920\n",
              "1335    36.850\n",
              "1336    25.800\n",
              "1337    29.070\n",
              "Name: bmi, Length: 1338, dtype: float64"
            ]
          },
          "metadata": {},
          "execution_count": 152
        }
      ]
    },
    {
      "cell_type": "code",
      "source": [
        "#lets try one hot enconding\n",
        "insurance_one_hot = pd.get_dummies(insurance)\n",
        "insurance_one_hot.head()"
      ],
      "metadata": {
        "id": "zMdQMkYZT5-J",
        "colab": {
          "base_uri": "https://localhost:8080/",
          "height": 206
        },
        "outputId": "d10e5684-1ac6-4746-baee-eafb597aa836"
      },
      "execution_count": 153,
      "outputs": [
        {
          "output_type": "execute_result",
          "data": {
            "text/plain": [
              "   age     bmi  children      charges  sex_female  sex_male  smoker_no  \\\n",
              "0   19  27.900         0  16884.92400           1         0          0   \n",
              "1   18  33.770         1   1725.55230           0         1          1   \n",
              "2   28  33.000         3   4449.46200           0         1          1   \n",
              "3   33  22.705         0  21984.47061           0         1          1   \n",
              "4   32  28.880         0   3866.85520           0         1          1   \n",
              "\n",
              "   smoker_yes  region_northeast  region_northwest  region_southeast  \\\n",
              "0           1                 0                 0                 0   \n",
              "1           0                 0                 0                 1   \n",
              "2           0                 0                 0                 1   \n",
              "3           0                 0                 1                 0   \n",
              "4           0                 0                 1                 0   \n",
              "\n",
              "   region_southwest  \n",
              "0                 1  \n",
              "1                 0  \n",
              "2                 0  \n",
              "3                 0  \n",
              "4                 0  "
            ],
            "text/html": [
              "\n",
              "  <div id=\"df-74f5625d-9058-4ad7-ad9b-f9d10a95c29b\" class=\"colab-df-container\">\n",
              "    <div>\n",
              "<style scoped>\n",
              "    .dataframe tbody tr th:only-of-type {\n",
              "        vertical-align: middle;\n",
              "    }\n",
              "\n",
              "    .dataframe tbody tr th {\n",
              "        vertical-align: top;\n",
              "    }\n",
              "\n",
              "    .dataframe thead th {\n",
              "        text-align: right;\n",
              "    }\n",
              "</style>\n",
              "<table border=\"1\" class=\"dataframe\">\n",
              "  <thead>\n",
              "    <tr style=\"text-align: right;\">\n",
              "      <th></th>\n",
              "      <th>age</th>\n",
              "      <th>bmi</th>\n",
              "      <th>children</th>\n",
              "      <th>charges</th>\n",
              "      <th>sex_female</th>\n",
              "      <th>sex_male</th>\n",
              "      <th>smoker_no</th>\n",
              "      <th>smoker_yes</th>\n",
              "      <th>region_northeast</th>\n",
              "      <th>region_northwest</th>\n",
              "      <th>region_southeast</th>\n",
              "      <th>region_southwest</th>\n",
              "    </tr>\n",
              "  </thead>\n",
              "  <tbody>\n",
              "    <tr>\n",
              "      <th>0</th>\n",
              "      <td>19</td>\n",
              "      <td>27.900</td>\n",
              "      <td>0</td>\n",
              "      <td>16884.92400</td>\n",
              "      <td>1</td>\n",
              "      <td>0</td>\n",
              "      <td>0</td>\n",
              "      <td>1</td>\n",
              "      <td>0</td>\n",
              "      <td>0</td>\n",
              "      <td>0</td>\n",
              "      <td>1</td>\n",
              "    </tr>\n",
              "    <tr>\n",
              "      <th>1</th>\n",
              "      <td>18</td>\n",
              "      <td>33.770</td>\n",
              "      <td>1</td>\n",
              "      <td>1725.55230</td>\n",
              "      <td>0</td>\n",
              "      <td>1</td>\n",
              "      <td>1</td>\n",
              "      <td>0</td>\n",
              "      <td>0</td>\n",
              "      <td>0</td>\n",
              "      <td>1</td>\n",
              "      <td>0</td>\n",
              "    </tr>\n",
              "    <tr>\n",
              "      <th>2</th>\n",
              "      <td>28</td>\n",
              "      <td>33.000</td>\n",
              "      <td>3</td>\n",
              "      <td>4449.46200</td>\n",
              "      <td>0</td>\n",
              "      <td>1</td>\n",
              "      <td>1</td>\n",
              "      <td>0</td>\n",
              "      <td>0</td>\n",
              "      <td>0</td>\n",
              "      <td>1</td>\n",
              "      <td>0</td>\n",
              "    </tr>\n",
              "    <tr>\n",
              "      <th>3</th>\n",
              "      <td>33</td>\n",
              "      <td>22.705</td>\n",
              "      <td>0</td>\n",
              "      <td>21984.47061</td>\n",
              "      <td>0</td>\n",
              "      <td>1</td>\n",
              "      <td>1</td>\n",
              "      <td>0</td>\n",
              "      <td>0</td>\n",
              "      <td>1</td>\n",
              "      <td>0</td>\n",
              "      <td>0</td>\n",
              "    </tr>\n",
              "    <tr>\n",
              "      <th>4</th>\n",
              "      <td>32</td>\n",
              "      <td>28.880</td>\n",
              "      <td>0</td>\n",
              "      <td>3866.85520</td>\n",
              "      <td>0</td>\n",
              "      <td>1</td>\n",
              "      <td>1</td>\n",
              "      <td>0</td>\n",
              "      <td>0</td>\n",
              "      <td>1</td>\n",
              "      <td>0</td>\n",
              "      <td>0</td>\n",
              "    </tr>\n",
              "  </tbody>\n",
              "</table>\n",
              "</div>\n",
              "    <div class=\"colab-df-buttons\">\n",
              "\n",
              "  <div class=\"colab-df-container\">\n",
              "    <button class=\"colab-df-convert\" onclick=\"convertToInteractive('df-74f5625d-9058-4ad7-ad9b-f9d10a95c29b')\"\n",
              "            title=\"Convert this dataframe to an interactive table.\"\n",
              "            style=\"display:none;\">\n",
              "\n",
              "  <svg xmlns=\"http://www.w3.org/2000/svg\" height=\"24px\" viewBox=\"0 -960 960 960\">\n",
              "    <path d=\"M120-120v-720h720v720H120Zm60-500h600v-160H180v160Zm220 220h160v-160H400v160Zm0 220h160v-160H400v160ZM180-400h160v-160H180v160Zm440 0h160v-160H620v160ZM180-180h160v-160H180v160Zm440 0h160v-160H620v160Z\"/>\n",
              "  </svg>\n",
              "    </button>\n",
              "\n",
              "  <style>\n",
              "    .colab-df-container {\n",
              "      display:flex;\n",
              "      gap: 12px;\n",
              "    }\n",
              "\n",
              "    .colab-df-convert {\n",
              "      background-color: #E8F0FE;\n",
              "      border: none;\n",
              "      border-radius: 50%;\n",
              "      cursor: pointer;\n",
              "      display: none;\n",
              "      fill: #1967D2;\n",
              "      height: 32px;\n",
              "      padding: 0 0 0 0;\n",
              "      width: 32px;\n",
              "    }\n",
              "\n",
              "    .colab-df-convert:hover {\n",
              "      background-color: #E2EBFA;\n",
              "      box-shadow: 0px 1px 2px rgba(60, 64, 67, 0.3), 0px 1px 3px 1px rgba(60, 64, 67, 0.15);\n",
              "      fill: #174EA6;\n",
              "    }\n",
              "\n",
              "    .colab-df-buttons div {\n",
              "      margin-bottom: 4px;\n",
              "    }\n",
              "\n",
              "    [theme=dark] .colab-df-convert {\n",
              "      background-color: #3B4455;\n",
              "      fill: #D2E3FC;\n",
              "    }\n",
              "\n",
              "    [theme=dark] .colab-df-convert:hover {\n",
              "      background-color: #434B5C;\n",
              "      box-shadow: 0px 1px 3px 1px rgba(0, 0, 0, 0.15);\n",
              "      filter: drop-shadow(0px 1px 2px rgba(0, 0, 0, 0.3));\n",
              "      fill: #FFFFFF;\n",
              "    }\n",
              "  </style>\n",
              "\n",
              "    <script>\n",
              "      const buttonEl =\n",
              "        document.querySelector('#df-74f5625d-9058-4ad7-ad9b-f9d10a95c29b button.colab-df-convert');\n",
              "      buttonEl.style.display =\n",
              "        google.colab.kernel.accessAllowed ? 'block' : 'none';\n",
              "\n",
              "      async function convertToInteractive(key) {\n",
              "        const element = document.querySelector('#df-74f5625d-9058-4ad7-ad9b-f9d10a95c29b');\n",
              "        const dataTable =\n",
              "          await google.colab.kernel.invokeFunction('convertToInteractive',\n",
              "                                                    [key], {});\n",
              "        if (!dataTable) return;\n",
              "\n",
              "        const docLinkHtml = 'Like what you see? Visit the ' +\n",
              "          '<a target=\"_blank\" href=https://colab.research.google.com/notebooks/data_table.ipynb>data table notebook</a>'\n",
              "          + ' to learn more about interactive tables.';\n",
              "        element.innerHTML = '';\n",
              "        dataTable['output_type'] = 'display_data';\n",
              "        await google.colab.output.renderOutput(dataTable, element);\n",
              "        const docLink = document.createElement('div');\n",
              "        docLink.innerHTML = docLinkHtml;\n",
              "        element.appendChild(docLink);\n",
              "      }\n",
              "    </script>\n",
              "  </div>\n",
              "\n",
              "\n",
              "<div id=\"df-7a6fdf18-2ead-4d6c-805a-bbb894095e1d\">\n",
              "  <button class=\"colab-df-quickchart\" onclick=\"quickchart('df-7a6fdf18-2ead-4d6c-805a-bbb894095e1d')\"\n",
              "            title=\"Suggest charts\"\n",
              "            style=\"display:none;\">\n",
              "\n",
              "<svg xmlns=\"http://www.w3.org/2000/svg\" height=\"24px\"viewBox=\"0 0 24 24\"\n",
              "     width=\"24px\">\n",
              "    <g>\n",
              "        <path d=\"M19 3H5c-1.1 0-2 .9-2 2v14c0 1.1.9 2 2 2h14c1.1 0 2-.9 2-2V5c0-1.1-.9-2-2-2zM9 17H7v-7h2v7zm4 0h-2V7h2v10zm4 0h-2v-4h2v4z\"/>\n",
              "    </g>\n",
              "</svg>\n",
              "  </button>\n",
              "\n",
              "<style>\n",
              "  .colab-df-quickchart {\n",
              "      --bg-color: #E8F0FE;\n",
              "      --fill-color: #1967D2;\n",
              "      --hover-bg-color: #E2EBFA;\n",
              "      --hover-fill-color: #174EA6;\n",
              "      --disabled-fill-color: #AAA;\n",
              "      --disabled-bg-color: #DDD;\n",
              "  }\n",
              "\n",
              "  [theme=dark] .colab-df-quickchart {\n",
              "      --bg-color: #3B4455;\n",
              "      --fill-color: #D2E3FC;\n",
              "      --hover-bg-color: #434B5C;\n",
              "      --hover-fill-color: #FFFFFF;\n",
              "      --disabled-bg-color: #3B4455;\n",
              "      --disabled-fill-color: #666;\n",
              "  }\n",
              "\n",
              "  .colab-df-quickchart {\n",
              "    background-color: var(--bg-color);\n",
              "    border: none;\n",
              "    border-radius: 50%;\n",
              "    cursor: pointer;\n",
              "    display: none;\n",
              "    fill: var(--fill-color);\n",
              "    height: 32px;\n",
              "    padding: 0;\n",
              "    width: 32px;\n",
              "  }\n",
              "\n",
              "  .colab-df-quickchart:hover {\n",
              "    background-color: var(--hover-bg-color);\n",
              "    box-shadow: 0 1px 2px rgba(60, 64, 67, 0.3), 0 1px 3px 1px rgba(60, 64, 67, 0.15);\n",
              "    fill: var(--button-hover-fill-color);\n",
              "  }\n",
              "\n",
              "  .colab-df-quickchart-complete:disabled,\n",
              "  .colab-df-quickchart-complete:disabled:hover {\n",
              "    background-color: var(--disabled-bg-color);\n",
              "    fill: var(--disabled-fill-color);\n",
              "    box-shadow: none;\n",
              "  }\n",
              "\n",
              "  .colab-df-spinner {\n",
              "    border: 2px solid var(--fill-color);\n",
              "    border-color: transparent;\n",
              "    border-bottom-color: var(--fill-color);\n",
              "    animation:\n",
              "      spin 1s steps(1) infinite;\n",
              "  }\n",
              "\n",
              "  @keyframes spin {\n",
              "    0% {\n",
              "      border-color: transparent;\n",
              "      border-bottom-color: var(--fill-color);\n",
              "      border-left-color: var(--fill-color);\n",
              "    }\n",
              "    20% {\n",
              "      border-color: transparent;\n",
              "      border-left-color: var(--fill-color);\n",
              "      border-top-color: var(--fill-color);\n",
              "    }\n",
              "    30% {\n",
              "      border-color: transparent;\n",
              "      border-left-color: var(--fill-color);\n",
              "      border-top-color: var(--fill-color);\n",
              "      border-right-color: var(--fill-color);\n",
              "    }\n",
              "    40% {\n",
              "      border-color: transparent;\n",
              "      border-right-color: var(--fill-color);\n",
              "      border-top-color: var(--fill-color);\n",
              "    }\n",
              "    60% {\n",
              "      border-color: transparent;\n",
              "      border-right-color: var(--fill-color);\n",
              "    }\n",
              "    80% {\n",
              "      border-color: transparent;\n",
              "      border-right-color: var(--fill-color);\n",
              "      border-bottom-color: var(--fill-color);\n",
              "    }\n",
              "    90% {\n",
              "      border-color: transparent;\n",
              "      border-bottom-color: var(--fill-color);\n",
              "    }\n",
              "  }\n",
              "</style>\n",
              "\n",
              "  <script>\n",
              "    async function quickchart(key) {\n",
              "      const quickchartButtonEl =\n",
              "        document.querySelector('#' + key + ' button');\n",
              "      quickchartButtonEl.disabled = true;  // To prevent multiple clicks.\n",
              "      quickchartButtonEl.classList.add('colab-df-spinner');\n",
              "      try {\n",
              "        const charts = await google.colab.kernel.invokeFunction(\n",
              "            'suggestCharts', [key], {});\n",
              "      } catch (error) {\n",
              "        console.error('Error during call to suggestCharts:', error);\n",
              "      }\n",
              "      quickchartButtonEl.classList.remove('colab-df-spinner');\n",
              "      quickchartButtonEl.classList.add('colab-df-quickchart-complete');\n",
              "    }\n",
              "    (() => {\n",
              "      let quickchartButtonEl =\n",
              "        document.querySelector('#df-7a6fdf18-2ead-4d6c-805a-bbb894095e1d button');\n",
              "      quickchartButtonEl.style.display =\n",
              "        google.colab.kernel.accessAllowed ? 'block' : 'none';\n",
              "    })();\n",
              "  </script>\n",
              "</div>\n",
              "    </div>\n",
              "  </div>\n"
            ]
          },
          "metadata": {},
          "execution_count": 153
        }
      ]
    },
    {
      "cell_type": "code",
      "source": [
        "# Create X & Y values (features and labesls)\n",
        "x = insurance_one_hot.drop(\"charges\",axis=1)\n",
        "y = insurance_one_hot[\"charges\"]\n",
        "x.head()\n",
        "# create training and test sets\n"
      ],
      "metadata": {
        "id": "zh6CE-VZVgwo",
        "colab": {
          "base_uri": "https://localhost:8080/",
          "height": 206
        },
        "outputId": "21e32a64-8d61-4da3-ba6b-28b96e1f4ab1"
      },
      "execution_count": 154,
      "outputs": [
        {
          "output_type": "execute_result",
          "data": {
            "text/plain": [
              "   age     bmi  children  sex_female  sex_male  smoker_no  smoker_yes  \\\n",
              "0   19  27.900         0           1         0          0           1   \n",
              "1   18  33.770         1           0         1          1           0   \n",
              "2   28  33.000         3           0         1          1           0   \n",
              "3   33  22.705         0           0         1          1           0   \n",
              "4   32  28.880         0           0         1          1           0   \n",
              "\n",
              "   region_northeast  region_northwest  region_southeast  region_southwest  \n",
              "0                 0                 0                 0                 1  \n",
              "1                 0                 0                 1                 0  \n",
              "2                 0                 0                 1                 0  \n",
              "3                 0                 1                 0                 0  \n",
              "4                 0                 1                 0                 0  "
            ],
            "text/html": [
              "\n",
              "  <div id=\"df-7eede1fa-1b49-4284-8029-3319fc0df346\" class=\"colab-df-container\">\n",
              "    <div>\n",
              "<style scoped>\n",
              "    .dataframe tbody tr th:only-of-type {\n",
              "        vertical-align: middle;\n",
              "    }\n",
              "\n",
              "    .dataframe tbody tr th {\n",
              "        vertical-align: top;\n",
              "    }\n",
              "\n",
              "    .dataframe thead th {\n",
              "        text-align: right;\n",
              "    }\n",
              "</style>\n",
              "<table border=\"1\" class=\"dataframe\">\n",
              "  <thead>\n",
              "    <tr style=\"text-align: right;\">\n",
              "      <th></th>\n",
              "      <th>age</th>\n",
              "      <th>bmi</th>\n",
              "      <th>children</th>\n",
              "      <th>sex_female</th>\n",
              "      <th>sex_male</th>\n",
              "      <th>smoker_no</th>\n",
              "      <th>smoker_yes</th>\n",
              "      <th>region_northeast</th>\n",
              "      <th>region_northwest</th>\n",
              "      <th>region_southeast</th>\n",
              "      <th>region_southwest</th>\n",
              "    </tr>\n",
              "  </thead>\n",
              "  <tbody>\n",
              "    <tr>\n",
              "      <th>0</th>\n",
              "      <td>19</td>\n",
              "      <td>27.900</td>\n",
              "      <td>0</td>\n",
              "      <td>1</td>\n",
              "      <td>0</td>\n",
              "      <td>0</td>\n",
              "      <td>1</td>\n",
              "      <td>0</td>\n",
              "      <td>0</td>\n",
              "      <td>0</td>\n",
              "      <td>1</td>\n",
              "    </tr>\n",
              "    <tr>\n",
              "      <th>1</th>\n",
              "      <td>18</td>\n",
              "      <td>33.770</td>\n",
              "      <td>1</td>\n",
              "      <td>0</td>\n",
              "      <td>1</td>\n",
              "      <td>1</td>\n",
              "      <td>0</td>\n",
              "      <td>0</td>\n",
              "      <td>0</td>\n",
              "      <td>1</td>\n",
              "      <td>0</td>\n",
              "    </tr>\n",
              "    <tr>\n",
              "      <th>2</th>\n",
              "      <td>28</td>\n",
              "      <td>33.000</td>\n",
              "      <td>3</td>\n",
              "      <td>0</td>\n",
              "      <td>1</td>\n",
              "      <td>1</td>\n",
              "      <td>0</td>\n",
              "      <td>0</td>\n",
              "      <td>0</td>\n",
              "      <td>1</td>\n",
              "      <td>0</td>\n",
              "    </tr>\n",
              "    <tr>\n",
              "      <th>3</th>\n",
              "      <td>33</td>\n",
              "      <td>22.705</td>\n",
              "      <td>0</td>\n",
              "      <td>0</td>\n",
              "      <td>1</td>\n",
              "      <td>1</td>\n",
              "      <td>0</td>\n",
              "      <td>0</td>\n",
              "      <td>1</td>\n",
              "      <td>0</td>\n",
              "      <td>0</td>\n",
              "    </tr>\n",
              "    <tr>\n",
              "      <th>4</th>\n",
              "      <td>32</td>\n",
              "      <td>28.880</td>\n",
              "      <td>0</td>\n",
              "      <td>0</td>\n",
              "      <td>1</td>\n",
              "      <td>1</td>\n",
              "      <td>0</td>\n",
              "      <td>0</td>\n",
              "      <td>1</td>\n",
              "      <td>0</td>\n",
              "      <td>0</td>\n",
              "    </tr>\n",
              "  </tbody>\n",
              "</table>\n",
              "</div>\n",
              "    <div class=\"colab-df-buttons\">\n",
              "\n",
              "  <div class=\"colab-df-container\">\n",
              "    <button class=\"colab-df-convert\" onclick=\"convertToInteractive('df-7eede1fa-1b49-4284-8029-3319fc0df346')\"\n",
              "            title=\"Convert this dataframe to an interactive table.\"\n",
              "            style=\"display:none;\">\n",
              "\n",
              "  <svg xmlns=\"http://www.w3.org/2000/svg\" height=\"24px\" viewBox=\"0 -960 960 960\">\n",
              "    <path d=\"M120-120v-720h720v720H120Zm60-500h600v-160H180v160Zm220 220h160v-160H400v160Zm0 220h160v-160H400v160ZM180-400h160v-160H180v160Zm440 0h160v-160H620v160ZM180-180h160v-160H180v160Zm440 0h160v-160H620v160Z\"/>\n",
              "  </svg>\n",
              "    </button>\n",
              "\n",
              "  <style>\n",
              "    .colab-df-container {\n",
              "      display:flex;\n",
              "      gap: 12px;\n",
              "    }\n",
              "\n",
              "    .colab-df-convert {\n",
              "      background-color: #E8F0FE;\n",
              "      border: none;\n",
              "      border-radius: 50%;\n",
              "      cursor: pointer;\n",
              "      display: none;\n",
              "      fill: #1967D2;\n",
              "      height: 32px;\n",
              "      padding: 0 0 0 0;\n",
              "      width: 32px;\n",
              "    }\n",
              "\n",
              "    .colab-df-convert:hover {\n",
              "      background-color: #E2EBFA;\n",
              "      box-shadow: 0px 1px 2px rgba(60, 64, 67, 0.3), 0px 1px 3px 1px rgba(60, 64, 67, 0.15);\n",
              "      fill: #174EA6;\n",
              "    }\n",
              "\n",
              "    .colab-df-buttons div {\n",
              "      margin-bottom: 4px;\n",
              "    }\n",
              "\n",
              "    [theme=dark] .colab-df-convert {\n",
              "      background-color: #3B4455;\n",
              "      fill: #D2E3FC;\n",
              "    }\n",
              "\n",
              "    [theme=dark] .colab-df-convert:hover {\n",
              "      background-color: #434B5C;\n",
              "      box-shadow: 0px 1px 3px 1px rgba(0, 0, 0, 0.15);\n",
              "      filter: drop-shadow(0px 1px 2px rgba(0, 0, 0, 0.3));\n",
              "      fill: #FFFFFF;\n",
              "    }\n",
              "  </style>\n",
              "\n",
              "    <script>\n",
              "      const buttonEl =\n",
              "        document.querySelector('#df-7eede1fa-1b49-4284-8029-3319fc0df346 button.colab-df-convert');\n",
              "      buttonEl.style.display =\n",
              "        google.colab.kernel.accessAllowed ? 'block' : 'none';\n",
              "\n",
              "      async function convertToInteractive(key) {\n",
              "        const element = document.querySelector('#df-7eede1fa-1b49-4284-8029-3319fc0df346');\n",
              "        const dataTable =\n",
              "          await google.colab.kernel.invokeFunction('convertToInteractive',\n",
              "                                                    [key], {});\n",
              "        if (!dataTable) return;\n",
              "\n",
              "        const docLinkHtml = 'Like what you see? Visit the ' +\n",
              "          '<a target=\"_blank\" href=https://colab.research.google.com/notebooks/data_table.ipynb>data table notebook</a>'\n",
              "          + ' to learn more about interactive tables.';\n",
              "        element.innerHTML = '';\n",
              "        dataTable['output_type'] = 'display_data';\n",
              "        await google.colab.output.renderOutput(dataTable, element);\n",
              "        const docLink = document.createElement('div');\n",
              "        docLink.innerHTML = docLinkHtml;\n",
              "        element.appendChild(docLink);\n",
              "      }\n",
              "    </script>\n",
              "  </div>\n",
              "\n",
              "\n",
              "<div id=\"df-1542612b-123f-4342-a19c-76b2193090ee\">\n",
              "  <button class=\"colab-df-quickchart\" onclick=\"quickchart('df-1542612b-123f-4342-a19c-76b2193090ee')\"\n",
              "            title=\"Suggest charts\"\n",
              "            style=\"display:none;\">\n",
              "\n",
              "<svg xmlns=\"http://www.w3.org/2000/svg\" height=\"24px\"viewBox=\"0 0 24 24\"\n",
              "     width=\"24px\">\n",
              "    <g>\n",
              "        <path d=\"M19 3H5c-1.1 0-2 .9-2 2v14c0 1.1.9 2 2 2h14c1.1 0 2-.9 2-2V5c0-1.1-.9-2-2-2zM9 17H7v-7h2v7zm4 0h-2V7h2v10zm4 0h-2v-4h2v4z\"/>\n",
              "    </g>\n",
              "</svg>\n",
              "  </button>\n",
              "\n",
              "<style>\n",
              "  .colab-df-quickchart {\n",
              "      --bg-color: #E8F0FE;\n",
              "      --fill-color: #1967D2;\n",
              "      --hover-bg-color: #E2EBFA;\n",
              "      --hover-fill-color: #174EA6;\n",
              "      --disabled-fill-color: #AAA;\n",
              "      --disabled-bg-color: #DDD;\n",
              "  }\n",
              "\n",
              "  [theme=dark] .colab-df-quickchart {\n",
              "      --bg-color: #3B4455;\n",
              "      --fill-color: #D2E3FC;\n",
              "      --hover-bg-color: #434B5C;\n",
              "      --hover-fill-color: #FFFFFF;\n",
              "      --disabled-bg-color: #3B4455;\n",
              "      --disabled-fill-color: #666;\n",
              "  }\n",
              "\n",
              "  .colab-df-quickchart {\n",
              "    background-color: var(--bg-color);\n",
              "    border: none;\n",
              "    border-radius: 50%;\n",
              "    cursor: pointer;\n",
              "    display: none;\n",
              "    fill: var(--fill-color);\n",
              "    height: 32px;\n",
              "    padding: 0;\n",
              "    width: 32px;\n",
              "  }\n",
              "\n",
              "  .colab-df-quickchart:hover {\n",
              "    background-color: var(--hover-bg-color);\n",
              "    box-shadow: 0 1px 2px rgba(60, 64, 67, 0.3), 0 1px 3px 1px rgba(60, 64, 67, 0.15);\n",
              "    fill: var(--button-hover-fill-color);\n",
              "  }\n",
              "\n",
              "  .colab-df-quickchart-complete:disabled,\n",
              "  .colab-df-quickchart-complete:disabled:hover {\n",
              "    background-color: var(--disabled-bg-color);\n",
              "    fill: var(--disabled-fill-color);\n",
              "    box-shadow: none;\n",
              "  }\n",
              "\n",
              "  .colab-df-spinner {\n",
              "    border: 2px solid var(--fill-color);\n",
              "    border-color: transparent;\n",
              "    border-bottom-color: var(--fill-color);\n",
              "    animation:\n",
              "      spin 1s steps(1) infinite;\n",
              "  }\n",
              "\n",
              "  @keyframes spin {\n",
              "    0% {\n",
              "      border-color: transparent;\n",
              "      border-bottom-color: var(--fill-color);\n",
              "      border-left-color: var(--fill-color);\n",
              "    }\n",
              "    20% {\n",
              "      border-color: transparent;\n",
              "      border-left-color: var(--fill-color);\n",
              "      border-top-color: var(--fill-color);\n",
              "    }\n",
              "    30% {\n",
              "      border-color: transparent;\n",
              "      border-left-color: var(--fill-color);\n",
              "      border-top-color: var(--fill-color);\n",
              "      border-right-color: var(--fill-color);\n",
              "    }\n",
              "    40% {\n",
              "      border-color: transparent;\n",
              "      border-right-color: var(--fill-color);\n",
              "      border-top-color: var(--fill-color);\n",
              "    }\n",
              "    60% {\n",
              "      border-color: transparent;\n",
              "      border-right-color: var(--fill-color);\n",
              "    }\n",
              "    80% {\n",
              "      border-color: transparent;\n",
              "      border-right-color: var(--fill-color);\n",
              "      border-bottom-color: var(--fill-color);\n",
              "    }\n",
              "    90% {\n",
              "      border-color: transparent;\n",
              "      border-bottom-color: var(--fill-color);\n",
              "    }\n",
              "  }\n",
              "</style>\n",
              "\n",
              "  <script>\n",
              "    async function quickchart(key) {\n",
              "      const quickchartButtonEl =\n",
              "        document.querySelector('#' + key + ' button');\n",
              "      quickchartButtonEl.disabled = true;  // To prevent multiple clicks.\n",
              "      quickchartButtonEl.classList.add('colab-df-spinner');\n",
              "      try {\n",
              "        const charts = await google.colab.kernel.invokeFunction(\n",
              "            'suggestCharts', [key], {});\n",
              "      } catch (error) {\n",
              "        console.error('Error during call to suggestCharts:', error);\n",
              "      }\n",
              "      quickchartButtonEl.classList.remove('colab-df-spinner');\n",
              "      quickchartButtonEl.classList.add('colab-df-quickchart-complete');\n",
              "    }\n",
              "    (() => {\n",
              "      let quickchartButtonEl =\n",
              "        document.querySelector('#df-1542612b-123f-4342-a19c-76b2193090ee button');\n",
              "      quickchartButtonEl.style.display =\n",
              "        google.colab.kernel.accessAllowed ? 'block' : 'none';\n",
              "    })();\n",
              "  </script>\n",
              "</div>\n",
              "    </div>\n",
              "  </div>\n"
            ]
          },
          "metadata": {},
          "execution_count": 154
        }
      ]
    },
    {
      "cell_type": "code",
      "source": [
        "y.head()"
      ],
      "metadata": {
        "id": "Oa4k6WDpwVuc",
        "colab": {
          "base_uri": "https://localhost:8080/"
        },
        "outputId": "61ac3a7f-d9e3-4919-d3c2-3f5317e809ef"
      },
      "execution_count": 155,
      "outputs": [
        {
          "output_type": "execute_result",
          "data": {
            "text/plain": [
              "0    16884.92400\n",
              "1     1725.55230\n",
              "2     4449.46200\n",
              "3    21984.47061\n",
              "4     3866.85520\n",
              "Name: charges, dtype: float64"
            ]
          },
          "metadata": {},
          "execution_count": 155
        }
      ]
    },
    {
      "cell_type": "code",
      "source": [
        "from sklearn.model_selection import train_test_split"
      ],
      "metadata": {
        "id": "yZpwdCFAwmIZ"
      },
      "execution_count": 156,
      "outputs": []
    },
    {
      "cell_type": "code",
      "source": [
        "x_train,x_test,y_train,y_test = train_test_split(x,y,test_size=0.2,random_state=42)"
      ],
      "metadata": {
        "id": "EpnQ6C3EyMQv"
      },
      "execution_count": 157,
      "outputs": []
    },
    {
      "cell_type": "code",
      "source": [
        "len(x),len(x_train),len(x_test)"
      ],
      "metadata": {
        "id": "_v_P8uMfyeM_",
        "colab": {
          "base_uri": "https://localhost:8080/"
        },
        "outputId": "ecb91abc-5ea3-4e90-ff1d-53915a6a76bf"
      },
      "execution_count": 158,
      "outputs": [
        {
          "output_type": "execute_result",
          "data": {
            "text/plain": [
              "(1338, 1070, 268)"
            ]
          },
          "metadata": {},
          "execution_count": 158
        }
      ]
    },
    {
      "cell_type": "code",
      "source": [
        "x_train.head()"
      ],
      "metadata": {
        "id": "ln2zVvnRzQCa",
        "colab": {
          "base_uri": "https://localhost:8080/",
          "height": 206
        },
        "outputId": "d0c20207-2886-4504-e844-8ce61623f8bb"
      },
      "execution_count": 159,
      "outputs": [
        {
          "output_type": "execute_result",
          "data": {
            "text/plain": [
              "      age    bmi  children  sex_female  sex_male  smoker_no  smoker_yes  \\\n",
              "560    46  19.95         2           1         0          1           0   \n",
              "1285   47  24.32         0           1         0          1           0   \n",
              "1142   52  24.86         0           1         0          1           0   \n",
              "969    39  34.32         5           1         0          1           0   \n",
              "486    54  21.47         3           1         0          1           0   \n",
              "\n",
              "      region_northeast  region_northwest  region_southeast  region_southwest  \n",
              "560                  0                 1                 0                 0  \n",
              "1285                 1                 0                 0                 0  \n",
              "1142                 0                 0                 1                 0  \n",
              "969                  0                 0                 1                 0  \n",
              "486                  0                 1                 0                 0  "
            ],
            "text/html": [
              "\n",
              "  <div id=\"df-056b7fae-7d2a-47a8-b8fb-026450b1e174\" class=\"colab-df-container\">\n",
              "    <div>\n",
              "<style scoped>\n",
              "    .dataframe tbody tr th:only-of-type {\n",
              "        vertical-align: middle;\n",
              "    }\n",
              "\n",
              "    .dataframe tbody tr th {\n",
              "        vertical-align: top;\n",
              "    }\n",
              "\n",
              "    .dataframe thead th {\n",
              "        text-align: right;\n",
              "    }\n",
              "</style>\n",
              "<table border=\"1\" class=\"dataframe\">\n",
              "  <thead>\n",
              "    <tr style=\"text-align: right;\">\n",
              "      <th></th>\n",
              "      <th>age</th>\n",
              "      <th>bmi</th>\n",
              "      <th>children</th>\n",
              "      <th>sex_female</th>\n",
              "      <th>sex_male</th>\n",
              "      <th>smoker_no</th>\n",
              "      <th>smoker_yes</th>\n",
              "      <th>region_northeast</th>\n",
              "      <th>region_northwest</th>\n",
              "      <th>region_southeast</th>\n",
              "      <th>region_southwest</th>\n",
              "    </tr>\n",
              "  </thead>\n",
              "  <tbody>\n",
              "    <tr>\n",
              "      <th>560</th>\n",
              "      <td>46</td>\n",
              "      <td>19.95</td>\n",
              "      <td>2</td>\n",
              "      <td>1</td>\n",
              "      <td>0</td>\n",
              "      <td>1</td>\n",
              "      <td>0</td>\n",
              "      <td>0</td>\n",
              "      <td>1</td>\n",
              "      <td>0</td>\n",
              "      <td>0</td>\n",
              "    </tr>\n",
              "    <tr>\n",
              "      <th>1285</th>\n",
              "      <td>47</td>\n",
              "      <td>24.32</td>\n",
              "      <td>0</td>\n",
              "      <td>1</td>\n",
              "      <td>0</td>\n",
              "      <td>1</td>\n",
              "      <td>0</td>\n",
              "      <td>1</td>\n",
              "      <td>0</td>\n",
              "      <td>0</td>\n",
              "      <td>0</td>\n",
              "    </tr>\n",
              "    <tr>\n",
              "      <th>1142</th>\n",
              "      <td>52</td>\n",
              "      <td>24.86</td>\n",
              "      <td>0</td>\n",
              "      <td>1</td>\n",
              "      <td>0</td>\n",
              "      <td>1</td>\n",
              "      <td>0</td>\n",
              "      <td>0</td>\n",
              "      <td>0</td>\n",
              "      <td>1</td>\n",
              "      <td>0</td>\n",
              "    </tr>\n",
              "    <tr>\n",
              "      <th>969</th>\n",
              "      <td>39</td>\n",
              "      <td>34.32</td>\n",
              "      <td>5</td>\n",
              "      <td>1</td>\n",
              "      <td>0</td>\n",
              "      <td>1</td>\n",
              "      <td>0</td>\n",
              "      <td>0</td>\n",
              "      <td>0</td>\n",
              "      <td>1</td>\n",
              "      <td>0</td>\n",
              "    </tr>\n",
              "    <tr>\n",
              "      <th>486</th>\n",
              "      <td>54</td>\n",
              "      <td>21.47</td>\n",
              "      <td>3</td>\n",
              "      <td>1</td>\n",
              "      <td>0</td>\n",
              "      <td>1</td>\n",
              "      <td>0</td>\n",
              "      <td>0</td>\n",
              "      <td>1</td>\n",
              "      <td>0</td>\n",
              "      <td>0</td>\n",
              "    </tr>\n",
              "  </tbody>\n",
              "</table>\n",
              "</div>\n",
              "    <div class=\"colab-df-buttons\">\n",
              "\n",
              "  <div class=\"colab-df-container\">\n",
              "    <button class=\"colab-df-convert\" onclick=\"convertToInteractive('df-056b7fae-7d2a-47a8-b8fb-026450b1e174')\"\n",
              "            title=\"Convert this dataframe to an interactive table.\"\n",
              "            style=\"display:none;\">\n",
              "\n",
              "  <svg xmlns=\"http://www.w3.org/2000/svg\" height=\"24px\" viewBox=\"0 -960 960 960\">\n",
              "    <path d=\"M120-120v-720h720v720H120Zm60-500h600v-160H180v160Zm220 220h160v-160H400v160Zm0 220h160v-160H400v160ZM180-400h160v-160H180v160Zm440 0h160v-160H620v160ZM180-180h160v-160H180v160Zm440 0h160v-160H620v160Z\"/>\n",
              "  </svg>\n",
              "    </button>\n",
              "\n",
              "  <style>\n",
              "    .colab-df-container {\n",
              "      display:flex;\n",
              "      gap: 12px;\n",
              "    }\n",
              "\n",
              "    .colab-df-convert {\n",
              "      background-color: #E8F0FE;\n",
              "      border: none;\n",
              "      border-radius: 50%;\n",
              "      cursor: pointer;\n",
              "      display: none;\n",
              "      fill: #1967D2;\n",
              "      height: 32px;\n",
              "      padding: 0 0 0 0;\n",
              "      width: 32px;\n",
              "    }\n",
              "\n",
              "    .colab-df-convert:hover {\n",
              "      background-color: #E2EBFA;\n",
              "      box-shadow: 0px 1px 2px rgba(60, 64, 67, 0.3), 0px 1px 3px 1px rgba(60, 64, 67, 0.15);\n",
              "      fill: #174EA6;\n",
              "    }\n",
              "\n",
              "    .colab-df-buttons div {\n",
              "      margin-bottom: 4px;\n",
              "    }\n",
              "\n",
              "    [theme=dark] .colab-df-convert {\n",
              "      background-color: #3B4455;\n",
              "      fill: #D2E3FC;\n",
              "    }\n",
              "\n",
              "    [theme=dark] .colab-df-convert:hover {\n",
              "      background-color: #434B5C;\n",
              "      box-shadow: 0px 1px 3px 1px rgba(0, 0, 0, 0.15);\n",
              "      filter: drop-shadow(0px 1px 2px rgba(0, 0, 0, 0.3));\n",
              "      fill: #FFFFFF;\n",
              "    }\n",
              "  </style>\n",
              "\n",
              "    <script>\n",
              "      const buttonEl =\n",
              "        document.querySelector('#df-056b7fae-7d2a-47a8-b8fb-026450b1e174 button.colab-df-convert');\n",
              "      buttonEl.style.display =\n",
              "        google.colab.kernel.accessAllowed ? 'block' : 'none';\n",
              "\n",
              "      async function convertToInteractive(key) {\n",
              "        const element = document.querySelector('#df-056b7fae-7d2a-47a8-b8fb-026450b1e174');\n",
              "        const dataTable =\n",
              "          await google.colab.kernel.invokeFunction('convertToInteractive',\n",
              "                                                    [key], {});\n",
              "        if (!dataTable) return;\n",
              "\n",
              "        const docLinkHtml = 'Like what you see? Visit the ' +\n",
              "          '<a target=\"_blank\" href=https://colab.research.google.com/notebooks/data_table.ipynb>data table notebook</a>'\n",
              "          + ' to learn more about interactive tables.';\n",
              "        element.innerHTML = '';\n",
              "        dataTable['output_type'] = 'display_data';\n",
              "        await google.colab.output.renderOutput(dataTable, element);\n",
              "        const docLink = document.createElement('div');\n",
              "        docLink.innerHTML = docLinkHtml;\n",
              "        element.appendChild(docLink);\n",
              "      }\n",
              "    </script>\n",
              "  </div>\n",
              "\n",
              "\n",
              "<div id=\"df-be9e8ada-b4e1-4747-b244-899c0e675d39\">\n",
              "  <button class=\"colab-df-quickchart\" onclick=\"quickchart('df-be9e8ada-b4e1-4747-b244-899c0e675d39')\"\n",
              "            title=\"Suggest charts\"\n",
              "            style=\"display:none;\">\n",
              "\n",
              "<svg xmlns=\"http://www.w3.org/2000/svg\" height=\"24px\"viewBox=\"0 0 24 24\"\n",
              "     width=\"24px\">\n",
              "    <g>\n",
              "        <path d=\"M19 3H5c-1.1 0-2 .9-2 2v14c0 1.1.9 2 2 2h14c1.1 0 2-.9 2-2V5c0-1.1-.9-2-2-2zM9 17H7v-7h2v7zm4 0h-2V7h2v10zm4 0h-2v-4h2v4z\"/>\n",
              "    </g>\n",
              "</svg>\n",
              "  </button>\n",
              "\n",
              "<style>\n",
              "  .colab-df-quickchart {\n",
              "      --bg-color: #E8F0FE;\n",
              "      --fill-color: #1967D2;\n",
              "      --hover-bg-color: #E2EBFA;\n",
              "      --hover-fill-color: #174EA6;\n",
              "      --disabled-fill-color: #AAA;\n",
              "      --disabled-bg-color: #DDD;\n",
              "  }\n",
              "\n",
              "  [theme=dark] .colab-df-quickchart {\n",
              "      --bg-color: #3B4455;\n",
              "      --fill-color: #D2E3FC;\n",
              "      --hover-bg-color: #434B5C;\n",
              "      --hover-fill-color: #FFFFFF;\n",
              "      --disabled-bg-color: #3B4455;\n",
              "      --disabled-fill-color: #666;\n",
              "  }\n",
              "\n",
              "  .colab-df-quickchart {\n",
              "    background-color: var(--bg-color);\n",
              "    border: none;\n",
              "    border-radius: 50%;\n",
              "    cursor: pointer;\n",
              "    display: none;\n",
              "    fill: var(--fill-color);\n",
              "    height: 32px;\n",
              "    padding: 0;\n",
              "    width: 32px;\n",
              "  }\n",
              "\n",
              "  .colab-df-quickchart:hover {\n",
              "    background-color: var(--hover-bg-color);\n",
              "    box-shadow: 0 1px 2px rgba(60, 64, 67, 0.3), 0 1px 3px 1px rgba(60, 64, 67, 0.15);\n",
              "    fill: var(--button-hover-fill-color);\n",
              "  }\n",
              "\n",
              "  .colab-df-quickchart-complete:disabled,\n",
              "  .colab-df-quickchart-complete:disabled:hover {\n",
              "    background-color: var(--disabled-bg-color);\n",
              "    fill: var(--disabled-fill-color);\n",
              "    box-shadow: none;\n",
              "  }\n",
              "\n",
              "  .colab-df-spinner {\n",
              "    border: 2px solid var(--fill-color);\n",
              "    border-color: transparent;\n",
              "    border-bottom-color: var(--fill-color);\n",
              "    animation:\n",
              "      spin 1s steps(1) infinite;\n",
              "  }\n",
              "\n",
              "  @keyframes spin {\n",
              "    0% {\n",
              "      border-color: transparent;\n",
              "      border-bottom-color: var(--fill-color);\n",
              "      border-left-color: var(--fill-color);\n",
              "    }\n",
              "    20% {\n",
              "      border-color: transparent;\n",
              "      border-left-color: var(--fill-color);\n",
              "      border-top-color: var(--fill-color);\n",
              "    }\n",
              "    30% {\n",
              "      border-color: transparent;\n",
              "      border-left-color: var(--fill-color);\n",
              "      border-top-color: var(--fill-color);\n",
              "      border-right-color: var(--fill-color);\n",
              "    }\n",
              "    40% {\n",
              "      border-color: transparent;\n",
              "      border-right-color: var(--fill-color);\n",
              "      border-top-color: var(--fill-color);\n",
              "    }\n",
              "    60% {\n",
              "      border-color: transparent;\n",
              "      border-right-color: var(--fill-color);\n",
              "    }\n",
              "    80% {\n",
              "      border-color: transparent;\n",
              "      border-right-color: var(--fill-color);\n",
              "      border-bottom-color: var(--fill-color);\n",
              "    }\n",
              "    90% {\n",
              "      border-color: transparent;\n",
              "      border-bottom-color: var(--fill-color);\n",
              "    }\n",
              "  }\n",
              "</style>\n",
              "\n",
              "  <script>\n",
              "    async function quickchart(key) {\n",
              "      const quickchartButtonEl =\n",
              "        document.querySelector('#' + key + ' button');\n",
              "      quickchartButtonEl.disabled = true;  // To prevent multiple clicks.\n",
              "      quickchartButtonEl.classList.add('colab-df-spinner');\n",
              "      try {\n",
              "        const charts = await google.colab.kernel.invokeFunction(\n",
              "            'suggestCharts', [key], {});\n",
              "      } catch (error) {\n",
              "        console.error('Error during call to suggestCharts:', error);\n",
              "      }\n",
              "      quickchartButtonEl.classList.remove('colab-df-spinner');\n",
              "      quickchartButtonEl.classList.add('colab-df-quickchart-complete');\n",
              "    }\n",
              "    (() => {\n",
              "      let quickchartButtonEl =\n",
              "        document.querySelector('#df-be9e8ada-b4e1-4747-b244-899c0e675d39 button');\n",
              "      quickchartButtonEl.style.display =\n",
              "        google.colab.kernel.accessAllowed ? 'block' : 'none';\n",
              "    })();\n",
              "  </script>\n",
              "</div>\n",
              "    </div>\n",
              "  </div>\n"
            ]
          },
          "metadata": {},
          "execution_count": 159
        }
      ]
    },
    {
      "cell_type": "code",
      "source": [
        "#Build a neueral network(sort of like model_2 above)\n",
        "tf.random.set_seed(42)\n",
        "insurance_model = tf.keras.Sequential([tf.keras.layers.Dense(10),\n",
        "                                      tf.keras.layers.Dense(1) ])"
      ],
      "metadata": {
        "id": "L8D3TJlIzjjT"
      },
      "execution_count": 160,
      "outputs": []
    },
    {
      "cell_type": "code",
      "source": [
        "insurance_model.compile(loss=tf.keras.losses.mae,\n",
        "                        optimizer=tf.keras.optimizers.SGD(),\n",
        "                        metrics=[\"mae\"])"
      ],
      "metadata": {
        "id": "e8TsdofP0khh"
      },
      "execution_count": 161,
      "outputs": []
    },
    {
      "cell_type": "code",
      "source": [
        "#fit the model\n",
        "insurance_model.fit(tf.expand_dims(x_train,axis=-1),y_train, epochs=100)"
      ],
      "metadata": {
        "id": "MOkp_X8F2A30",
        "colab": {
          "base_uri": "https://localhost:8080/"
        },
        "outputId": "d5f435fb-157e-41bd-8fd1-122d069854d9"
      },
      "execution_count": 162,
      "outputs": [
        {
          "output_type": "stream",
          "name": "stdout",
          "text": [
            "Epoch 1/100\n",
            "34/34 [==============================] - 1s 3ms/step - loss: 13217.2988 - mae: 13217.2988\n",
            "Epoch 2/100\n",
            "34/34 [==============================] - 0s 3ms/step - loss: 12290.7822 - mae: 12290.7822\n",
            "Epoch 3/100\n",
            "34/34 [==============================] - 0s 3ms/step - loss: 12171.7031 - mae: 12171.7031\n",
            "Epoch 4/100\n",
            "34/34 [==============================] - 0s 3ms/step - loss: 12096.3506 - mae: 12096.3506\n",
            "Epoch 5/100\n",
            "34/34 [==============================] - 0s 3ms/step - loss: 11981.0596 - mae: 11981.0596\n",
            "Epoch 6/100\n",
            "34/34 [==============================] - 0s 3ms/step - loss: 11792.0889 - mae: 11792.0889\n",
            "Epoch 7/100\n",
            "34/34 [==============================] - 0s 3ms/step - loss: 11463.5918 - mae: 11463.5918\n",
            "Epoch 8/100\n",
            "34/34 [==============================] - 0s 3ms/step - loss: 10950.0625 - mae: 10950.0625\n",
            "Epoch 9/100\n",
            "34/34 [==============================] - 0s 3ms/step - loss: 10333.4648 - mae: 10333.4648\n",
            "Epoch 10/100\n",
            "34/34 [==============================] - 0s 3ms/step - loss: 9686.7275 - mae: 9686.7275\n",
            "Epoch 11/100\n",
            "34/34 [==============================] - 0s 2ms/step - loss: 9174.4521 - mae: 9174.4521\n",
            "Epoch 12/100\n",
            "34/34 [==============================] - 0s 2ms/step - loss: 8808.7656 - mae: 8808.7656\n",
            "Epoch 13/100\n",
            "34/34 [==============================] - 0s 3ms/step - loss: 8642.0908 - mae: 8642.0908\n",
            "Epoch 14/100\n",
            "34/34 [==============================] - 0s 2ms/step - loss: 8550.9297 - mae: 8550.9297\n",
            "Epoch 15/100\n",
            "34/34 [==============================] - 0s 2ms/step - loss: 8479.6777 - mae: 8479.6777\n",
            "Epoch 16/100\n",
            "34/34 [==============================] - 0s 2ms/step - loss: 8524.9141 - mae: 8524.9141\n",
            "Epoch 17/100\n",
            "34/34 [==============================] - 0s 2ms/step - loss: 8577.1816 - mae: 8577.1816\n",
            "Epoch 18/100\n",
            "34/34 [==============================] - 0s 2ms/step - loss: 8527.9678 - mae: 8527.9678\n",
            "Epoch 19/100\n",
            "34/34 [==============================] - 0s 3ms/step - loss: 8480.3945 - mae: 8480.3945\n",
            "Epoch 20/100\n",
            "34/34 [==============================] - 0s 3ms/step - loss: 8591.2070 - mae: 8591.2070\n",
            "Epoch 21/100\n",
            "34/34 [==============================] - 0s 3ms/step - loss: 8476.1445 - mae: 8476.1445\n",
            "Epoch 22/100\n",
            "34/34 [==============================] - 0s 3ms/step - loss: 8570.8379 - mae: 8570.8379\n",
            "Epoch 23/100\n",
            "34/34 [==============================] - 0s 3ms/step - loss: 8542.3594 - mae: 8542.3594\n",
            "Epoch 24/100\n",
            "34/34 [==============================] - 0s 3ms/step - loss: 8460.3467 - mae: 8460.3467\n",
            "Epoch 25/100\n",
            "34/34 [==============================] - 0s 4ms/step - loss: 8453.0801 - mae: 8453.0801\n",
            "Epoch 26/100\n",
            "34/34 [==============================] - 0s 3ms/step - loss: 8431.6973 - mae: 8431.6973\n",
            "Epoch 27/100\n",
            "34/34 [==============================] - 0s 3ms/step - loss: 8534.0088 - mae: 8534.0088\n",
            "Epoch 28/100\n",
            "34/34 [==============================] - 0s 3ms/step - loss: 8431.4551 - mae: 8431.4551\n",
            "Epoch 29/100\n",
            "34/34 [==============================] - 0s 3ms/step - loss: 8432.6299 - mae: 8432.6299\n",
            "Epoch 30/100\n",
            "34/34 [==============================] - 0s 3ms/step - loss: 8486.0283 - mae: 8486.0283\n",
            "Epoch 31/100\n",
            "34/34 [==============================] - 0s 3ms/step - loss: 8442.0723 - mae: 8442.0723\n",
            "Epoch 32/100\n",
            "34/34 [==============================] - 0s 3ms/step - loss: 8467.0879 - mae: 8467.0879\n",
            "Epoch 33/100\n",
            "34/34 [==============================] - 0s 2ms/step - loss: 8394.5186 - mae: 8394.5186\n",
            "Epoch 34/100\n",
            "34/34 [==============================] - 0s 2ms/step - loss: 8415.3398 - mae: 8415.3398\n",
            "Epoch 35/100\n",
            "34/34 [==============================] - 0s 2ms/step - loss: 8393.8408 - mae: 8393.8408\n",
            "Epoch 36/100\n",
            "34/34 [==============================] - 0s 2ms/step - loss: 8443.4502 - mae: 8443.4502\n",
            "Epoch 37/100\n",
            "34/34 [==============================] - 0s 3ms/step - loss: 8421.1709 - mae: 8421.1709\n",
            "Epoch 38/100\n",
            "34/34 [==============================] - 0s 2ms/step - loss: 8396.8525 - mae: 8396.8525\n",
            "Epoch 39/100\n",
            "34/34 [==============================] - 0s 3ms/step - loss: 8401.1758 - mae: 8401.1758\n",
            "Epoch 40/100\n",
            "34/34 [==============================] - 0s 3ms/step - loss: 8342.0000 - mae: 8342.0000\n",
            "Epoch 41/100\n",
            "34/34 [==============================] - 0s 3ms/step - loss: 8403.0977 - mae: 8403.0977\n",
            "Epoch 42/100\n",
            "34/34 [==============================] - 0s 2ms/step - loss: 8412.9492 - mae: 8412.9492\n",
            "Epoch 43/100\n",
            "34/34 [==============================] - 0s 3ms/step - loss: 8480.5068 - mae: 8480.5068\n",
            "Epoch 44/100\n",
            "34/34 [==============================] - 0s 2ms/step - loss: 8369.6514 - mae: 8369.6514\n",
            "Epoch 45/100\n",
            "34/34 [==============================] - 0s 3ms/step - loss: 8430.2969 - mae: 8430.2969\n",
            "Epoch 46/100\n",
            "34/34 [==============================] - 0s 3ms/step - loss: 8388.2861 - mae: 8388.2861\n",
            "Epoch 47/100\n",
            "34/34 [==============================] - 0s 2ms/step - loss: 8401.2969 - mae: 8401.2969\n",
            "Epoch 48/100\n",
            "34/34 [==============================] - 0s 2ms/step - loss: 8334.2705 - mae: 8334.2705\n",
            "Epoch 49/100\n",
            "34/34 [==============================] - 0s 2ms/step - loss: 8424.0645 - mae: 8424.0645\n",
            "Epoch 50/100\n",
            "34/34 [==============================] - 0s 2ms/step - loss: 8394.5732 - mae: 8394.5732\n",
            "Epoch 51/100\n",
            "34/34 [==============================] - 0s 2ms/step - loss: 8392.4043 - mae: 8392.4043\n",
            "Epoch 52/100\n",
            "34/34 [==============================] - 0s 2ms/step - loss: 8365.1768 - mae: 8365.1768\n",
            "Epoch 53/100\n",
            "34/34 [==============================] - 0s 2ms/step - loss: 8452.8828 - mae: 8452.8828\n",
            "Epoch 54/100\n",
            "34/34 [==============================] - 0s 2ms/step - loss: 8414.5322 - mae: 8414.5322\n",
            "Epoch 55/100\n",
            "34/34 [==============================] - 0s 2ms/step - loss: 8351.4570 - mae: 8351.4570\n",
            "Epoch 56/100\n",
            "34/34 [==============================] - 0s 2ms/step - loss: 8367.3467 - mae: 8367.3467\n",
            "Epoch 57/100\n",
            "34/34 [==============================] - 0s 2ms/step - loss: 8376.0459 - mae: 8376.0459\n",
            "Epoch 58/100\n",
            "34/34 [==============================] - 0s 2ms/step - loss: 8346.0303 - mae: 8346.0303\n",
            "Epoch 59/100\n",
            "34/34 [==============================] - 0s 2ms/step - loss: 8412.5088 - mae: 8412.5088\n",
            "Epoch 60/100\n",
            "34/34 [==============================] - 0s 2ms/step - loss: 8427.1191 - mae: 8427.1191\n",
            "Epoch 61/100\n",
            "34/34 [==============================] - 0s 2ms/step - loss: 8418.7285 - mae: 8418.7285\n",
            "Epoch 62/100\n",
            "34/34 [==============================] - 0s 2ms/step - loss: 8336.2393 - mae: 8336.2393\n",
            "Epoch 63/100\n",
            "34/34 [==============================] - 0s 2ms/step - loss: 8377.4160 - mae: 8377.4160\n",
            "Epoch 64/100\n",
            "34/34 [==============================] - 0s 2ms/step - loss: 8393.4805 - mae: 8393.4805\n",
            "Epoch 65/100\n",
            "34/34 [==============================] - 0s 2ms/step - loss: 8391.4238 - mae: 8391.4238\n",
            "Epoch 66/100\n",
            "34/34 [==============================] - 0s 2ms/step - loss: 8364.0977 - mae: 8364.0977\n",
            "Epoch 67/100\n",
            "34/34 [==============================] - 0s 2ms/step - loss: 8313.3125 - mae: 8313.3125\n",
            "Epoch 68/100\n",
            "34/34 [==============================] - 0s 2ms/step - loss: 8340.3047 - mae: 8340.3047\n",
            "Epoch 69/100\n",
            "34/34 [==============================] - 0s 2ms/step - loss: 8355.6621 - mae: 8355.6621\n",
            "Epoch 70/100\n",
            "34/34 [==============================] - 0s 2ms/step - loss: 8413.5039 - mae: 8413.5039\n",
            "Epoch 71/100\n",
            "34/34 [==============================] - 0s 2ms/step - loss: 8355.6436 - mae: 8355.6436\n",
            "Epoch 72/100\n",
            "34/34 [==============================] - 0s 2ms/step - loss: 8373.8877 - mae: 8373.8877\n",
            "Epoch 73/100\n",
            "34/34 [==============================] - 0s 2ms/step - loss: 8358.4473 - mae: 8358.4473\n",
            "Epoch 74/100\n",
            "34/34 [==============================] - 0s 2ms/step - loss: 8362.3008 - mae: 8362.3008\n",
            "Epoch 75/100\n",
            "34/34 [==============================] - 0s 2ms/step - loss: 8329.8867 - mae: 8329.8867\n",
            "Epoch 76/100\n",
            "34/34 [==============================] - 0s 2ms/step - loss: 8336.6016 - mae: 8336.6016\n",
            "Epoch 77/100\n",
            "34/34 [==============================] - 0s 2ms/step - loss: 8378.7207 - mae: 8378.7207\n",
            "Epoch 78/100\n",
            "34/34 [==============================] - 0s 2ms/step - loss: 8365.1914 - mae: 8365.1914\n",
            "Epoch 79/100\n",
            "34/34 [==============================] - 0s 2ms/step - loss: 8399.7510 - mae: 8399.7510\n",
            "Epoch 80/100\n",
            "34/34 [==============================] - 0s 2ms/step - loss: 8324.1582 - mae: 8324.1582\n",
            "Epoch 81/100\n",
            "34/34 [==============================] - 0s 2ms/step - loss: 8361.0146 - mae: 8361.0146\n",
            "Epoch 82/100\n",
            "34/34 [==============================] - 0s 2ms/step - loss: 8339.8613 - mae: 8339.8613\n",
            "Epoch 83/100\n",
            "34/34 [==============================] - 0s 2ms/step - loss: 8422.0508 - mae: 8422.0508\n",
            "Epoch 84/100\n",
            "34/34 [==============================] - 0s 2ms/step - loss: 8348.9062 - mae: 8348.9062\n",
            "Epoch 85/100\n",
            "34/34 [==============================] - 0s 2ms/step - loss: 8373.9863 - mae: 8373.9863\n",
            "Epoch 86/100\n",
            "34/34 [==============================] - 0s 2ms/step - loss: 8364.4365 - mae: 8364.4365\n",
            "Epoch 87/100\n",
            "34/34 [==============================] - 0s 2ms/step - loss: 8354.1816 - mae: 8354.1816\n",
            "Epoch 88/100\n",
            "34/34 [==============================] - 0s 2ms/step - loss: 8366.0000 - mae: 8366.0000\n",
            "Epoch 89/100\n",
            "34/34 [==============================] - 0s 2ms/step - loss: 8375.9590 - mae: 8375.9590\n",
            "Epoch 90/100\n",
            "34/34 [==============================] - 0s 2ms/step - loss: 8323.9023 - mae: 8323.9023\n",
            "Epoch 91/100\n",
            "34/34 [==============================] - 0s 2ms/step - loss: 8357.2412 - mae: 8357.2412\n",
            "Epoch 92/100\n",
            "34/34 [==============================] - 0s 2ms/step - loss: 8377.3594 - mae: 8377.3594\n",
            "Epoch 93/100\n",
            "34/34 [==============================] - 0s 2ms/step - loss: 8345.1562 - mae: 8345.1562\n",
            "Epoch 94/100\n",
            "34/34 [==============================] - 0s 2ms/step - loss: 8325.1055 - mae: 8325.1064\n",
            "Epoch 95/100\n",
            "34/34 [==============================] - 0s 2ms/step - loss: 8342.2441 - mae: 8342.2441\n",
            "Epoch 96/100\n",
            "34/34 [==============================] - 0s 2ms/step - loss: 8346.5537 - mae: 8346.5537\n",
            "Epoch 97/100\n",
            "34/34 [==============================] - 0s 2ms/step - loss: 8354.5723 - mae: 8354.5723\n",
            "Epoch 98/100\n",
            "34/34 [==============================] - 0s 2ms/step - loss: 8342.0107 - mae: 8342.0107\n",
            "Epoch 99/100\n",
            "34/34 [==============================] - 0s 2ms/step - loss: 8323.6221 - mae: 8323.6221\n",
            "Epoch 100/100\n",
            "34/34 [==============================] - 0s 2ms/step - loss: 8346.7646 - mae: 8346.7646\n"
          ]
        },
        {
          "output_type": "execute_result",
          "data": {
            "text/plain": [
              "<keras.src.callbacks.History at 0x7d7e41244ca0>"
            ]
          },
          "metadata": {},
          "execution_count": 162
        }
      ]
    },
    {
      "cell_type": "code",
      "source": [
        "#check the insurance model on the test data\n",
        "insurance_model.evaluate(x_test,y_test)"
      ],
      "metadata": {
        "id": "wRKnOsSc21Qs",
        "colab": {
          "base_uri": "https://localhost:8080/"
        },
        "outputId": "2d974354-90fe-4fa8-b7c2-bb3070c3daf1"
      },
      "execution_count": 163,
      "outputs": [
        {
          "output_type": "stream",
          "name": "stdout",
          "text": [
            "9/9 [==============================] - 0s 2ms/step - loss: 8917.4736 - mae: 8917.4736\n"
          ]
        },
        {
          "output_type": "execute_result",
          "data": {
            "text/plain": [
              "[8917.4736328125, 8917.4736328125]"
            ]
          },
          "metadata": {},
          "execution_count": 163
        }
      ]
    },
    {
      "cell_type": "code",
      "source": [
        "y_train.median(), y_train.mean()"
      ],
      "metadata": {
        "id": "nM-WXDBi3mm8",
        "colab": {
          "base_uri": "https://localhost:8080/"
        },
        "outputId": "e7c21593-3bee-4e53-a508-2040fa50de76"
      },
      "execution_count": 164,
      "outputs": [
        {
          "output_type": "execute_result",
          "data": {
            "text/plain": [
              "(9575.4421, 13346.089736364485)"
            ]
          },
          "metadata": {},
          "execution_count": 164
        }
      ]
    },
    {
      "cell_type": "markdown",
      "source": [
        "# The model is performing pretty poorly, let's try to improve it, 2 experiments\n",
        "* Add an extra layer with more hidden units\n",
        "* Train the model longer\n",
        "\n"
      ],
      "metadata": {
        "id": "yAabIox932zv"
      }
    },
    {
      "cell_type": "code",
      "source": [
        "#set random seed\n",
        "tf.random.set_seed(42)"
      ],
      "metadata": {
        "id": "0l30NWUk4mam"
      },
      "execution_count": 165,
      "outputs": []
    },
    {
      "cell_type": "code",
      "source": [
        "#create the model\n",
        "insurance_model_2 = tf.keras.Sequential([tf.keras.layers.Dense(100),\n",
        "                                         tf.keras.layers.Dense(10),\n",
        "                                         tf.keras.layers.Dense(1)])\n",
        "#compile the model\n",
        "insurance_model_2.compile(loss=tf.keras.losses.mae,\n",
        "                        optimizer=tf.keras.optimizers.Adam(),\n",
        "                          metrics=[\"mae\"])\n",
        "\n",
        "#fit the model\n",
        "insurance_model_2.fit(tf.expand_dims(x_train,axis=-1),y_train,epochs=100,verbose=0)"
      ],
      "metadata": {
        "id": "GVFbfAlh4YwQ",
        "colab": {
          "base_uri": "https://localhost:8080/"
        },
        "outputId": "f766d96a-dbad-4c28-a8c1-76d3fe05aefa"
      },
      "execution_count": 166,
      "outputs": [
        {
          "output_type": "execute_result",
          "data": {
            "text/plain": [
              "<keras.src.callbacks.History at 0x7d7e417a0280>"
            ]
          },
          "metadata": {},
          "execution_count": 166
        }
      ]
    },
    {
      "cell_type": "code",
      "source": [
        "insurance_model_2.evaluate(x_test,y_test)"
      ],
      "metadata": {
        "id": "0ZvoBwed7DSW",
        "colab": {
          "base_uri": "https://localhost:8080/"
        },
        "outputId": "8f94e426-83b8-42f3-817d-3c0c6860b391"
      },
      "execution_count": 167,
      "outputs": [
        {
          "output_type": "stream",
          "name": "stdout",
          "text": [
            "9/9 [==============================] - 0s 3ms/step - loss: 8627.8389 - mae: 8627.8389\n"
          ]
        },
        {
          "output_type": "execute_result",
          "data": {
            "text/plain": [
              "[8627.8388671875, 8627.8388671875]"
            ]
          },
          "metadata": {},
          "execution_count": 167
        }
      ]
    },
    {
      "cell_type": "code",
      "source": [
        "# training the model longer\n",
        "# 1. Set the seed\n",
        "tf.random.set_seed(42)"
      ],
      "metadata": {
        "id": "gcMsUhaz7qFf"
      },
      "execution_count": 168,
      "outputs": []
    },
    {
      "cell_type": "code",
      "source": [
        "#2. create the model 3\n",
        "insurance_model_3 = tf.keras.Sequential([\n",
        "    tf.keras.layers.Dense(100),\n",
        "    tf.keras.layers.Dense(10),\n",
        "    tf.keras.layers.Dense(1)])"
      ],
      "metadata": {
        "id": "hBPmYAWf9MsQ"
      },
      "execution_count": 169,
      "outputs": []
    },
    {
      "cell_type": "code",
      "source": [
        "#3.compile the model\n",
        "insurance_model_3.compile(loss=tf.keras.losses.mae,\n",
        "                  optimizer=tf.keras.optimizers.Adam(),\n",
        "                  metrics=[\"mae\"])\n",
        "#4. fit the model\n",
        "history = insurance_model_3.fit(x_train,y_train,epochs=200,verbose=1)"
      ],
      "metadata": {
        "id": "d06FMlIP-vK9",
        "colab": {
          "base_uri": "https://localhost:8080/"
        },
        "outputId": "8ff3afb8-f8a8-4758-d11a-903424bbda49"
      },
      "execution_count": 170,
      "outputs": [
        {
          "output_type": "stream",
          "name": "stdout",
          "text": [
            "Epoch 1/200\n",
            "34/34 [==============================] - 1s 2ms/step - loss: 13266.2373 - mae: 13266.2373\n",
            "Epoch 2/200\n",
            "34/34 [==============================] - 0s 2ms/step - loss: 13040.4004 - mae: 13040.4004\n",
            "Epoch 3/200\n",
            "34/34 [==============================] - 0s 2ms/step - loss: 12593.1094 - mae: 12593.1094\n",
            "Epoch 4/200\n",
            "34/34 [==============================] - 0s 2ms/step - loss: 11760.7598 - mae: 11760.7598\n",
            "Epoch 5/200\n",
            "34/34 [==============================] - 0s 2ms/step - loss: 10469.4404 - mae: 10469.4404\n",
            "Epoch 6/200\n",
            "34/34 [==============================] - 0s 2ms/step - loss: 8991.4473 - mae: 8991.4473\n",
            "Epoch 7/200\n",
            "34/34 [==============================] - 0s 2ms/step - loss: 7844.6880 - mae: 7844.6880\n",
            "Epoch 8/200\n",
            "34/34 [==============================] - 0s 2ms/step - loss: 7480.8740 - mae: 7480.8740\n",
            "Epoch 9/200\n",
            "34/34 [==============================] - 0s 2ms/step - loss: 7430.3662 - mae: 7430.3662\n",
            "Epoch 10/200\n",
            "34/34 [==============================] - 0s 2ms/step - loss: 7410.2012 - mae: 7410.2012\n",
            "Epoch 11/200\n",
            "34/34 [==============================] - 0s 2ms/step - loss: 7390.5806 - mae: 7390.5806\n",
            "Epoch 12/200\n",
            "34/34 [==============================] - 0s 2ms/step - loss: 7367.1348 - mae: 7367.1348\n",
            "Epoch 13/200\n",
            "34/34 [==============================] - 0s 2ms/step - loss: 7345.4995 - mae: 7345.4995\n",
            "Epoch 14/200\n",
            "34/34 [==============================] - 0s 2ms/step - loss: 7321.6201 - mae: 7321.6201\n",
            "Epoch 15/200\n",
            "34/34 [==============================] - 0s 2ms/step - loss: 7301.4307 - mae: 7301.4307\n",
            "Epoch 16/200\n",
            "34/34 [==============================] - 0s 2ms/step - loss: 7277.3931 - mae: 7277.3931\n",
            "Epoch 17/200\n",
            "34/34 [==============================] - 0s 3ms/step - loss: 7254.9990 - mae: 7254.9990\n",
            "Epoch 18/200\n",
            "34/34 [==============================] - 0s 3ms/step - loss: 7229.9468 - mae: 7229.9468\n",
            "Epoch 19/200\n",
            "34/34 [==============================] - 0s 3ms/step - loss: 7205.2412 - mae: 7205.2412\n",
            "Epoch 20/200\n",
            "34/34 [==============================] - 0s 3ms/step - loss: 7179.0488 - mae: 7179.0488\n",
            "Epoch 21/200\n",
            "34/34 [==============================] - 0s 3ms/step - loss: 7158.1973 - mae: 7158.1973\n",
            "Epoch 22/200\n",
            "34/34 [==============================] - 0s 3ms/step - loss: 7127.1748 - mae: 7127.1748\n",
            "Epoch 23/200\n",
            "34/34 [==============================] - 0s 3ms/step - loss: 7098.6724 - mae: 7098.6724\n",
            "Epoch 24/200\n",
            "34/34 [==============================] - 0s 3ms/step - loss: 7070.2524 - mae: 7070.2524\n",
            "Epoch 25/200\n",
            "34/34 [==============================] - 0s 3ms/step - loss: 7047.4438 - mae: 7047.4438\n",
            "Epoch 26/200\n",
            "34/34 [==============================] - 0s 3ms/step - loss: 7013.0352 - mae: 7013.0352\n",
            "Epoch 27/200\n",
            "34/34 [==============================] - 0s 3ms/step - loss: 6980.6211 - mae: 6980.6211\n",
            "Epoch 28/200\n",
            "34/34 [==============================] - 0s 3ms/step - loss: 6948.0381 - mae: 6948.0381\n",
            "Epoch 29/200\n",
            "34/34 [==============================] - 0s 3ms/step - loss: 6914.9082 - mae: 6914.9082\n",
            "Epoch 30/200\n",
            "34/34 [==============================] - 0s 3ms/step - loss: 6885.6221 - mae: 6885.6221\n",
            "Epoch 31/200\n",
            "34/34 [==============================] - 0s 3ms/step - loss: 6849.2168 - mae: 6849.2168\n",
            "Epoch 32/200\n",
            "34/34 [==============================] - 0s 3ms/step - loss: 6815.7705 - mae: 6815.7705\n",
            "Epoch 33/200\n",
            "34/34 [==============================] - 0s 3ms/step - loss: 6779.0762 - mae: 6779.0762\n",
            "Epoch 34/200\n",
            "34/34 [==============================] - 0s 3ms/step - loss: 6742.1675 - mae: 6742.1675\n",
            "Epoch 35/200\n",
            "34/34 [==============================] - 0s 3ms/step - loss: 6703.6064 - mae: 6703.6064\n",
            "Epoch 36/200\n",
            "34/34 [==============================] - 0s 3ms/step - loss: 6665.8066 - mae: 6665.8066\n",
            "Epoch 37/200\n",
            "34/34 [==============================] - 0s 3ms/step - loss: 6626.5220 - mae: 6626.5220\n",
            "Epoch 38/200\n",
            "34/34 [==============================] - 0s 3ms/step - loss: 6594.1250 - mae: 6594.1250\n",
            "Epoch 39/200\n",
            "34/34 [==============================] - 0s 4ms/step - loss: 6556.7241 - mae: 6556.7241\n",
            "Epoch 40/200\n",
            "34/34 [==============================] - 0s 3ms/step - loss: 6529.2881 - mae: 6529.2881\n",
            "Epoch 41/200\n",
            "34/34 [==============================] - 0s 3ms/step - loss: 6507.1870 - mae: 6507.1870\n",
            "Epoch 42/200\n",
            "34/34 [==============================] - 0s 3ms/step - loss: 6487.9067 - mae: 6487.9067\n",
            "Epoch 43/200\n",
            "34/34 [==============================] - 0s 3ms/step - loss: 6472.1689 - mae: 6472.1689\n",
            "Epoch 44/200\n",
            "34/34 [==============================] - 0s 3ms/step - loss: 6452.3936 - mae: 6452.3936\n",
            "Epoch 45/200\n",
            "34/34 [==============================] - 0s 3ms/step - loss: 6445.3232 - mae: 6445.3232\n",
            "Epoch 46/200\n",
            "34/34 [==============================] - 0s 3ms/step - loss: 6426.6641 - mae: 6426.6641\n",
            "Epoch 47/200\n",
            "34/34 [==============================] - 0s 3ms/step - loss: 6411.1431 - mae: 6411.1431\n",
            "Epoch 48/200\n",
            "34/34 [==============================] - 0s 3ms/step - loss: 6396.8330 - mae: 6396.8330\n",
            "Epoch 49/200\n",
            "34/34 [==============================] - 0s 3ms/step - loss: 6385.8159 - mae: 6385.8159\n",
            "Epoch 50/200\n",
            "34/34 [==============================] - 0s 3ms/step - loss: 6370.2197 - mae: 6370.2197\n",
            "Epoch 51/200\n",
            "34/34 [==============================] - 0s 3ms/step - loss: 6355.9478 - mae: 6355.9478\n",
            "Epoch 52/200\n",
            "34/34 [==============================] - 0s 3ms/step - loss: 6341.2607 - mae: 6341.2607\n",
            "Epoch 53/200\n",
            "34/34 [==============================] - 0s 3ms/step - loss: 6325.9722 - mae: 6325.9722\n",
            "Epoch 54/200\n",
            "34/34 [==============================] - 0s 3ms/step - loss: 6310.9102 - mae: 6310.9102\n",
            "Epoch 55/200\n",
            "34/34 [==============================] - 0s 3ms/step - loss: 6295.6328 - mae: 6295.6328\n",
            "Epoch 56/200\n",
            "34/34 [==============================] - 0s 4ms/step - loss: 6280.3740 - mae: 6280.3740\n",
            "Epoch 57/200\n",
            "34/34 [==============================] - 0s 3ms/step - loss: 6264.6577 - mae: 6264.6577\n",
            "Epoch 58/200\n",
            "34/34 [==============================] - 0s 3ms/step - loss: 6250.6431 - mae: 6250.6431\n",
            "Epoch 59/200\n",
            "34/34 [==============================] - 0s 3ms/step - loss: 6232.2241 - mae: 6232.2241\n",
            "Epoch 60/200\n",
            "34/34 [==============================] - 0s 3ms/step - loss: 6220.0210 - mae: 6220.0210\n",
            "Epoch 61/200\n",
            "34/34 [==============================] - 0s 3ms/step - loss: 6196.9941 - mae: 6196.9941\n",
            "Epoch 62/200\n",
            "34/34 [==============================] - 0s 2ms/step - loss: 6183.3408 - mae: 6183.3408\n",
            "Epoch 63/200\n",
            "34/34 [==============================] - 0s 2ms/step - loss: 6161.1484 - mae: 6161.1484\n",
            "Epoch 64/200\n",
            "34/34 [==============================] - 0s 2ms/step - loss: 6142.1982 - mae: 6142.1982\n",
            "Epoch 65/200\n",
            "34/34 [==============================] - 0s 2ms/step - loss: 6123.0630 - mae: 6123.0630\n",
            "Epoch 66/200\n",
            "34/34 [==============================] - 0s 2ms/step - loss: 6102.4473 - mae: 6102.4473\n",
            "Epoch 67/200\n",
            "34/34 [==============================] - 0s 2ms/step - loss: 6087.6592 - mae: 6087.6592\n",
            "Epoch 68/200\n",
            "34/34 [==============================] - 0s 2ms/step - loss: 6061.3911 - mae: 6061.3911\n",
            "Epoch 69/200\n",
            "34/34 [==============================] - 0s 2ms/step - loss: 6041.8940 - mae: 6041.8940\n",
            "Epoch 70/200\n",
            "34/34 [==============================] - 0s 2ms/step - loss: 6019.5146 - mae: 6019.5146\n",
            "Epoch 71/200\n",
            "34/34 [==============================] - 0s 2ms/step - loss: 5995.0620 - mae: 5995.0620\n",
            "Epoch 72/200\n",
            "34/34 [==============================] - 0s 2ms/step - loss: 5970.4927 - mae: 5970.4927\n",
            "Epoch 73/200\n",
            "34/34 [==============================] - 0s 2ms/step - loss: 5953.9326 - mae: 5953.9326\n",
            "Epoch 74/200\n",
            "34/34 [==============================] - 0s 2ms/step - loss: 5919.9668 - mae: 5919.9668\n",
            "Epoch 75/200\n",
            "34/34 [==============================] - 0s 2ms/step - loss: 5893.6113 - mae: 5893.6113\n",
            "Epoch 76/200\n",
            "34/34 [==============================] - 0s 2ms/step - loss: 5873.6504 - mae: 5873.6504\n",
            "Epoch 77/200\n",
            "34/34 [==============================] - 0s 3ms/step - loss: 5838.8354 - mae: 5838.8354\n",
            "Epoch 78/200\n",
            "34/34 [==============================] - 0s 2ms/step - loss: 5808.6704 - mae: 5808.6704\n",
            "Epoch 79/200\n",
            "34/34 [==============================] - 0s 2ms/step - loss: 5777.5645 - mae: 5777.5645\n",
            "Epoch 80/200\n",
            "34/34 [==============================] - 0s 2ms/step - loss: 5744.4292 - mae: 5744.4292\n",
            "Epoch 81/200\n",
            "34/34 [==============================] - 0s 2ms/step - loss: 5713.3975 - mae: 5713.3975\n",
            "Epoch 82/200\n",
            "34/34 [==============================] - 0s 2ms/step - loss: 5677.2183 - mae: 5677.2183\n",
            "Epoch 83/200\n",
            "34/34 [==============================] - 0s 2ms/step - loss: 5642.6572 - mae: 5642.6572\n",
            "Epoch 84/200\n",
            "34/34 [==============================] - 0s 2ms/step - loss: 5600.7422 - mae: 5600.7422\n",
            "Epoch 85/200\n",
            "34/34 [==============================] - 0s 2ms/step - loss: 5564.5444 - mae: 5564.5444\n",
            "Epoch 86/200\n",
            "34/34 [==============================] - 0s 2ms/step - loss: 5523.3140 - mae: 5523.3140\n",
            "Epoch 87/200\n",
            "34/34 [==============================] - 0s 2ms/step - loss: 5478.7505 - mae: 5478.7505\n",
            "Epoch 88/200\n",
            "34/34 [==============================] - 0s 2ms/step - loss: 5434.7231 - mae: 5434.7231\n",
            "Epoch 89/200\n",
            "34/34 [==============================] - 0s 2ms/step - loss: 5384.9873 - mae: 5384.9873\n",
            "Epoch 90/200\n",
            "34/34 [==============================] - 0s 2ms/step - loss: 5332.2422 - mae: 5332.2422\n",
            "Epoch 91/200\n",
            "34/34 [==============================] - 0s 2ms/step - loss: 5282.9009 - mae: 5282.9009\n",
            "Epoch 92/200\n",
            "34/34 [==============================] - 0s 2ms/step - loss: 5226.0703 - mae: 5226.0703\n",
            "Epoch 93/200\n",
            "34/34 [==============================] - 0s 2ms/step - loss: 5172.0752 - mae: 5172.0752\n",
            "Epoch 94/200\n",
            "34/34 [==============================] - 0s 2ms/step - loss: 5110.7334 - mae: 5110.7334\n",
            "Epoch 95/200\n",
            "34/34 [==============================] - 0s 2ms/step - loss: 5047.5869 - mae: 5047.5869\n",
            "Epoch 96/200\n",
            "34/34 [==============================] - 0s 2ms/step - loss: 4990.8135 - mae: 4990.8135\n",
            "Epoch 97/200\n",
            "34/34 [==============================] - 0s 2ms/step - loss: 4919.0366 - mae: 4919.0366\n",
            "Epoch 98/200\n",
            "34/34 [==============================] - 0s 2ms/step - loss: 4849.2720 - mae: 4849.2720\n",
            "Epoch 99/200\n",
            "34/34 [==============================] - 0s 2ms/step - loss: 4768.0249 - mae: 4768.0249\n",
            "Epoch 100/200\n",
            "34/34 [==============================] - 0s 2ms/step - loss: 4702.5586 - mae: 4702.5586\n",
            "Epoch 101/200\n",
            "34/34 [==============================] - 0s 3ms/step - loss: 4614.4507 - mae: 4614.4507\n",
            "Epoch 102/200\n",
            "34/34 [==============================] - 0s 3ms/step - loss: 4523.5259 - mae: 4523.5259\n",
            "Epoch 103/200\n",
            "34/34 [==============================] - 0s 2ms/step - loss: 4442.3281 - mae: 4442.3281\n",
            "Epoch 104/200\n",
            "34/34 [==============================] - 0s 2ms/step - loss: 4354.3716 - mae: 4354.3716\n",
            "Epoch 105/200\n",
            "34/34 [==============================] - 0s 2ms/step - loss: 4269.6675 - mae: 4269.6675\n",
            "Epoch 106/200\n",
            "34/34 [==============================] - 0s 2ms/step - loss: 4190.7583 - mae: 4190.7583\n",
            "Epoch 107/200\n",
            "34/34 [==============================] - 0s 2ms/step - loss: 4111.5449 - mae: 4111.5449\n",
            "Epoch 108/200\n",
            "34/34 [==============================] - 0s 2ms/step - loss: 4049.5256 - mae: 4049.5256\n",
            "Epoch 109/200\n",
            "34/34 [==============================] - 0s 2ms/step - loss: 3990.5173 - mae: 3990.5173\n",
            "Epoch 110/200\n",
            "34/34 [==============================] - 0s 2ms/step - loss: 3953.3706 - mae: 3953.3706\n",
            "Epoch 111/200\n",
            "34/34 [==============================] - 0s 2ms/step - loss: 3918.4822 - mae: 3918.4822\n",
            "Epoch 112/200\n",
            "34/34 [==============================] - 0s 2ms/step - loss: 3895.1594 - mae: 3895.1594\n",
            "Epoch 113/200\n",
            "34/34 [==============================] - 0s 2ms/step - loss: 3870.1934 - mae: 3870.1934\n",
            "Epoch 114/200\n",
            "34/34 [==============================] - 0s 2ms/step - loss: 3863.4563 - mae: 3863.4563\n",
            "Epoch 115/200\n",
            "34/34 [==============================] - 0s 2ms/step - loss: 3845.5051 - mae: 3845.5051\n",
            "Epoch 116/200\n",
            "34/34 [==============================] - 0s 2ms/step - loss: 3835.5771 - mae: 3835.5771\n",
            "Epoch 117/200\n",
            "34/34 [==============================] - 0s 2ms/step - loss: 3830.8235 - mae: 3830.8235\n",
            "Epoch 118/200\n",
            "34/34 [==============================] - 0s 2ms/step - loss: 3819.2144 - mae: 3819.2144\n",
            "Epoch 119/200\n",
            "34/34 [==============================] - 0s 2ms/step - loss: 3811.2917 - mae: 3811.2917\n",
            "Epoch 120/200\n",
            "34/34 [==============================] - 0s 2ms/step - loss: 3801.0454 - mae: 3801.0454\n",
            "Epoch 121/200\n",
            "34/34 [==============================] - 0s 2ms/step - loss: 3797.3242 - mae: 3797.3242\n",
            "Epoch 122/200\n",
            "34/34 [==============================] - 0s 2ms/step - loss: 3798.2517 - mae: 3798.2517\n",
            "Epoch 123/200\n",
            "34/34 [==============================] - 0s 2ms/step - loss: 3790.5264 - mae: 3790.5264\n",
            "Epoch 124/200\n",
            "34/34 [==============================] - 0s 2ms/step - loss: 3787.7537 - mae: 3787.7537\n",
            "Epoch 125/200\n",
            "34/34 [==============================] - 0s 2ms/step - loss: 3779.5117 - mae: 3779.5117\n",
            "Epoch 126/200\n",
            "34/34 [==============================] - 0s 2ms/step - loss: 3788.4514 - mae: 3788.4514\n",
            "Epoch 127/200\n",
            "34/34 [==============================] - 0s 2ms/step - loss: 3782.6270 - mae: 3782.6270\n",
            "Epoch 128/200\n",
            "34/34 [==============================] - 0s 2ms/step - loss: 3778.0735 - mae: 3778.0735\n",
            "Epoch 129/200\n",
            "34/34 [==============================] - 0s 2ms/step - loss: 3790.4023 - mae: 3790.4023\n",
            "Epoch 130/200\n",
            "34/34 [==============================] - 0s 2ms/step - loss: 3780.1760 - mae: 3780.1760\n",
            "Epoch 131/200\n",
            "34/34 [==============================] - 0s 2ms/step - loss: 3772.5042 - mae: 3772.5042\n",
            "Epoch 132/200\n",
            "34/34 [==============================] - 0s 2ms/step - loss: 3765.3735 - mae: 3765.3735\n",
            "Epoch 133/200\n",
            "34/34 [==============================] - 0s 2ms/step - loss: 3762.8342 - mae: 3762.8342\n",
            "Epoch 134/200\n",
            "34/34 [==============================] - 0s 2ms/step - loss: 3762.8755 - mae: 3762.8755\n",
            "Epoch 135/200\n",
            "34/34 [==============================] - 0s 3ms/step - loss: 3759.1038 - mae: 3759.1038\n",
            "Epoch 136/200\n",
            "34/34 [==============================] - 0s 2ms/step - loss: 3758.1990 - mae: 3758.1990\n",
            "Epoch 137/200\n",
            "34/34 [==============================] - 0s 2ms/step - loss: 3763.5276 - mae: 3763.5276\n",
            "Epoch 138/200\n",
            "34/34 [==============================] - 0s 3ms/step - loss: 3777.4333 - mae: 3777.4333\n",
            "Epoch 139/200\n",
            "34/34 [==============================] - 0s 2ms/step - loss: 3752.3796 - mae: 3752.3796\n",
            "Epoch 140/200\n",
            "34/34 [==============================] - 0s 2ms/step - loss: 3753.8682 - mae: 3753.8682\n",
            "Epoch 141/200\n",
            "34/34 [==============================] - 0s 2ms/step - loss: 3756.3179 - mae: 3756.3179\n",
            "Epoch 142/200\n",
            "34/34 [==============================] - 0s 2ms/step - loss: 3757.9568 - mae: 3757.9568\n",
            "Epoch 143/200\n",
            "34/34 [==============================] - 0s 2ms/step - loss: 3747.0876 - mae: 3747.0876\n",
            "Epoch 144/200\n",
            "34/34 [==============================] - 0s 2ms/step - loss: 3742.7051 - mae: 3742.7051\n",
            "Epoch 145/200\n",
            "34/34 [==============================] - 0s 2ms/step - loss: 3743.7893 - mae: 3743.7893\n",
            "Epoch 146/200\n",
            "34/34 [==============================] - 0s 2ms/step - loss: 3748.3193 - mae: 3748.3193\n",
            "Epoch 147/200\n",
            "34/34 [==============================] - 0s 2ms/step - loss: 3743.5366 - mae: 3743.5366\n",
            "Epoch 148/200\n",
            "34/34 [==============================] - 0s 2ms/step - loss: 3750.0781 - mae: 3750.0781\n",
            "Epoch 149/200\n",
            "34/34 [==============================] - 0s 2ms/step - loss: 3736.4407 - mae: 3736.4407\n",
            "Epoch 150/200\n",
            "34/34 [==============================] - 0s 2ms/step - loss: 3732.1277 - mae: 3732.1277\n",
            "Epoch 151/200\n",
            "34/34 [==============================] - 0s 2ms/step - loss: 3733.4033 - mae: 3733.4033\n",
            "Epoch 152/200\n",
            "34/34 [==============================] - 0s 2ms/step - loss: 3735.3149 - mae: 3735.3149\n",
            "Epoch 153/200\n",
            "34/34 [==============================] - 0s 2ms/step - loss: 3737.4641 - mae: 3737.4641\n",
            "Epoch 154/200\n",
            "34/34 [==============================] - 0s 2ms/step - loss: 3730.4866 - mae: 3730.4866\n",
            "Epoch 155/200\n",
            "34/34 [==============================] - 0s 3ms/step - loss: 3730.7419 - mae: 3730.7419\n",
            "Epoch 156/200\n",
            "34/34 [==============================] - 0s 2ms/step - loss: 3729.5488 - mae: 3729.5488\n",
            "Epoch 157/200\n",
            "34/34 [==============================] - 0s 2ms/step - loss: 3726.5706 - mae: 3726.5706\n",
            "Epoch 158/200\n",
            "34/34 [==============================] - 0s 2ms/step - loss: 3722.0623 - mae: 3722.0623\n",
            "Epoch 159/200\n",
            "34/34 [==============================] - 0s 2ms/step - loss: 3719.9182 - mae: 3719.9182\n",
            "Epoch 160/200\n",
            "34/34 [==============================] - 0s 2ms/step - loss: 3726.1101 - mae: 3726.1101\n",
            "Epoch 161/200\n",
            "34/34 [==============================] - 0s 2ms/step - loss: 3721.3940 - mae: 3721.3940\n",
            "Epoch 162/200\n",
            "34/34 [==============================] - 0s 2ms/step - loss: 3718.1377 - mae: 3718.1377\n",
            "Epoch 163/200\n",
            "34/34 [==============================] - 0s 2ms/step - loss: 3715.3892 - mae: 3715.3892\n",
            "Epoch 164/200\n",
            "34/34 [==============================] - 0s 2ms/step - loss: 3718.5396 - mae: 3718.5396\n",
            "Epoch 165/200\n",
            "34/34 [==============================] - 0s 2ms/step - loss: 3710.0493 - mae: 3710.0493\n",
            "Epoch 166/200\n",
            "34/34 [==============================] - 0s 2ms/step - loss: 3714.2368 - mae: 3714.2368\n",
            "Epoch 167/200\n",
            "34/34 [==============================] - 0s 2ms/step - loss: 3713.1865 - mae: 3713.1865\n",
            "Epoch 168/200\n",
            "34/34 [==============================] - 0s 2ms/step - loss: 3708.3198 - mae: 3708.3198\n",
            "Epoch 169/200\n",
            "34/34 [==============================] - 0s 2ms/step - loss: 3707.0020 - mae: 3707.0020\n",
            "Epoch 170/200\n",
            "34/34 [==============================] - 0s 2ms/step - loss: 3700.7678 - mae: 3700.7678\n",
            "Epoch 171/200\n",
            "34/34 [==============================] - 0s 2ms/step - loss: 3701.1870 - mae: 3701.1870\n",
            "Epoch 172/200\n",
            "34/34 [==============================] - 0s 2ms/step - loss: 3703.7756 - mae: 3703.7756\n",
            "Epoch 173/200\n",
            "34/34 [==============================] - 0s 2ms/step - loss: 3696.4983 - mae: 3696.4983\n",
            "Epoch 174/200\n",
            "34/34 [==============================] - 0s 2ms/step - loss: 3703.4275 - mae: 3703.4275\n",
            "Epoch 175/200\n",
            "34/34 [==============================] - 0s 2ms/step - loss: 3704.5615 - mae: 3704.5615\n",
            "Epoch 176/200\n",
            "34/34 [==============================] - 0s 2ms/step - loss: 3698.5674 - mae: 3698.5674\n",
            "Epoch 177/200\n",
            "34/34 [==============================] - 0s 2ms/step - loss: 3694.3381 - mae: 3694.3381\n",
            "Epoch 178/200\n",
            "34/34 [==============================] - 0s 2ms/step - loss: 3688.2771 - mae: 3688.2771\n",
            "Epoch 179/200\n",
            "34/34 [==============================] - 0s 2ms/step - loss: 3702.1816 - mae: 3702.1816\n",
            "Epoch 180/200\n",
            "34/34 [==============================] - 0s 2ms/step - loss: 3703.8298 - mae: 3703.8298\n",
            "Epoch 181/200\n",
            "34/34 [==============================] - 0s 3ms/step - loss: 3689.0034 - mae: 3689.0034\n",
            "Epoch 182/200\n",
            "34/34 [==============================] - 0s 3ms/step - loss: 3686.1748 - mae: 3686.1748\n",
            "Epoch 183/200\n",
            "34/34 [==============================] - 0s 3ms/step - loss: 3684.0786 - mae: 3684.0786\n",
            "Epoch 184/200\n",
            "34/34 [==============================] - 0s 3ms/step - loss: 3691.5735 - mae: 3691.5735\n",
            "Epoch 185/200\n",
            "34/34 [==============================] - 0s 3ms/step - loss: 3687.9043 - mae: 3687.9043\n",
            "Epoch 186/200\n",
            "34/34 [==============================] - 0s 3ms/step - loss: 3688.9182 - mae: 3688.9182\n",
            "Epoch 187/200\n",
            "34/34 [==============================] - 0s 3ms/step - loss: 3679.6575 - mae: 3679.6575\n",
            "Epoch 188/200\n",
            "34/34 [==============================] - 0s 3ms/step - loss: 3687.7930 - mae: 3687.7930\n",
            "Epoch 189/200\n",
            "34/34 [==============================] - 0s 3ms/step - loss: 3675.7107 - mae: 3675.7107\n",
            "Epoch 190/200\n",
            "34/34 [==============================] - 0s 3ms/step - loss: 3676.6406 - mae: 3676.6406\n",
            "Epoch 191/200\n",
            "34/34 [==============================] - 0s 3ms/step - loss: 3692.4536 - mae: 3692.4536\n",
            "Epoch 192/200\n",
            "34/34 [==============================] - 0s 3ms/step - loss: 3679.1028 - mae: 3679.1028\n",
            "Epoch 193/200\n",
            "34/34 [==============================] - 0s 3ms/step - loss: 3668.8169 - mae: 3668.8169\n",
            "Epoch 194/200\n",
            "34/34 [==============================] - 0s 3ms/step - loss: 3667.6770 - mae: 3667.6770\n",
            "Epoch 195/200\n",
            "34/34 [==============================] - 0s 3ms/step - loss: 3665.9714 - mae: 3665.9714\n",
            "Epoch 196/200\n",
            "34/34 [==============================] - 0s 3ms/step - loss: 3676.7166 - mae: 3676.7166\n",
            "Epoch 197/200\n",
            "34/34 [==============================] - 0s 3ms/step - loss: 3660.4980 - mae: 3660.4980\n",
            "Epoch 198/200\n",
            "34/34 [==============================] - 0s 3ms/step - loss: 3667.5122 - mae: 3667.5122\n",
            "Epoch 199/200\n",
            "34/34 [==============================] - 0s 3ms/step - loss: 3676.0437 - mae: 3676.0437\n",
            "Epoch 200/200\n",
            "34/34 [==============================] - 0s 3ms/step - loss: 3660.7881 - mae: 3660.7881\n"
          ]
        }
      ]
    },
    {
      "cell_type": "code",
      "source": [
        "#5 Evaluate the model\n",
        "insurance_model_3.evaluate(x_test,y_test)"
      ],
      "metadata": {
        "id": "RhPWXqQc_0ek",
        "colab": {
          "base_uri": "https://localhost:8080/"
        },
        "outputId": "116d81ec-733f-4490-d620-b7e5d18698a8"
      },
      "execution_count": 171,
      "outputs": [
        {
          "output_type": "stream",
          "name": "stdout",
          "text": [
            "9/9 [==============================] - 0s 2ms/step - loss: 3479.3203 - mae: 3479.3203\n"
          ]
        },
        {
          "output_type": "execute_result",
          "data": {
            "text/plain": [
              "[3479.3203125, 3479.3203125]"
            ]
          },
          "metadata": {},
          "execution_count": 171
        }
      ]
    },
    {
      "cell_type": "code",
      "source": [
        "\n",
        "import pandas as pd\n",
        "import matplotlib.pyplot as plt"
      ],
      "metadata": {
        "id": "zJKogGMADtED"
      },
      "execution_count": 172,
      "outputs": []
    },
    {
      "cell_type": "code",
      "source": [
        "#plot history(also known as a loss curve or a training curve)\n",
        "pd.DataFrame(history.history).plot()\n",
        "plt.ylable(\"loss\")\n",
        "plt.xlabel(\"epochs\")"
      ],
      "metadata": {
        "id": "KOhqtRkrBKfq",
        "colab": {
          "base_uri": "https://localhost:8080/",
          "height": 640
        },
        "outputId": "0cd76b29-e7df-4e60-e2be-bb2f70877a9d"
      },
      "execution_count": 173,
      "outputs": [
        {
          "output_type": "error",
          "ename": "AttributeError",
          "evalue": "ignored",
          "traceback": [
            "\u001b[0;31m---------------------------------------------------------------------------\u001b[0m",
            "\u001b[0;31mAttributeError\u001b[0m                            Traceback (most recent call last)",
            "\u001b[0;32m<ipython-input-173-f1ae073844f4>\u001b[0m in \u001b[0;36m<cell line: 3>\u001b[0;34m()\u001b[0m\n\u001b[1;32m      1\u001b[0m \u001b[0;31m#plot history(also known as a loss curve or a training curve)\u001b[0m\u001b[0;34m\u001b[0m\u001b[0;34m\u001b[0m\u001b[0m\n\u001b[1;32m      2\u001b[0m \u001b[0mpd\u001b[0m\u001b[0;34m.\u001b[0m\u001b[0mDataFrame\u001b[0m\u001b[0;34m(\u001b[0m\u001b[0mhistory\u001b[0m\u001b[0;34m.\u001b[0m\u001b[0mhistory\u001b[0m\u001b[0;34m)\u001b[0m\u001b[0;34m.\u001b[0m\u001b[0mplot\u001b[0m\u001b[0;34m(\u001b[0m\u001b[0;34m)\u001b[0m\u001b[0;34m\u001b[0m\u001b[0;34m\u001b[0m\u001b[0m\n\u001b[0;32m----> 3\u001b[0;31m \u001b[0mplt\u001b[0m\u001b[0;34m.\u001b[0m\u001b[0mylable\u001b[0m\u001b[0;34m(\u001b[0m\u001b[0;34m\"loss\"\u001b[0m\u001b[0;34m)\u001b[0m\u001b[0;34m\u001b[0m\u001b[0;34m\u001b[0m\u001b[0m\n\u001b[0m\u001b[1;32m      4\u001b[0m \u001b[0mplt\u001b[0m\u001b[0;34m.\u001b[0m\u001b[0mxlabel\u001b[0m\u001b[0;34m(\u001b[0m\u001b[0;34m\"epochs\"\u001b[0m\u001b[0;34m)\u001b[0m\u001b[0;34m\u001b[0m\u001b[0;34m\u001b[0m\u001b[0m\n",
            "\u001b[0;31mAttributeError\u001b[0m: module 'matplotlib.pyplot' has no attribute 'ylable'"
          ]
        },
        {
          "output_type": "display_data",
          "data": {
            "text/plain": [
              "<Figure size 640x480 with 1 Axes>"
            ],
            "image/png": "[encoded data removed]"
          },
          "metadata": {}
        }
      ]
    },
    {
      "cell_type": "markdown",
      "source": [
        "# **Question** For how long should one train the model?\n",
        "\n",
        "It depends. Really...it depends on the problem one is working on. However, many people have asked this question before...so TensorFlow has a solution! It's called the early stopping Callback (https://www.tensorflow.org/api_docs/python/tf/keras/callbacks/EarlyStopping). This is a tesnorflow component one can add to the model to stop training once it stops improving a certain metric."
      ],
      "metadata": {
        "id": "dBfPjdfjDXpb"
      }
    },
    {
      "cell_type": "markdown",
      "source": [
        "## Preprocessing data(normalization and standardization)"
      ],
      "metadata": {
        "id": "AvrTTtsVHtN4"
      }
    },
    {
      "cell_type": "code",
      "source": [
        "x_train"
      ],
      "metadata": {
        "id": "awMxGksDun2K",
        "colab": {
          "base_uri": "https://localhost:8080/",
          "height": 424
        },
        "outputId": "149fc374-8ea9-4482-bbd5-a00e5ea08924"
      },
      "execution_count": 174,
      "outputs": [
        {
          "output_type": "execute_result",
          "data": {
            "text/plain": [
              "      age     bmi  children  sex_female  sex_male  smoker_no  smoker_yes  \\\n",
              "560    46  19.950         2           1         0          1           0   \n",
              "1285   47  24.320         0           1         0          1           0   \n",
              "1142   52  24.860         0           1         0          1           0   \n",
              "969    39  34.320         5           1         0          1           0   \n",
              "486    54  21.470         3           1         0          1           0   \n",
              "...   ...     ...       ...         ...       ...        ...         ...   \n",
              "1095   18  31.350         4           1         0          1           0   \n",
              "1130   39  23.870         5           1         0          1           0   \n",
              "1294   58  25.175         0           0         1          1           0   \n",
              "860    37  47.600         2           1         0          0           1   \n",
              "1126   55  29.900         0           0         1          1           0   \n",
              "\n",
              "      region_northeast  region_northwest  region_southeast  region_southwest  \n",
              "560                  0                 1                 0                 0  \n",
              "1285                 1                 0                 0                 0  \n",
              "1142                 0                 0                 1                 0  \n",
              "969                  0                 0                 1                 0  \n",
              "486                  0                 1                 0                 0  \n",
              "...                ...               ...               ...               ...  \n",
              "1095                 1                 0                 0                 0  \n",
              "1130                 0                 0                 1                 0  \n",
              "1294                 1                 0                 0                 0  \n",
              "860                  0                 0                 0                 1  \n",
              "1126                 0                 0                 0                 1  \n",
              "\n",
              "[1070 rows x 11 columns]"
            ],
            "text/html": [
              "\n",
              "  <div id=\"df-d481288d-5a2c-4b7a-9808-e1a3a366a0c2\" class=\"colab-df-container\">\n",
              "    <div>\n",
              "<style scoped>\n",
              "    .dataframe tbody tr th:only-of-type {\n",
              "        vertical-align: middle;\n",
              "    }\n",
              "\n",
              "    .dataframe tbody tr th {\n",
              "        vertical-align: top;\n",
              "    }\n",
              "\n",
              "    .dataframe thead th {\n",
              "        text-align: right;\n",
              "    }\n",
              "</style>\n",
              "<table border=\"1\" class=\"dataframe\">\n",
              "  <thead>\n",
              "    <tr style=\"text-align: right;\">\n",
              "      <th></th>\n",
              "      <th>age</th>\n",
              "      <th>bmi</th>\n",
              "      <th>children</th>\n",
              "      <th>sex_female</th>\n",
              "      <th>sex_male</th>\n",
              "      <th>smoker_no</th>\n",
              "      <th>smoker_yes</th>\n",
              "      <th>region_northeast</th>\n",
              "      <th>region_northwest</th>\n",
              "      <th>region_southeast</th>\n",
              "      <th>region_southwest</th>\n",
              "    </tr>\n",
              "  </thead>\n",
              "  <tbody>\n",
              "    <tr>\n",
              "      <th>560</th>\n",
              "      <td>46</td>\n",
              "      <td>19.950</td>\n",
              "      <td>2</td>\n",
              "      <td>1</td>\n",
              "      <td>0</td>\n",
              "      <td>1</td>\n",
              "      <td>0</td>\n",
              "      <td>0</td>\n",
              "      <td>1</td>\n",
              "      <td>0</td>\n",
              "      <td>0</td>\n",
              "    </tr>\n",
              "    <tr>\n",
              "      <th>1285</th>\n",
              "      <td>47</td>\n",
              "      <td>24.320</td>\n",
              "      <td>0</td>\n",
              "      <td>1</td>\n",
              "      <td>0</td>\n",
              "      <td>1</td>\n",
              "      <td>0</td>\n",
              "      <td>1</td>\n",
              "      <td>0</td>\n",
              "      <td>0</td>\n",
              "      <td>0</td>\n",
              "    </tr>\n",
              "    <tr>\n",
              "      <th>1142</th>\n",
              "      <td>52</td>\n",
              "      <td>24.860</td>\n",
              "      <td>0</td>\n",
              "      <td>1</td>\n",
              "      <td>0</td>\n",
              "      <td>1</td>\n",
              "      <td>0</td>\n",
              "      <td>0</td>\n",
              "      <td>0</td>\n",
              "      <td>1</td>\n",
              "      <td>0</td>\n",
              "    </tr>\n",
              "    <tr>\n",
              "      <th>969</th>\n",
              "      <td>39</td>\n",
              "      <td>34.320</td>\n",
              "      <td>5</td>\n",
              "      <td>1</td>\n",
              "      <td>0</td>\n",
              "      <td>1</td>\n",
              "      <td>0</td>\n",
              "      <td>0</td>\n",
              "      <td>0</td>\n",
              "      <td>1</td>\n",
              "      <td>0</td>\n",
              "    </tr>\n",
              "    <tr>\n",
              "      <th>486</th>\n",
              "      <td>54</td>\n",
              "      <td>21.470</td>\n",
              "      <td>3</td>\n",
              "      <td>1</td>\n",
              "      <td>0</td>\n",
              "      <td>1</td>\n",
              "      <td>0</td>\n",
              "      <td>0</td>\n",
              "      <td>1</td>\n",
              "      <td>0</td>\n",
              "      <td>0</td>\n",
              "    </tr>\n",
              "    <tr>\n",
              "      <th>...</th>\n",
              "      <td>...</td>\n",
              "      <td>...</td>\n",
              "      <td>...</td>\n",
              "      <td>...</td>\n",
              "      <td>...</td>\n",
              "      <td>...</td>\n",
              "      <td>...</td>\n",
              "      <td>...</td>\n",
              "      <td>...</td>\n",
              "      <td>...</td>\n",
              "      <td>...</td>\n",
              "    </tr>\n",
              "    <tr>\n",
              "      <th>1095</th>\n",
              "      <td>18</td>\n",
              "      <td>31.350</td>\n",
              "      <td>4</td>\n",
              "      <td>1</td>\n",
              "      <td>0</td>\n",
              "      <td>1</td>\n",
              "      <td>0</td>\n",
              "      <td>1</td>\n",
              "      <td>0</td>\n",
              "      <td>0</td>\n",
              "      <td>0</td>\n",
              "    </tr>\n",
              "    <tr>\n",
              "      <th>1130</th>\n",
              "      <td>39</td>\n",
              "      <td>23.870</td>\n",
              "      <td>5</td>\n",
              "      <td>1</td>\n",
              "      <td>0</td>\n",
              "      <td>1</td>\n",
              "      <td>0</td>\n",
              "      <td>0</td>\n",
              "      <td>0</td>\n",
              "      <td>1</td>\n",
              "      <td>0</td>\n",
              "    </tr>\n",
              "    <tr>\n",
              "      <th>1294</th>\n",
              "      <td>58</td>\n",
              "      <td>25.175</td>\n",
              "      <td>0</td>\n",
              "      <td>0</td>\n",
              "      <td>1</td>\n",
              "      <td>1</td>\n",
              "      <td>0</td>\n",
              "      <td>1</td>\n",
              "      <td>0</td>\n",
              "      <td>0</td>\n",
              "      <td>0</td>\n",
              "    </tr>\n",
              "    <tr>\n",
              "      <th>860</th>\n",
              "      <td>37</td>\n",
              "      <td>47.600</td>\n",
              "      <td>2</td>\n",
              "      <td>1</td>\n",
              "      <td>0</td>\n",
              "      <td>0</td>\n",
              "      <td>1</td>\n",
              "      <td>0</td>\n",
              "      <td>0</td>\n",
              "      <td>0</td>\n",
              "      <td>1</td>\n",
              "    </tr>\n",
              "    <tr>\n",
              "      <th>1126</th>\n",
              "      <td>55</td>\n",
              "      <td>29.900</td>\n",
              "      <td>0</td>\n",
              "      <td>0</td>\n",
              "      <td>1</td>\n",
              "      <td>1</td>\n",
              "      <td>0</td>\n",
              "      <td>0</td>\n",
              "      <td>0</td>\n",
              "      <td>0</td>\n",
              "      <td>1</td>\n",
              "    </tr>\n",
              "  </tbody>\n",
              "</table>\n",
              "<p>1070 rows × 11 columns</p>\n",
              "</div>\n",
              "    <div class=\"colab-df-buttons\">\n",
              "\n",
              "  <div class=\"colab-df-container\">\n",
              "    <button class=\"colab-df-convert\" onclick=\"convertToInteractive('df-d481288d-5a2c-4b7a-9808-e1a3a366a0c2')\"\n",
              "            title=\"Convert this dataframe to an interactive table.\"\n",
              "            style=\"display:none;\">\n",
              "\n",
              "  <svg xmlns=\"http://www.w3.org/2000/svg\" height=\"24px\" viewBox=\"0 -960 960 960\">\n",
              "    <path d=\"M120-120v-720h720v720H120Zm60-500h600v-160H180v160Zm220 220h160v-160H400v160Zm0 220h160v-160H400v160ZM180-400h160v-160H180v160Zm440 0h160v-160H620v160ZM180-180h160v-160H180v160Zm440 0h160v-160H620v160Z\"/>\n",
              "  </svg>\n",
              "    </button>\n",
              "\n",
              "  <style>\n",
              "    .colab-df-container {\n",
              "      display:flex;\n",
              "      gap: 12px;\n",
              "    }\n",
              "\n",
              "    .colab-df-convert {\n",
              "      background-color: #E8F0FE;\n",
              "      border: none;\n",
              "      border-radius: 50%;\n",
              "      cursor: pointer;\n",
              "      display: none;\n",
              "      fill: #1967D2;\n",
              "      height: 32px;\n",
              "      padding: 0 0 0 0;\n",
              "      width: 32px;\n",
              "    }\n",
              "\n",
              "    .colab-df-convert:hover {\n",
              "      background-color: #E2EBFA;\n",
              "      box-shadow: 0px 1px 2px rgba(60, 64, 67, 0.3), 0px 1px 3px 1px rgba(60, 64, 67, 0.15);\n",
              "      fill: #174EA6;\n",
              "    }\n",
              "\n",
              "    .colab-df-buttons div {\n",
              "      margin-bottom: 4px;\n",
              "    }\n",
              "\n",
              "    [theme=dark] .colab-df-convert {\n",
              "      background-color: #3B4455;\n",
              "      fill: #D2E3FC;\n",
              "    }\n",
              "\n",
              "    [theme=dark] .colab-df-convert:hover {\n",
              "      background-color: #434B5C;\n",
              "      box-shadow: 0px 1px 3px 1px rgba(0, 0, 0, 0.15);\n",
              "      filter: drop-shadow(0px 1px 2px rgba(0, 0, 0, 0.3));\n",
              "      fill: #FFFFFF;\n",
              "    }\n",
              "  </style>\n",
              "\n",
              "    <script>\n",
              "      const buttonEl =\n",
              "        document.querySelector('#df-d481288d-5a2c-4b7a-9808-e1a3a366a0c2 button.colab-df-convert');\n",
              "      buttonEl.style.display =\n",
              "        google.colab.kernel.accessAllowed ? 'block' : 'none';\n",
              "\n",
              "      async function convertToInteractive(key) {\n",
              "        const element = document.querySelector('#df-d481288d-5a2c-4b7a-9808-e1a3a366a0c2');\n",
              "        const dataTable =\n",
              "          await google.colab.kernel.invokeFunction('convertToInteractive',\n",
              "                                                    [key], {});\n",
              "        if (!dataTable) return;\n",
              "\n",
              "        const docLinkHtml = 'Like what you see? Visit the ' +\n",
              "          '<a target=\"_blank\" href=https://colab.research.google.com/notebooks/data_table.ipynb>data table notebook</a>'\n",
              "          + ' to learn more about interactive tables.';\n",
              "        element.innerHTML = '';\n",
              "        dataTable['output_type'] = 'display_data';\n",
              "        await google.colab.output.renderOutput(dataTable, element);\n",
              "        const docLink = document.createElement('div');\n",
              "        docLink.innerHTML = docLinkHtml;\n",
              "        element.appendChild(docLink);\n",
              "      }\n",
              "    </script>\n",
              "  </div>\n",
              "\n",
              "\n",
              "<div id=\"df-8aa70ed0-6162-45ce-a635-89ae61f11b24\">\n",
              "  <button class=\"colab-df-quickchart\" onclick=\"quickchart('df-8aa70ed0-6162-45ce-a635-89ae61f11b24')\"\n",
              "            title=\"Suggest charts\"\n",
              "            style=\"display:none;\">\n",
              "\n",
              "<svg xmlns=\"http://www.w3.org/2000/svg\" height=\"24px\"viewBox=\"0 0 24 24\"\n",
              "     width=\"24px\">\n",
              "    <g>\n",
              "        <path d=\"M19 3H5c-1.1 0-2 .9-2 2v14c0 1.1.9 2 2 2h14c1.1 0 2-.9 2-2V5c0-1.1-.9-2-2-2zM9 17H7v-7h2v7zm4 0h-2V7h2v10zm4 0h-2v-4h2v4z\"/>\n",
              "    </g>\n",
              "</svg>\n",
              "  </button>\n",
              "\n",
              "<style>\n",
              "  .colab-df-quickchart {\n",
              "      --bg-color: #E8F0FE;\n",
              "      --fill-color: #1967D2;\n",
              "      --hover-bg-color: #E2EBFA;\n",
              "      --hover-fill-color: #174EA6;\n",
              "      --disabled-fill-color: #AAA;\n",
              "      --disabled-bg-color: #DDD;\n",
              "  }\n",
              "\n",
              "  [theme=dark] .colab-df-quickchart {\n",
              "      --bg-color: #3B4455;\n",
              "      --fill-color: #D2E3FC;\n",
              "      --hover-bg-color: #434B5C;\n",
              "      --hover-fill-color: #FFFFFF;\n",
              "      --disabled-bg-color: #3B4455;\n",
              "      --disabled-fill-color: #666;\n",
              "  }\n",
              "\n",
              "  .colab-df-quickchart {\n",
              "    background-color: var(--bg-color);\n",
              "    border: none;\n",
              "    border-radius: 50%;\n",
              "    cursor: pointer;\n",
              "    display: none;\n",
              "    fill: var(--fill-color);\n",
              "    height: 32px;\n",
              "    padding: 0;\n",
              "    width: 32px;\n",
              "  }\n",
              "\n",
              "  .colab-df-quickchart:hover {\n",
              "    background-color: var(--hover-bg-color);\n",
              "    box-shadow: 0 1px 2px rgba(60, 64, 67, 0.3), 0 1px 3px 1px rgba(60, 64, 67, 0.15);\n",
              "    fill: var(--button-hover-fill-color);\n",
              "  }\n",
              "\n",
              "  .colab-df-quickchart-complete:disabled,\n",
              "  .colab-df-quickchart-complete:disabled:hover {\n",
              "    background-color: var(--disabled-bg-color);\n",
              "    fill: var(--disabled-fill-color);\n",
              "    box-shadow: none;\n",
              "  }\n",
              "\n",
              "  .colab-df-spinner {\n",
              "    border: 2px solid var(--fill-color);\n",
              "    border-color: transparent;\n",
              "    border-bottom-color: var(--fill-color);\n",
              "    animation:\n",
              "      spin 1s steps(1) infinite;\n",
              "  }\n",
              "\n",
              "  @keyframes spin {\n",
              "    0% {\n",
              "      border-color: transparent;\n",
              "      border-bottom-color: var(--fill-color);\n",
              "      border-left-color: var(--fill-color);\n",
              "    }\n",
              "    20% {\n",
              "      border-color: transparent;\n",
              "      border-left-color: var(--fill-color);\n",
              "      border-top-color: var(--fill-color);\n",
              "    }\n",
              "    30% {\n",
              "      border-color: transparent;\n",
              "      border-left-color: var(--fill-color);\n",
              "      border-top-color: var(--fill-color);\n",
              "      border-right-color: var(--fill-color);\n",
              "    }\n",
              "    40% {\n",
              "      border-color: transparent;\n",
              "      border-right-color: var(--fill-color);\n",
              "      border-top-color: var(--fill-color);\n",
              "    }\n",
              "    60% {\n",
              "      border-color: transparent;\n",
              "      border-right-color: var(--fill-color);\n",
              "    }\n",
              "    80% {\n",
              "      border-color: transparent;\n",
              "      border-right-color: var(--fill-color);\n",
              "      border-bottom-color: var(--fill-color);\n",
              "    }\n",
              "    90% {\n",
              "      border-color: transparent;\n",
              "      border-bottom-color: var(--fill-color);\n",
              "    }\n",
              "  }\n",
              "</style>\n",
              "\n",
              "  <script>\n",
              "    async function quickchart(key) {\n",
              "      const quickchartButtonEl =\n",
              "        document.querySelector('#' + key + ' button');\n",
              "      quickchartButtonEl.disabled = true;  // To prevent multiple clicks.\n",
              "      quickchartButtonEl.classList.add('colab-df-spinner');\n",
              "      try {\n",
              "        const charts = await google.colab.kernel.invokeFunction(\n",
              "            'suggestCharts', [key], {});\n",
              "      } catch (error) {\n",
              "        console.error('Error during call to suggestCharts:', error);\n",
              "      }\n",
              "      quickchartButtonEl.classList.remove('colab-df-spinner');\n",
              "      quickchartButtonEl.classList.add('colab-df-quickchart-complete');\n",
              "    }\n",
              "    (() => {\n",
              "      let quickchartButtonEl =\n",
              "        document.querySelector('#df-8aa70ed0-6162-45ce-a635-89ae61f11b24 button');\n",
              "      quickchartButtonEl.style.display =\n",
              "        google.colab.kernel.accessAllowed ? 'block' : 'none';\n",
              "    })();\n",
              "  </script>\n",
              "</div>\n",
              "    </div>\n",
              "  </div>\n"
            ]
          },
          "metadata": {},
          "execution_count": 174
        }
      ]
    },
    {
      "cell_type": "code",
      "source": [
        "x[\"age\"].plot(kind=\"hist\")"
      ],
      "metadata": {
        "id": "aTiGQZvDySHh",
        "colab": {
          "base_uri": "https://localhost:8080/",
          "height": 447
        },
        "outputId": "1045909f-9a21-4974-ecba-52a727f6dc30"
      },
      "execution_count": 175,
      "outputs": [
        {
          "output_type": "execute_result",
          "data": {
            "text/plain": [
              "<Axes: ylabel='Frequency'>"
            ]
          },
          "metadata": {},
          "execution_count": 175
        },
        {
          "output_type": "display_data",
          "data": {
            "text/plain": [
              "<Figure size 640x480 with 1 Axes>"
            ],
            "image/png": "[encoded data removed]"
          },
          "metadata": {}
        }
      ]
    },
    {
      "cell_type": "code",
      "source": [
        "x[\"bmi\"].plot(kind=\"hist\")"
      ],
      "metadata": {
        "id": "TpOuGK8yyaGD",
        "colab": {
          "base_uri": "https://localhost:8080/",
          "height": 447
        },
        "outputId": "81f74495-e9ee-427c-b402-274fede78ab3"
      },
      "execution_count": 176,
      "outputs": [
        {
          "output_type": "execute_result",
          "data": {
            "text/plain": [
              "<Axes: ylabel='Frequency'>"
            ]
          },
          "metadata": {},
          "execution_count": 176
        },
        {
          "output_type": "display_data",
          "data": {
            "text/plain": [
              "<Figure size 640x480 with 1 Axes>"
            ],
            "image/png": "[encoded data removed]"
          },
          "metadata": {}
        }
      ]
    },
    {
      "cell_type": "code",
      "source": [
        "import pandas as pd\n",
        "import matplotlib.pyplot as plt\n",
        "import tensorflow as tf\n",
        "\n",
        "insurance = pd.read_csv(\"https://raw.githubusercontent.com/stedy/Machine-Learning-with-R-datasets/master/insurance.csv\")"
      ],
      "metadata": {
        "id": "EEbmuAGxzALD"
      },
      "execution_count": 177,
      "outputs": []
    },
    {
      "cell_type": "code",
      "source": [
        "insurance"
      ],
      "metadata": {
        "id": "TL0P77dQ0sQg",
        "colab": {
          "base_uri": "https://localhost:8080/",
          "height": 424
        },
        "outputId": "2cdb4f2b-9f25-4dc4-e408-809921d6f595"
      },
      "execution_count": 178,
      "outputs": [
        {
          "output_type": "execute_result",
          "data": {
            "text/plain": [
              "      age     sex     bmi  children smoker     region      charges\n",
              "0      19  female  27.900         0    yes  southwest  16884.92400\n",
              "1      18    male  33.770         1     no  southeast   1725.55230\n",
              "2      28    male  33.000         3     no  southeast   4449.46200\n",
              "3      33    male  22.705         0     no  northwest  21984.47061\n",
              "4      32    male  28.880         0     no  northwest   3866.85520\n",
              "...   ...     ...     ...       ...    ...        ...          ...\n",
              "1333   50    male  30.970         3     no  northwest  10600.54830\n",
              "1334   18  female  31.920         0     no  northeast   2205.98080\n",
              "1335   18  female  36.850         0     no  southeast   1629.83350\n",
              "1336   21  female  25.800         0     no  southwest   2007.94500\n",
              "1337   61  female  29.070         0    yes  northwest  29141.36030\n",
              "\n",
              "[1338 rows x 7 columns]"
            ],
            "text/html": [
              "\n",
              "  <div id=\"df-5f1111da-3060-4ab7-af6d-4b7a6822da0e\" class=\"colab-df-container\">\n",
              "    <div>\n",
              "<style scoped>\n",
              "    .dataframe tbody tr th:only-of-type {\n",
              "        vertical-align: middle;\n",
              "    }\n",
              "\n",
              "    .dataframe tbody tr th {\n",
              "        vertical-align: top;\n",
              "    }\n",
              "\n",
              "    .dataframe thead th {\n",
              "        text-align: right;\n",
              "    }\n",
              "</style>\n",
              "<table border=\"1\" class=\"dataframe\">\n",
              "  <thead>\n",
              "    <tr style=\"text-align: right;\">\n",
              "      <th></th>\n",
              "      <th>age</th>\n",
              "      <th>sex</th>\n",
              "      <th>bmi</th>\n",
              "      <th>children</th>\n",
              "      <th>smoker</th>\n",
              "      <th>region</th>\n",
              "      <th>charges</th>\n",
              "    </tr>\n",
              "  </thead>\n",
              "  <tbody>\n",
              "    <tr>\n",
              "      <th>0</th>\n",
              "      <td>19</td>\n",
              "      <td>female</td>\n",
              "      <td>27.900</td>\n",
              "      <td>0</td>\n",
              "      <td>yes</td>\n",
              "      <td>southwest</td>\n",
              "      <td>16884.92400</td>\n",
              "    </tr>\n",
              "    <tr>\n",
              "      <th>1</th>\n",
              "      <td>18</td>\n",
              "      <td>male</td>\n",
              "      <td>33.770</td>\n",
              "      <td>1</td>\n",
              "      <td>no</td>\n",
              "      <td>southeast</td>\n",
              "      <td>1725.55230</td>\n",
              "    </tr>\n",
              "    <tr>\n",
              "      <th>2</th>\n",
              "      <td>28</td>\n",
              "      <td>male</td>\n",
              "      <td>33.000</td>\n",
              "      <td>3</td>\n",
              "      <td>no</td>\n",
              "      <td>southeast</td>\n",
              "      <td>4449.46200</td>\n",
              "    </tr>\n",
              "    <tr>\n",
              "      <th>3</th>\n",
              "      <td>33</td>\n",
              "      <td>male</td>\n",
              "      <td>22.705</td>\n",
              "      <td>0</td>\n",
              "      <td>no</td>\n",
              "      <td>northwest</td>\n",
              "      <td>21984.47061</td>\n",
              "    </tr>\n",
              "    <tr>\n",
              "      <th>4</th>\n",
              "      <td>32</td>\n",
              "      <td>male</td>\n",
              "      <td>28.880</td>\n",
              "      <td>0</td>\n",
              "      <td>no</td>\n",
              "      <td>northwest</td>\n",
              "      <td>3866.85520</td>\n",
              "    </tr>\n",
              "    <tr>\n",
              "      <th>...</th>\n",
              "      <td>...</td>\n",
              "      <td>...</td>\n",
              "      <td>...</td>\n",
              "      <td>...</td>\n",
              "      <td>...</td>\n",
              "      <td>...</td>\n",
              "      <td>...</td>\n",
              "    </tr>\n",
              "    <tr>\n",
              "      <th>1333</th>\n",
              "      <td>50</td>\n",
              "      <td>male</td>\n",
              "      <td>30.970</td>\n",
              "      <td>3</td>\n",
              "      <td>no</td>\n",
              "      <td>northwest</td>\n",
              "      <td>10600.54830</td>\n",
              "    </tr>\n",
              "    <tr>\n",
              "      <th>1334</th>\n",
              "      <td>18</td>\n",
              "      <td>female</td>\n",
              "      <td>31.920</td>\n",
              "      <td>0</td>\n",
              "      <td>no</td>\n",
              "      <td>northeast</td>\n",
              "      <td>2205.98080</td>\n",
              "    </tr>\n",
              "    <tr>\n",
              "      <th>1335</th>\n",
              "      <td>18</td>\n",
              "      <td>female</td>\n",
              "      <td>36.850</td>\n",
              "      <td>0</td>\n",
              "      <td>no</td>\n",
              "      <td>southeast</td>\n",
              "      <td>1629.83350</td>\n",
              "    </tr>\n",
              "    <tr>\n",
              "      <th>1336</th>\n",
              "      <td>21</td>\n",
              "      <td>female</td>\n",
              "      <td>25.800</td>\n",
              "      <td>0</td>\n",
              "      <td>no</td>\n",
              "      <td>southwest</td>\n",
              "      <td>2007.94500</td>\n",
              "    </tr>\n",
              "    <tr>\n",
              "      <th>1337</th>\n",
              "      <td>61</td>\n",
              "      <td>female</td>\n",
              "      <td>29.070</td>\n",
              "      <td>0</td>\n",
              "      <td>yes</td>\n",
              "      <td>northwest</td>\n",
              "      <td>29141.36030</td>\n",
              "    </tr>\n",
              "  </tbody>\n",
              "</table>\n",
              "<p>1338 rows × 7 columns</p>\n",
              "</div>\n",
              "    <div class=\"colab-df-buttons\">\n",
              "\n",
              "  <div class=\"colab-df-container\">\n",
              "    <button class=\"colab-df-convert\" onclick=\"convertToInteractive('df-5f1111da-3060-4ab7-af6d-4b7a6822da0e')\"\n",
              "            title=\"Convert this dataframe to an interactive table.\"\n",
              "            style=\"display:none;\">\n",
              "\n",
              "  <svg xmlns=\"http://www.w3.org/2000/svg\" height=\"24px\" viewBox=\"0 -960 960 960\">\n",
              "    <path d=\"M120-120v-720h720v720H120Zm60-500h600v-160H180v160Zm220 220h160v-160H400v160Zm0 220h160v-160H400v160ZM180-400h160v-160H180v160Zm440 0h160v-160H620v160ZM180-180h160v-160H180v160Zm440 0h160v-160H620v160Z\"/>\n",
              "  </svg>\n",
              "    </button>\n",
              "\n",
              "  <style>\n",
              "    .colab-df-container {\n",
              "      display:flex;\n",
              "      gap: 12px;\n",
              "    }\n",
              "\n",
              "    .colab-df-convert {\n",
              "      background-color: #E8F0FE;\n",
              "      border: none;\n",
              "      border-radius: 50%;\n",
              "      cursor: pointer;\n",
              "      display: none;\n",
              "      fill: #1967D2;\n",
              "      height: 32px;\n",
              "      padding: 0 0 0 0;\n",
              "      width: 32px;\n",
              "    }\n",
              "\n",
              "    .colab-df-convert:hover {\n",
              "      background-color: #E2EBFA;\n",
              "      box-shadow: 0px 1px 2px rgba(60, 64, 67, 0.3), 0px 1px 3px 1px rgba(60, 64, 67, 0.15);\n",
              "      fill: #174EA6;\n",
              "    }\n",
              "\n",
              "    .colab-df-buttons div {\n",
              "      margin-bottom: 4px;\n",
              "    }\n",
              "\n",
              "    [theme=dark] .colab-df-convert {\n",
              "      background-color: #3B4455;\n",
              "      fill: #D2E3FC;\n",
              "    }\n",
              "\n",
              "    [theme=dark] .colab-df-convert:hover {\n",
              "      background-color: #434B5C;\n",
              "      box-shadow: 0px 1px 3px 1px rgba(0, 0, 0, 0.15);\n",
              "      filter: drop-shadow(0px 1px 2px rgba(0, 0, 0, 0.3));\n",
              "      fill: #FFFFFF;\n",
              "    }\n",
              "  </style>\n",
              "\n",
              "    <script>\n",
              "      const buttonEl =\n",
              "        document.querySelector('#df-5f1111da-3060-4ab7-af6d-4b7a6822da0e button.colab-df-convert');\n",
              "      buttonEl.style.display =\n",
              "        google.colab.kernel.accessAllowed ? 'block' : 'none';\n",
              "\n",
              "      async function convertToInteractive(key) {\n",
              "        const element = document.querySelector('#df-5f1111da-3060-4ab7-af6d-4b7a6822da0e');\n",
              "        const dataTable =\n",
              "          await google.colab.kernel.invokeFunction('convertToInteractive',\n",
              "                                                    [key], {});\n",
              "        if (!dataTable) return;\n",
              "\n",
              "        const docLinkHtml = 'Like what you see? Visit the ' +\n",
              "          '<a target=\"_blank\" href=https://colab.research.google.com/notebooks/data_table.ipynb>data table notebook</a>'\n",
              "          + ' to learn more about interactive tables.';\n",
              "        element.innerHTML = '';\n",
              "        dataTable['output_type'] = 'display_data';\n",
              "        await google.colab.output.renderOutput(dataTable, element);\n",
              "        const docLink = document.createElement('div');\n",
              "        docLink.innerHTML = docLinkHtml;\n",
              "        element.appendChild(docLink);\n",
              "      }\n",
              "    </script>\n",
              "  </div>\n",
              "\n",
              "\n",
              "<div id=\"df-87494c37-9d11-4fc5-8d35-826900ac067a\">\n",
              "  <button class=\"colab-df-quickchart\" onclick=\"quickchart('df-87494c37-9d11-4fc5-8d35-826900ac067a')\"\n",
              "            title=\"Suggest charts\"\n",
              "            style=\"display:none;\">\n",
              "\n",
              "<svg xmlns=\"http://www.w3.org/2000/svg\" height=\"24px\"viewBox=\"0 0 24 24\"\n",
              "     width=\"24px\">\n",
              "    <g>\n",
              "        <path d=\"M19 3H5c-1.1 0-2 .9-2 2v14c0 1.1.9 2 2 2h14c1.1 0 2-.9 2-2V5c0-1.1-.9-2-2-2zM9 17H7v-7h2v7zm4 0h-2V7h2v10zm4 0h-2v-4h2v4z\"/>\n",
              "    </g>\n",
              "</svg>\n",
              "  </button>\n",
              "\n",
              "<style>\n",
              "  .colab-df-quickchart {\n",
              "      --bg-color: #E8F0FE;\n",
              "      --fill-color: #1967D2;\n",
              "      --hover-bg-color: #E2EBFA;\n",
              "      --hover-fill-color: #174EA6;\n",
              "      --disabled-fill-color: #AAA;\n",
              "      --disabled-bg-color: #DDD;\n",
              "  }\n",
              "\n",
              "  [theme=dark] .colab-df-quickchart {\n",
              "      --bg-color: #3B4455;\n",
              "      --fill-color: #D2E3FC;\n",
              "      --hover-bg-color: #434B5C;\n",
              "      --hover-fill-color: #FFFFFF;\n",
              "      --disabled-bg-color: #3B4455;\n",
              "      --disabled-fill-color: #666;\n",
              "  }\n",
              "\n",
              "  .colab-df-quickchart {\n",
              "    background-color: var(--bg-color);\n",
              "    border: none;\n",
              "    border-radius: 50%;\n",
              "    cursor: pointer;\n",
              "    display: none;\n",
              "    fill: var(--fill-color);\n",
              "    height: 32px;\n",
              "    padding: 0;\n",
              "    width: 32px;\n",
              "  }\n",
              "\n",
              "  .colab-df-quickchart:hover {\n",
              "    background-color: var(--hover-bg-color);\n",
              "    box-shadow: 0 1px 2px rgba(60, 64, 67, 0.3), 0 1px 3px 1px rgba(60, 64, 67, 0.15);\n",
              "    fill: var(--button-hover-fill-color);\n",
              "  }\n",
              "\n",
              "  .colab-df-quickchart-complete:disabled,\n",
              "  .colab-df-quickchart-complete:disabled:hover {\n",
              "    background-color: var(--disabled-bg-color);\n",
              "    fill: var(--disabled-fill-color);\n",
              "    box-shadow: none;\n",
              "  }\n",
              "\n",
              "  .colab-df-spinner {\n",
              "    border: 2px solid var(--fill-color);\n",
              "    border-color: transparent;\n",
              "    border-bottom-color: var(--fill-color);\n",
              "    animation:\n",
              "      spin 1s steps(1) infinite;\n",
              "  }\n",
              "\n",
              "  @keyframes spin {\n",
              "    0% {\n",
              "      border-color: transparent;\n",
              "      border-bottom-color: var(--fill-color);\n",
              "      border-left-color: var(--fill-color);\n",
              "    }\n",
              "    20% {\n",
              "      border-color: transparent;\n",
              "      border-left-color: var(--fill-color);\n",
              "      border-top-color: var(--fill-color);\n",
              "    }\n",
              "    30% {\n",
              "      border-color: transparent;\n",
              "      border-left-color: var(--fill-color);\n",
              "      border-top-color: var(--fill-color);\n",
              "      border-right-color: var(--fill-color);\n",
              "    }\n",
              "    40% {\n",
              "      border-color: transparent;\n",
              "      border-right-color: var(--fill-color);\n",
              "      border-top-color: var(--fill-color);\n",
              "    }\n",
              "    60% {\n",
              "      border-color: transparent;\n",
              "      border-right-color: var(--fill-color);\n",
              "    }\n",
              "    80% {\n",
              "      border-color: transparent;\n",
              "      border-right-color: var(--fill-color);\n",
              "      border-bottom-color: var(--fill-color);\n",
              "    }\n",
              "    90% {\n",
              "      border-color: transparent;\n",
              "      border-bottom-color: var(--fill-color);\n",
              "    }\n",
              "  }\n",
              "</style>\n",
              "\n",
              "  <script>\n",
              "    async function quickchart(key) {\n",
              "      const quickchartButtonEl =\n",
              "        document.querySelector('#' + key + ' button');\n",
              "      quickchartButtonEl.disabled = true;  // To prevent multiple clicks.\n",
              "      quickchartButtonEl.classList.add('colab-df-spinner');\n",
              "      try {\n",
              "        const charts = await google.colab.kernel.invokeFunction(\n",
              "            'suggestCharts', [key], {});\n",
              "      } catch (error) {\n",
              "        console.error('Error during call to suggestCharts:', error);\n",
              "      }\n",
              "      quickchartButtonEl.classList.remove('colab-df-spinner');\n",
              "      quickchartButtonEl.classList.add('colab-df-quickchart-complete');\n",
              "    }\n",
              "    (() => {\n",
              "      let quickchartButtonEl =\n",
              "        document.querySelector('#df-87494c37-9d11-4fc5-8d35-826900ac067a button');\n",
              "      quickchartButtonEl.style.display =\n",
              "        google.colab.kernel.accessAllowed ? 'block' : 'none';\n",
              "    })();\n",
              "  </script>\n",
              "</div>\n",
              "    </div>\n",
              "  </div>\n"
            ]
          },
          "metadata": {},
          "execution_count": 178
        }
      ]
    },
    {
      "cell_type": "markdown",
      "source": [
        "# To prepare our data, we can borrow a few classes from Scikit-Learn\n"
      ],
      "metadata": {
        "id": "fhFvwbRk0uDP"
      }
    },
    {
      "cell_type": "code",
      "source": [
        "from sklearn.compose import make_column_transformer"
      ],
      "metadata": {
        "id": "wqHzrMjq1AFL"
      },
      "execution_count": 179,
      "outputs": []
    },
    {
      "cell_type": "code",
      "source": [
        "from sklearn.preprocessing import MinMaxScaler, OneHotEncoder\n",
        "from sklearn.model_selection import train_test_split\n",
        "ct = make_column_transformer(\n",
        "    (MinMaxScaler(), [\"age\", \"bmi\", \"children\"]), # get all values between 0 and 1\n",
        "    (OneHotEncoder(handle_unknown=\"ignore\"), [\"sex\", \"smoker\", \"region\"])\n",
        ")\n",
        "#create x and y\n",
        "x = insurance.drop(\"charges\",axis=1)\n",
        "y = insurance[\"charges\"]\n",
        "\n",
        "x_train,x_test,y_train,y_test = train_test_split(x,y,test_size=0.2,random_state=42)\n",
        "\n",
        "#fit the colum transformer to our training data\n",
        "ct.fit(x_train)\n",
        "#transform training and test data with normalisation(MinMaxScaler) and OneHotEncoder\n",
        "x_train_normal = ct.transform(x_train)\n",
        "x_test_normal = ct.transform(x_test)\n"
      ],
      "metadata": {
        "id": "aJv-wtfW1OdZ"
      },
      "execution_count": 180,
      "outputs": []
    },
    {
      "cell_type": "code",
      "source": [
        "x_train.shape, x_train_normal.shape"
      ],
      "metadata": {
        "id": "47DMqtFO2wW_",
        "colab": {
          "base_uri": "https://localhost:8080/"
        },
        "outputId": "7bd12565-6476-4167-e8bb-17ced6bdce71"
      },
      "execution_count": 181,
      "outputs": [
        {
          "output_type": "execute_result",
          "data": {
            "text/plain": [
              "((1070, 6), (1070, 11))"
            ]
          },
          "metadata": {},
          "execution_count": 181
        }
      ]
    },
    {
      "cell_type": "code",
      "source": [
        "x_train.loc[0]"
      ],
      "metadata": {
        "id": "z0JLKmWh9iNA",
        "colab": {
          "base_uri": "https://localhost:8080/"
        },
        "outputId": "4c2cdac0-1a11-4578-ba22-f77f3ba31131"
      },
      "execution_count": 182,
      "outputs": [
        {
          "output_type": "execute_result",
          "data": {
            "text/plain": [
              "age                19\n",
              "sex            female\n",
              "bmi              27.9\n",
              "children            0\n",
              "smoker            yes\n",
              "region      southwest\n",
              "Name: 0, dtype: object"
            ]
          },
          "metadata": {},
          "execution_count": 182
        }
      ]
    },
    {
      "cell_type": "code",
      "source": [
        "x_train.loc[2]"
      ],
      "metadata": {
        "id": "GpwZF6MX9pA7",
        "colab": {
          "base_uri": "https://localhost:8080/"
        },
        "outputId": "5a27ca29-f29d-4834-acc0-a3db2b3a99cd"
      },
      "execution_count": 183,
      "outputs": [
        {
          "output_type": "execute_result",
          "data": {
            "text/plain": [
              "age                28\n",
              "sex              male\n",
              "bmi              33.0\n",
              "children            3\n",
              "smoker             no\n",
              "region      southeast\n",
              "Name: 2, dtype: object"
            ]
          },
          "metadata": {},
          "execution_count": 183
        }
      ]
    },
    {
      "cell_type": "code",
      "source": [
        "x_train_normal[0]"
      ],
      "metadata": {
        "id": "S75KdDU697a5",
        "colab": {
          "base_uri": "https://localhost:8080/"
        },
        "outputId": "3d6ee30a-0720-4b70-b783-a836271ac127"
      },
      "execution_count": 184,
      "outputs": [
        {
          "output_type": "execute_result",
          "data": {
            "text/plain": [
              "array([0.60869565, 0.10734463, 0.4       , 1.        , 0.        ,\n",
              "       1.        , 0.        , 0.        , 1.        , 0.        ,\n",
              "       0.        ])"
            ]
          },
          "metadata": {},
          "execution_count": 184
        }
      ]
    },
    {
      "cell_type": "code",
      "source": [
        "# Build a neural network model to fit on our normalised data"
      ],
      "metadata": {
        "id": "UOkFtqFL-BQl"
      },
      "execution_count": 185,
      "outputs": []
    },
    {
      "cell_type": "code",
      "source": [
        "tf.random.set_seed(42)"
      ],
      "metadata": {
        "id": "NH_Mh7MH9P5c"
      },
      "execution_count": 186,
      "outputs": []
    },
    {
      "cell_type": "code",
      "source": [
        "insurance_model_2.summary()"
      ],
      "metadata": {
        "id": "EntOyn-H9U5J",
        "colab": {
          "base_uri": "https://localhost:8080/"
        },
        "outputId": "2312a836-4718-4b0a-81a2-d0ce790eee24"
      },
      "execution_count": 187,
      "outputs": [
        {
          "output_type": "stream",
          "name": "stdout",
          "text": [
            "Model: \"sequential_18\"\n",
            "_________________________________________________________________\n",
            " Layer (type)                Output Shape              Param #   \n",
            "=================================================================\n",
            " dense_30 (Dense)            (None, 11, 100)           200       \n",
            "                                                                 \n",
            " dense_31 (Dense)            (None, 11, 10)            1010      \n",
            "                                                                 \n",
            " dense_32 (Dense)            (None, 11, 1)             11        \n",
            "                                                                 \n",
            "=================================================================\n",
            "Total params: 1221 (4.77 KB)\n",
            "Trainable params: 1221 (4.77 KB)\n",
            "Non-trainable params: 0 (0.00 Byte)\n",
            "_________________________________________________________________\n"
          ]
        }
      ]
    },
    {
      "cell_type": "code",
      "source": [
        "#create the model\n",
        "insurance_model_4 = tf.keras.Sequential([\n",
        "    tf.keras.layers.Dense(100),\n",
        "    tf.keras.layers.Dense(10),\n",
        "    tf.keras.layers.Dense(1)\n",
        "])"
      ],
      "metadata": {
        "id": "ZewpdIjf9dnr"
      },
      "execution_count": 188,
      "outputs": []
    },
    {
      "cell_type": "code",
      "source": [
        "#compile the model\n",
        "insurance_model_4.compile(loss=tf.keras.losses.mae,\n",
        "                          optimizer=tf.keras.optimizers.Adam(),\n",
        "                          metrics=[\"mae\"])\n"
      ],
      "metadata": {
        "id": "aOR5Ef3_-KsF"
      },
      "execution_count": 189,
      "outputs": []
    },
    {
      "cell_type": "code",
      "source": [
        "#Fit the model\n",
        "insurance_model_4.fit(x_train_normal,y_train,epochs=100)"
      ],
      "metadata": {
        "id": "e3-Ag1NP_gVv",
        "colab": {
          "base_uri": "https://localhost:8080/"
        },
        "outputId": "fda8f8ef-ad3a-4b08-a206-67e4351993b1"
      },
      "execution_count": 190,
      "outputs": [
        {
          "output_type": "stream",
          "name": "stdout",
          "text": [
            "Epoch 1/100\n",
            "34/34 [==============================] - 1s 2ms/step - loss: 13344.1396 - mae: 13344.1396\n",
            "Epoch 2/100\n",
            "34/34 [==============================] - 0s 2ms/step - loss: 13336.7979 - mae: 13336.7979\n",
            "Epoch 3/100\n",
            "34/34 [==============================] - 0s 2ms/step - loss: 13317.5332 - mae: 13317.5332\n",
            "Epoch 4/100\n",
            "34/34 [==============================] - 0s 2ms/step - loss: 13276.0361 - mae: 13276.0361\n",
            "Epoch 5/100\n",
            "34/34 [==============================] - 0s 2ms/step - loss: 13201.3789 - mae: 13201.3789\n",
            "Epoch 6/100\n",
            "34/34 [==============================] - 0s 2ms/step - loss: 13082.5498 - mae: 13082.5498\n",
            "Epoch 7/100\n",
            "34/34 [==============================] - 0s 2ms/step - loss: 12909.1416 - mae: 12909.1416\n",
            "Epoch 8/100\n",
            "34/34 [==============================] - 0s 2ms/step - loss: 12670.9873 - mae: 12670.9873\n",
            "Epoch 9/100\n",
            "34/34 [==============================] - 0s 2ms/step - loss: 12357.8164 - mae: 12357.8164\n",
            "Epoch 10/100\n",
            "34/34 [==============================] - 0s 2ms/step - loss: 11964.1182 - mae: 11964.1182\n",
            "Epoch 11/100\n",
            "34/34 [==============================] - 0s 2ms/step - loss: 11497.4951 - mae: 11497.4951\n",
            "Epoch 12/100\n",
            "34/34 [==============================] - 0s 2ms/step - loss: 10991.2529 - mae: 10991.2529\n",
            "Epoch 13/100\n",
            "34/34 [==============================] - 0s 2ms/step - loss: 10489.3115 - mae: 10489.3115\n",
            "Epoch 14/100\n",
            "34/34 [==============================] - 0s 2ms/step - loss: 9990.5732 - mae: 9990.5732\n",
            "Epoch 15/100\n",
            "34/34 [==============================] - 0s 2ms/step - loss: 9518.6064 - mae: 9518.6064\n",
            "Epoch 16/100\n",
            "34/34 [==============================] - 0s 2ms/step - loss: 9097.9873 - mae: 9097.9873\n",
            "Epoch 17/100\n",
            "34/34 [==============================] - 0s 2ms/step - loss: 8746.2598 - mae: 8746.2598\n",
            "Epoch 18/100\n",
            "34/34 [==============================] - 0s 2ms/step - loss: 8461.6699 - mae: 8461.6699\n",
            "Epoch 19/100\n",
            "34/34 [==============================] - 0s 3ms/step - loss: 8240.7852 - mae: 8240.7852\n",
            "Epoch 20/100\n",
            "34/34 [==============================] - 0s 2ms/step - loss: 8089.8936 - mae: 8089.8936\n",
            "Epoch 21/100\n",
            "34/34 [==============================] - 0s 2ms/step - loss: 7977.1440 - mae: 7977.1440\n",
            "Epoch 22/100\n",
            "34/34 [==============================] - 0s 2ms/step - loss: 7901.2456 - mae: 7901.2456\n",
            "Epoch 23/100\n",
            "34/34 [==============================] - 0s 2ms/step - loss: 7842.0645 - mae: 7842.0645\n",
            "Epoch 24/100\n",
            "34/34 [==============================] - 0s 2ms/step - loss: 7789.7520 - mae: 7789.7520\n",
            "Epoch 25/100\n",
            "34/34 [==============================] - 0s 2ms/step - loss: 7751.5542 - mae: 7751.5542\n",
            "Epoch 26/100\n",
            "34/34 [==============================] - 0s 2ms/step - loss: 7700.3374 - mae: 7700.3374\n",
            "Epoch 27/100\n",
            "34/34 [==============================] - 0s 2ms/step - loss: 7658.8496 - mae: 7658.8496\n",
            "Epoch 28/100\n",
            "34/34 [==============================] - 0s 2ms/step - loss: 7616.9580 - mae: 7616.9580\n",
            "Epoch 29/100\n",
            "34/34 [==============================] - 0s 2ms/step - loss: 7574.7607 - mae: 7574.7607\n",
            "Epoch 30/100\n",
            "34/34 [==============================] - 0s 2ms/step - loss: 7531.7725 - mae: 7531.7725\n",
            "Epoch 31/100\n",
            "34/34 [==============================] - 0s 2ms/step - loss: 7488.4561 - mae: 7488.4561\n",
            "Epoch 32/100\n",
            "34/34 [==============================] - 0s 2ms/step - loss: 7444.9604 - mae: 7444.9604\n",
            "Epoch 33/100\n",
            "34/34 [==============================] - 0s 2ms/step - loss: 7401.3057 - mae: 7401.3057\n",
            "Epoch 34/100\n",
            "34/34 [==============================] - 0s 2ms/step - loss: 7353.7271 - mae: 7353.7271\n",
            "Epoch 35/100\n",
            "34/34 [==============================] - 0s 2ms/step - loss: 7307.5381 - mae: 7307.5381\n",
            "Epoch 36/100\n",
            "34/34 [==============================] - 0s 2ms/step - loss: 7258.1572 - mae: 7258.1572\n",
            "Epoch 37/100\n",
            "34/34 [==============================] - 0s 2ms/step - loss: 7208.6230 - mae: 7208.6230\n",
            "Epoch 38/100\n",
            "34/34 [==============================] - 0s 2ms/step - loss: 7158.5649 - mae: 7158.5649\n",
            "Epoch 39/100\n",
            "34/34 [==============================] - 0s 2ms/step - loss: 7104.7612 - mae: 7104.7612\n",
            "Epoch 40/100\n",
            "34/34 [==============================] - 0s 2ms/step - loss: 7050.4180 - mae: 7050.4180\n",
            "Epoch 41/100\n",
            "34/34 [==============================] - 0s 2ms/step - loss: 6995.0601 - mae: 6995.0601\n",
            "Epoch 42/100\n",
            "34/34 [==============================] - 0s 2ms/step - loss: 6937.0464 - mae: 6937.0464\n",
            "Epoch 43/100\n",
            "34/34 [==============================] - 0s 2ms/step - loss: 6875.7759 - mae: 6875.7759\n",
            "Epoch 44/100\n",
            "34/34 [==============================] - 0s 2ms/step - loss: 6810.8599 - mae: 6810.8599\n",
            "Epoch 45/100\n",
            "34/34 [==============================] - 0s 2ms/step - loss: 6745.1621 - mae: 6745.1621\n",
            "Epoch 46/100\n",
            "34/34 [==============================] - 0s 2ms/step - loss: 6677.7163 - mae: 6677.7163\n",
            "Epoch 47/100\n",
            "34/34 [==============================] - 0s 2ms/step - loss: 6607.8691 - mae: 6607.8691\n",
            "Epoch 48/100\n",
            "34/34 [==============================] - 0s 2ms/step - loss: 6531.0625 - mae: 6531.0625\n",
            "Epoch 49/100\n",
            "34/34 [==============================] - 0s 2ms/step - loss: 6453.8760 - mae: 6453.8760\n",
            "Epoch 50/100\n",
            "34/34 [==============================] - 0s 2ms/step - loss: 6369.8096 - mae: 6369.8096\n",
            "Epoch 51/100\n",
            "34/34 [==============================] - 0s 2ms/step - loss: 6287.7954 - mae: 6287.7954\n",
            "Epoch 52/100\n",
            "34/34 [==============================] - 0s 2ms/step - loss: 6196.2354 - mae: 6196.2354\n",
            "Epoch 53/100\n",
            "34/34 [==============================] - 0s 2ms/step - loss: 6102.7705 - mae: 6102.7705\n",
            "Epoch 54/100\n",
            "34/34 [==============================] - 0s 3ms/step - loss: 6006.5645 - mae: 6006.5645\n",
            "Epoch 55/100\n",
            "34/34 [==============================] - 0s 4ms/step - loss: 5901.7568 - mae: 5901.7568\n",
            "Epoch 56/100\n",
            "34/34 [==============================] - 0s 3ms/step - loss: 5796.3770 - mae: 5796.3770\n",
            "Epoch 57/100\n",
            "34/34 [==============================] - 0s 3ms/step - loss: 5683.1885 - mae: 5683.1885\n",
            "Epoch 58/100\n",
            "34/34 [==============================] - 0s 3ms/step - loss: 5566.4971 - mae: 5566.4971\n",
            "Epoch 59/100\n",
            "34/34 [==============================] - 0s 3ms/step - loss: 5451.0884 - mae: 5451.0884\n",
            "Epoch 60/100\n",
            "34/34 [==============================] - 0s 3ms/step - loss: 5330.5996 - mae: 5330.5996\n",
            "Epoch 61/100\n",
            "34/34 [==============================] - 0s 3ms/step - loss: 5204.6606 - mae: 5204.6606\n",
            "Epoch 62/100\n",
            "34/34 [==============================] - 0s 3ms/step - loss: 5077.7397 - mae: 5077.7397\n",
            "Epoch 63/100\n",
            "34/34 [==============================] - 0s 3ms/step - loss: 4950.0562 - mae: 4950.0562\n",
            "Epoch 64/100\n",
            "34/34 [==============================] - 0s 3ms/step - loss: 4819.3477 - mae: 4819.3477\n",
            "Epoch 65/100\n",
            "34/34 [==============================] - 0s 3ms/step - loss: 4692.1807 - mae: 4692.1807\n",
            "Epoch 66/100\n",
            "34/34 [==============================] - 0s 3ms/step - loss: 4563.1621 - mae: 4563.1621\n",
            "Epoch 67/100\n",
            "34/34 [==============================] - 0s 3ms/step - loss: 4450.1772 - mae: 4450.1772\n",
            "Epoch 68/100\n",
            "34/34 [==============================] - 0s 3ms/step - loss: 4341.2378 - mae: 4341.2378\n",
            "Epoch 69/100\n",
            "34/34 [==============================] - 0s 3ms/step - loss: 4237.6729 - mae: 4237.6729\n",
            "Epoch 70/100\n",
            "34/34 [==============================] - 0s 3ms/step - loss: 4142.3862 - mae: 4142.3862\n",
            "Epoch 71/100\n",
            "34/34 [==============================] - 0s 3ms/step - loss: 4052.7454 - mae: 4052.7454\n",
            "Epoch 72/100\n",
            "34/34 [==============================] - 0s 3ms/step - loss: 3973.4851 - mae: 3973.4851\n",
            "Epoch 73/100\n",
            "34/34 [==============================] - 0s 2ms/step - loss: 3904.8906 - mae: 3904.8906\n",
            "Epoch 74/100\n",
            "34/34 [==============================] - 0s 3ms/step - loss: 3848.2383 - mae: 3848.2383\n",
            "Epoch 75/100\n",
            "34/34 [==============================] - 0s 3ms/step - loss: 3802.1987 - mae: 3802.1987\n",
            "Epoch 76/100\n",
            "34/34 [==============================] - 0s 3ms/step - loss: 3766.3931 - mae: 3766.3931\n",
            "Epoch 77/100\n",
            "34/34 [==============================] - 0s 3ms/step - loss: 3738.2500 - mae: 3738.2500\n",
            "Epoch 78/100\n",
            "34/34 [==============================] - 0s 3ms/step - loss: 3717.5256 - mae: 3717.5256\n",
            "Epoch 79/100\n",
            "34/34 [==============================] - 0s 3ms/step - loss: 3701.3079 - mae: 3701.3079\n",
            "Epoch 80/100\n",
            "34/34 [==============================] - 0s 3ms/step - loss: 3690.2021 - mae: 3690.2021\n",
            "Epoch 81/100\n",
            "34/34 [==============================] - 0s 3ms/step - loss: 3682.2859 - mae: 3682.2859\n",
            "Epoch 82/100\n",
            "34/34 [==============================] - 0s 3ms/step - loss: 3678.0928 - mae: 3678.0928\n",
            "Epoch 83/100\n",
            "34/34 [==============================] - 0s 3ms/step - loss: 3670.4624 - mae: 3670.4624\n",
            "Epoch 84/100\n",
            "34/34 [==============================] - 0s 3ms/step - loss: 3667.0215 - mae: 3667.0215\n",
            "Epoch 85/100\n",
            "34/34 [==============================] - 0s 3ms/step - loss: 3664.6094 - mae: 3664.6094\n",
            "Epoch 86/100\n",
            "34/34 [==============================] - 0s 3ms/step - loss: 3662.1055 - mae: 3662.1055\n",
            "Epoch 87/100\n",
            "34/34 [==============================] - 0s 3ms/step - loss: 3659.1030 - mae: 3659.1030\n",
            "Epoch 88/100\n",
            "34/34 [==============================] - 0s 3ms/step - loss: 3656.5806 - mae: 3656.5806\n",
            "Epoch 89/100\n",
            "34/34 [==============================] - 0s 3ms/step - loss: 3654.5735 - mae: 3654.5735\n",
            "Epoch 90/100\n",
            "34/34 [==============================] - 0s 3ms/step - loss: 3653.0640 - mae: 3653.0640\n",
            "Epoch 91/100\n",
            "34/34 [==============================] - 0s 3ms/step - loss: 3650.1411 - mae: 3650.1411\n",
            "Epoch 92/100\n",
            "34/34 [==============================] - 0s 3ms/step - loss: 3649.3875 - mae: 3649.3875\n",
            "Epoch 93/100\n",
            "34/34 [==============================] - 0s 3ms/step - loss: 3647.0642 - mae: 3647.0642\n",
            "Epoch 94/100\n",
            "34/34 [==============================] - 0s 3ms/step - loss: 3645.4341 - mae: 3645.4341\n",
            "Epoch 95/100\n",
            "34/34 [==============================] - 0s 4ms/step - loss: 3646.2444 - mae: 3646.2444\n",
            "Epoch 96/100\n",
            "34/34 [==============================] - 0s 3ms/step - loss: 3643.6223 - mae: 3643.6223\n",
            "Epoch 97/100\n",
            "34/34 [==============================] - 0s 3ms/step - loss: 3640.9565 - mae: 3640.9565\n",
            "Epoch 98/100\n",
            "34/34 [==============================] - 0s 3ms/step - loss: 3638.9558 - mae: 3638.9558\n",
            "Epoch 99/100\n",
            "34/34 [==============================] - 0s 3ms/step - loss: 3638.0474 - mae: 3638.0474\n",
            "Epoch 100/100\n",
            "34/34 [==============================] - 0s 3ms/step - loss: 3636.8015 - mae: 3636.8015\n"
          ]
        },
        {
          "output_type": "execute_result",
          "data": {
            "text/plain": [
              "<keras.src.callbacks.History at 0x7d7e32d36890>"
            ]
          },
          "metadata": {},
          "execution_count": 190
        }
      ]
    },
    {
      "cell_type": "code",
      "source": [
        "# Evaluate our insurance model trainewd on normalised data"
      ],
      "metadata": {
        "id": "LcnHsMlJBMY6"
      },
      "execution_count": 191,
      "outputs": []
    },
    {
      "cell_type": "code",
      "source": [
        "insurance_model_4.evaluate(x_test_normal,y_test)"
      ],
      "metadata": {
        "id": "L7dXwMzVBhPE",
        "colab": {
          "base_uri": "https://localhost:8080/"
        },
        "outputId": "26758d93-5e3f-4942-d1a1-826effd5cde3"
      },
      "execution_count": 192,
      "outputs": [
        {
          "output_type": "stream",
          "name": "stdout",
          "text": [
            "9/9 [==============================] - 0s 2ms/step - loss: 3441.4470 - mae: 3441.4470\n"
          ]
        },
        {
          "output_type": "execute_result",
          "data": {
            "text/plain": [
              "[3441.447021484375, 3441.447021484375]"
            ]
          },
          "metadata": {},
          "execution_count": 192
        }
      ]
    },
    {
      "cell_type": "code",
      "source": [
        "insurance_model_4.summary()"
      ],
      "metadata": {
        "id": "w2zfntGPCGB2",
        "colab": {
          "base_uri": "https://localhost:8080/"
        },
        "outputId": "e1bcdcac-4c92-43bb-a2a8-a781b69b2a2c"
      },
      "execution_count": 193,
      "outputs": [
        {
          "output_type": "stream",
          "name": "stdout",
          "text": [
            "Model: \"sequential_20\"\n",
            "_________________________________________________________________\n",
            " Layer (type)                Output Shape              Param #   \n",
            "=================================================================\n",
            " dense_36 (Dense)            (None, 100)               1200      \n",
            "                                                                 \n",
            " dense_37 (Dense)            (None, 10)                1010      \n",
            "                                                                 \n",
            " dense_38 (Dense)            (None, 1)                 11        \n",
            "                                                                 \n",
            "=================================================================\n",
            "Total params: 2221 (8.68 KB)\n",
            "Trainable params: 2221 (8.68 KB)\n",
            "Non-trainable params: 0 (0.00 Byte)\n",
            "_________________________________________________________________\n"
          ]
        }
      ]
    },
    {
      "cell_type": "code",
      "source": [],
      "metadata": {
        "id": "_m6Jb9DvCexg"
      },
      "execution_count": 193,
      "outputs": []
    }
  ]
}